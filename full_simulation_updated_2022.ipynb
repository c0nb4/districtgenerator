{
 "cells": [
  {
   "cell_type": "code",
   "execution_count": 1,
   "metadata": {},
   "outputs": [],
   "source": [
    "# Full Simlation Worklow for the Districtgenerator \n",
    "# \n",
    "from districtgenerator import * \n",
    "import pandas as pd"
   ]
  },
  {
   "cell_type": "code",
   "execution_count": 2,
   "metadata": {},
   "outputs": [],
   "source": [
    "data = Datahandler()"
   ]
  },
  {
   "cell_type": "code",
   "execution_count": 3,
   "metadata": {},
   "outputs": [],
   "source": [
    "# Insepct \n",
    "\n",
    "clean_data = pd.read_csv(r'C:\\Users\\felix\\Programmieren\\districtgenerator\\data\\scenarios\\20241018_Mierendorff_Baseline_updated.csv', sep = ';')\n",
    "\n"
   ]
  },
  {
   "cell_type": "code",
   "execution_count": 4,
   "metadata": {},
   "outputs": [
    {
     "name": "stdout",
     "output_type": "stream",
     "text": [
      "<class 'pandas.core.frame.DataFrame'>\n",
      "RangeIndex: 388 entries, 0 to 387\n",
      "Data columns (total 6 columns):\n",
      " #   Column    Non-Null Count  Dtype  \n",
      "---  ------    --------------  -----  \n",
      " 0   id        388 non-null    int64  \n",
      " 1   building  388 non-null    object \n",
      " 2   year      388 non-null    int64  \n",
      " 3   retrofit  0 non-null      float64\n",
      " 4   area      388 non-null    float64\n",
      " 5   gml_id    388 non-null    object \n",
      "dtypes: float64(2), int64(2), object(2)\n",
      "memory usage: 18.3+ KB\n"
     ]
    }
   ],
   "source": [
    "clean_data.info()\n",
    "clean_data.loc[:,\"retrofit\"]  = 0\n",
    "\n",
    "# Replace AB archetype with MFH if Year of construction is after 1979\n",
    "clean_data.loc[clean_data[\"year\"] > 1979, \"building\"] = \"MFH\"\n",
    "\n",
    "clean_data.to_csv(r'data\\scenarios\\20241018_Mierendorff_Baseline_updated_cleaned.csv', sep = ';', index = False)"
   ]
  },
  {
   "cell_type": "code",
   "execution_count": 5,
   "metadata": {},
   "outputs": [
    {
     "name": "stdout",
     "output_type": "stream",
     "text": [
      "Creating buildings for 20241018_Mierendorff_Baseline_updated_cleaned\n",
      "Creating building AB\n"
     ]
    },
    {
     "name": "stderr",
     "output_type": "stream",
     "text": [
      "c:\\Users\\felix\\Programmieren\\districtgenerator\\.venv\\Lib\\site-packages\\teaser\\logic\\buildingobjects\\useconditions.py:363: FutureWarning: 'H' is deprecated and will be removed in a future version, please use 'h' instead.\n",
      "  index=pd.date_range(\"2019-01-01 00:00:00\", periods=8760, freq=\"H\")\n",
      "c:\\Users\\felix\\Programmieren\\districtgenerator\\.venv\\Lib\\site-packages\\teaser\\logic\\buildingobjects\\useconditions.py:363: FutureWarning: 'H' is deprecated and will be removed in a future version, please use 'h' instead.\n",
      "  index=pd.date_range(\"2019-01-01 00:00:00\", periods=8760, freq=\"H\")\n"
     ]
    },
    {
     "name": "stdout",
     "output_type": "stream",
     "text": [
      "Creating building AB\n",
      "Creating building IWU Transport\n",
      "Available building types: ['IWU Office, Administrative or Government Buildings', 'IWU Research and University Teaching', 'IWU Health and Care', 'IWU School, Day Nursery and other Care', 'IWU Culture and Leisure', 'IWU Sports Facilities', 'IWU Hotels, Boarding, Restaurants or Catering', 'IWU Production, Workshop, Warehouse or Operations', 'IWU Trade Buildings', 'IWU Technical and Utility (supply and disposal)', 'IWU Transport', 'IWU Generalized (1) Services building', 'IWU Generalized (2) Production buildings']\n",
      "Current usage: IWU Transport\n"
     ]
    },
    {
     "name": "stderr",
     "output_type": "stream",
     "text": [
      "c:\\Users\\felix\\Programmieren\\districtgenerator\\functions\\light_demand.py:99: FutureWarning: Setting an item of incompatible dtype is deprecated and will raise an error in a future version of pandas. Value '[13.82399414 27.64798828 41.47198242 55.29597656 55.29597656 13.82399414\n",
      " 13.82399414 27.64798828 41.47198242 55.29597656 13.82399414 13.82399414\n",
      " 27.64798828 41.47198242 55.29597656 13.82399414 27.64798828 41.47198242\n",
      " 55.29597656 13.82399414 13.82399414 27.64798828 41.47198242 55.29597656\n",
      " 13.82399414 27.64798828 41.47198242 55.29597656 13.82399414 27.64798828\n",
      " 41.47198242 55.29597656 13.82399414 27.64798828 41.47198242 55.29597656\n",
      " 13.82399414 27.64798828 41.47198242 55.29597656 13.82399414 13.82399414\n",
      " 27.64798828 41.47198242 55.29597656 13.82399414 27.64798828 41.47198242\n",
      " 55.29597656 13.82399414 27.64798828 41.47198242 55.29597656 13.82399414\n",
      " 13.82399414 27.64798828 41.47198242 55.29597656 13.82399414 27.64798828\n",
      " 41.47198242 55.29597656 13.82399414 13.82399414 27.64798828 41.47198242\n",
      " 55.29597656 13.82399414 27.64798828 41.47198242 55.29597656 13.82399414\n",
      " 27.64798828 41.47198242 55.29597656 13.82399414 27.64798828 41.47198242\n",
      " 55.29597656 13.82399414 27.64798828 41.47198242 55.29597656 13.82399414\n",
      " 27.64798828 41.47198242 55.29597656 13.82399414 27.64798828 41.47198242\n",
      " 55.29597656 13.82399414 27.64798828 41.47198242 55.29597656 13.82399414\n",
      " 27.64798828 41.47198242 55.29597656 13.82399414 13.82399414 27.64798828\n",
      " 41.47198242 55.29597656 13.82399414 27.64798828 41.47198242 13.82399414\n",
      " 27.64798828 41.47198242 55.29597656 13.82399414 27.64798828 41.47198242\n",
      " 55.29597656 55.29597656 13.82399414 27.64798828 41.47198242 13.82399414\n",
      " 27.64798828 41.47198242 55.29597656 55.29597656 27.64798828 13.82399414\n",
      " 27.64798828 41.47198242 13.82399414 27.64798828 41.47198242 13.82399414\n",
      " 27.64798828 41.47198242 13.82399414 27.64798828 41.47198242 13.82399414\n",
      " 27.64798828 41.47198242 13.82399414 13.82399414 27.64798828 41.47198242\n",
      " 55.29597656 13.82399414 27.64798828 41.47198242 13.82399414 27.64798828\n",
      " 41.47198242 13.82399414 27.64798828 41.47198242 13.82399414 27.64798828\n",
      " 41.47198242 55.29597656 13.82399414 13.82399414 27.64798828 41.47198242\n",
      " 13.82399414 27.64798828 41.47198242 13.82399414 27.64798828 41.47198242\n",
      " 13.82399414 27.64798828 41.47198242 13.82399414 27.64798828 41.47198242\n",
      " 13.82399414 27.64798828 41.47198242 13.82399414 27.64798828 41.47198242\n",
      " 13.82399414 27.64798828 41.47198242 13.82399414 27.64798828 41.47198242\n",
      " 13.82399414 27.64798828 41.47198242 13.82399414 27.64798828 41.47198242\n",
      " 13.82399414 27.64798828 41.47198242 13.82399414 27.64798828 41.47198242\n",
      " 13.82399414 27.64798828 41.47198242 13.82399414 27.64798828 41.47198242\n",
      " 13.82399414 27.64798828 13.82399414 27.64798828 13.82399414 27.64798828\n",
      " 13.82399414 27.64798828 13.82399414 27.64798828 13.82399414 27.64798828\n",
      " 13.82399414 27.64798828 13.82399414 27.64798828 13.82399414 27.64798828\n",
      " 13.82399414 27.64798828 13.82399414 27.64798828 13.82399414 27.64798828\n",
      " 13.82399414 27.64798828 13.82399414 27.64798828 13.82399414 27.64798828\n",
      " 13.82399414 27.64798828 13.82399414 27.64798828 13.82399414 27.64798828\n",
      " 13.82399414 27.64798828 13.82399414 27.64798828 13.82399414 27.64798828\n",
      " 13.82399414 27.64798828 13.82399414 27.64798828 13.82399414 27.64798828\n",
      " 13.82399414 27.64798828 13.82399414 27.64798828 13.82399414 13.82399414\n",
      " 13.82399414 13.82399414 13.82399414 13.82399414 13.82399414 13.82399414\n",
      " 13.82399414 13.82399414 13.82399414 13.82399414 13.82399414 13.82399414\n",
      " 13.82399414 13.82399414 13.82399414 13.82399414 13.82399414 13.82399414\n",
      " 13.82399414 13.82399414 13.82399414 13.82399414 13.82399414 13.82399414\n",
      " 13.82399414 41.47198242 13.82399414 13.82399414 13.82399414 13.82399414\n",
      " 13.82399414 13.82399414 13.82399414 13.82399414 13.82399414 13.82399414\n",
      " 13.82399414 13.82399414 13.82399414 13.82399414 13.82399414 13.82399414\n",
      " 13.82399414 13.82399414 13.82399414 13.82399414 13.82399414 13.82399414\n",
      " 13.82399414 13.82399414 13.82399414 13.82399414 13.82399414 13.82399414\n",
      " 13.82399414 13.82399414 13.82399414 13.82399414 13.82399414 13.82399414\n",
      " 13.82399414 27.64798828 13.82399414 13.82399414 13.82399414 27.64798828\n",
      " 13.82399414 13.82399414 27.64798828 13.82399414 27.64798828 13.82399414\n",
      " 27.64798828 13.82399414 27.64798828 13.82399414 27.64798828 13.82399414\n",
      " 27.64798828 13.82399414 27.64798828 13.82399414 27.64798828 13.82399414\n",
      " 27.64798828 13.82399414 27.64798828 13.82399414 27.64798828 13.82399414\n",
      " 27.64798828 13.82399414 27.64798828 13.82399414 27.64798828 13.82399414\n",
      " 27.64798828 13.82399414 27.64798828 13.82399414 27.64798828 41.47198242\n",
      " 13.82399414 27.64798828 13.82399414 27.64798828 13.82399414 27.64798828\n",
      " 13.82399414 27.64798828 13.82399414 27.64798828 13.82399414 27.64798828\n",
      " 13.82399414 27.64798828 13.82399414 27.64798828 13.82399414 27.64798828\n",
      " 13.82399414 27.64798828 13.82399414 27.64798828 13.82399414 27.64798828\n",
      " 13.82399414 27.64798828 13.82399414 27.64798828 13.82399414 27.64798828\n",
      " 41.47198242 13.82399414 27.64798828 13.82399414 27.64798828 41.47198242\n",
      " 13.82399414 27.64798828 41.47198242 13.82399414 27.64798828 41.47198242\n",
      " 13.82399414 27.64798828 41.47198242 13.82399414 27.64798828 41.47198242\n",
      " 13.82399414 27.64798828 41.47198242 13.82399414 27.64798828 41.47198242\n",
      " 13.82399414 27.64798828 41.47198242 13.82399414 27.64798828 41.47198242\n",
      " 13.82399414 27.64798828 41.47198242 13.82399414 27.64798828 41.47198242\n",
      " 13.82399414 27.64798828 41.47198242 13.82399414 27.64798828 41.47198242\n",
      " 55.29597656 13.82399414 13.82399414 27.64798828 41.47198242 13.82399414\n",
      " 27.64798828 41.47198242 13.82399414 27.64798828 41.47198242 13.82399414\n",
      " 27.64798828 41.47198242 13.82399414 27.64798828 41.47198242 13.82399414\n",
      " 27.64798828 41.47198242 13.82399414 27.64798828 41.47198242 13.82399414\n",
      " 27.64798828 41.47198242 13.82399414 27.64798828 41.47198242 13.82399414\n",
      " 27.64798828 41.47198242 55.29597656 13.82399414 13.82399414 27.64798828\n",
      " 41.47198242 13.82399414 27.64798828 41.47198242 13.82399414 13.82399414\n",
      " 27.64798828 41.47198242 13.82399414 13.82399414 27.64798828 41.47198242\n",
      " 55.29597656 13.82399414 13.82399414 27.64798828 41.47198242 55.29597656\n",
      " 13.82399414 13.82399414 27.64798828 41.47198242 55.29597656 13.82399414\n",
      " 13.82399414 27.64798828 41.47198242 55.29597656 13.82399414 13.82399414\n",
      " 27.64798828 41.47198242 55.29597656 13.82399414 13.82399414 27.64798828\n",
      " 41.47198242 55.29597656 13.82399414 13.82399414 27.64798828 41.47198242\n",
      " 55.29597656 13.82399414 13.82399414 27.64798828 41.47198242 55.29597656\n",
      " 13.82399414 13.82399414 27.64798828 41.47198242 55.29597656 13.82399414\n",
      " 13.82399414 27.64798828 41.47198242 55.29597656 13.82399414 13.82399414\n",
      " 27.64798828 41.47198242 55.29597656 13.82399414 13.82399414 27.64798828\n",
      " 41.47198242 55.29597656 13.82399414 13.82399414 27.64798828 41.47198242\n",
      " 55.29597656 13.82399414 13.82399414 27.64798828 41.47198242 55.29597656\n",
      " 13.82399414 13.82399414 27.64798828 41.47198242 55.29597656 13.82399414\n",
      " 13.82399414 27.64798828 41.47198242 55.29597656 13.82399414 13.82399414\n",
      " 27.64798828 41.47198242 55.29597656 13.82399414 13.82399414 27.64798828\n",
      " 41.47198242 55.29597656 13.82399414 13.82399414 27.64798828 41.47198242\n",
      " 55.29597656 13.82399414 13.82399414 27.64798828 41.47198242 55.29597656\n",
      " 27.64798828 13.82399414 13.82399414 27.64798828 41.47198242 55.29597656\n",
      " 13.82399414 13.82399414 27.64798828 41.47198242 55.29597656 55.29597656\n",
      " 27.64798828 13.82399414 13.82399414 27.64798828 41.47198242 55.29597656\n",
      " 27.64798828 13.82399414 13.82399414 27.64798828 41.47198242 55.29597656\n",
      " 13.82399414 13.82399414 27.64798828 41.47198242 55.29597656 55.29597656\n",
      " 27.64798828 13.82399414 13.82399414 27.64798828 41.47198242 55.29597656\n",
      " 13.82399414 13.82399414 27.64798828 41.47198242 55.29597656 13.82399414\n",
      " 13.82399414 27.64798828 41.47198242 55.29597656 13.82399414 13.82399414\n",
      " 27.64798828 41.47198242 55.29597656 27.64798828 13.82399414 13.82399414\n",
      " 27.64798828 41.47198242 55.29597656 13.82399414 13.82399414 27.64798828\n",
      " 41.47198242 55.29597656 13.82399414 27.64798828 41.47198242 55.29597656\n",
      " 55.29597656 13.82399414]' has dtype incompatible with int64, please explicitly cast to a compatible dtype first.\n",
      "  lighting_demand[mask] = lighting_load * area * occupancy_schedule[\"OCCUPANCY\"][mask]\n",
      "c:\\Users\\felix\\Programmieren\\districtgenerator\\.venv\\Lib\\site-packages\\teaser\\logic\\buildingobjects\\useconditions.py:363: FutureWarning: 'H' is deprecated and will be removed in a future version, please use 'h' instead.\n",
      "  index=pd.date_range(\"2019-01-01 00:00:00\", periods=8760, freq=\"H\")\n",
      "c:\\Users\\felix\\Programmieren\\districtgenerator\\.venv\\Lib\\site-packages\\teaser\\logic\\buildingobjects\\useconditions.py:363: FutureWarning: 'H' is deprecated and will be removed in a future version, please use 'h' instead.\n",
      "  index=pd.date_range(\"2019-01-01 00:00:00\", periods=8760, freq=\"H\")\n"
     ]
    },
    {
     "name": "stdout",
     "output_type": "stream",
     "text": [
      "Creating building AB\n",
      "Creating building AB\n",
      "Creating building AB\n",
      "Creating building AB\n"
     ]
    },
    {
     "name": "stderr",
     "output_type": "stream",
     "text": [
      "c:\\Users\\felix\\Programmieren\\districtgenerator\\.venv\\Lib\\site-packages\\teaser\\logic\\buildingobjects\\useconditions.py:363: FutureWarning: 'H' is deprecated and will be removed in a future version, please use 'h' instead.\n",
      "  index=pd.date_range(\"2019-01-01 00:00:00\", periods=8760, freq=\"H\")\n",
      "c:\\Users\\felix\\Programmieren\\districtgenerator\\.venv\\Lib\\site-packages\\teaser\\logic\\buildingobjects\\useconditions.py:363: FutureWarning: 'H' is deprecated and will be removed in a future version, please use 'h' instead.\n",
      "  index=pd.date_range(\"2019-01-01 00:00:00\", periods=8760, freq=\"H\")\n"
     ]
    },
    {
     "name": "stdout",
     "output_type": "stream",
     "text": [
      "Creating building IWU Transport\n",
      "Available building types: ['IWU Office, Administrative or Government Buildings', 'IWU Research and University Teaching', 'IWU Health and Care', 'IWU School, Day Nursery and other Care', 'IWU Culture and Leisure', 'IWU Sports Facilities', 'IWU Hotels, Boarding, Restaurants or Catering', 'IWU Production, Workshop, Warehouse or Operations', 'IWU Trade Buildings', 'IWU Technical and Utility (supply and disposal)', 'IWU Transport', 'IWU Generalized (1) Services building', 'IWU Generalized (2) Production buildings']\n",
      "Current usage: IWU Transport\n",
      "Creating building IWU Technical and Utility (supply and disposal)\n",
      "Available building types: ['IWU Office, Administrative or Government Buildings', 'IWU Research and University Teaching', 'IWU Health and Care', 'IWU School, Day Nursery and other Care', 'IWU Culture and Leisure', 'IWU Sports Facilities', 'IWU Hotels, Boarding, Restaurants or Catering', 'IWU Production, Workshop, Warehouse or Operations', 'IWU Trade Buildings', 'IWU Technical and Utility (supply and disposal)', 'IWU Transport', 'IWU Generalized (1) Services building', 'IWU Generalized (2) Production buildings']\n",
      "Current usage: IWU Technical and Utility (supply and disposal)\n",
      "Creating building AB\n",
      "Creating building AB\n"
     ]
    },
    {
     "name": "stderr",
     "output_type": "stream",
     "text": [
      "c:\\Users\\felix\\Programmieren\\districtgenerator\\functions\\light_demand.py:99: FutureWarning: Setting an item of incompatible dtype is deprecated and will raise an error in a future version of pandas. Value '[ 33.88525391  67.77050781 101.65576172 135.54101562 135.54101562\n",
      "  67.77050781 135.54101562 135.54101562  67.77050781  33.88525391\n",
      "  33.88525391  67.77050781 101.65576172 135.54101562 135.54101562\n",
      "  67.77050781  33.88525391  33.88525391  67.77050781 101.65576172\n",
      " 135.54101562  33.88525391  67.77050781 101.65576172 135.54101562\n",
      " 135.54101562  67.77050781  33.88525391  33.88525391  67.77050781\n",
      " 101.65576172 135.54101562  33.88525391  67.77050781 101.65576172\n",
      " 135.54101562  33.88525391  67.77050781 101.65576172 135.54101562\n",
      "  33.88525391  67.77050781 101.65576172 135.54101562  33.88525391\n",
      "  67.77050781 101.65576172 135.54101562  33.88525391  33.88525391\n",
      "  67.77050781 101.65576172 135.54101562 135.54101562  67.77050781\n",
      "  33.88525391  33.88525391  67.77050781 101.65576172 135.54101562\n",
      "  33.88525391  33.88525391  67.77050781 101.65576172 135.54101562\n",
      " 101.65576172 135.54101562 135.54101562  67.77050781  33.88525391\n",
      "  33.88525391  67.77050781 101.65576172 135.54101562 135.54101562\n",
      "  33.88525391  67.77050781 101.65576172 135.54101562 135.54101562\n",
      " 135.54101562  67.77050781  33.88525391  33.88525391  67.77050781\n",
      " 101.65576172 135.54101562  33.88525391  67.77050781 101.65576172\n",
      " 135.54101562  33.88525391  33.88525391  67.77050781 101.65576172\n",
      " 135.54101562 135.54101562  33.88525391  67.77050781 101.65576172\n",
      " 135.54101562  33.88525391  67.77050781 101.65576172 135.54101562\n",
      "  33.88525391  67.77050781 101.65576172 135.54101562  33.88525391\n",
      "  67.77050781 101.65576172 135.54101562  33.88525391  67.77050781\n",
      " 101.65576172 135.54101562  33.88525391  67.77050781 101.65576172\n",
      " 135.54101562 135.54101562  67.77050781  33.88525391  33.88525391\n",
      "  67.77050781 101.65576172 135.54101562  33.88525391  67.77050781\n",
      " 101.65576172 135.54101562  33.88525391  33.88525391  67.77050781\n",
      " 101.65576172 135.54101562 135.54101562  33.88525391  33.88525391\n",
      "  67.77050781 101.65576172 135.54101562 135.54101562  67.77050781\n",
      " 101.65576172 135.54101562 135.54101562  67.77050781  33.88525391\n",
      "  33.88525391  67.77050781 101.65576172  33.88525391  67.77050781\n",
      " 101.65576172 135.54101562 135.54101562  67.77050781 101.65576172\n",
      " 135.54101562  33.88525391  33.88525391  67.77050781 101.65576172\n",
      "  33.88525391  67.77050781 101.65576172 135.54101562  33.88525391\n",
      "  67.77050781 101.65576172  33.88525391  33.88525391  67.77050781\n",
      " 101.65576172  33.88525391  67.77050781 101.65576172 135.54101562\n",
      " 135.54101562  67.77050781  33.88525391  33.88525391  67.77050781\n",
      " 101.65576172 135.54101562  33.88525391  67.77050781 101.65576172\n",
      "  33.88525391  67.77050781 101.65576172 135.54101562  33.88525391\n",
      "  33.88525391  67.77050781 101.65576172  33.88525391  67.77050781\n",
      " 101.65576172 135.54101562 135.54101562  67.77050781 135.54101562\n",
      "  67.77050781  33.88525391  33.88525391  67.77050781 101.65576172\n",
      "  33.88525391  67.77050781 101.65576172  33.88525391  67.77050781\n",
      " 101.65576172  33.88525391  67.77050781 101.65576172  33.88525391\n",
      "  67.77050781 101.65576172  33.88525391  67.77050781 101.65576172\n",
      "  33.88525391  67.77050781 101.65576172  33.88525391  67.77050781\n",
      " 101.65576172 135.54101562  67.77050781  33.88525391  33.88525391\n",
      "  67.77050781 101.65576172  33.88525391  67.77050781 101.65576172\n",
      "  67.77050781  33.88525391  33.88525391  67.77050781 101.65576172\n",
      "  33.88525391  67.77050781 101.65576172  33.88525391  33.88525391\n",
      "  67.77050781 101.65576172  33.88525391  67.77050781 101.65576172\n",
      "  33.88525391  67.77050781 101.65576172  33.88525391  67.77050781\n",
      "  33.88525391  67.77050781  33.88525391  67.77050781  33.88525391\n",
      "  67.77050781  33.88525391  67.77050781  33.88525391  67.77050781\n",
      "  33.88525391  67.77050781  33.88525391  67.77050781  33.88525391\n",
      "  67.77050781  33.88525391  67.77050781  33.88525391  67.77050781\n",
      "  33.88525391  67.77050781  33.88525391  67.77050781  33.88525391\n",
      "  67.77050781  33.88525391  67.77050781  33.88525391  67.77050781\n",
      "  33.88525391  67.77050781  33.88525391  67.77050781  33.88525391\n",
      "  67.77050781  33.88525391  67.77050781  33.88525391  67.77050781\n",
      "  33.88525391  67.77050781  33.88525391  67.77050781  33.88525391\n",
      "  67.77050781  33.88525391  67.77050781  33.88525391  67.77050781\n",
      "  33.88525391  33.88525391  33.88525391  33.88525391  33.88525391\n",
      "  33.88525391  33.88525391  33.88525391  67.77050781  33.88525391\n",
      "  33.88525391  33.88525391  67.77050781  33.88525391  33.88525391\n",
      "  33.88525391  33.88525391  33.88525391  67.77050781  33.88525391\n",
      "  33.88525391  33.88525391  33.88525391  33.88525391  33.88525391\n",
      "  33.88525391  33.88525391  33.88525391  33.88525391  33.88525391\n",
      "  33.88525391  67.77050781  33.88525391  33.88525391  33.88525391\n",
      "  67.77050781  33.88525391  33.88525391 101.65576172  33.88525391\n",
      "  33.88525391 101.65576172  33.88525391  67.77050781 101.65576172\n",
      "  33.88525391  33.88525391  33.88525391  33.88525391  33.88525391\n",
      "  67.77050781 101.65576172  33.88525391  33.88525391  33.88525391\n",
      "  33.88525391  33.88525391  33.88525391  33.88525391  33.88525391\n",
      "  33.88525391  33.88525391  33.88525391  33.88525391  33.88525391\n",
      "  33.88525391  33.88525391  67.77050781  33.88525391  33.88525391\n",
      "  33.88525391  33.88525391  33.88525391  33.88525391  67.77050781\n",
      "  33.88525391  67.77050781  33.88525391  33.88525391  33.88525391\n",
      "  33.88525391  33.88525391  33.88525391  67.77050781 101.65576172\n",
      "  33.88525391  33.88525391  33.88525391  67.77050781  33.88525391\n",
      "  33.88525391  33.88525391  67.77050781  33.88525391  67.77050781\n",
      " 135.54101562  33.88525391  67.77050781  33.88525391  67.77050781\n",
      "  33.88525391  67.77050781  33.88525391  67.77050781  33.88525391\n",
      "  67.77050781  33.88525391  67.77050781  33.88525391  67.77050781\n",
      "  33.88525391  67.77050781  33.88525391  67.77050781  33.88525391\n",
      "  67.77050781  33.88525391  67.77050781  33.88525391  67.77050781\n",
      "  33.88525391  67.77050781  33.88525391  67.77050781 101.65576172\n",
      "  33.88525391  67.77050781  33.88525391  67.77050781  33.88525391\n",
      "  67.77050781 101.65576172 135.54101562 135.54101562  67.77050781\n",
      " 101.65576172  33.88525391  67.77050781  33.88525391  67.77050781\n",
      "  33.88525391  67.77050781  33.88525391  67.77050781 101.65576172\n",
      "  33.88525391  67.77050781  33.88525391  67.77050781  33.88525391\n",
      "  67.77050781  33.88525391  67.77050781  33.88525391  67.77050781\n",
      "  33.88525391  67.77050781  33.88525391  67.77050781  33.88525391\n",
      "  67.77050781 101.65576172  33.88525391  67.77050781  33.88525391\n",
      "  67.77050781 101.65576172  33.88525391  67.77050781 101.65576172\n",
      "  33.88525391  67.77050781 101.65576172  33.88525391  67.77050781\n",
      " 101.65576172  67.77050781  33.88525391  33.88525391  67.77050781\n",
      " 101.65576172  33.88525391  67.77050781 101.65576172  33.88525391\n",
      "  67.77050781 101.65576172  33.88525391  33.88525391  67.77050781\n",
      " 101.65576172  33.88525391  67.77050781 101.65576172  33.88525391\n",
      "  67.77050781 101.65576172  33.88525391  67.77050781 101.65576172\n",
      "  33.88525391  67.77050781 101.65576172  33.88525391  67.77050781\n",
      " 101.65576172  33.88525391  67.77050781 101.65576172  33.88525391\n",
      "  67.77050781 101.65576172  33.88525391  67.77050781 101.65576172\n",
      " 135.54101562 135.54101562 101.65576172 135.54101562  67.77050781\n",
      "  33.88525391  33.88525391  67.77050781 101.65576172 135.54101562\n",
      "  33.88525391  33.88525391  67.77050781 101.65576172  33.88525391\n",
      "  67.77050781 101.65576172  33.88525391  67.77050781 101.65576172\n",
      "  33.88525391  67.77050781 101.65576172  33.88525391  33.88525391\n",
      "  67.77050781 101.65576172 135.54101562  33.88525391  33.88525391\n",
      "  67.77050781 101.65576172  33.88525391  67.77050781 101.65576172\n",
      "  33.88525391  67.77050781 101.65576172 135.54101562  33.88525391\n",
      "  33.88525391  67.77050781 101.65576172 135.54101562  33.88525391\n",
      "  33.88525391  67.77050781 101.65576172  33.88525391  33.88525391\n",
      "  67.77050781 101.65576172  67.77050781  33.88525391  33.88525391\n",
      "  67.77050781 101.65576172  33.88525391  33.88525391  67.77050781\n",
      " 101.65576172 135.54101562  33.88525391  33.88525391  67.77050781\n",
      " 101.65576172 135.54101562 135.54101562  33.88525391  33.88525391\n",
      "  67.77050781 101.65576172 135.54101562  67.77050781  33.88525391\n",
      "  33.88525391  67.77050781 101.65576172 135.54101562 135.54101562\n",
      "  67.77050781  33.88525391  33.88525391  67.77050781 101.65576172\n",
      " 135.54101562 135.54101562  67.77050781  33.88525391  33.88525391\n",
      "  67.77050781 101.65576172 135.54101562 135.54101562 135.54101562\n",
      "  67.77050781  33.88525391  33.88525391  67.77050781 101.65576172\n",
      " 135.54101562 135.54101562  67.77050781 135.54101562  67.77050781\n",
      "  33.88525391  33.88525391  67.77050781 101.65576172 135.54101562\n",
      "  33.88525391  33.88525391  67.77050781 101.65576172 135.54101562\n",
      "  67.77050781  33.88525391  33.88525391  67.77050781 101.65576172\n",
      " 135.54101562  33.88525391  33.88525391  67.77050781 101.65576172\n",
      " 135.54101562 135.54101562  33.88525391  33.88525391  67.77050781\n",
      " 101.65576172 135.54101562  33.88525391  33.88525391  67.77050781\n",
      " 101.65576172 135.54101562  33.88525391  33.88525391  67.77050781\n",
      " 101.65576172 135.54101562  33.88525391  33.88525391  67.77050781\n",
      " 101.65576172 135.54101562  33.88525391  33.88525391  67.77050781\n",
      " 101.65576172 135.54101562  33.88525391  33.88525391  67.77050781\n",
      " 101.65576172 135.54101562  33.88525391  33.88525391  67.77050781\n",
      " 101.65576172 135.54101562  33.88525391  33.88525391  67.77050781\n",
      " 101.65576172 135.54101562  33.88525391  33.88525391  67.77050781\n",
      " 101.65576172 135.54101562 135.54101562 135.54101562  67.77050781\n",
      "  33.88525391  33.88525391  67.77050781 101.65576172 135.54101562\n",
      " 135.54101562  67.77050781  33.88525391  33.88525391  67.77050781\n",
      " 101.65576172 135.54101562 135.54101562  67.77050781 101.65576172\n",
      " 135.54101562 135.54101562  67.77050781  33.88525391  33.88525391\n",
      "  67.77050781 101.65576172 135.54101562 135.54101562  67.77050781\n",
      " 101.65576172 135.54101562 135.54101562  67.77050781  33.88525391\n",
      "  33.88525391  67.77050781 101.65576172 135.54101562 135.54101562\n",
      "  33.88525391  33.88525391  67.77050781 101.65576172 135.54101562\n",
      " 135.54101562  67.77050781 101.65576172  33.88525391  33.88525391\n",
      "  67.77050781 101.65576172 135.54101562  67.77050781  33.88525391\n",
      "  33.88525391  67.77050781 101.65576172 135.54101562 135.54101562\n",
      "  33.88525391  33.88525391  67.77050781 101.65576172 135.54101562\n",
      "  33.88525391  33.88525391  67.77050781 101.65576172 135.54101562\n",
      "  67.77050781 101.65576172 135.54101562 135.54101562  67.77050781\n",
      "  33.88525391  33.88525391  67.77050781 101.65576172 135.54101562\n",
      "  33.88525391  33.88525391  67.77050781 101.65576172 135.54101562\n",
      "  33.88525391  33.88525391  67.77050781 101.65576172 135.54101562\n",
      " 135.54101562  67.77050781 101.65576172  67.77050781  33.88525391]' has dtype incompatible with int64, please explicitly cast to a compatible dtype first.\n",
      "  lighting_demand[mask] = lighting_load * area * occupancy_schedule[\"OCCUPANCY\"][mask]\n",
      "c:\\Users\\felix\\Programmieren\\districtgenerator\\functions\\light_demand.py:99: FutureWarning: Setting an item of incompatible dtype is deprecated and will raise an error in a future version of pandas. Value '[16.08714844 16.08714844 16.08714844 ... 40.21787109 16.08714844\n",
      " 16.08714844]' has dtype incompatible with int64, please explicitly cast to a compatible dtype first.\n",
      "  lighting_demand[mask] = lighting_load * area * occupancy_schedule[\"OCCUPANCY\"][mask]\n",
      "c:\\Users\\felix\\Programmieren\\districtgenerator\\.venv\\Lib\\site-packages\\teaser\\logic\\buildingobjects\\useconditions.py:363: FutureWarning: 'H' is deprecated and will be removed in a future version, please use 'h' instead.\n",
      "  index=pd.date_range(\"2019-01-01 00:00:00\", periods=8760, freq=\"H\")\n",
      "c:\\Users\\felix\\Programmieren\\districtgenerator\\.venv\\Lib\\site-packages\\teaser\\logic\\buildingobjects\\useconditions.py:363: FutureWarning: 'H' is deprecated and will be removed in a future version, please use 'h' instead.\n",
      "  index=pd.date_range(\"2019-01-01 00:00:00\", periods=8760, freq=\"H\")\n"
     ]
    },
    {
     "name": "stdout",
     "output_type": "stream",
     "text": [
      "Creating building AB\n",
      "Creating building IWU Trade Buildings\n",
      "Available building types: ['IWU Office, Administrative or Government Buildings', 'IWU Research and University Teaching', 'IWU Health and Care', 'IWU School, Day Nursery and other Care', 'IWU Culture and Leisure', 'IWU Sports Facilities', 'IWU Hotels, Boarding, Restaurants or Catering', 'IWU Production, Workshop, Warehouse or Operations', 'IWU Trade Buildings', 'IWU Technical and Utility (supply and disposal)', 'IWU Transport', 'IWU Generalized (1) Services building', 'IWU Generalized (2) Production buildings']\n",
      "Current usage: IWU Trade Buildings\n",
      "Creating building AB\n"
     ]
    },
    {
     "name": "stderr",
     "output_type": "stream",
     "text": [
      "c:\\Users\\felix\\Programmieren\\districtgenerator\\.venv\\Lib\\site-packages\\teaser\\logic\\buildingobjects\\useconditions.py:363: FutureWarning: 'H' is deprecated and will be removed in a future version, please use 'h' instead.\n",
      "  index=pd.date_range(\"2019-01-01 00:00:00\", periods=8760, freq=\"H\")\n",
      "c:\\Users\\felix\\Programmieren\\districtgenerator\\functions\\light_demand.py:99: FutureWarning: Setting an item of incompatible dtype is deprecated and will raise an error in a future version of pandas. Value '[ 267.34957031  534.69914062  534.69914062 ... 1336.74785156  802.04871094\n",
      "  534.69914062]' has dtype incompatible with int64, please explicitly cast to a compatible dtype first.\n",
      "  lighting_demand[mask] = lighting_load * area * occupancy_schedule[\"OCCUPANCY\"][mask]\n",
      "c:\\Users\\felix\\Programmieren\\districtgenerator\\.venv\\Lib\\site-packages\\teaser\\logic\\buildingobjects\\useconditions.py:363: FutureWarning: 'H' is deprecated and will be removed in a future version, please use 'h' instead.\n",
      "  index=pd.date_range(\"2019-01-01 00:00:00\", periods=8760, freq=\"H\")\n"
     ]
    },
    {
     "name": "stdout",
     "output_type": "stream",
     "text": [
      "Creating building AB\n",
      "Creating building AB\n"
     ]
    },
    {
     "name": "stderr",
     "output_type": "stream",
     "text": [
      "c:\\Users\\felix\\Programmieren\\districtgenerator\\.venv\\Lib\\site-packages\\teaser\\logic\\buildingobjects\\useconditions.py:363: FutureWarning: 'H' is deprecated and will be removed in a future version, please use 'h' instead.\n",
      "  index=pd.date_range(\"2019-01-01 00:00:00\", periods=8760, freq=\"H\")\n",
      "c:\\Users\\felix\\Programmieren\\districtgenerator\\.venv\\Lib\\site-packages\\teaser\\logic\\buildingobjects\\useconditions.py:363: FutureWarning: 'H' is deprecated and will be removed in a future version, please use 'h' instead.\n",
      "  index=pd.date_range(\"2019-01-01 00:00:00\", periods=8760, freq=\"H\")\n"
     ]
    },
    {
     "name": "stdout",
     "output_type": "stream",
     "text": [
      "Creating building AB\n",
      "Creating building IWU Culture and Leisure\n",
      "Available building types: ['IWU Office, Administrative or Government Buildings', 'IWU Research and University Teaching', 'IWU Health and Care', 'IWU School, Day Nursery and other Care', 'IWU Culture and Leisure', 'IWU Sports Facilities', 'IWU Hotels, Boarding, Restaurants or Catering', 'IWU Production, Workshop, Warehouse or Operations', 'IWU Trade Buildings', 'IWU Technical and Utility (supply and disposal)', 'IWU Transport', 'IWU Generalized (1) Services building', 'IWU Generalized (2) Production buildings']\n",
      "Current usage: IWU Culture and Leisure\n",
      "Creating building AB\n"
     ]
    },
    {
     "name": "stderr",
     "output_type": "stream",
     "text": [
      "c:\\Users\\felix\\Programmieren\\districtgenerator\\.venv\\Lib\\site-packages\\teaser\\logic\\buildingobjects\\useconditions.py:363: FutureWarning: 'H' is deprecated and will be removed in a future version, please use 'h' instead.\n",
      "  index=pd.date_range(\"2019-01-01 00:00:00\", periods=8760, freq=\"H\")\n",
      "c:\\Users\\felix\\Programmieren\\districtgenerator\\functions\\light_demand.py:99: FutureWarning: Setting an item of incompatible dtype is deprecated and will raise an error in a future version of pandas. Value '[ 3722.085 11166.255 18610.425 ... 18610.425 11166.255  3722.085]' has dtype incompatible with int64, please explicitly cast to a compatible dtype first.\n",
      "  lighting_demand[mask] = lighting_load * area * occupancy_schedule[\"OCCUPANCY\"][mask]\n",
      "c:\\Users\\felix\\Programmieren\\districtgenerator\\.venv\\Lib\\site-packages\\teaser\\logic\\buildingobjects\\useconditions.py:363: FutureWarning: 'H' is deprecated and will be removed in a future version, please use 'h' instead.\n",
      "  index=pd.date_range(\"2019-01-01 00:00:00\", periods=8760, freq=\"H\")\n"
     ]
    },
    {
     "name": "stdout",
     "output_type": "stream",
     "text": [
      "Creating building AB\n",
      "Creating building AB\n"
     ]
    },
    {
     "name": "stderr",
     "output_type": "stream",
     "text": [
      "c:\\Users\\felix\\Programmieren\\districtgenerator\\.venv\\Lib\\site-packages\\teaser\\logic\\buildingobjects\\useconditions.py:363: FutureWarning: 'H' is deprecated and will be removed in a future version, please use 'h' instead.\n",
      "  index=pd.date_range(\"2019-01-01 00:00:00\", periods=8760, freq=\"H\")\n",
      "c:\\Users\\felix\\Programmieren\\districtgenerator\\.venv\\Lib\\site-packages\\teaser\\logic\\buildingobjects\\useconditions.py:363: FutureWarning: 'H' is deprecated and will be removed in a future version, please use 'h' instead.\n",
      "  index=pd.date_range(\"2019-01-01 00:00:00\", periods=8760, freq=\"H\")\n"
     ]
    },
    {
     "name": "stdout",
     "output_type": "stream",
     "text": [
      "Creating building AB\n",
      "Creating building AB\n"
     ]
    },
    {
     "name": "stderr",
     "output_type": "stream",
     "text": [
      "c:\\Users\\felix\\Programmieren\\districtgenerator\\.venv\\Lib\\site-packages\\teaser\\logic\\buildingobjects\\useconditions.py:363: FutureWarning: 'H' is deprecated and will be removed in a future version, please use 'h' instead.\n",
      "  index=pd.date_range(\"2019-01-01 00:00:00\", periods=8760, freq=\"H\")\n",
      "c:\\Users\\felix\\Programmieren\\districtgenerator\\.venv\\Lib\\site-packages\\teaser\\logic\\buildingobjects\\useconditions.py:363: FutureWarning: 'H' is deprecated and will be removed in a future version, please use 'h' instead.\n",
      "  index=pd.date_range(\"2019-01-01 00:00:00\", periods=8760, freq=\"H\")\n"
     ]
    },
    {
     "name": "stdout",
     "output_type": "stream",
     "text": [
      "Creating building AB\n",
      "Creating building AB\n"
     ]
    },
    {
     "name": "stderr",
     "output_type": "stream",
     "text": [
      "c:\\Users\\felix\\Programmieren\\districtgenerator\\.venv\\Lib\\site-packages\\teaser\\logic\\buildingobjects\\useconditions.py:363: FutureWarning: 'H' is deprecated and will be removed in a future version, please use 'h' instead.\n",
      "  index=pd.date_range(\"2019-01-01 00:00:00\", periods=8760, freq=\"H\")\n",
      "c:\\Users\\felix\\Programmieren\\districtgenerator\\.venv\\Lib\\site-packages\\teaser\\logic\\buildingobjects\\useconditions.py:363: FutureWarning: 'H' is deprecated and will be removed in a future version, please use 'h' instead.\n",
      "  index=pd.date_range(\"2019-01-01 00:00:00\", periods=8760, freq=\"H\")\n"
     ]
    },
    {
     "name": "stdout",
     "output_type": "stream",
     "text": [
      "Creating building AB\n",
      "Creating building AB\n"
     ]
    },
    {
     "name": "stderr",
     "output_type": "stream",
     "text": [
      "c:\\Users\\felix\\Programmieren\\districtgenerator\\.venv\\Lib\\site-packages\\teaser\\logic\\buildingobjects\\useconditions.py:363: FutureWarning: 'H' is deprecated and will be removed in a future version, please use 'h' instead.\n",
      "  index=pd.date_range(\"2019-01-01 00:00:00\", periods=8760, freq=\"H\")\n",
      "c:\\Users\\felix\\Programmieren\\districtgenerator\\.venv\\Lib\\site-packages\\teaser\\logic\\buildingobjects\\useconditions.py:363: FutureWarning: 'H' is deprecated and will be removed in a future version, please use 'h' instead.\n",
      "  index=pd.date_range(\"2019-01-01 00:00:00\", periods=8760, freq=\"H\")\n"
     ]
    },
    {
     "name": "stdout",
     "output_type": "stream",
     "text": [
      "Creating building AB\n",
      "Creating building AB\n"
     ]
    },
    {
     "name": "stderr",
     "output_type": "stream",
     "text": [
      "c:\\Users\\felix\\Programmieren\\districtgenerator\\.venv\\Lib\\site-packages\\teaser\\logic\\buildingobjects\\useconditions.py:363: FutureWarning: 'H' is deprecated and will be removed in a future version, please use 'h' instead.\n",
      "  index=pd.date_range(\"2019-01-01 00:00:00\", periods=8760, freq=\"H\")\n",
      "c:\\Users\\felix\\Programmieren\\districtgenerator\\.venv\\Lib\\site-packages\\teaser\\logic\\buildingobjects\\useconditions.py:363: FutureWarning: 'H' is deprecated and will be removed in a future version, please use 'h' instead.\n",
      "  index=pd.date_range(\"2019-01-01 00:00:00\", periods=8760, freq=\"H\")\n"
     ]
    },
    {
     "name": "stdout",
     "output_type": "stream",
     "text": [
      "Creating building AB\n",
      "Creating building AB\n"
     ]
    },
    {
     "name": "stderr",
     "output_type": "stream",
     "text": [
      "c:\\Users\\felix\\Programmieren\\districtgenerator\\.venv\\Lib\\site-packages\\teaser\\logic\\buildingobjects\\useconditions.py:363: FutureWarning: 'H' is deprecated and will be removed in a future version, please use 'h' instead.\n",
      "  index=pd.date_range(\"2019-01-01 00:00:00\", periods=8760, freq=\"H\")\n",
      "c:\\Users\\felix\\Programmieren\\districtgenerator\\.venv\\Lib\\site-packages\\teaser\\logic\\buildingobjects\\useconditions.py:363: FutureWarning: 'H' is deprecated and will be removed in a future version, please use 'h' instead.\n",
      "  index=pd.date_range(\"2019-01-01 00:00:00\", periods=8760, freq=\"H\")\n"
     ]
    },
    {
     "name": "stdout",
     "output_type": "stream",
     "text": [
      "Creating building AB\n",
      "Creating building AB\n"
     ]
    },
    {
     "name": "stderr",
     "output_type": "stream",
     "text": [
      "c:\\Users\\felix\\Programmieren\\districtgenerator\\.venv\\Lib\\site-packages\\teaser\\logic\\buildingobjects\\useconditions.py:363: FutureWarning: 'H' is deprecated and will be removed in a future version, please use 'h' instead.\n",
      "  index=pd.date_range(\"2019-01-01 00:00:00\", periods=8760, freq=\"H\")\n",
      "c:\\Users\\felix\\Programmieren\\districtgenerator\\.venv\\Lib\\site-packages\\teaser\\logic\\buildingobjects\\useconditions.py:363: FutureWarning: 'H' is deprecated and will be removed in a future version, please use 'h' instead.\n",
      "  index=pd.date_range(\"2019-01-01 00:00:00\", periods=8760, freq=\"H\")\n"
     ]
    },
    {
     "name": "stdout",
     "output_type": "stream",
     "text": [
      "Creating building IWU Sports Facilities\n",
      "Available building types: ['IWU Office, Administrative or Government Buildings', 'IWU Research and University Teaching', 'IWU Health and Care', 'IWU School, Day Nursery and other Care', 'IWU Culture and Leisure', 'IWU Sports Facilities', 'IWU Hotels, Boarding, Restaurants or Catering', 'IWU Production, Workshop, Warehouse or Operations', 'IWU Trade Buildings', 'IWU Technical and Utility (supply and disposal)', 'IWU Transport', 'IWU Generalized (1) Services building', 'IWU Generalized (2) Production buildings']\n",
      "Current usage: IWU Sports Facilities\n",
      "No data about lighntning control available for IWU Sports Facilities and data type Turnhalle\n",
      "Creating building SFH\n",
      "Creating building AB\n"
     ]
    },
    {
     "name": "stderr",
     "output_type": "stream",
     "text": [
      "c:\\Users\\felix\\Programmieren\\districtgenerator\\.venv\\Lib\\site-packages\\teaser\\logic\\buildingobjects\\useconditions.py:363: FutureWarning: 'H' is deprecated and will be removed in a future version, please use 'h' instead.\n",
      "  index=pd.date_range(\"2019-01-01 00:00:00\", periods=8760, freq=\"H\")\n",
      "c:\\Users\\felix\\Programmieren\\districtgenerator\\.venv\\Lib\\site-packages\\teaser\\logic\\buildingobjects\\useconditions.py:363: FutureWarning: 'H' is deprecated and will be removed in a future version, please use 'h' instead.\n",
      "  index=pd.date_range(\"2019-01-01 00:00:00\", periods=8760, freq=\"H\")\n",
      "c:\\Users\\felix\\Programmieren\\districtgenerator\\functions\\light_demand.py:99: FutureWarning: Setting an item of incompatible dtype is deprecated and will raise an error in a future version of pandas. Value '[14938.91050781 14938.91050781 14938.91050781 ... 14938.91050781\n",
      " 14938.91050781 14938.91050781]' has dtype incompatible with int64, please explicitly cast to a compatible dtype first.\n",
      "  lighting_demand[mask] = lighting_load * area * occupancy_schedule[\"OCCUPANCY\"][mask]\n",
      "c:\\Users\\felix\\Programmieren\\districtgenerator\\.venv\\Lib\\site-packages\\teaser\\logic\\buildingobjects\\useconditions.py:363: FutureWarning: 'H' is deprecated and will be removed in a future version, please use 'h' instead.\n",
      "  index=pd.date_range(\"2019-01-01 00:00:00\", periods=8760, freq=\"H\")\n"
     ]
    },
    {
     "name": "stdout",
     "output_type": "stream",
     "text": [
      "Creating building IWU Health and Care\n",
      "Available building types: ['IWU Office, Administrative or Government Buildings', 'IWU Research and University Teaching', 'IWU Health and Care', 'IWU School, Day Nursery and other Care', 'IWU Culture and Leisure', 'IWU Sports Facilities', 'IWU Hotels, Boarding, Restaurants or Catering', 'IWU Production, Workshop, Warehouse or Operations', 'IWU Trade Buildings', 'IWU Technical and Utility (supply and disposal)', 'IWU Transport', 'IWU Generalized (1) Services building', 'IWU Generalized (2) Production buildings']\n",
      "Current usage: IWU Health and Care\n",
      "Creating building AB\n",
      "Creating building AB\n",
      "Creating building AB\n",
      "Creating building AB\n"
     ]
    },
    {
     "name": "stderr",
     "output_type": "stream",
     "text": [
      "c:\\Users\\felix\\Programmieren\\districtgenerator\\.venv\\Lib\\site-packages\\teaser\\logic\\buildingobjects\\useconditions.py:363: FutureWarning: 'H' is deprecated and will be removed in a future version, please use 'h' instead.\n",
      "  index=pd.date_range(\"2019-01-01 00:00:00\", periods=8760, freq=\"H\")\n",
      "c:\\Users\\felix\\Programmieren\\districtgenerator\\.venv\\Lib\\site-packages\\teaser\\logic\\buildingobjects\\useconditions.py:363: FutureWarning: 'H' is deprecated and will be removed in a future version, please use 'h' instead.\n",
      "  index=pd.date_range(\"2019-01-01 00:00:00\", periods=8760, freq=\"H\")\n",
      "c:\\Users\\felix\\Programmieren\\districtgenerator\\.venv\\Lib\\site-packages\\teaser\\logic\\buildingobjects\\useconditions.py:363: FutureWarning: 'H' is deprecated and will be removed in a future version, please use 'h' instead.\n",
      "  index=pd.date_range(\"2019-01-01 00:00:00\", periods=8760, freq=\"H\")\n"
     ]
    },
    {
     "name": "stdout",
     "output_type": "stream",
     "text": [
      "Creating building AB\n",
      "Creating building AB\n"
     ]
    },
    {
     "name": "stderr",
     "output_type": "stream",
     "text": [
      "c:\\Users\\felix\\Programmieren\\districtgenerator\\.venv\\Lib\\site-packages\\teaser\\logic\\buildingobjects\\useconditions.py:363: FutureWarning: 'H' is deprecated and will be removed in a future version, please use 'h' instead.\n",
      "  index=pd.date_range(\"2019-01-01 00:00:00\", periods=8760, freq=\"H\")\n",
      "c:\\Users\\felix\\Programmieren\\districtgenerator\\.venv\\Lib\\site-packages\\teaser\\logic\\buildingobjects\\useconditions.py:363: FutureWarning: 'H' is deprecated and will be removed in a future version, please use 'h' instead.\n",
      "  index=pd.date_range(\"2019-01-01 00:00:00\", periods=8760, freq=\"H\")\n"
     ]
    },
    {
     "name": "stdout",
     "output_type": "stream",
     "text": [
      "Creating building AB\n",
      "Creating building AB\n"
     ]
    },
    {
     "name": "stderr",
     "output_type": "stream",
     "text": [
      "c:\\Users\\felix\\Programmieren\\districtgenerator\\.venv\\Lib\\site-packages\\teaser\\logic\\buildingobjects\\useconditions.py:363: FutureWarning: 'H' is deprecated and will be removed in a future version, please use 'h' instead.\n",
      "  index=pd.date_range(\"2019-01-01 00:00:00\", periods=8760, freq=\"H\")\n",
      "c:\\Users\\felix\\Programmieren\\districtgenerator\\.venv\\Lib\\site-packages\\teaser\\logic\\buildingobjects\\useconditions.py:363: FutureWarning: 'H' is deprecated and will be removed in a future version, please use 'h' instead.\n",
      "  index=pd.date_range(\"2019-01-01 00:00:00\", periods=8760, freq=\"H\")\n"
     ]
    },
    {
     "name": "stdout",
     "output_type": "stream",
     "text": [
      "Creating building AB\n",
      "Creating building AB\n"
     ]
    },
    {
     "name": "stderr",
     "output_type": "stream",
     "text": [
      "c:\\Users\\felix\\Programmieren\\districtgenerator\\.venv\\Lib\\site-packages\\teaser\\logic\\buildingobjects\\useconditions.py:363: FutureWarning: 'H' is deprecated and will be removed in a future version, please use 'h' instead.\n",
      "  index=pd.date_range(\"2019-01-01 00:00:00\", periods=8760, freq=\"H\")\n",
      "c:\\Users\\felix\\Programmieren\\districtgenerator\\.venv\\Lib\\site-packages\\teaser\\logic\\buildingobjects\\useconditions.py:363: FutureWarning: 'H' is deprecated and will be removed in a future version, please use 'h' instead.\n",
      "  index=pd.date_range(\"2019-01-01 00:00:00\", periods=8760, freq=\"H\")\n"
     ]
    },
    {
     "name": "stdout",
     "output_type": "stream",
     "text": [
      "Creating building AB\n",
      "Creating building AB\n"
     ]
    },
    {
     "name": "stderr",
     "output_type": "stream",
     "text": [
      "c:\\Users\\felix\\Programmieren\\districtgenerator\\.venv\\Lib\\site-packages\\teaser\\logic\\buildingobjects\\useconditions.py:363: FutureWarning: 'H' is deprecated and will be removed in a future version, please use 'h' instead.\n",
      "  index=pd.date_range(\"2019-01-01 00:00:00\", periods=8760, freq=\"H\")\n",
      "c:\\Users\\felix\\Programmieren\\districtgenerator\\.venv\\Lib\\site-packages\\teaser\\logic\\buildingobjects\\useconditions.py:363: FutureWarning: 'H' is deprecated and will be removed in a future version, please use 'h' instead.\n",
      "  index=pd.date_range(\"2019-01-01 00:00:00\", periods=8760, freq=\"H\")\n"
     ]
    },
    {
     "name": "stdout",
     "output_type": "stream",
     "text": [
      "Creating building AB\n",
      "Creating building AB\n"
     ]
    },
    {
     "name": "stderr",
     "output_type": "stream",
     "text": [
      "c:\\Users\\felix\\Programmieren\\districtgenerator\\.venv\\Lib\\site-packages\\teaser\\logic\\buildingobjects\\useconditions.py:363: FutureWarning: 'H' is deprecated and will be removed in a future version, please use 'h' instead.\n",
      "  index=pd.date_range(\"2019-01-01 00:00:00\", periods=8760, freq=\"H\")\n",
      "c:\\Users\\felix\\Programmieren\\districtgenerator\\.venv\\Lib\\site-packages\\teaser\\logic\\buildingobjects\\useconditions.py:363: FutureWarning: 'H' is deprecated and will be removed in a future version, please use 'h' instead.\n",
      "  index=pd.date_range(\"2019-01-01 00:00:00\", periods=8760, freq=\"H\")\n"
     ]
    },
    {
     "name": "stdout",
     "output_type": "stream",
     "text": [
      "Creating building AB\n",
      "Creating building AB\n"
     ]
    },
    {
     "name": "stderr",
     "output_type": "stream",
     "text": [
      "c:\\Users\\felix\\Programmieren\\districtgenerator\\.venv\\Lib\\site-packages\\teaser\\logic\\buildingobjects\\useconditions.py:363: FutureWarning: 'H' is deprecated and will be removed in a future version, please use 'h' instead.\n",
      "  index=pd.date_range(\"2019-01-01 00:00:00\", periods=8760, freq=\"H\")\n",
      "c:\\Users\\felix\\Programmieren\\districtgenerator\\.venv\\Lib\\site-packages\\teaser\\logic\\buildingobjects\\useconditions.py:363: FutureWarning: 'H' is deprecated and will be removed in a future version, please use 'h' instead.\n",
      "  index=pd.date_range(\"2019-01-01 00:00:00\", periods=8760, freq=\"H\")\n"
     ]
    },
    {
     "name": "stdout",
     "output_type": "stream",
     "text": [
      "Creating building AB\n",
      "Creating building AB\n"
     ]
    },
    {
     "name": "stderr",
     "output_type": "stream",
     "text": [
      "c:\\Users\\felix\\Programmieren\\districtgenerator\\.venv\\Lib\\site-packages\\teaser\\logic\\buildingobjects\\useconditions.py:363: FutureWarning: 'H' is deprecated and will be removed in a future version, please use 'h' instead.\n",
      "  index=pd.date_range(\"2019-01-01 00:00:00\", periods=8760, freq=\"H\")\n",
      "c:\\Users\\felix\\Programmieren\\districtgenerator\\.venv\\Lib\\site-packages\\teaser\\logic\\buildingobjects\\useconditions.py:363: FutureWarning: 'H' is deprecated and will be removed in a future version, please use 'h' instead.\n",
      "  index=pd.date_range(\"2019-01-01 00:00:00\", periods=8760, freq=\"H\")\n"
     ]
    },
    {
     "name": "stdout",
     "output_type": "stream",
     "text": [
      "Creating building AB\n",
      "Creating building AB\n"
     ]
    },
    {
     "name": "stderr",
     "output_type": "stream",
     "text": [
      "c:\\Users\\felix\\Programmieren\\districtgenerator\\.venv\\Lib\\site-packages\\teaser\\logic\\buildingobjects\\useconditions.py:363: FutureWarning: 'H' is deprecated and will be removed in a future version, please use 'h' instead.\n",
      "  index=pd.date_range(\"2019-01-01 00:00:00\", periods=8760, freq=\"H\")\n",
      "c:\\Users\\felix\\Programmieren\\districtgenerator\\.venv\\Lib\\site-packages\\teaser\\logic\\buildingobjects\\useconditions.py:363: FutureWarning: 'H' is deprecated and will be removed in a future version, please use 'h' instead.\n",
      "  index=pd.date_range(\"2019-01-01 00:00:00\", periods=8760, freq=\"H\")\n"
     ]
    },
    {
     "name": "stdout",
     "output_type": "stream",
     "text": [
      "Creating building TH\n",
      "Creating building AB\n",
      "Creating building IWU Transport\n",
      "Available building types: ['IWU Office, Administrative or Government Buildings', 'IWU Research and University Teaching', 'IWU Health and Care', 'IWU School, Day Nursery and other Care', 'IWU Culture and Leisure', 'IWU Sports Facilities', 'IWU Hotels, Boarding, Restaurants or Catering', 'IWU Production, Workshop, Warehouse or Operations', 'IWU Trade Buildings', 'IWU Technical and Utility (supply and disposal)', 'IWU Transport', 'IWU Generalized (1) Services building', 'IWU Generalized (2) Production buildings']\n",
      "Current usage: IWU Transport\n",
      "Creating building AB\n"
     ]
    },
    {
     "name": "stderr",
     "output_type": "stream",
     "text": [
      "c:\\Users\\felix\\Programmieren\\districtgenerator\\.venv\\Lib\\site-packages\\teaser\\logic\\buildingobjects\\useconditions.py:363: FutureWarning: 'H' is deprecated and will be removed in a future version, please use 'h' instead.\n",
      "  index=pd.date_range(\"2019-01-01 00:00:00\", periods=8760, freq=\"H\")\n",
      "c:\\Users\\felix\\Programmieren\\districtgenerator\\.venv\\Lib\\site-packages\\teaser\\logic\\buildingobjects\\useconditions.py:363: FutureWarning: 'H' is deprecated and will be removed in a future version, please use 'h' instead.\n",
      "  index=pd.date_range(\"2019-01-01 00:00:00\", periods=8760, freq=\"H\")\n",
      "c:\\Users\\felix\\Programmieren\\districtgenerator\\functions\\light_demand.py:99: FutureWarning: Setting an item of incompatible dtype is deprecated and will raise an error in a future version of pandas. Value '[ 294.11182617  588.22365234  882.33547852 ... 1176.44730469  588.22365234\n",
      "  294.11182617]' has dtype incompatible with int64, please explicitly cast to a compatible dtype first.\n",
      "  lighting_demand[mask] = lighting_load * area * occupancy_schedule[\"OCCUPANCY\"][mask]\n",
      "c:\\Users\\felix\\Programmieren\\districtgenerator\\.venv\\Lib\\site-packages\\teaser\\logic\\buildingobjects\\useconditions.py:363: FutureWarning: 'H' is deprecated and will be removed in a future version, please use 'h' instead.\n",
      "  index=pd.date_range(\"2019-01-01 00:00:00\", periods=8760, freq=\"H\")\n"
     ]
    },
    {
     "name": "stdout",
     "output_type": "stream",
     "text": [
      "Creating building AB\n",
      "Creating building AB\n",
      "Creating building AB\n"
     ]
    },
    {
     "name": "stderr",
     "output_type": "stream",
     "text": [
      "c:\\Users\\felix\\Programmieren\\districtgenerator\\.venv\\Lib\\site-packages\\teaser\\logic\\buildingobjects\\useconditions.py:363: FutureWarning: 'H' is deprecated and will be removed in a future version, please use 'h' instead.\n",
      "  index=pd.date_range(\"2019-01-01 00:00:00\", periods=8760, freq=\"H\")\n",
      "c:\\Users\\felix\\Programmieren\\districtgenerator\\.venv\\Lib\\site-packages\\teaser\\logic\\buildingobjects\\useconditions.py:363: FutureWarning: 'H' is deprecated and will be removed in a future version, please use 'h' instead.\n",
      "  index=pd.date_range(\"2019-01-01 00:00:00\", periods=8760, freq=\"H\")\n",
      "c:\\Users\\felix\\Programmieren\\districtgenerator\\.venv\\Lib\\site-packages\\teaser\\logic\\buildingobjects\\useconditions.py:363: FutureWarning: 'H' is deprecated and will be removed in a future version, please use 'h' instead.\n",
      "  index=pd.date_range(\"2019-01-01 00:00:00\", periods=8760, freq=\"H\")\n"
     ]
    },
    {
     "name": "stdout",
     "output_type": "stream",
     "text": [
      "Creating building AB\n",
      "Creating building AB\n",
      "Creating building AB\n"
     ]
    },
    {
     "name": "stderr",
     "output_type": "stream",
     "text": [
      "c:\\Users\\felix\\Programmieren\\districtgenerator\\.venv\\Lib\\site-packages\\teaser\\logic\\buildingobjects\\useconditions.py:363: FutureWarning: 'H' is deprecated and will be removed in a future version, please use 'h' instead.\n",
      "  index=pd.date_range(\"2019-01-01 00:00:00\", periods=8760, freq=\"H\")\n",
      "c:\\Users\\felix\\Programmieren\\districtgenerator\\.venv\\Lib\\site-packages\\teaser\\logic\\buildingobjects\\useconditions.py:363: FutureWarning: 'H' is deprecated and will be removed in a future version, please use 'h' instead.\n",
      "  index=pd.date_range(\"2019-01-01 00:00:00\", periods=8760, freq=\"H\")\n",
      "c:\\Users\\felix\\Programmieren\\districtgenerator\\.venv\\Lib\\site-packages\\teaser\\logic\\buildingobjects\\useconditions.py:363: FutureWarning: 'H' is deprecated and will be removed in a future version, please use 'h' instead.\n",
      "  index=pd.date_range(\"2019-01-01 00:00:00\", periods=8760, freq=\"H\")\n"
     ]
    },
    {
     "name": "stdout",
     "output_type": "stream",
     "text": [
      "Creating building IWU Transport\n",
      "Available building types: ['IWU Office, Administrative or Government Buildings', 'IWU Research and University Teaching', 'IWU Health and Care', 'IWU School, Day Nursery and other Care', 'IWU Culture and Leisure', 'IWU Sports Facilities', 'IWU Hotels, Boarding, Restaurants or Catering', 'IWU Production, Workshop, Warehouse or Operations', 'IWU Trade Buildings', 'IWU Technical and Utility (supply and disposal)', 'IWU Transport', 'IWU Generalized (1) Services building', 'IWU Generalized (2) Production buildings']\n",
      "Current usage: IWU Transport\n",
      "Creating building AB\n",
      "Creating building AB\n"
     ]
    },
    {
     "name": "stderr",
     "output_type": "stream",
     "text": [
      "c:\\Users\\felix\\Programmieren\\districtgenerator\\functions\\light_demand.py:99: FutureWarning: Setting an item of incompatible dtype is deprecated and will raise an error in a future version of pandas. Value '[ 33.91697266  67.83394531 101.75091797 135.66789063 135.66789063\n",
      "  67.83394531 135.66789063 135.66789063  67.83394531  33.91697266\n",
      "  33.91697266  67.83394531 101.75091797 135.66789063 135.66789063\n",
      "  67.83394531  33.91697266  33.91697266  67.83394531 101.75091797\n",
      " 135.66789063  33.91697266  67.83394531 101.75091797 135.66789063\n",
      " 135.66789063  67.83394531  33.91697266  33.91697266  67.83394531\n",
      " 101.75091797 135.66789063  33.91697266  67.83394531 101.75091797\n",
      " 135.66789063  33.91697266  67.83394531 101.75091797 135.66789063\n",
      "  33.91697266  67.83394531 101.75091797 135.66789063  33.91697266\n",
      "  67.83394531 101.75091797 135.66789063  33.91697266  33.91697266\n",
      "  67.83394531 101.75091797 135.66789063 135.66789063  67.83394531\n",
      "  33.91697266  33.91697266  67.83394531 101.75091797 135.66789063\n",
      "  33.91697266  33.91697266  67.83394531 101.75091797 135.66789063\n",
      " 101.75091797 135.66789063 135.66789063  67.83394531  33.91697266\n",
      "  33.91697266  67.83394531 101.75091797 135.66789063 135.66789063\n",
      "  33.91697266  67.83394531 101.75091797 135.66789063 135.66789063\n",
      " 135.66789063  67.83394531  33.91697266  33.91697266  67.83394531\n",
      " 101.75091797 135.66789063  33.91697266  67.83394531 101.75091797\n",
      " 135.66789063  33.91697266  33.91697266  67.83394531 101.75091797\n",
      " 135.66789063 135.66789063  33.91697266  67.83394531 101.75091797\n",
      " 135.66789063  33.91697266  67.83394531 101.75091797 135.66789063\n",
      "  33.91697266  67.83394531 101.75091797 135.66789063  33.91697266\n",
      "  67.83394531 101.75091797 135.66789063  33.91697266  67.83394531\n",
      " 101.75091797 135.66789063  33.91697266  67.83394531 101.75091797\n",
      " 135.66789063 135.66789063  67.83394531  33.91697266  33.91697266\n",
      "  67.83394531 101.75091797 135.66789063  33.91697266  67.83394531\n",
      " 101.75091797 135.66789063  33.91697266  33.91697266  67.83394531\n",
      " 101.75091797 135.66789063 135.66789063  33.91697266  33.91697266\n",
      "  67.83394531 101.75091797 135.66789063 135.66789063  67.83394531\n",
      " 101.75091797 135.66789063 135.66789063  67.83394531  33.91697266\n",
      "  33.91697266  67.83394531 101.75091797  33.91697266  67.83394531\n",
      " 101.75091797 135.66789063 135.66789063  67.83394531 101.75091797\n",
      " 135.66789063  33.91697266  33.91697266  67.83394531 101.75091797\n",
      "  33.91697266  67.83394531 101.75091797 135.66789063  33.91697266\n",
      "  67.83394531 101.75091797  33.91697266  33.91697266  67.83394531\n",
      " 101.75091797  33.91697266  67.83394531 101.75091797 135.66789063\n",
      " 135.66789063  67.83394531  33.91697266  33.91697266  67.83394531\n",
      " 101.75091797 135.66789063  33.91697266  67.83394531 101.75091797\n",
      "  33.91697266  67.83394531 101.75091797 135.66789063  33.91697266\n",
      "  33.91697266  67.83394531 101.75091797  33.91697266  67.83394531\n",
      " 101.75091797 135.66789063 135.66789063  67.83394531 135.66789063\n",
      "  67.83394531  33.91697266  33.91697266  67.83394531 101.75091797\n",
      "  33.91697266  67.83394531 101.75091797  33.91697266  67.83394531\n",
      " 101.75091797  33.91697266  67.83394531 101.75091797  33.91697266\n",
      "  67.83394531 101.75091797  33.91697266  67.83394531 101.75091797\n",
      "  33.91697266  67.83394531 101.75091797  33.91697266  67.83394531\n",
      " 101.75091797 135.66789063  67.83394531  33.91697266  33.91697266\n",
      "  67.83394531 101.75091797  33.91697266  67.83394531 101.75091797\n",
      "  67.83394531  33.91697266  33.91697266  67.83394531 101.75091797\n",
      "  33.91697266  67.83394531 101.75091797  33.91697266  33.91697266\n",
      "  67.83394531 101.75091797  33.91697266  67.83394531 101.75091797\n",
      "  33.91697266  67.83394531 101.75091797  33.91697266  67.83394531\n",
      "  33.91697266  67.83394531  33.91697266  67.83394531  33.91697266\n",
      "  67.83394531  33.91697266  67.83394531  33.91697266  67.83394531\n",
      "  33.91697266  67.83394531  33.91697266  67.83394531  33.91697266\n",
      "  67.83394531  33.91697266  67.83394531  33.91697266  67.83394531\n",
      "  33.91697266  67.83394531  33.91697266  67.83394531  33.91697266\n",
      "  67.83394531  33.91697266  67.83394531  33.91697266  67.83394531\n",
      "  33.91697266  67.83394531  33.91697266  67.83394531  33.91697266\n",
      "  67.83394531  33.91697266  67.83394531  33.91697266  67.83394531\n",
      "  33.91697266  67.83394531  33.91697266  67.83394531  33.91697266\n",
      "  67.83394531  33.91697266  67.83394531  33.91697266  67.83394531\n",
      "  33.91697266  33.91697266  33.91697266  33.91697266  33.91697266\n",
      "  33.91697266  33.91697266  33.91697266  67.83394531  33.91697266\n",
      "  33.91697266  33.91697266  67.83394531  33.91697266  33.91697266\n",
      "  33.91697266  33.91697266  33.91697266  67.83394531  33.91697266\n",
      "  33.91697266  33.91697266  33.91697266  33.91697266  33.91697266\n",
      "  33.91697266  33.91697266  33.91697266  33.91697266  33.91697266\n",
      "  33.91697266  67.83394531  33.91697266  33.91697266  33.91697266\n",
      "  67.83394531  33.91697266  33.91697266 101.75091797  33.91697266\n",
      "  33.91697266 101.75091797  33.91697266  67.83394531 101.75091797\n",
      "  33.91697266  33.91697266  33.91697266  33.91697266  33.91697266\n",
      "  67.83394531 101.75091797  33.91697266  33.91697266  33.91697266\n",
      "  33.91697266  33.91697266  33.91697266  33.91697266  33.91697266\n",
      "  33.91697266  33.91697266  33.91697266  33.91697266  33.91697266\n",
      "  33.91697266  33.91697266  67.83394531  33.91697266  33.91697266\n",
      "  33.91697266  33.91697266  33.91697266  33.91697266  67.83394531\n",
      "  33.91697266  67.83394531  33.91697266  33.91697266  33.91697266\n",
      "  33.91697266  33.91697266  33.91697266  67.83394531 101.75091797\n",
      "  33.91697266  33.91697266  33.91697266  67.83394531  33.91697266\n",
      "  33.91697266  33.91697266  67.83394531  33.91697266  67.83394531\n",
      " 135.66789063  33.91697266  67.83394531  33.91697266  67.83394531\n",
      "  33.91697266  67.83394531  33.91697266  67.83394531  33.91697266\n",
      "  67.83394531  33.91697266  67.83394531  33.91697266  67.83394531\n",
      "  33.91697266  67.83394531  33.91697266  67.83394531  33.91697266\n",
      "  67.83394531  33.91697266  67.83394531  33.91697266  67.83394531\n",
      "  33.91697266  67.83394531  33.91697266  67.83394531 101.75091797\n",
      "  33.91697266  67.83394531  33.91697266  67.83394531  33.91697266\n",
      "  67.83394531 101.75091797 135.66789063 135.66789063  67.83394531\n",
      " 101.75091797  33.91697266  67.83394531  33.91697266  67.83394531\n",
      "  33.91697266  67.83394531  33.91697266  67.83394531 101.75091797\n",
      "  33.91697266  67.83394531  33.91697266  67.83394531  33.91697266\n",
      "  67.83394531  33.91697266  67.83394531  33.91697266  67.83394531\n",
      "  33.91697266  67.83394531  33.91697266  67.83394531  33.91697266\n",
      "  67.83394531 101.75091797  33.91697266  67.83394531  33.91697266\n",
      "  67.83394531 101.75091797  33.91697266  67.83394531 101.75091797\n",
      "  33.91697266  67.83394531 101.75091797  33.91697266  67.83394531\n",
      " 101.75091797  67.83394531  33.91697266  33.91697266  67.83394531\n",
      " 101.75091797  33.91697266  67.83394531 101.75091797  33.91697266\n",
      "  67.83394531 101.75091797  33.91697266  33.91697266  67.83394531\n",
      " 101.75091797  33.91697266  67.83394531 101.75091797  33.91697266\n",
      "  67.83394531 101.75091797  33.91697266  67.83394531 101.75091797\n",
      "  33.91697266  67.83394531 101.75091797  33.91697266  67.83394531\n",
      " 101.75091797  33.91697266  67.83394531 101.75091797  33.91697266\n",
      "  67.83394531 101.75091797  33.91697266  67.83394531 101.75091797\n",
      " 135.66789063 135.66789063 101.75091797 135.66789063  67.83394531\n",
      "  33.91697266  33.91697266  67.83394531 101.75091797 135.66789063\n",
      "  33.91697266  33.91697266  67.83394531 101.75091797  33.91697266\n",
      "  67.83394531 101.75091797  33.91697266  67.83394531 101.75091797\n",
      "  33.91697266  67.83394531 101.75091797  33.91697266  33.91697266\n",
      "  67.83394531 101.75091797 135.66789063  33.91697266  33.91697266\n",
      "  67.83394531 101.75091797  33.91697266  67.83394531 101.75091797\n",
      "  33.91697266  67.83394531 101.75091797 135.66789063  33.91697266\n",
      "  33.91697266  67.83394531 101.75091797 135.66789063  33.91697266\n",
      "  33.91697266  67.83394531 101.75091797  33.91697266  33.91697266\n",
      "  67.83394531 101.75091797  67.83394531  33.91697266  33.91697266\n",
      "  67.83394531 101.75091797  33.91697266  33.91697266  67.83394531\n",
      " 101.75091797 135.66789063  33.91697266  33.91697266  67.83394531\n",
      " 101.75091797 135.66789063 135.66789063  33.91697266  33.91697266\n",
      "  67.83394531 101.75091797 135.66789063  67.83394531  33.91697266\n",
      "  33.91697266  67.83394531 101.75091797 135.66789063 135.66789063\n",
      "  67.83394531  33.91697266  33.91697266  67.83394531 101.75091797\n",
      " 135.66789063 135.66789063  67.83394531  33.91697266  33.91697266\n",
      "  67.83394531 101.75091797 135.66789063 135.66789063 135.66789063\n",
      "  67.83394531  33.91697266  33.91697266  67.83394531 101.75091797\n",
      " 135.66789063 135.66789063  67.83394531 135.66789063  67.83394531\n",
      "  33.91697266  33.91697266  67.83394531 101.75091797 135.66789063\n",
      "  33.91697266  33.91697266  67.83394531 101.75091797 135.66789063\n",
      "  67.83394531  33.91697266  33.91697266  67.83394531 101.75091797\n",
      " 135.66789063  33.91697266  33.91697266  67.83394531 101.75091797\n",
      " 135.66789063 135.66789063  33.91697266  33.91697266  67.83394531\n",
      " 101.75091797 135.66789063  33.91697266  33.91697266  67.83394531\n",
      " 101.75091797 135.66789063  33.91697266  33.91697266  67.83394531\n",
      " 101.75091797 135.66789063  33.91697266  33.91697266  67.83394531\n",
      " 101.75091797 135.66789063  33.91697266  33.91697266  67.83394531\n",
      " 101.75091797 135.66789063  33.91697266  33.91697266  67.83394531\n",
      " 101.75091797 135.66789063  33.91697266  33.91697266  67.83394531\n",
      " 101.75091797 135.66789063  33.91697266  33.91697266  67.83394531\n",
      " 101.75091797 135.66789063  33.91697266  33.91697266  67.83394531\n",
      " 101.75091797 135.66789063 135.66789063 135.66789063  67.83394531\n",
      "  33.91697266  33.91697266  67.83394531 101.75091797 135.66789063\n",
      " 135.66789063  67.83394531  33.91697266  33.91697266  67.83394531\n",
      " 101.75091797 135.66789063 135.66789063  67.83394531 101.75091797\n",
      " 135.66789063 135.66789063  67.83394531  33.91697266  33.91697266\n",
      "  67.83394531 101.75091797 135.66789063 135.66789063  67.83394531\n",
      " 101.75091797 135.66789063 135.66789063  67.83394531  33.91697266\n",
      "  33.91697266  67.83394531 101.75091797 135.66789063 135.66789063\n",
      "  33.91697266  33.91697266  67.83394531 101.75091797 135.66789063\n",
      " 135.66789063  67.83394531 101.75091797  33.91697266  33.91697266\n",
      "  67.83394531 101.75091797 135.66789063  67.83394531  33.91697266\n",
      "  33.91697266  67.83394531 101.75091797 135.66789063 135.66789063\n",
      "  33.91697266  33.91697266  67.83394531 101.75091797 135.66789063\n",
      "  33.91697266  33.91697266  67.83394531 101.75091797 135.66789063\n",
      "  67.83394531 101.75091797 135.66789063 135.66789063  67.83394531\n",
      "  33.91697266  33.91697266  67.83394531 101.75091797 135.66789063\n",
      "  33.91697266  33.91697266  67.83394531 101.75091797 135.66789063\n",
      "  33.91697266  33.91697266  67.83394531 101.75091797 135.66789063\n",
      " 135.66789063  67.83394531 101.75091797  67.83394531  33.91697266]' has dtype incompatible with int64, please explicitly cast to a compatible dtype first.\n",
      "  lighting_demand[mask] = lighting_load * area * occupancy_schedule[\"OCCUPANCY\"][mask]\n",
      "c:\\Users\\felix\\Programmieren\\districtgenerator\\.venv\\Lib\\site-packages\\teaser\\logic\\buildingobjects\\useconditions.py:363: FutureWarning: 'H' is deprecated and will be removed in a future version, please use 'h' instead.\n",
      "  index=pd.date_range(\"2019-01-01 00:00:00\", periods=8760, freq=\"H\")\n",
      "c:\\Users\\felix\\Programmieren\\districtgenerator\\.venv\\Lib\\site-packages\\teaser\\logic\\buildingobjects\\useconditions.py:363: FutureWarning: 'H' is deprecated and will be removed in a future version, please use 'h' instead.\n",
      "  index=pd.date_range(\"2019-01-01 00:00:00\", periods=8760, freq=\"H\")\n"
     ]
    },
    {
     "name": "stdout",
     "output_type": "stream",
     "text": [
      "Creating building AB\n",
      "Creating building IWU Transport\n",
      "Available building types: ['IWU Office, Administrative or Government Buildings', 'IWU Research and University Teaching', 'IWU Health and Care', 'IWU School, Day Nursery and other Care', 'IWU Culture and Leisure', 'IWU Sports Facilities', 'IWU Hotels, Boarding, Restaurants or Catering', 'IWU Production, Workshop, Warehouse or Operations', 'IWU Trade Buildings', 'IWU Technical and Utility (supply and disposal)', 'IWU Transport', 'IWU Generalized (1) Services building', 'IWU Generalized (2) Production buildings']\n",
      "Current usage: IWU Transport\n"
     ]
    },
    {
     "name": "stderr",
     "output_type": "stream",
     "text": [
      "c:\\Users\\felix\\Programmieren\\districtgenerator\\.venv\\Lib\\site-packages\\teaser\\logic\\buildingobjects\\useconditions.py:363: FutureWarning: 'H' is deprecated and will be removed in a future version, please use 'h' instead.\n",
      "  index=pd.date_range(\"2019-01-01 00:00:00\", periods=8760, freq=\"H\")\n",
      "c:\\Users\\felix\\Programmieren\\districtgenerator\\functions\\light_demand.py:99: FutureWarning: Setting an item of incompatible dtype is deprecated and will raise an error in a future version of pandas. Value '[ 42.52776367  85.05552734 127.58329102 170.11105469 170.11105469\n",
      "  85.05552734 127.58329102 170.11105469 170.11105469  85.05552734\n",
      "  42.52776367  42.52776367  85.05552734 127.58329102 170.11105469\n",
      " 170.11105469  85.05552734  42.52776367  42.52776367  85.05552734\n",
      " 127.58329102 170.11105469  42.52776367  85.05552734 127.58329102\n",
      " 170.11105469 170.11105469 170.11105469  85.05552734  42.52776367\n",
      "  42.52776367  85.05552734 127.58329102 170.11105469  42.52776367\n",
      "  42.52776367  85.05552734 127.58329102 170.11105469  42.52776367\n",
      "  85.05552734 127.58329102 170.11105469 170.11105469  42.52776367\n",
      "  42.52776367  85.05552734 127.58329102 170.11105469  42.52776367\n",
      "  85.05552734 127.58329102 170.11105469  42.52776367  42.52776367\n",
      "  85.05552734 127.58329102 170.11105469 170.11105469  85.05552734\n",
      " 127.58329102  85.05552734  42.52776367  42.52776367  85.05552734\n",
      " 127.58329102 170.11105469 170.11105469  42.52776367  42.52776367\n",
      "  85.05552734 127.58329102 170.11105469 170.11105469 127.58329102\n",
      " 170.11105469 170.11105469  85.05552734  42.52776367  42.52776367\n",
      "  85.05552734 127.58329102 170.11105469 170.11105469  85.05552734\n",
      "  42.52776367  85.05552734 127.58329102 170.11105469 170.11105469\n",
      "  85.05552734 127.58329102 170.11105469 170.11105469  85.05552734\n",
      "  42.52776367  42.52776367  85.05552734 127.58329102 170.11105469\n",
      "  42.52776367  85.05552734 127.58329102 170.11105469  85.05552734\n",
      "  42.52776367  42.52776367  85.05552734 127.58329102 170.11105469\n",
      " 170.11105469  42.52776367  85.05552734 127.58329102 170.11105469\n",
      "  42.52776367  85.05552734 127.58329102 170.11105469  42.52776367\n",
      "  85.05552734 127.58329102 170.11105469  42.52776367  85.05552734\n",
      " 127.58329102 170.11105469  42.52776367  85.05552734 127.58329102\n",
      " 170.11105469  42.52776367  85.05552734 127.58329102 170.11105469\n",
      " 170.11105469  85.05552734 127.58329102  85.05552734  42.52776367\n",
      "  42.52776367  85.05552734 127.58329102 170.11105469 170.11105469\n",
      "  42.52776367  85.05552734 127.58329102 170.11105469  85.05552734\n",
      "  42.52776367  42.52776367  85.05552734 127.58329102 170.11105469\n",
      " 170.11105469  85.05552734  42.52776367  42.52776367  85.05552734\n",
      " 127.58329102 170.11105469 170.11105469  85.05552734 127.58329102\n",
      " 170.11105469 170.11105469  85.05552734  42.52776367  42.52776367\n",
      "  85.05552734 127.58329102  42.52776367  85.05552734 127.58329102\n",
      " 170.11105469 170.11105469  85.05552734 127.58329102 170.11105469\n",
      "  42.52776367  42.52776367  85.05552734 127.58329102  42.52776367\n",
      "  85.05552734 127.58329102 170.11105469  42.52776367  85.05552734\n",
      " 127.58329102  42.52776367  42.52776367  85.05552734 127.58329102\n",
      "  42.52776367  85.05552734 127.58329102 170.11105469 170.11105469\n",
      "  85.05552734  42.52776367  42.52776367  85.05552734 127.58329102\n",
      " 170.11105469 170.11105469  42.52776367  85.05552734 127.58329102\n",
      "  42.52776367  85.05552734 127.58329102 170.11105469 170.11105469\n",
      "  42.52776367  42.52776367  85.05552734 127.58329102  42.52776367\n",
      "  85.05552734 127.58329102 170.11105469 170.11105469  85.05552734\n",
      " 170.11105469 170.11105469  85.05552734  42.52776367  42.52776367\n",
      "  85.05552734 127.58329102  42.52776367  42.52776367  85.05552734\n",
      " 127.58329102  42.52776367  42.52776367  85.05552734 127.58329102\n",
      "  42.52776367  85.05552734 127.58329102  42.52776367  85.05552734\n",
      " 127.58329102  42.52776367  85.05552734 127.58329102  42.52776367\n",
      "  85.05552734 127.58329102  42.52776367  85.05552734 127.58329102\n",
      " 170.11105469  85.05552734  42.52776367  42.52776367  85.05552734\n",
      " 127.58329102  42.52776367  85.05552734 127.58329102  85.05552734\n",
      "  42.52776367  42.52776367  85.05552734 127.58329102  42.52776367\n",
      "  85.05552734 127.58329102 170.11105469  42.52776367  42.52776367\n",
      "  85.05552734 127.58329102  42.52776367  85.05552734 127.58329102\n",
      "  42.52776367  85.05552734 127.58329102  42.52776367  85.05552734\n",
      "  42.52776367  85.05552734  42.52776367  85.05552734  42.52776367\n",
      "  85.05552734  42.52776367  85.05552734  42.52776367  85.05552734\n",
      "  42.52776367  85.05552734  42.52776367  85.05552734  42.52776367\n",
      "  85.05552734  42.52776367  85.05552734  42.52776367  85.05552734\n",
      "  42.52776367  85.05552734  42.52776367  85.05552734  42.52776367\n",
      "  85.05552734  42.52776367  85.05552734  42.52776367  85.05552734\n",
      "  42.52776367  85.05552734  42.52776367  85.05552734  42.52776367\n",
      "  85.05552734  42.52776367  85.05552734  42.52776367  85.05552734\n",
      "  42.52776367  85.05552734  42.52776367  85.05552734  42.52776367\n",
      "  85.05552734  42.52776367  85.05552734  42.52776367  85.05552734\n",
      "  42.52776367  42.52776367  42.52776367  42.52776367  42.52776367\n",
      "  42.52776367  42.52776367  42.52776367  85.05552734  42.52776367\n",
      "  42.52776367  42.52776367  85.05552734  42.52776367  42.52776367\n",
      "  42.52776367  42.52776367  42.52776367  85.05552734  42.52776367\n",
      "  42.52776367  42.52776367  42.52776367  42.52776367  42.52776367\n",
      "  42.52776367  42.52776367  42.52776367  42.52776367  42.52776367\n",
      "  42.52776367  85.05552734  42.52776367  42.52776367  42.52776367\n",
      "  42.52776367  85.05552734  42.52776367  42.52776367  85.05552734\n",
      " 127.58329102  42.52776367  42.52776367  42.52776367  85.05552734\n",
      " 127.58329102  42.52776367  85.05552734 127.58329102  42.52776367\n",
      "  42.52776367  42.52776367  42.52776367  42.52776367  85.05552734\n",
      " 127.58329102  42.52776367  42.52776367  42.52776367  42.52776367\n",
      "  42.52776367  42.52776367  42.52776367  42.52776367  42.52776367\n",
      "  42.52776367  42.52776367  42.52776367  42.52776367  42.52776367\n",
      "  42.52776367  85.05552734  42.52776367  42.52776367  42.52776367\n",
      "  42.52776367  42.52776367  42.52776367  85.05552734  42.52776367\n",
      "  85.05552734  42.52776367  42.52776367  42.52776367  42.52776367\n",
      "  42.52776367  42.52776367  85.05552734 127.58329102 170.11105469\n",
      "  42.52776367  42.52776367  42.52776367  85.05552734  42.52776367\n",
      "  42.52776367  42.52776367  85.05552734  42.52776367  85.05552734\n",
      " 170.11105469  42.52776367  85.05552734  42.52776367  85.05552734\n",
      "  42.52776367  85.05552734  42.52776367  85.05552734  42.52776367\n",
      "  85.05552734  42.52776367  85.05552734  42.52776367  85.05552734\n",
      "  42.52776367  85.05552734  42.52776367  85.05552734  42.52776367\n",
      "  85.05552734  42.52776367  85.05552734  42.52776367  85.05552734\n",
      "  42.52776367  85.05552734  42.52776367  85.05552734 127.58329102\n",
      "  42.52776367  85.05552734  42.52776367  85.05552734  42.52776367\n",
      "  85.05552734 127.58329102 170.11105469 170.11105469  85.05552734\n",
      " 127.58329102  42.52776367  85.05552734  42.52776367  85.05552734\n",
      "  42.52776367  85.05552734 127.58329102  42.52776367  85.05552734\n",
      " 127.58329102  42.52776367  85.05552734  42.52776367  85.05552734\n",
      "  42.52776367  85.05552734  42.52776367  85.05552734  42.52776367\n",
      "  85.05552734  42.52776367  85.05552734  42.52776367  85.05552734\n",
      "  42.52776367  85.05552734 127.58329102  42.52776367  85.05552734\n",
      "  42.52776367  85.05552734 127.58329102  42.52776367  85.05552734\n",
      " 127.58329102  42.52776367  85.05552734 127.58329102  42.52776367\n",
      "  85.05552734 127.58329102 170.11105469 170.11105469  85.05552734\n",
      "  42.52776367  42.52776367  85.05552734 127.58329102  42.52776367\n",
      "  85.05552734 127.58329102  42.52776367  85.05552734 127.58329102\n",
      "  42.52776367  42.52776367  85.05552734 127.58329102  42.52776367\n",
      "  85.05552734 127.58329102  42.52776367  85.05552734 127.58329102\n",
      "  42.52776367  85.05552734 127.58329102 170.11105469  42.52776367\n",
      "  85.05552734 127.58329102  42.52776367  85.05552734 127.58329102\n",
      " 170.11105469  42.52776367  85.05552734 127.58329102  42.52776367\n",
      "  85.05552734 127.58329102  42.52776367  85.05552734 127.58329102\n",
      " 170.11105469 170.11105469  85.05552734 127.58329102 170.11105469\n",
      " 170.11105469  85.05552734  42.52776367  42.52776367  85.05552734\n",
      " 127.58329102 170.11105469  85.05552734  42.52776367  42.52776367\n",
      "  85.05552734 127.58329102  42.52776367  85.05552734 127.58329102\n",
      "  42.52776367  85.05552734 127.58329102  42.52776367  85.05552734\n",
      " 127.58329102  42.52776367  42.52776367  85.05552734 127.58329102\n",
      " 170.11105469  42.52776367  42.52776367  85.05552734 127.58329102\n",
      "  42.52776367  85.05552734 127.58329102  42.52776367  85.05552734\n",
      " 127.58329102 170.11105469 170.11105469  42.52776367  42.52776367\n",
      "  85.05552734 127.58329102 170.11105469 170.11105469  85.05552734\n",
      "  42.52776367  42.52776367  85.05552734 127.58329102  42.52776367\n",
      "  42.52776367  85.05552734 127.58329102  85.05552734  42.52776367\n",
      "  42.52776367  85.05552734 127.58329102 170.11105469  42.52776367\n",
      "  42.52776367  85.05552734 127.58329102 170.11105469  42.52776367\n",
      "  42.52776367  85.05552734 127.58329102 170.11105469 170.11105469\n",
      "  42.52776367  42.52776367  85.05552734 127.58329102 170.11105469\n",
      "  85.05552734  42.52776367  42.52776367  85.05552734 127.58329102\n",
      " 170.11105469 170.11105469  85.05552734  85.05552734  42.52776367\n",
      "  42.52776367  85.05552734 127.58329102 170.11105469 170.11105469\n",
      "  85.05552734 170.11105469  85.05552734  42.52776367  42.52776367\n",
      "  85.05552734 127.58329102 170.11105469 170.11105469 170.11105469\n",
      "  85.05552734  42.52776367  42.52776367  85.05552734 127.58329102\n",
      " 170.11105469 170.11105469  85.05552734 127.58329102 170.11105469\n",
      " 170.11105469  85.05552734  42.52776367  42.52776367  85.05552734\n",
      " 127.58329102 170.11105469 170.11105469  42.52776367  42.52776367\n",
      "  85.05552734 127.58329102 170.11105469  85.05552734  42.52776367\n",
      "  42.52776367  85.05552734 127.58329102 170.11105469  42.52776367\n",
      "  42.52776367  85.05552734 127.58329102 170.11105469 170.11105469\n",
      "  42.52776367  42.52776367  85.05552734 127.58329102 170.11105469\n",
      "  42.52776367  42.52776367  85.05552734 127.58329102 170.11105469\n",
      "  42.52776367  42.52776367  85.05552734 127.58329102 170.11105469\n",
      "  42.52776367  42.52776367  85.05552734 127.58329102 170.11105469\n",
      "  42.52776367  42.52776367  85.05552734 127.58329102 170.11105469\n",
      "  42.52776367  42.52776367  85.05552734 127.58329102 170.11105469\n",
      "  42.52776367  42.52776367  85.05552734 127.58329102 170.11105469\n",
      "  42.52776367  42.52776367  85.05552734 127.58329102 170.11105469\n",
      "  42.52776367  42.52776367  85.05552734 127.58329102 170.11105469\n",
      " 170.11105469 170.11105469  85.05552734  42.52776367  42.52776367\n",
      "  85.05552734 127.58329102 170.11105469 170.11105469  85.05552734\n",
      "  42.52776367  42.52776367  85.05552734 127.58329102 170.11105469\n",
      " 170.11105469  85.05552734 127.58329102 170.11105469 170.11105469\n",
      "  85.05552734  42.52776367  42.52776367  85.05552734 127.58329102\n",
      " 170.11105469 170.11105469  85.05552734 127.58329102 170.11105469\n",
      " 170.11105469  85.05552734  42.52776367  42.52776367  85.05552734\n",
      " 127.58329102 170.11105469 170.11105469  85.05552734  85.05552734\n",
      "  42.52776367  42.52776367  85.05552734 127.58329102 170.11105469\n",
      " 170.11105469  85.05552734 127.58329102  42.52776367  42.52776367\n",
      "  85.05552734 127.58329102 170.11105469  85.05552734  42.52776367\n",
      "  42.52776367  85.05552734 127.58329102 170.11105469 170.11105469\n",
      "  42.52776367  42.52776367  85.05552734 127.58329102 170.11105469\n",
      "  42.52776367  42.52776367  85.05552734 127.58329102 170.11105469\n",
      " 170.11105469  85.05552734 127.58329102 170.11105469 170.11105469\n",
      "  85.05552734  42.52776367  42.52776367  85.05552734 127.58329102\n",
      " 170.11105469 170.11105469  42.52776367  42.52776367  85.05552734\n",
      " 127.58329102 170.11105469  42.52776367  42.52776367  85.05552734\n",
      " 127.58329102 170.11105469 170.11105469  85.05552734 127.58329102\n",
      " 170.11105469  85.05552734  42.52776367]' has dtype incompatible with int64, please explicitly cast to a compatible dtype first.\n",
      "  lighting_demand[mask] = lighting_load * area * occupancy_schedule[\"OCCUPANCY\"][mask]\n",
      "c:\\Users\\felix\\Programmieren\\districtgenerator\\.venv\\Lib\\site-packages\\teaser\\logic\\buildingobjects\\useconditions.py:363: FutureWarning: 'H' is deprecated and will be removed in a future version, please use 'h' instead.\n",
      "  index=pd.date_range(\"2019-01-01 00:00:00\", periods=8760, freq=\"H\")\n",
      "c:\\Users\\felix\\Programmieren\\districtgenerator\\.venv\\Lib\\site-packages\\teaser\\logic\\buildingobjects\\useconditions.py:363: FutureWarning: 'H' is deprecated and will be removed in a future version, please use 'h' instead.\n",
      "  index=pd.date_range(\"2019-01-01 00:00:00\", periods=8760, freq=\"H\")\n"
     ]
    },
    {
     "name": "stdout",
     "output_type": "stream",
     "text": [
      "Creating building AB\n",
      "Creating building AB\n",
      "Creating building AB\n",
      "Creating building AB\n"
     ]
    },
    {
     "name": "stderr",
     "output_type": "stream",
     "text": [
      "c:\\Users\\felix\\Programmieren\\districtgenerator\\.venv\\Lib\\site-packages\\teaser\\logic\\buildingobjects\\useconditions.py:363: FutureWarning: 'H' is deprecated and will be removed in a future version, please use 'h' instead.\n",
      "  index=pd.date_range(\"2019-01-01 00:00:00\", periods=8760, freq=\"H\")\n",
      "c:\\Users\\felix\\Programmieren\\districtgenerator\\.venv\\Lib\\site-packages\\teaser\\logic\\buildingobjects\\useconditions.py:363: FutureWarning: 'H' is deprecated and will be removed in a future version, please use 'h' instead.\n",
      "  index=pd.date_range(\"2019-01-01 00:00:00\", periods=8760, freq=\"H\")\n"
     ]
    },
    {
     "name": "stdout",
     "output_type": "stream",
     "text": [
      "Creating building AB\n",
      "Creating building AB\n",
      "Creating building IWU Hotels, Boarding, Restaurants or Catering\n",
      "Available building types: ['IWU Office, Administrative or Government Buildings', 'IWU Research and University Teaching', 'IWU Health and Care', 'IWU School, Day Nursery and other Care', 'IWU Culture and Leisure', 'IWU Sports Facilities', 'IWU Hotels, Boarding, Restaurants or Catering', 'IWU Production, Workshop, Warehouse or Operations', 'IWU Trade Buildings', 'IWU Technical and Utility (supply and disposal)', 'IWU Transport', 'IWU Generalized (1) Services building', 'IWU Generalized (2) Production buildings']\n",
      "Current usage: IWU Hotels, Boarding, Restaurants or Catering\n"
     ]
    },
    {
     "name": "stderr",
     "output_type": "stream",
     "text": [
      "c:\\Users\\felix\\Programmieren\\districtgenerator\\.venv\\Lib\\site-packages\\teaser\\logic\\buildingobjects\\useconditions.py:363: FutureWarning: 'H' is deprecated and will be removed in a future version, please use 'h' instead.\n",
      "  index=pd.date_range(\"2019-01-01 00:00:00\", periods=8760, freq=\"H\")\n",
      "c:\\Users\\felix\\Programmieren\\districtgenerator\\.venv\\Lib\\site-packages\\teaser\\logic\\buildingobjects\\useconditions.py:363: FutureWarning: 'H' is deprecated and will be removed in a future version, please use 'h' instead.\n",
      "  index=pd.date_range(\"2019-01-01 00:00:00\", periods=8760, freq=\"H\")\n",
      "c:\\Users\\felix\\Programmieren\\districtgenerator\\functions\\light_demand.py:99: FutureWarning: Setting an item of incompatible dtype is deprecated and will raise an error in a future version of pandas. Value '[11295.7875 11295.7875 11295.7875 ...  9036.63   11295.7875 11295.7875]' has dtype incompatible with int64, please explicitly cast to a compatible dtype first.\n",
      "  lighting_demand[mask] = lighting_load * area * occupancy_schedule[\"OCCUPANCY\"][mask]\n",
      "c:\\Users\\felix\\Programmieren\\districtgenerator\\.venv\\Lib\\site-packages\\teaser\\logic\\buildingobjects\\useconditions.py:363: FutureWarning: 'H' is deprecated and will be removed in a future version, please use 'h' instead.\n",
      "  index=pd.date_range(\"2019-01-01 00:00:00\", periods=8760, freq=\"H\")\n"
     ]
    },
    {
     "name": "stdout",
     "output_type": "stream",
     "text": [
      "Creating building AB\n",
      "Creating building IWU Transport\n",
      "Available building types: ['IWU Office, Administrative or Government Buildings', 'IWU Research and University Teaching', 'IWU Health and Care', 'IWU School, Day Nursery and other Care', 'IWU Culture and Leisure', 'IWU Sports Facilities', 'IWU Hotels, Boarding, Restaurants or Catering', 'IWU Production, Workshop, Warehouse or Operations', 'IWU Trade Buildings', 'IWU Technical and Utility (supply and disposal)', 'IWU Transport', 'IWU Generalized (1) Services building', 'IWU Generalized (2) Production buildings']\n",
      "Current usage: IWU Transport\n"
     ]
    },
    {
     "name": "stderr",
     "output_type": "stream",
     "text": [
      "c:\\Users\\felix\\Programmieren\\districtgenerator\\functions\\light_demand.py:99: FutureWarning: Setting an item of incompatible dtype is deprecated and will raise an error in a future version of pandas. Value '[ 54.96689453 109.93378906 164.90068359 219.86757813 219.86757813\n",
      " 109.93378906 164.90068359 219.86757813 219.86757813 109.93378906\n",
      "  54.96689453  54.96689453 109.93378906 164.90068359 219.86757813\n",
      " 219.86757813 219.86757813 219.86757813 109.93378906  54.96689453\n",
      "  54.96689453 109.93378906 164.90068359 219.86757813  54.96689453\n",
      " 109.93378906 164.90068359 219.86757813 219.86757813 109.93378906\n",
      " 219.86757813 109.93378906  54.96689453  54.96689453 109.93378906\n",
      " 164.90068359 219.86757813  54.96689453  54.96689453 109.93378906\n",
      " 164.90068359 219.86757813  54.96689453 109.93378906 164.90068359\n",
      " 219.86757813 219.86757813  54.96689453  54.96689453 109.93378906\n",
      " 164.90068359 219.86757813  54.96689453 109.93378906 164.90068359\n",
      " 219.86757813 164.90068359 109.93378906  54.96689453  54.96689453\n",
      " 109.93378906 164.90068359 219.86757813 219.86757813 109.93378906\n",
      " 164.90068359 109.93378906  54.96689453  54.96689453 109.93378906\n",
      " 164.90068359 219.86757813 219.86757813 109.93378906 109.93378906\n",
      "  54.96689453  54.96689453 109.93378906 164.90068359 219.86757813\n",
      " 219.86757813 164.90068359 219.86757813 219.86757813 109.93378906\n",
      "  54.96689453  54.96689453 109.93378906 164.90068359 219.86757813\n",
      " 219.86757813 109.93378906  54.96689453  54.96689453 109.93378906\n",
      " 164.90068359 219.86757813 219.86757813 109.93378906 164.90068359\n",
      " 219.86757813 219.86757813 109.93378906  54.96689453  54.96689453\n",
      " 109.93378906 164.90068359 219.86757813  54.96689453 109.93378906\n",
      " 164.90068359 219.86757813 219.86757813 109.93378906  54.96689453\n",
      "  54.96689453 109.93378906 164.90068359 219.86757813 219.86757813\n",
      "  54.96689453 109.93378906 164.90068359 219.86757813  54.96689453\n",
      " 109.93378906 164.90068359 219.86757813  54.96689453 109.93378906\n",
      " 164.90068359 219.86757813  54.96689453 109.93378906 164.90068359\n",
      " 219.86757813  54.96689453 109.93378906 164.90068359 219.86757813\n",
      "  54.96689453 109.93378906 164.90068359 219.86757813 219.86757813\n",
      " 109.93378906 164.90068359 219.86757813 219.86757813 109.93378906\n",
      "  54.96689453  54.96689453 109.93378906 164.90068359 219.86757813\n",
      " 219.86757813  54.96689453 109.93378906 164.90068359 219.86757813\n",
      " 219.86757813 109.93378906 164.90068359 109.93378906  54.96689453\n",
      "  54.96689453 109.93378906 164.90068359 219.86757813 219.86757813\n",
      " 109.93378906  54.96689453  54.96689453 109.93378906 164.90068359\n",
      " 219.86757813 219.86757813 109.93378906 164.90068359 219.86757813\n",
      " 219.86757813 109.93378906  54.96689453  54.96689453 109.93378906\n",
      " 164.90068359  54.96689453 109.93378906 164.90068359 219.86757813\n",
      " 219.86757813 109.93378906 164.90068359 219.86757813 219.86757813\n",
      " 109.93378906  54.96689453  54.96689453 109.93378906 164.90068359\n",
      "  54.96689453 109.93378906 164.90068359 219.86757813  54.96689453\n",
      " 109.93378906 164.90068359 219.86757813  54.96689453  54.96689453\n",
      " 109.93378906 164.90068359  54.96689453 109.93378906 164.90068359\n",
      " 219.86757813 219.86757813 219.86757813 109.93378906  54.96689453\n",
      "  54.96689453 109.93378906 164.90068359 219.86757813 219.86757813\n",
      " 109.93378906  54.96689453 109.93378906 164.90068359  54.96689453\n",
      " 109.93378906 164.90068359 219.86757813 219.86757813  54.96689453\n",
      "  54.96689453 109.93378906 164.90068359  54.96689453 109.93378906\n",
      " 164.90068359 219.86757813 219.86757813 109.93378906 164.90068359\n",
      " 219.86757813 219.86757813 109.93378906  54.96689453  54.96689453\n",
      " 109.93378906 164.90068359 219.86757813  54.96689453  54.96689453\n",
      " 109.93378906 164.90068359 109.93378906  54.96689453  54.96689453\n",
      " 109.93378906 164.90068359  54.96689453 109.93378906 164.90068359\n",
      "  54.96689453 109.93378906 164.90068359  54.96689453 109.93378906\n",
      " 164.90068359  54.96689453 109.93378906 164.90068359  54.96689453\n",
      " 109.93378906 164.90068359 219.86757813 219.86757813 109.93378906\n",
      "  54.96689453  54.96689453 109.93378906 164.90068359  54.96689453\n",
      " 109.93378906 164.90068359 219.86757813 109.93378906  54.96689453\n",
      "  54.96689453 109.93378906 164.90068359  54.96689453 109.93378906\n",
      " 164.90068359 219.86757813 219.86757813 109.93378906  54.96689453\n",
      "  54.96689453 109.93378906 164.90068359  54.96689453 109.93378906\n",
      " 164.90068359  54.96689453 109.93378906 164.90068359  54.96689453\n",
      " 109.93378906  54.96689453 109.93378906  54.96689453 109.93378906\n",
      "  54.96689453 109.93378906  54.96689453 109.93378906 164.90068359\n",
      "  54.96689453 109.93378906  54.96689453 109.93378906  54.96689453\n",
      " 109.93378906  54.96689453 109.93378906  54.96689453 109.93378906\n",
      "  54.96689453 109.93378906  54.96689453 109.93378906  54.96689453\n",
      " 109.93378906  54.96689453 109.93378906  54.96689453 109.93378906\n",
      "  54.96689453 109.93378906  54.96689453 109.93378906  54.96689453\n",
      " 109.93378906  54.96689453 109.93378906  54.96689453 109.93378906\n",
      "  54.96689453 109.93378906  54.96689453 109.93378906  54.96689453\n",
      " 109.93378906  54.96689453 109.93378906  54.96689453 109.93378906\n",
      "  54.96689453 109.93378906  54.96689453  54.96689453  54.96689453\n",
      "  54.96689453  54.96689453  54.96689453  54.96689453  54.96689453\n",
      " 109.93378906  54.96689453  54.96689453  54.96689453 109.93378906\n",
      "  54.96689453  54.96689453  54.96689453  54.96689453  54.96689453\n",
      "  54.96689453 109.93378906  54.96689453  54.96689453  54.96689453\n",
      " 109.93378906  54.96689453  54.96689453  54.96689453  54.96689453\n",
      "  54.96689453  54.96689453  54.96689453 109.93378906 164.90068359\n",
      "  54.96689453  54.96689453  54.96689453 109.93378906  54.96689453\n",
      "  54.96689453 109.93378906  54.96689453  54.96689453 109.93378906\n",
      "  54.96689453  54.96689453  54.96689453  54.96689453 109.93378906\n",
      " 164.90068359  54.96689453  54.96689453 109.93378906  54.96689453\n",
      "  54.96689453 109.93378906 164.90068359  54.96689453 109.93378906\n",
      " 164.90068359  54.96689453  54.96689453  54.96689453  54.96689453\n",
      "  54.96689453  54.96689453 109.93378906 164.90068359  54.96689453\n",
      "  54.96689453  54.96689453  54.96689453  54.96689453  54.96689453\n",
      "  54.96689453  54.96689453  54.96689453  54.96689453  54.96689453\n",
      "  54.96689453 109.93378906  54.96689453  54.96689453  54.96689453\n",
      "  54.96689453 109.93378906  54.96689453  54.96689453 109.93378906\n",
      " 164.90068359  54.96689453 109.93378906  54.96689453  54.96689453\n",
      "  54.96689453 109.93378906  54.96689453 109.93378906  54.96689453\n",
      " 109.93378906  54.96689453  54.96689453  54.96689453  54.96689453\n",
      "  54.96689453 109.93378906 164.90068359 219.86757813  54.96689453\n",
      " 109.93378906  54.96689453  54.96689453 109.93378906 219.86757813\n",
      "  54.96689453  54.96689453  54.96689453 109.93378906  54.96689453\n",
      " 109.93378906 164.90068359 219.86757813 219.86757813  54.96689453\n",
      "  54.96689453 109.93378906  54.96689453 109.93378906  54.96689453\n",
      " 109.93378906  54.96689453 109.93378906  54.96689453 109.93378906\n",
      "  54.96689453 109.93378906  54.96689453 109.93378906  54.96689453\n",
      " 109.93378906  54.96689453 109.93378906  54.96689453 109.93378906\n",
      "  54.96689453 109.93378906  54.96689453 109.93378906  54.96689453\n",
      " 109.93378906  54.96689453 109.93378906 164.90068359 219.86757813\n",
      "  54.96689453 109.93378906 164.90068359  54.96689453 109.93378906\n",
      "  54.96689453 109.93378906 164.90068359 219.86757813 219.86757813\n",
      " 109.93378906 164.90068359 219.86757813  54.96689453 109.93378906\n",
      "  54.96689453 109.93378906  54.96689453 109.93378906 164.90068359\n",
      "  54.96689453  54.96689453 109.93378906 164.90068359  54.96689453\n",
      " 109.93378906  54.96689453 109.93378906  54.96689453 109.93378906\n",
      "  54.96689453 109.93378906  54.96689453 109.93378906  54.96689453\n",
      " 109.93378906  54.96689453 109.93378906  54.96689453  54.96689453\n",
      " 109.93378906 164.90068359  54.96689453 109.93378906  54.96689453\n",
      " 109.93378906 164.90068359  54.96689453  54.96689453 109.93378906\n",
      " 164.90068359  54.96689453 109.93378906 164.90068359  54.96689453\n",
      " 109.93378906 164.90068359 219.86757813 219.86757813 219.86757813\n",
      " 109.93378906  54.96689453  54.96689453 109.93378906 164.90068359\n",
      "  54.96689453 109.93378906 164.90068359  54.96689453 109.93378906\n",
      " 164.90068359  54.96689453  54.96689453 109.93378906 164.90068359\n",
      "  54.96689453 109.93378906 164.90068359 219.86757813  54.96689453\n",
      " 109.93378906 164.90068359  54.96689453  54.96689453 109.93378906\n",
      " 164.90068359 219.86757813  54.96689453 109.93378906 164.90068359\n",
      "  54.96689453 109.93378906 164.90068359 219.86757813  54.96689453\n",
      " 109.93378906 164.90068359  54.96689453 109.93378906 164.90068359\n",
      "  54.96689453 109.93378906 164.90068359 219.86757813 219.86757813\n",
      " 109.93378906 164.90068359 219.86757813 219.86757813 109.93378906\n",
      "  54.96689453  54.96689453 109.93378906 164.90068359 219.86757813\n",
      " 219.86757813 219.86757813 109.93378906  54.96689453  54.96689453\n",
      " 109.93378906 164.90068359 219.86757813  54.96689453 109.93378906\n",
      " 164.90068359  54.96689453 109.93378906 164.90068359 219.86757813\n",
      "  54.96689453 109.93378906 164.90068359 109.93378906  54.96689453\n",
      "  54.96689453 109.93378906 164.90068359 219.86757813 219.86757813\n",
      " 109.93378906  54.96689453  54.96689453 109.93378906 164.90068359\n",
      "  54.96689453 109.93378906 164.90068359  54.96689453 109.93378906\n",
      " 164.90068359 219.86757813 219.86757813  54.96689453  54.96689453\n",
      " 109.93378906 164.90068359 219.86757813 219.86757813 109.93378906\n",
      " 164.90068359  54.96689453  54.96689453 109.93378906 164.90068359\n",
      "  54.96689453  54.96689453 109.93378906 164.90068359 109.93378906\n",
      "  54.96689453  54.96689453 109.93378906 164.90068359 219.86757813\n",
      "  54.96689453  54.96689453 109.93378906 164.90068359 219.86757813\n",
      "  54.96689453  54.96689453 109.93378906 164.90068359 219.86757813\n",
      " 219.86757813 109.93378906 219.86757813 109.93378906  54.96689453\n",
      "  54.96689453 109.93378906 164.90068359 219.86757813 109.93378906\n",
      " 164.90068359 219.86757813 219.86757813 109.93378906  54.96689453\n",
      "  54.96689453 109.93378906 164.90068359 219.86757813 219.86757813\n",
      " 109.93378906 219.86757813 109.93378906  54.96689453  54.96689453\n",
      " 109.93378906 164.90068359 219.86757813 219.86757813 109.93378906\n",
      " 164.90068359 219.86757813 109.93378906  54.96689453  54.96689453\n",
      " 109.93378906 164.90068359 219.86757813 219.86757813 109.93378906\n",
      " 164.90068359 219.86757813 219.86757813 109.93378906  54.96689453\n",
      "  54.96689453 109.93378906 164.90068359 219.86757813 219.86757813\n",
      " 109.93378906 164.90068359 219.86757813 219.86757813 109.93378906\n",
      "  54.96689453  54.96689453 109.93378906 164.90068359 219.86757813\n",
      " 219.86757813  54.96689453  54.96689453 109.93378906 164.90068359\n",
      " 219.86757813 109.93378906  54.96689453  54.96689453 109.93378906\n",
      " 164.90068359 219.86757813  54.96689453  54.96689453 109.93378906\n",
      " 164.90068359 219.86757813 219.86757813 109.93378906 219.86757813\n",
      " 109.93378906  54.96689453  54.96689453 109.93378906 164.90068359\n",
      " 219.86757813  54.96689453  54.96689453 109.93378906 164.90068359\n",
      " 219.86757813  54.96689453  54.96689453 109.93378906 164.90068359\n",
      " 219.86757813  54.96689453  54.96689453 109.93378906 164.90068359\n",
      " 219.86757813  54.96689453  54.96689453 109.93378906 164.90068359\n",
      " 219.86757813  54.96689453  54.96689453 109.93378906 164.90068359\n",
      " 219.86757813  54.96689453  54.96689453 109.93378906 164.90068359\n",
      " 219.86757813  54.96689453  54.96689453 109.93378906 164.90068359\n",
      " 219.86757813  54.96689453  54.96689453 109.93378906 164.90068359\n",
      " 219.86757813 219.86757813 109.93378906 219.86757813 219.86757813\n",
      " 109.93378906  54.96689453  54.96689453 109.93378906 164.90068359\n",
      " 219.86757813 219.86757813 109.93378906 164.90068359  54.96689453\n",
      "  54.96689453 109.93378906 164.90068359 219.86757813 219.86757813\n",
      " 109.93378906 164.90068359 219.86757813 219.86757813 109.93378906\n",
      "  54.96689453  54.96689453 109.93378906 164.90068359 219.86757813\n",
      " 219.86757813 109.93378906 164.90068359 219.86757813 219.86757813\n",
      " 109.93378906  54.96689453  54.96689453 109.93378906 164.90068359\n",
      " 219.86757813 219.86757813 109.93378906 219.86757813 109.93378906\n",
      "  54.96689453  54.96689453 109.93378906 164.90068359 219.86757813\n",
      " 219.86757813 109.93378906 164.90068359  54.96689453  54.96689453\n",
      " 109.93378906 164.90068359 219.86757813 109.93378906  54.96689453\n",
      "  54.96689453 109.93378906 164.90068359 219.86757813 219.86757813\n",
      " 109.93378906 109.93378906  54.96689453  54.96689453 109.93378906\n",
      " 164.90068359 219.86757813  54.96689453  54.96689453 109.93378906\n",
      " 164.90068359 219.86757813 219.86757813 109.93378906 164.90068359\n",
      " 219.86757813 219.86757813 109.93378906  54.96689453  54.96689453\n",
      " 109.93378906 164.90068359 219.86757813 219.86757813  54.96689453\n",
      "  54.96689453 109.93378906 164.90068359 219.86757813  54.96689453\n",
      "  54.96689453 109.93378906 164.90068359 219.86757813 219.86757813\n",
      " 109.93378906 164.90068359 219.86757813 109.93378906  54.96689453]' has dtype incompatible with int64, please explicitly cast to a compatible dtype first.\n",
      "  lighting_demand[mask] = lighting_load * area * occupancy_schedule[\"OCCUPANCY\"][mask]\n",
      "c:\\Users\\felix\\Programmieren\\districtgenerator\\.venv\\Lib\\site-packages\\teaser\\logic\\buildingobjects\\useconditions.py:363: FutureWarning: 'H' is deprecated and will be removed in a future version, please use 'h' instead.\n",
      "  index=pd.date_range(\"2019-01-01 00:00:00\", periods=8760, freq=\"H\")\n"
     ]
    },
    {
     "name": "stdout",
     "output_type": "stream",
     "text": [
      "Creating building AB\n",
      "Creating building IWU Transport\n",
      "Available building types: ['IWU Office, Administrative or Government Buildings', 'IWU Research and University Teaching', 'IWU Health and Care', 'IWU School, Day Nursery and other Care', 'IWU Culture and Leisure', 'IWU Sports Facilities', 'IWU Hotels, Boarding, Restaurants or Catering', 'IWU Production, Workshop, Warehouse or Operations', 'IWU Trade Buildings', 'IWU Technical and Utility (supply and disposal)', 'IWU Transport', 'IWU Generalized (1) Services building', 'IWU Generalized (2) Production buildings']\n",
      "Current usage: IWU Transport\n"
     ]
    },
    {
     "name": "stderr",
     "output_type": "stream",
     "text": [
      "c:\\Users\\felix\\Programmieren\\districtgenerator\\functions\\light_demand.py:99: FutureWarning: Setting an item of incompatible dtype is deprecated and will raise an error in a future version of pandas. Value '[ 46.11962891  92.23925781 138.35888672 184.47851562 184.47851562\n",
      "  92.23925781 138.35888672 184.47851562 184.47851562  92.23925781\n",
      "  46.11962891  46.11962891  92.23925781 138.35888672 184.47851562\n",
      " 184.47851562 184.47851562 184.47851562  92.23925781  46.11962891\n",
      "  46.11962891  92.23925781 138.35888672 184.47851562  46.11962891\n",
      "  92.23925781 138.35888672 184.47851562 184.47851562 184.47851562\n",
      "  92.23925781  46.11962891  46.11962891  92.23925781 138.35888672\n",
      " 184.47851562  46.11962891  46.11962891  92.23925781 138.35888672\n",
      " 184.47851562  46.11962891  92.23925781 138.35888672 184.47851562\n",
      " 184.47851562  46.11962891  46.11962891  92.23925781 138.35888672\n",
      " 184.47851562  46.11962891  92.23925781 138.35888672 184.47851562\n",
      "  46.11962891  46.11962891  92.23925781 138.35888672 184.47851562\n",
      " 184.47851562  92.23925781 138.35888672  92.23925781  46.11962891\n",
      "  46.11962891  92.23925781 138.35888672 184.47851562 184.47851562\n",
      "  46.11962891  46.11962891  92.23925781 138.35888672 184.47851562\n",
      " 184.47851562 138.35888672 184.47851562 184.47851562  92.23925781\n",
      "  46.11962891  46.11962891  92.23925781 138.35888672 184.47851562\n",
      " 184.47851562  92.23925781  46.11962891  46.11962891  92.23925781\n",
      " 138.35888672 184.47851562 184.47851562  92.23925781 138.35888672\n",
      " 184.47851562 184.47851562  92.23925781  46.11962891  46.11962891\n",
      "  92.23925781 138.35888672 184.47851562  46.11962891  92.23925781\n",
      " 138.35888672 184.47851562  92.23925781  46.11962891  46.11962891\n",
      "  92.23925781 138.35888672 184.47851562 184.47851562  46.11962891\n",
      "  92.23925781 138.35888672 184.47851562  46.11962891  92.23925781\n",
      " 138.35888672 184.47851562  46.11962891  92.23925781 138.35888672\n",
      " 184.47851562  46.11962891  92.23925781 138.35888672 184.47851562\n",
      "  46.11962891  92.23925781 138.35888672 184.47851562  46.11962891\n",
      "  92.23925781 138.35888672 184.47851562 184.47851562  92.23925781\n",
      " 138.35888672  92.23925781  46.11962891  46.11962891  92.23925781\n",
      " 138.35888672 184.47851562 184.47851562  46.11962891  92.23925781\n",
      " 138.35888672 184.47851562  92.23925781  46.11962891  46.11962891\n",
      "  92.23925781 138.35888672 184.47851562 184.47851562  92.23925781\n",
      "  46.11962891  46.11962891  92.23925781 138.35888672 184.47851562\n",
      " 184.47851562  92.23925781 138.35888672 184.47851562 184.47851562\n",
      "  92.23925781  46.11962891  46.11962891  92.23925781 138.35888672\n",
      "  46.11962891  92.23925781 138.35888672 184.47851562 184.47851562\n",
      "  92.23925781 138.35888672 184.47851562 184.47851562  46.11962891\n",
      "  46.11962891  92.23925781 138.35888672  46.11962891  92.23925781\n",
      " 138.35888672 184.47851562  46.11962891  92.23925781 138.35888672\n",
      " 184.47851562  46.11962891  46.11962891  92.23925781 138.35888672\n",
      "  46.11962891  92.23925781 138.35888672 184.47851562 184.47851562\n",
      " 184.47851562  92.23925781  46.11962891  46.11962891  92.23925781\n",
      " 138.35888672 184.47851562 184.47851562  46.11962891  92.23925781\n",
      " 138.35888672  46.11962891  92.23925781 138.35888672 184.47851562\n",
      " 184.47851562  46.11962891  46.11962891  92.23925781 138.35888672\n",
      "  46.11962891  92.23925781 138.35888672 184.47851562 184.47851562\n",
      "  92.23925781 138.35888672 184.47851562 184.47851562  92.23925781\n",
      "  46.11962891  46.11962891  92.23925781 138.35888672  46.11962891\n",
      "  46.11962891  92.23925781 138.35888672  46.11962891  46.11962891\n",
      "  92.23925781 138.35888672  46.11962891  92.23925781 138.35888672\n",
      "  46.11962891  92.23925781 138.35888672  46.11962891  92.23925781\n",
      " 138.35888672  46.11962891  92.23925781 138.35888672  46.11962891\n",
      "  92.23925781 138.35888672 184.47851562  92.23925781  46.11962891\n",
      "  46.11962891  92.23925781 138.35888672  46.11962891  92.23925781\n",
      " 138.35888672  92.23925781  46.11962891  46.11962891  92.23925781\n",
      " 138.35888672  46.11962891  92.23925781 138.35888672 184.47851562\n",
      "  92.23925781  46.11962891  46.11962891  92.23925781 138.35888672\n",
      "  46.11962891  92.23925781 138.35888672  46.11962891  92.23925781\n",
      " 138.35888672  46.11962891  92.23925781  46.11962891  92.23925781\n",
      "  46.11962891  92.23925781  46.11962891  92.23925781  46.11962891\n",
      "  92.23925781  46.11962891  92.23925781  46.11962891  92.23925781\n",
      "  46.11962891  92.23925781  46.11962891  92.23925781  46.11962891\n",
      "  92.23925781  46.11962891  92.23925781  46.11962891  92.23925781\n",
      "  46.11962891  92.23925781  46.11962891  92.23925781  46.11962891\n",
      "  92.23925781  46.11962891  92.23925781  46.11962891  92.23925781\n",
      "  46.11962891  92.23925781  46.11962891  92.23925781  46.11962891\n",
      "  92.23925781  46.11962891  92.23925781  46.11962891  92.23925781\n",
      "  46.11962891  92.23925781  46.11962891  92.23925781  46.11962891\n",
      "  92.23925781  46.11962891  92.23925781  46.11962891  46.11962891\n",
      "  46.11962891  46.11962891  46.11962891  46.11962891  46.11962891\n",
      "  46.11962891  92.23925781  46.11962891  46.11962891  46.11962891\n",
      "  92.23925781  46.11962891  46.11962891  46.11962891  46.11962891\n",
      "  46.11962891  92.23925781  46.11962891  46.11962891  46.11962891\n",
      "  46.11962891  46.11962891  46.11962891  46.11962891  46.11962891\n",
      "  46.11962891  46.11962891  46.11962891  46.11962891  92.23925781\n",
      "  46.11962891  46.11962891  46.11962891  46.11962891  92.23925781\n",
      "  46.11962891  46.11962891  92.23925781 138.35888672  46.11962891\n",
      "  92.23925781  46.11962891  46.11962891  92.23925781 138.35888672\n",
      "  46.11962891  92.23925781 138.35888672  46.11962891  46.11962891\n",
      "  46.11962891  46.11962891  46.11962891  46.11962891  92.23925781\n",
      " 138.35888672  46.11962891  46.11962891  46.11962891  46.11962891\n",
      "  46.11962891  46.11962891  46.11962891  46.11962891  46.11962891\n",
      "  46.11962891  46.11962891  46.11962891  46.11962891  46.11962891\n",
      "  46.11962891  46.11962891  92.23925781  46.11962891  46.11962891\n",
      " 138.35888672  46.11962891  46.11962891  46.11962891  46.11962891\n",
      "  92.23925781  46.11962891  92.23925781  46.11962891  46.11962891\n",
      "  46.11962891  46.11962891  46.11962891  46.11962891  92.23925781\n",
      " 138.35888672 184.47851562  46.11962891  92.23925781  46.11962891\n",
      "  46.11962891  92.23925781  46.11962891  46.11962891  46.11962891\n",
      "  92.23925781  46.11962891  92.23925781 184.47851562  46.11962891\n",
      "  92.23925781  46.11962891  92.23925781  46.11962891  92.23925781\n",
      "  46.11962891  92.23925781  46.11962891  92.23925781  46.11962891\n",
      "  92.23925781  46.11962891  92.23925781  46.11962891  92.23925781\n",
      "  46.11962891  92.23925781  46.11962891  92.23925781  46.11962891\n",
      "  92.23925781  46.11962891  92.23925781  46.11962891  92.23925781\n",
      "  46.11962891  92.23925781 138.35888672  46.11962891  92.23925781\n",
      "  46.11962891  92.23925781  46.11962891  92.23925781 138.35888672\n",
      " 184.47851562 184.47851562  92.23925781 138.35888672  46.11962891\n",
      "  92.23925781  46.11962891  92.23925781  46.11962891  92.23925781\n",
      " 138.35888672  46.11962891  46.11962891  92.23925781 138.35888672\n",
      "  46.11962891  92.23925781  46.11962891  92.23925781  46.11962891\n",
      "  92.23925781  46.11962891  92.23925781  46.11962891  92.23925781\n",
      "  46.11962891  92.23925781  46.11962891  92.23925781  46.11962891\n",
      "  46.11962891  92.23925781 138.35888672  46.11962891  92.23925781\n",
      "  46.11962891  92.23925781 138.35888672  46.11962891  92.23925781\n",
      " 138.35888672  46.11962891  92.23925781 138.35888672  46.11962891\n",
      "  92.23925781 138.35888672 184.47851562 184.47851562  92.23925781\n",
      "  46.11962891  46.11962891  92.23925781 138.35888672  46.11962891\n",
      "  92.23925781 138.35888672  46.11962891  92.23925781 138.35888672\n",
      "  46.11962891  46.11962891  92.23925781 138.35888672  46.11962891\n",
      "  92.23925781 138.35888672 184.47851562  46.11962891  92.23925781\n",
      " 138.35888672  46.11962891  92.23925781 138.35888672 184.47851562\n",
      "  46.11962891  92.23925781 138.35888672  46.11962891  92.23925781\n",
      " 138.35888672 184.47851562  46.11962891  92.23925781 138.35888672\n",
      "  46.11962891  92.23925781 138.35888672  46.11962891  92.23925781\n",
      " 138.35888672 184.47851562 184.47851562  92.23925781 138.35888672\n",
      " 184.47851562 184.47851562  92.23925781  46.11962891  46.11962891\n",
      "  92.23925781 138.35888672 184.47851562 184.47851562  92.23925781\n",
      "  46.11962891  46.11962891  92.23925781 138.35888672  46.11962891\n",
      "  92.23925781 138.35888672  46.11962891  92.23925781 138.35888672\n",
      "  46.11962891  92.23925781 138.35888672  46.11962891  46.11962891\n",
      "  92.23925781 138.35888672 184.47851562  46.11962891  46.11962891\n",
      "  92.23925781 138.35888672  46.11962891  92.23925781 138.35888672\n",
      "  46.11962891  92.23925781 138.35888672 184.47851562 184.47851562\n",
      "  46.11962891  46.11962891  92.23925781 138.35888672 184.47851562\n",
      " 184.47851562  92.23925781  46.11962891  46.11962891  92.23925781\n",
      " 138.35888672  46.11962891  46.11962891  92.23925781 138.35888672\n",
      "  92.23925781  46.11962891  46.11962891  92.23925781 138.35888672\n",
      " 184.47851562  46.11962891  46.11962891  92.23925781 138.35888672\n",
      " 184.47851562  46.11962891  46.11962891  92.23925781 138.35888672\n",
      " 184.47851562 184.47851562  46.11962891  46.11962891  92.23925781\n",
      " 138.35888672 184.47851562  92.23925781  46.11962891  46.11962891\n",
      "  92.23925781 138.35888672 184.47851562 184.47851562  92.23925781\n",
      "  92.23925781  46.11962891  46.11962891  92.23925781 138.35888672\n",
      " 184.47851562 184.47851562  92.23925781 184.47851562  92.23925781\n",
      "  46.11962891  46.11962891  92.23925781 138.35888672 184.47851562\n",
      " 184.47851562 184.47851562  92.23925781  46.11962891  46.11962891\n",
      "  92.23925781 138.35888672 184.47851562 184.47851562  92.23925781\n",
      " 138.35888672 184.47851562 184.47851562  92.23925781  46.11962891\n",
      "  46.11962891  92.23925781 138.35888672 184.47851562 184.47851562\n",
      "  46.11962891  46.11962891  92.23925781 138.35888672 184.47851562\n",
      "  92.23925781  46.11962891  46.11962891  92.23925781 138.35888672\n",
      " 184.47851562  46.11962891  46.11962891  92.23925781 138.35888672\n",
      " 184.47851562 184.47851562  92.23925781  46.11962891  46.11962891\n",
      "  92.23925781 138.35888672 184.47851562  46.11962891  46.11962891\n",
      "  92.23925781 138.35888672 184.47851562  46.11962891  46.11962891\n",
      "  92.23925781 138.35888672 184.47851562  46.11962891  46.11962891\n",
      "  92.23925781 138.35888672 184.47851562  46.11962891  46.11962891\n",
      "  92.23925781 138.35888672 184.47851562  46.11962891  46.11962891\n",
      "  92.23925781 138.35888672 184.47851562  46.11962891  46.11962891\n",
      "  92.23925781 138.35888672 184.47851562  46.11962891  46.11962891\n",
      "  92.23925781 138.35888672 184.47851562  46.11962891  46.11962891\n",
      "  92.23925781 138.35888672 184.47851562 184.47851562 184.47851562\n",
      " 184.47851562  92.23925781  46.11962891  46.11962891  92.23925781\n",
      " 138.35888672 184.47851562 184.47851562  92.23925781  46.11962891\n",
      "  46.11962891  92.23925781 138.35888672 184.47851562 184.47851562\n",
      "  92.23925781 138.35888672 184.47851562 184.47851562  92.23925781\n",
      "  46.11962891  46.11962891  92.23925781 138.35888672 184.47851562\n",
      " 184.47851562  92.23925781 138.35888672 184.47851562 184.47851562\n",
      "  92.23925781  46.11962891  46.11962891  92.23925781 138.35888672\n",
      " 184.47851562 184.47851562  92.23925781  92.23925781  46.11962891\n",
      "  46.11962891  92.23925781 138.35888672 184.47851562 184.47851562\n",
      "  92.23925781 138.35888672  46.11962891  46.11962891  92.23925781\n",
      " 138.35888672 184.47851562  92.23925781  46.11962891  46.11962891\n",
      "  92.23925781 138.35888672 184.47851562 184.47851562  46.11962891\n",
      "  46.11962891  92.23925781 138.35888672 184.47851562  46.11962891\n",
      "  46.11962891  92.23925781 138.35888672 184.47851562 184.47851562\n",
      "  92.23925781 138.35888672 184.47851562 184.47851562  92.23925781\n",
      "  46.11962891  46.11962891  92.23925781 138.35888672 184.47851562\n",
      " 184.47851562  46.11962891  46.11962891  92.23925781 138.35888672\n",
      " 184.47851562  46.11962891  46.11962891  92.23925781 138.35888672\n",
      " 184.47851562 184.47851562  92.23925781 138.35888672 184.47851562\n",
      "  92.23925781  46.11962891]' has dtype incompatible with int64, please explicitly cast to a compatible dtype first.\n",
      "  lighting_demand[mask] = lighting_load * area * occupancy_schedule[\"OCCUPANCY\"][mask]\n",
      "c:\\Users\\felix\\Programmieren\\districtgenerator\\.venv\\Lib\\site-packages\\teaser\\logic\\buildingobjects\\useconditions.py:363: FutureWarning: 'H' is deprecated and will be removed in a future version, please use 'h' instead.\n",
      "  index=pd.date_range(\"2019-01-01 00:00:00\", periods=8760, freq=\"H\")\n",
      "c:\\Users\\felix\\Programmieren\\districtgenerator\\.venv\\Lib\\site-packages\\teaser\\logic\\buildingobjects\\useconditions.py:363: FutureWarning: 'H' is deprecated and will be removed in a future version, please use 'h' instead.\n",
      "  index=pd.date_range(\"2019-01-01 00:00:00\", periods=8760, freq=\"H\")\n"
     ]
    },
    {
     "name": "stdout",
     "output_type": "stream",
     "text": [
      "Creating building AB\n",
      "Creating building AB\n",
      "Creating building AB\n",
      "Creating building IWU Transport\n",
      "Available building types: ['IWU Office, Administrative or Government Buildings', 'IWU Research and University Teaching', 'IWU Health and Care', 'IWU School, Day Nursery and other Care', 'IWU Culture and Leisure', 'IWU Sports Facilities', 'IWU Hotels, Boarding, Restaurants or Catering', 'IWU Production, Workshop, Warehouse or Operations', 'IWU Trade Buildings', 'IWU Technical and Utility (supply and disposal)', 'IWU Transport', 'IWU Generalized (1) Services building', 'IWU Generalized (2) Production buildings']\n",
      "Current usage: IWU Transport\n",
      "Creating building AB\n",
      "Creating building AB\n"
     ]
    },
    {
     "name": "stderr",
     "output_type": "stream",
     "text": [
      "c:\\Users\\felix\\Programmieren\\districtgenerator\\.venv\\Lib\\site-packages\\teaser\\logic\\buildingobjects\\useconditions.py:363: FutureWarning: 'H' is deprecated and will be removed in a future version, please use 'h' instead.\n",
      "  index=pd.date_range(\"2019-01-01 00:00:00\", periods=8760, freq=\"H\")\n",
      "c:\\Users\\felix\\Programmieren\\districtgenerator\\functions\\light_demand.py:99: FutureWarning: Setting an item of incompatible dtype is deprecated and will raise an error in a future version of pandas. Value '[ 34.28697754  68.57395508 102.86093262 137.14791016 137.14791016\n",
      "  68.57395508 102.86093262 137.14791016 137.14791016  68.57395508\n",
      "  34.28697754  34.28697754  68.57395508 102.86093262 137.14791016\n",
      " 137.14791016  68.57395508  34.28697754  34.28697754  68.57395508\n",
      " 102.86093262 137.14791016  34.28697754  68.57395508 102.86093262\n",
      " 137.14791016 137.14791016  68.57395508  34.28697754  34.28697754\n",
      "  68.57395508 102.86093262 137.14791016  34.28697754  68.57395508\n",
      " 102.86093262 137.14791016  34.28697754  68.57395508 102.86093262\n",
      " 137.14791016  34.28697754  68.57395508 102.86093262 137.14791016\n",
      "  34.28697754  68.57395508 102.86093262 137.14791016  34.28697754\n",
      "  34.28697754  68.57395508 102.86093262 137.14791016 137.14791016\n",
      "  68.57395508  34.28697754  34.28697754  68.57395508 102.86093262\n",
      " 137.14791016  34.28697754  34.28697754  68.57395508 102.86093262\n",
      " 137.14791016 102.86093262 137.14791016 137.14791016  68.57395508\n",
      "  34.28697754  34.28697754  68.57395508 102.86093262 137.14791016\n",
      " 137.14791016  68.57395508  34.28697754  68.57395508 102.86093262\n",
      " 137.14791016 137.14791016 137.14791016  68.57395508  34.28697754\n",
      "  34.28697754  68.57395508 102.86093262 137.14791016  34.28697754\n",
      "  68.57395508 102.86093262 137.14791016  34.28697754  34.28697754\n",
      "  68.57395508 102.86093262 137.14791016 137.14791016  34.28697754\n",
      "  68.57395508 102.86093262 137.14791016  34.28697754  68.57395508\n",
      " 102.86093262 137.14791016  34.28697754  68.57395508 102.86093262\n",
      " 137.14791016  34.28697754  68.57395508 102.86093262 137.14791016\n",
      "  34.28697754  68.57395508 102.86093262 137.14791016  34.28697754\n",
      "  68.57395508 102.86093262 137.14791016 137.14791016  68.57395508\n",
      "  68.57395508  34.28697754  34.28697754  68.57395508 102.86093262\n",
      " 137.14791016  34.28697754  68.57395508 102.86093262 137.14791016\n",
      "  34.28697754  34.28697754  68.57395508 102.86093262 137.14791016\n",
      " 137.14791016  34.28697754  34.28697754  68.57395508 102.86093262\n",
      " 137.14791016 137.14791016  68.57395508 102.86093262 137.14791016\n",
      " 137.14791016  68.57395508  34.28697754  34.28697754  68.57395508\n",
      " 102.86093262  34.28697754  68.57395508 102.86093262 137.14791016\n",
      " 137.14791016  68.57395508 102.86093262 137.14791016  34.28697754\n",
      "  34.28697754  68.57395508 102.86093262  34.28697754  68.57395508\n",
      " 102.86093262 137.14791016  34.28697754  68.57395508 102.86093262\n",
      "  34.28697754  34.28697754  68.57395508 102.86093262  34.28697754\n",
      "  68.57395508 102.86093262 137.14791016 137.14791016  68.57395508\n",
      "  34.28697754  34.28697754  68.57395508 102.86093262 137.14791016\n",
      "  34.28697754  68.57395508 102.86093262  34.28697754  68.57395508\n",
      " 102.86093262 137.14791016  34.28697754  34.28697754  68.57395508\n",
      " 102.86093262  34.28697754  68.57395508 102.86093262 137.14791016\n",
      " 137.14791016  68.57395508 137.14791016  68.57395508  34.28697754\n",
      "  34.28697754  68.57395508 102.86093262  34.28697754  68.57395508\n",
      " 102.86093262  34.28697754  68.57395508 102.86093262  34.28697754\n",
      "  68.57395508 102.86093262  34.28697754  68.57395508 102.86093262\n",
      "  34.28697754  68.57395508 102.86093262  34.28697754  68.57395508\n",
      " 102.86093262  34.28697754  68.57395508 102.86093262 137.14791016\n",
      "  68.57395508  34.28697754  34.28697754  68.57395508 102.86093262\n",
      "  34.28697754  68.57395508 102.86093262  68.57395508  34.28697754\n",
      "  34.28697754  68.57395508 102.86093262  34.28697754  68.57395508\n",
      " 102.86093262  34.28697754  34.28697754  68.57395508 102.86093262\n",
      "  34.28697754  68.57395508 102.86093262  34.28697754  68.57395508\n",
      " 102.86093262  34.28697754  68.57395508  34.28697754  68.57395508\n",
      "  34.28697754  68.57395508  34.28697754  68.57395508  34.28697754\n",
      "  68.57395508  34.28697754  68.57395508  34.28697754  68.57395508\n",
      "  34.28697754  68.57395508  34.28697754  68.57395508  34.28697754\n",
      "  68.57395508  34.28697754  68.57395508  34.28697754  68.57395508\n",
      "  34.28697754  68.57395508  34.28697754  68.57395508  34.28697754\n",
      "  68.57395508  34.28697754  68.57395508  34.28697754  68.57395508\n",
      "  34.28697754  68.57395508  34.28697754  68.57395508  34.28697754\n",
      "  68.57395508  34.28697754  68.57395508  34.28697754  68.57395508\n",
      "  34.28697754  68.57395508  34.28697754  68.57395508  34.28697754\n",
      "  68.57395508  34.28697754  68.57395508  34.28697754  34.28697754\n",
      "  34.28697754  34.28697754  34.28697754  34.28697754  34.28697754\n",
      "  34.28697754  68.57395508  34.28697754  34.28697754  34.28697754\n",
      "  68.57395508  34.28697754  34.28697754  34.28697754  34.28697754\n",
      "  34.28697754  68.57395508  34.28697754  34.28697754  34.28697754\n",
      "  34.28697754  34.28697754  34.28697754  34.28697754  34.28697754\n",
      "  34.28697754  34.28697754  34.28697754  34.28697754  68.57395508\n",
      "  34.28697754  34.28697754  34.28697754  68.57395508  34.28697754\n",
      "  34.28697754 102.86093262  34.28697754  34.28697754 102.86093262\n",
      "  34.28697754  68.57395508 102.86093262  34.28697754  34.28697754\n",
      "  34.28697754  34.28697754  34.28697754  68.57395508 102.86093262\n",
      "  34.28697754  34.28697754  34.28697754  34.28697754  34.28697754\n",
      "  34.28697754  34.28697754  34.28697754  34.28697754  34.28697754\n",
      "  34.28697754  34.28697754  34.28697754  34.28697754  34.28697754\n",
      "  68.57395508  34.28697754  34.28697754  34.28697754  34.28697754\n",
      "  34.28697754  34.28697754  68.57395508  34.28697754  68.57395508\n",
      "  34.28697754  34.28697754  34.28697754  34.28697754  34.28697754\n",
      "  34.28697754  68.57395508 102.86093262  34.28697754  34.28697754\n",
      "  34.28697754  68.57395508  34.28697754  34.28697754  34.28697754\n",
      "  68.57395508  34.28697754  68.57395508 137.14791016  34.28697754\n",
      "  68.57395508  34.28697754  68.57395508  34.28697754  68.57395508\n",
      "  34.28697754  68.57395508  34.28697754  68.57395508  34.28697754\n",
      "  68.57395508  34.28697754  68.57395508  34.28697754  68.57395508\n",
      "  34.28697754  68.57395508  34.28697754  68.57395508  34.28697754\n",
      "  68.57395508  34.28697754  68.57395508  34.28697754  68.57395508\n",
      "  34.28697754  68.57395508 102.86093262  34.28697754  68.57395508\n",
      "  34.28697754  68.57395508  34.28697754  68.57395508 102.86093262\n",
      " 137.14791016 137.14791016  68.57395508 102.86093262  34.28697754\n",
      "  68.57395508  34.28697754  68.57395508  34.28697754  68.57395508\n",
      "  34.28697754  68.57395508 102.86093262  34.28697754  68.57395508\n",
      "  34.28697754  68.57395508  34.28697754  68.57395508  34.28697754\n",
      "  68.57395508  34.28697754  68.57395508  34.28697754  68.57395508\n",
      "  34.28697754  68.57395508  34.28697754  68.57395508 102.86093262\n",
      "  34.28697754  68.57395508  34.28697754  68.57395508 102.86093262\n",
      "  34.28697754  68.57395508 102.86093262  34.28697754  68.57395508\n",
      " 102.86093262  34.28697754  68.57395508 102.86093262  68.57395508\n",
      "  34.28697754  34.28697754  68.57395508 102.86093262  34.28697754\n",
      "  68.57395508 102.86093262  34.28697754  68.57395508 102.86093262\n",
      "  34.28697754  34.28697754  68.57395508 102.86093262  34.28697754\n",
      "  68.57395508 102.86093262  34.28697754  68.57395508 102.86093262\n",
      "  34.28697754  68.57395508 102.86093262  34.28697754  68.57395508\n",
      " 102.86093262  34.28697754  68.57395508 102.86093262  34.28697754\n",
      "  68.57395508 102.86093262  34.28697754  68.57395508 102.86093262\n",
      "  34.28697754  68.57395508 102.86093262 137.14791016 137.14791016\n",
      " 102.86093262 137.14791016  68.57395508  34.28697754  34.28697754\n",
      "  68.57395508 102.86093262 137.14791016  34.28697754  34.28697754\n",
      "  68.57395508 102.86093262  34.28697754  68.57395508 102.86093262\n",
      "  34.28697754  68.57395508 102.86093262  34.28697754  68.57395508\n",
      " 102.86093262  34.28697754  34.28697754  68.57395508 102.86093262\n",
      " 137.14791016  34.28697754  34.28697754  68.57395508 102.86093262\n",
      "  34.28697754  68.57395508 102.86093262  34.28697754  68.57395508\n",
      " 102.86093262 137.14791016  34.28697754  34.28697754  68.57395508\n",
      " 102.86093262 137.14791016  34.28697754  34.28697754  68.57395508\n",
      " 102.86093262  34.28697754  34.28697754  68.57395508 102.86093262\n",
      "  68.57395508  34.28697754  34.28697754  68.57395508 102.86093262\n",
      "  34.28697754  34.28697754  68.57395508 102.86093262 137.14791016\n",
      "  34.28697754  34.28697754  68.57395508 102.86093262 137.14791016\n",
      " 137.14791016  34.28697754  34.28697754  68.57395508 102.86093262\n",
      " 137.14791016  68.57395508  34.28697754  34.28697754  68.57395508\n",
      " 102.86093262 137.14791016 137.14791016  68.57395508  34.28697754\n",
      "  34.28697754  68.57395508 102.86093262 137.14791016 137.14791016\n",
      " 137.14791016  68.57395508  34.28697754  34.28697754  68.57395508\n",
      " 102.86093262 137.14791016 137.14791016 137.14791016  68.57395508\n",
      "  34.28697754  34.28697754  68.57395508 102.86093262 137.14791016\n",
      " 137.14791016  68.57395508 137.14791016  68.57395508  34.28697754\n",
      "  34.28697754  68.57395508 102.86093262 137.14791016  34.28697754\n",
      "  34.28697754  68.57395508 102.86093262 137.14791016  68.57395508\n",
      "  34.28697754  34.28697754  68.57395508 102.86093262 137.14791016\n",
      "  34.28697754  34.28697754  68.57395508 102.86093262 137.14791016\n",
      " 137.14791016  34.28697754  34.28697754  68.57395508 102.86093262\n",
      " 137.14791016  34.28697754  34.28697754  68.57395508 102.86093262\n",
      " 137.14791016  34.28697754  34.28697754  68.57395508 102.86093262\n",
      " 137.14791016  34.28697754  34.28697754  68.57395508 102.86093262\n",
      " 137.14791016  34.28697754  34.28697754  68.57395508 102.86093262\n",
      " 137.14791016  34.28697754  34.28697754  68.57395508 102.86093262\n",
      " 137.14791016  34.28697754  34.28697754  68.57395508 102.86093262\n",
      " 137.14791016  34.28697754  34.28697754  68.57395508 102.86093262\n",
      " 137.14791016  34.28697754  34.28697754  68.57395508 102.86093262\n",
      " 137.14791016 137.14791016 137.14791016  68.57395508  34.28697754\n",
      "  34.28697754  68.57395508 102.86093262 137.14791016 137.14791016\n",
      "  68.57395508  34.28697754  34.28697754  68.57395508 102.86093262\n",
      " 137.14791016 137.14791016  68.57395508 102.86093262 137.14791016\n",
      " 137.14791016  68.57395508  34.28697754  34.28697754  68.57395508\n",
      " 102.86093262 137.14791016 137.14791016  68.57395508 102.86093262\n",
      " 137.14791016 137.14791016  68.57395508  34.28697754  34.28697754\n",
      "  68.57395508 102.86093262 137.14791016 137.14791016  34.28697754\n",
      "  34.28697754  68.57395508 102.86093262 137.14791016 137.14791016\n",
      "  68.57395508 102.86093262  34.28697754  34.28697754  68.57395508\n",
      " 102.86093262 137.14791016  68.57395508  34.28697754  34.28697754\n",
      "  68.57395508 102.86093262 137.14791016 137.14791016  34.28697754\n",
      "  34.28697754  68.57395508 102.86093262 137.14791016  34.28697754\n",
      "  34.28697754  68.57395508 102.86093262 137.14791016  68.57395508\n",
      " 102.86093262 137.14791016 137.14791016  68.57395508  34.28697754\n",
      "  34.28697754  68.57395508 102.86093262 137.14791016  34.28697754\n",
      "  34.28697754  68.57395508 102.86093262 137.14791016  34.28697754\n",
      "  34.28697754  68.57395508 102.86093262 137.14791016 137.14791016\n",
      "  68.57395508 102.86093262 137.14791016  68.57395508  34.28697754]' has dtype incompatible with int64, please explicitly cast to a compatible dtype first.\n",
      "  lighting_demand[mask] = lighting_load * area * occupancy_schedule[\"OCCUPANCY\"][mask]\n",
      "c:\\Users\\felix\\Programmieren\\districtgenerator\\.venv\\Lib\\site-packages\\teaser\\logic\\buildingobjects\\useconditions.py:363: FutureWarning: 'H' is deprecated and will be removed in a future version, please use 'h' instead.\n",
      "  index=pd.date_range(\"2019-01-01 00:00:00\", periods=8760, freq=\"H\")\n",
      "c:\\Users\\felix\\Programmieren\\districtgenerator\\.venv\\Lib\\site-packages\\teaser\\logic\\buildingobjects\\useconditions.py:363: FutureWarning: 'H' is deprecated and will be removed in a future version, please use 'h' instead.\n",
      "  index=pd.date_range(\"2019-01-01 00:00:00\", periods=8760, freq=\"H\")\n"
     ]
    },
    {
     "name": "stdout",
     "output_type": "stream",
     "text": [
      "Creating building AB\n",
      "Creating building AB\n"
     ]
    },
    {
     "name": "stderr",
     "output_type": "stream",
     "text": [
      "c:\\Users\\felix\\Programmieren\\districtgenerator\\.venv\\Lib\\site-packages\\teaser\\logic\\buildingobjects\\useconditions.py:363: FutureWarning: 'H' is deprecated and will be removed in a future version, please use 'h' instead.\n",
      "  index=pd.date_range(\"2019-01-01 00:00:00\", periods=8760, freq=\"H\")\n",
      "c:\\Users\\felix\\Programmieren\\districtgenerator\\.venv\\Lib\\site-packages\\teaser\\logic\\buildingobjects\\useconditions.py:363: FutureWarning: 'H' is deprecated and will be removed in a future version, please use 'h' instead.\n",
      "  index=pd.date_range(\"2019-01-01 00:00:00\", periods=8760, freq=\"H\")\n"
     ]
    },
    {
     "name": "stdout",
     "output_type": "stream",
     "text": [
      "Creating building AB\n",
      "Creating building AB\n"
     ]
    },
    {
     "name": "stderr",
     "output_type": "stream",
     "text": [
      "c:\\Users\\felix\\Programmieren\\districtgenerator\\.venv\\Lib\\site-packages\\teaser\\logic\\buildingobjects\\useconditions.py:363: FutureWarning: 'H' is deprecated and will be removed in a future version, please use 'h' instead.\n",
      "  index=pd.date_range(\"2019-01-01 00:00:00\", periods=8760, freq=\"H\")\n",
      "c:\\Users\\felix\\Programmieren\\districtgenerator\\.venv\\Lib\\site-packages\\teaser\\logic\\buildingobjects\\useconditions.py:363: FutureWarning: 'H' is deprecated and will be removed in a future version, please use 'h' instead.\n",
      "  index=pd.date_range(\"2019-01-01 00:00:00\", periods=8760, freq=\"H\")\n"
     ]
    },
    {
     "name": "stdout",
     "output_type": "stream",
     "text": [
      "Creating building AB\n",
      "Creating building AB\n"
     ]
    },
    {
     "name": "stderr",
     "output_type": "stream",
     "text": [
      "c:\\Users\\felix\\Programmieren\\districtgenerator\\.venv\\Lib\\site-packages\\teaser\\logic\\buildingobjects\\useconditions.py:363: FutureWarning: 'H' is deprecated and will be removed in a future version, please use 'h' instead.\n",
      "  index=pd.date_range(\"2019-01-01 00:00:00\", periods=8760, freq=\"H\")\n",
      "c:\\Users\\felix\\Programmieren\\districtgenerator\\.venv\\Lib\\site-packages\\teaser\\logic\\buildingobjects\\useconditions.py:363: FutureWarning: 'H' is deprecated and will be removed in a future version, please use 'h' instead.\n",
      "  index=pd.date_range(\"2019-01-01 00:00:00\", periods=8760, freq=\"H\")\n"
     ]
    },
    {
     "name": "stdout",
     "output_type": "stream",
     "text": [
      "Creating building AB\n",
      "Creating building AB\n",
      "Creating building AB\n"
     ]
    },
    {
     "name": "stderr",
     "output_type": "stream",
     "text": [
      "c:\\Users\\felix\\Programmieren\\districtgenerator\\.venv\\Lib\\site-packages\\teaser\\logic\\buildingobjects\\useconditions.py:363: FutureWarning: 'H' is deprecated and will be removed in a future version, please use 'h' instead.\n",
      "  index=pd.date_range(\"2019-01-01 00:00:00\", periods=8760, freq=\"H\")\n",
      "c:\\Users\\felix\\Programmieren\\districtgenerator\\.venv\\Lib\\site-packages\\teaser\\logic\\buildingobjects\\useconditions.py:363: FutureWarning: 'H' is deprecated and will be removed in a future version, please use 'h' instead.\n",
      "  index=pd.date_range(\"2019-01-01 00:00:00\", periods=8760, freq=\"H\")\n",
      "c:\\Users\\felix\\Programmieren\\districtgenerator\\.venv\\Lib\\site-packages\\teaser\\logic\\buildingobjects\\useconditions.py:363: FutureWarning: 'H' is deprecated and will be removed in a future version, please use 'h' instead.\n",
      "  index=pd.date_range(\"2019-01-01 00:00:00\", periods=8760, freq=\"H\")\n"
     ]
    },
    {
     "name": "stdout",
     "output_type": "stream",
     "text": [
      "Creating building AB\n",
      "Creating building AB\n"
     ]
    },
    {
     "name": "stderr",
     "output_type": "stream",
     "text": [
      "c:\\Users\\felix\\Programmieren\\districtgenerator\\.venv\\Lib\\site-packages\\teaser\\logic\\buildingobjects\\useconditions.py:363: FutureWarning: 'H' is deprecated and will be removed in a future version, please use 'h' instead.\n",
      "  index=pd.date_range(\"2019-01-01 00:00:00\", periods=8760, freq=\"H\")\n",
      "c:\\Users\\felix\\Programmieren\\districtgenerator\\.venv\\Lib\\site-packages\\teaser\\logic\\buildingobjects\\useconditions.py:363: FutureWarning: 'H' is deprecated and will be removed in a future version, please use 'h' instead.\n",
      "  index=pd.date_range(\"2019-01-01 00:00:00\", periods=8760, freq=\"H\")\n"
     ]
    },
    {
     "name": "stdout",
     "output_type": "stream",
     "text": [
      "Creating building AB\n",
      "Creating building IWU School, Day Nursery and other Care\n",
      "Available building types: ['IWU Office, Administrative or Government Buildings', 'IWU Research and University Teaching', 'IWU Health and Care', 'IWU School, Day Nursery and other Care', 'IWU Culture and Leisure', 'IWU Sports Facilities', 'IWU Hotels, Boarding, Restaurants or Catering', 'IWU Production, Workshop, Warehouse or Operations', 'IWU Trade Buildings', 'IWU Technical and Utility (supply and disposal)', 'IWU Transport', 'IWU Generalized (1) Services building', 'IWU Generalized (2) Production buildings']\n",
      "Current usage: IWU School, Day Nursery and other Care\n",
      "Creating building AB\n"
     ]
    },
    {
     "name": "stderr",
     "output_type": "stream",
     "text": [
      "c:\\Users\\felix\\Programmieren\\districtgenerator\\.venv\\Lib\\site-packages\\teaser\\logic\\buildingobjects\\useconditions.py:363: FutureWarning: 'H' is deprecated and will be removed in a future version, please use 'h' instead.\n",
      "  index=pd.date_range(\"2019-01-01 00:00:00\", periods=8760, freq=\"H\")\n",
      "c:\\Users\\felix\\Programmieren\\districtgenerator\\functions\\light_demand.py:99: FutureWarning: Setting an item of incompatible dtype is deprecated and will raise an error in a future version of pandas. Value '[56824.05585937 66294.73183594 56824.05585937 ... 56824.05585937\n",
      " 37882.70390625 18941.35195313]' has dtype incompatible with int64, please explicitly cast to a compatible dtype first.\n",
      "  lighting_demand[mask] = lighting_load * area * occupancy_schedule[\"OCCUPANCY\"][mask]\n",
      "c:\\Users\\felix\\Programmieren\\districtgenerator\\.venv\\Lib\\site-packages\\teaser\\logic\\buildingobjects\\useconditions.py:363: FutureWarning: 'H' is deprecated and will be removed in a future version, please use 'h' instead.\n",
      "  index=pd.date_range(\"2019-01-01 00:00:00\", periods=8760, freq=\"H\")\n"
     ]
    },
    {
     "name": "stdout",
     "output_type": "stream",
     "text": [
      "Creating building AB\n",
      "Creating building AB\n",
      "Creating building AB\n"
     ]
    },
    {
     "name": "stderr",
     "output_type": "stream",
     "text": [
      "c:\\Users\\felix\\Programmieren\\districtgenerator\\.venv\\Lib\\site-packages\\teaser\\logic\\buildingobjects\\useconditions.py:363: FutureWarning: 'H' is deprecated and will be removed in a future version, please use 'h' instead.\n",
      "  index=pd.date_range(\"2019-01-01 00:00:00\", periods=8760, freq=\"H\")\n",
      "c:\\Users\\felix\\Programmieren\\districtgenerator\\.venv\\Lib\\site-packages\\teaser\\logic\\buildingobjects\\useconditions.py:363: FutureWarning: 'H' is deprecated and will be removed in a future version, please use 'h' instead.\n",
      "  index=pd.date_range(\"2019-01-01 00:00:00\", periods=8760, freq=\"H\")\n",
      "c:\\Users\\felix\\Programmieren\\districtgenerator\\.venv\\Lib\\site-packages\\teaser\\logic\\buildingobjects\\useconditions.py:363: FutureWarning: 'H' is deprecated and will be removed in a future version, please use 'h' instead.\n",
      "  index=pd.date_range(\"2019-01-01 00:00:00\", periods=8760, freq=\"H\")\n"
     ]
    },
    {
     "name": "stdout",
     "output_type": "stream",
     "text": [
      "Creating building AB\n",
      "Creating building IWU Transport\n",
      "Available building types: ['IWU Office, Administrative or Government Buildings', 'IWU Research and University Teaching', 'IWU Health and Care', 'IWU School, Day Nursery and other Care', 'IWU Culture and Leisure', 'IWU Sports Facilities', 'IWU Hotels, Boarding, Restaurants or Catering', 'IWU Production, Workshop, Warehouse or Operations', 'IWU Trade Buildings', 'IWU Technical and Utility (supply and disposal)', 'IWU Transport', 'IWU Generalized (1) Services building', 'IWU Generalized (2) Production buildings']\n",
      "Current usage: IWU Transport\n",
      "Creating building AB\n"
     ]
    },
    {
     "name": "stderr",
     "output_type": "stream",
     "text": [
      "c:\\Users\\felix\\Programmieren\\districtgenerator\\.venv\\Lib\\site-packages\\teaser\\logic\\buildingobjects\\useconditions.py:363: FutureWarning: 'H' is deprecated and will be removed in a future version, please use 'h' instead.\n",
      "  index=pd.date_range(\"2019-01-01 00:00:00\", periods=8760, freq=\"H\")\n",
      "c:\\Users\\felix\\Programmieren\\districtgenerator\\functions\\light_demand.py:99: FutureWarning: Setting an item of incompatible dtype is deprecated and will raise an error in a future version of pandas. Value '[ 28.06429687  56.12859375  84.19289062 112.2571875  112.2571875\n",
      "  56.12859375  56.12859375  28.06429687  28.06429687  56.12859375\n",
      "  84.19289062 112.2571875   28.06429687  28.06429687  56.12859375\n",
      "  84.19289062 112.2571875   28.06429687  56.12859375  84.19289062\n",
      " 112.2571875  112.2571875   56.12859375  28.06429687  28.06429687\n",
      "  56.12859375  84.19289062 112.2571875   28.06429687  56.12859375\n",
      "  84.19289062 112.2571875   28.06429687  56.12859375  84.19289062\n",
      " 112.2571875   28.06429687  56.12859375  84.19289062 112.2571875\n",
      "  28.06429687  56.12859375  84.19289062 112.2571875   28.06429687\n",
      "  28.06429687  56.12859375  84.19289062 112.2571875  112.2571875\n",
      "  56.12859375  28.06429687  28.06429687  56.12859375  84.19289062\n",
      " 112.2571875   28.06429687  28.06429687  56.12859375  84.19289062\n",
      " 112.2571875  112.2571875   56.12859375  28.06429687  28.06429687\n",
      "  56.12859375  84.19289062 112.2571875  112.2571875   28.06429687\n",
      "  56.12859375  84.19289062 112.2571875  112.2571875   56.12859375\n",
      "  28.06429687  28.06429687  56.12859375  84.19289062 112.2571875\n",
      "  28.06429687  56.12859375  84.19289062 112.2571875   28.06429687\n",
      "  28.06429687  56.12859375  84.19289062 112.2571875  112.2571875\n",
      "  28.06429687  56.12859375  84.19289062 112.2571875   28.06429687\n",
      "  56.12859375  84.19289062 112.2571875   28.06429687  56.12859375\n",
      "  84.19289062 112.2571875   28.06429687  56.12859375  84.19289062\n",
      " 112.2571875   28.06429687  56.12859375  84.19289062 112.2571875\n",
      "  28.06429687  56.12859375  84.19289062 112.2571875  112.2571875\n",
      "  28.06429687  28.06429687  56.12859375  84.19289062 112.2571875\n",
      "  28.06429687  56.12859375  84.19289062  28.06429687  28.06429687\n",
      "  56.12859375  84.19289062 112.2571875   28.06429687  56.12859375\n",
      "  84.19289062 112.2571875  112.2571875   56.12859375  84.19289062\n",
      " 112.2571875   56.12859375  28.06429687  28.06429687  56.12859375\n",
      "  84.19289062  28.06429687  56.12859375  84.19289062 112.2571875\n",
      " 112.2571875   56.12859375  84.19289062  28.06429687  28.06429687\n",
      "  56.12859375  84.19289062  28.06429687  56.12859375  84.19289062\n",
      "  28.06429687  56.12859375  84.19289062  28.06429687  28.06429687\n",
      "  56.12859375  84.19289062  28.06429687  56.12859375  84.19289062\n",
      " 112.2571875  112.2571875   56.12859375  28.06429687  28.06429687\n",
      "  56.12859375  84.19289062 112.2571875   28.06429687  56.12859375\n",
      "  84.19289062  28.06429687  56.12859375  84.19289062 112.2571875\n",
      "  28.06429687  28.06429687  56.12859375  84.19289062  28.06429687\n",
      "  56.12859375  84.19289062 112.2571875  112.2571875   56.12859375\n",
      "  28.06429687  28.06429687  56.12859375  84.19289062  28.06429687\n",
      "  56.12859375  84.19289062  28.06429687  56.12859375  84.19289062\n",
      "  28.06429687  56.12859375  84.19289062  28.06429687  56.12859375\n",
      "  84.19289062  28.06429687  56.12859375  84.19289062  28.06429687\n",
      "  56.12859375  84.19289062  28.06429687  56.12859375  84.19289062\n",
      " 112.2571875   56.12859375  28.06429687  56.12859375  84.19289062\n",
      "  28.06429687  56.12859375  84.19289062  28.06429687  28.06429687\n",
      "  56.12859375  84.19289062  28.06429687  56.12859375  84.19289062\n",
      "  28.06429687  28.06429687  56.12859375  84.19289062  28.06429687\n",
      "  56.12859375  84.19289062  28.06429687  56.12859375  84.19289062\n",
      "  28.06429687  56.12859375  28.06429687  56.12859375  28.06429687\n",
      "  56.12859375  28.06429687  56.12859375  28.06429687  56.12859375\n",
      "  28.06429687  56.12859375  28.06429687  56.12859375  28.06429687\n",
      "  56.12859375  28.06429687  56.12859375  28.06429687  56.12859375\n",
      "  28.06429687  56.12859375  28.06429687  56.12859375  28.06429687\n",
      "  56.12859375  28.06429687  56.12859375  28.06429687  56.12859375\n",
      "  28.06429687  56.12859375  28.06429687  56.12859375  28.06429687\n",
      "  56.12859375  28.06429687  56.12859375  28.06429687  56.12859375\n",
      "  28.06429687  56.12859375  28.06429687  56.12859375  28.06429687\n",
      "  56.12859375  28.06429687  56.12859375  28.06429687  56.12859375\n",
      "  28.06429687  56.12859375  28.06429687  28.06429687  28.06429687\n",
      "  28.06429687  28.06429687  28.06429687  28.06429687  28.06429687\n",
      "  56.12859375  28.06429687  28.06429687  28.06429687  56.12859375\n",
      "  28.06429687  28.06429687  28.06429687  28.06429687  28.06429687\n",
      "  56.12859375  28.06429687  28.06429687  28.06429687  28.06429687\n",
      "  28.06429687  28.06429687  28.06429687  28.06429687  28.06429687\n",
      "  28.06429687  28.06429687  56.12859375  28.06429687  28.06429687\n",
      "  28.06429687  56.12859375  28.06429687  28.06429687  84.19289062\n",
      "  28.06429687  28.06429687  84.19289062  28.06429687  56.12859375\n",
      "  84.19289062  28.06429687  28.06429687  28.06429687  28.06429687\n",
      "  84.19289062  28.06429687  28.06429687  28.06429687  28.06429687\n",
      "  28.06429687  28.06429687  28.06429687  28.06429687  28.06429687\n",
      "  28.06429687  28.06429687  28.06429687  28.06429687  28.06429687\n",
      "  28.06429687  28.06429687  28.06429687  28.06429687  28.06429687\n",
      "  28.06429687  28.06429687  56.12859375  28.06429687  56.12859375\n",
      "  28.06429687  28.06429687  28.06429687  28.06429687  28.06429687\n",
      "  28.06429687  56.12859375  84.19289062  28.06429687  28.06429687\n",
      "  28.06429687  56.12859375  28.06429687  28.06429687  28.06429687\n",
      "  56.12859375  28.06429687  56.12859375  28.06429687  56.12859375\n",
      "  28.06429687  56.12859375  28.06429687  56.12859375  28.06429687\n",
      "  56.12859375  28.06429687  56.12859375  28.06429687  56.12859375\n",
      "  28.06429687  56.12859375  28.06429687  56.12859375  28.06429687\n",
      "  56.12859375  28.06429687  56.12859375  28.06429687  56.12859375\n",
      "  28.06429687  56.12859375  28.06429687  56.12859375  28.06429687\n",
      "  56.12859375  84.19289062  28.06429687  56.12859375  28.06429687\n",
      "  56.12859375  28.06429687  56.12859375  84.19289062 112.2571875\n",
      " 112.2571875   28.06429687  56.12859375  28.06429687  56.12859375\n",
      "  28.06429687  56.12859375  28.06429687  56.12859375  84.19289062\n",
      "  28.06429687  56.12859375  28.06429687  56.12859375  28.06429687\n",
      "  56.12859375  28.06429687  56.12859375  28.06429687  56.12859375\n",
      "  28.06429687  56.12859375  28.06429687  56.12859375  28.06429687\n",
      "  56.12859375  84.19289062  28.06429687  56.12859375  28.06429687\n",
      "  56.12859375  84.19289062  28.06429687  56.12859375  84.19289062\n",
      "  28.06429687  56.12859375  84.19289062  28.06429687  56.12859375\n",
      "  84.19289062  56.12859375  28.06429687  28.06429687  56.12859375\n",
      "  84.19289062  28.06429687  56.12859375  84.19289062  28.06429687\n",
      "  56.12859375  84.19289062  28.06429687  28.06429687  56.12859375\n",
      "  84.19289062  28.06429687  56.12859375  84.19289062  28.06429687\n",
      "  56.12859375  84.19289062  28.06429687  56.12859375  84.19289062\n",
      "  28.06429687  56.12859375  84.19289062  28.06429687  56.12859375\n",
      "  84.19289062  28.06429687  56.12859375  84.19289062  28.06429687\n",
      "  56.12859375  84.19289062  28.06429687  56.12859375  84.19289062\n",
      " 112.2571875  112.2571875  112.2571875   56.12859375  28.06429687\n",
      "  28.06429687  56.12859375  84.19289062 112.2571875   28.06429687\n",
      "  56.12859375  84.19289062  28.06429687  56.12859375  84.19289062\n",
      "  28.06429687  56.12859375  84.19289062  28.06429687  56.12859375\n",
      "  84.19289062  28.06429687  56.12859375  84.19289062 112.2571875\n",
      "  28.06429687  56.12859375  84.19289062  28.06429687  56.12859375\n",
      "  84.19289062  28.06429687  56.12859375  84.19289062 112.2571875\n",
      "  28.06429687  56.12859375  84.19289062 112.2571875   28.06429687\n",
      "  28.06429687  56.12859375  84.19289062  28.06429687  28.06429687\n",
      "  56.12859375  84.19289062  28.06429687  28.06429687  56.12859375\n",
      "  84.19289062  28.06429687  28.06429687  56.12859375  84.19289062\n",
      " 112.2571875   28.06429687  28.06429687  56.12859375  84.19289062\n",
      " 112.2571875  112.2571875   28.06429687  28.06429687  56.12859375\n",
      "  84.19289062 112.2571875   56.12859375  28.06429687  28.06429687\n",
      "  56.12859375  84.19289062 112.2571875   28.06429687  28.06429687\n",
      "  56.12859375  84.19289062 112.2571875  112.2571875   56.12859375\n",
      "  28.06429687  28.06429687  56.12859375  84.19289062 112.2571875\n",
      " 112.2571875   56.12859375  28.06429687  28.06429687  56.12859375\n",
      "  84.19289062 112.2571875  112.2571875   56.12859375  56.12859375\n",
      "  28.06429687  28.06429687  56.12859375  84.19289062 112.2571875\n",
      "  28.06429687  28.06429687  56.12859375  84.19289062 112.2571875\n",
      "  28.06429687  28.06429687  56.12859375  84.19289062 112.2571875\n",
      "  28.06429687  28.06429687  56.12859375  84.19289062 112.2571875\n",
      " 112.2571875   28.06429687  28.06429687  56.12859375  84.19289062\n",
      " 112.2571875   28.06429687  28.06429687  56.12859375  84.19289062\n",
      " 112.2571875   28.06429687  28.06429687  56.12859375  84.19289062\n",
      " 112.2571875   28.06429687  28.06429687  56.12859375  84.19289062\n",
      " 112.2571875   28.06429687  28.06429687  56.12859375  84.19289062\n",
      " 112.2571875   28.06429687  28.06429687  56.12859375  84.19289062\n",
      " 112.2571875   28.06429687  28.06429687  56.12859375  84.19289062\n",
      " 112.2571875   28.06429687  28.06429687  56.12859375  84.19289062\n",
      " 112.2571875   28.06429687  28.06429687  56.12859375  84.19289062\n",
      " 112.2571875  112.2571875   56.12859375  28.06429687  28.06429687\n",
      "  56.12859375  84.19289062 112.2571875  112.2571875   56.12859375\n",
      "  28.06429687  28.06429687  56.12859375  84.19289062 112.2571875\n",
      " 112.2571875   56.12859375  84.19289062 112.2571875  112.2571875\n",
      "  56.12859375  28.06429687  28.06429687  56.12859375  84.19289062\n",
      " 112.2571875  112.2571875   56.12859375  84.19289062 112.2571875\n",
      " 112.2571875   56.12859375  28.06429687  28.06429687  56.12859375\n",
      "  84.19289062 112.2571875  112.2571875   28.06429687  28.06429687\n",
      "  56.12859375  84.19289062 112.2571875  112.2571875   56.12859375\n",
      "  84.19289062  28.06429687  28.06429687  56.12859375  84.19289062\n",
      " 112.2571875   28.06429687  28.06429687  56.12859375  84.19289062\n",
      " 112.2571875  112.2571875   28.06429687  28.06429687  56.12859375\n",
      "  84.19289062 112.2571875   28.06429687  28.06429687  56.12859375\n",
      "  84.19289062 112.2571875   56.12859375  84.19289062 112.2571875\n",
      " 112.2571875   56.12859375  28.06429687  28.06429687  56.12859375\n",
      "  84.19289062 112.2571875   28.06429687  28.06429687  56.12859375\n",
      "  84.19289062 112.2571875   28.06429687  28.06429687  56.12859375\n",
      "  84.19289062 112.2571875  112.2571875   56.12859375  84.19289062\n",
      "  56.12859375  28.06429687]' has dtype incompatible with int64, please explicitly cast to a compatible dtype first.\n",
      "  lighting_demand[mask] = lighting_load * area * occupancy_schedule[\"OCCUPANCY\"][mask]\n",
      "c:\\Users\\felix\\Programmieren\\districtgenerator\\.venv\\Lib\\site-packages\\teaser\\logic\\buildingobjects\\useconditions.py:363: FutureWarning: 'H' is deprecated and will be removed in a future version, please use 'h' instead.\n",
      "  index=pd.date_range(\"2019-01-01 00:00:00\", periods=8760, freq=\"H\")\n"
     ]
    },
    {
     "name": "stdout",
     "output_type": "stream",
     "text": [
      "Creating building AB\n",
      "Creating building AB\n"
     ]
    },
    {
     "name": "stderr",
     "output_type": "stream",
     "text": [
      "c:\\Users\\felix\\Programmieren\\districtgenerator\\.venv\\Lib\\site-packages\\teaser\\logic\\buildingobjects\\useconditions.py:363: FutureWarning: 'H' is deprecated and will be removed in a future version, please use 'h' instead.\n",
      "  index=pd.date_range(\"2019-01-01 00:00:00\", periods=8760, freq=\"H\")\n",
      "c:\\Users\\felix\\Programmieren\\districtgenerator\\.venv\\Lib\\site-packages\\teaser\\logic\\buildingobjects\\useconditions.py:363: FutureWarning: 'H' is deprecated and will be removed in a future version, please use 'h' instead.\n",
      "  index=pd.date_range(\"2019-01-01 00:00:00\", periods=8760, freq=\"H\")\n"
     ]
    },
    {
     "name": "stdout",
     "output_type": "stream",
     "text": [
      "Creating building AB\n",
      "Creating building AB\n"
     ]
    },
    {
     "name": "stderr",
     "output_type": "stream",
     "text": [
      "c:\\Users\\felix\\Programmieren\\districtgenerator\\.venv\\Lib\\site-packages\\teaser\\logic\\buildingobjects\\useconditions.py:363: FutureWarning: 'H' is deprecated and will be removed in a future version, please use 'h' instead.\n",
      "  index=pd.date_range(\"2019-01-01 00:00:00\", periods=8760, freq=\"H\")\n",
      "c:\\Users\\felix\\Programmieren\\districtgenerator\\.venv\\Lib\\site-packages\\teaser\\logic\\buildingobjects\\useconditions.py:363: FutureWarning: 'H' is deprecated and will be removed in a future version, please use 'h' instead.\n",
      "  index=pd.date_range(\"2019-01-01 00:00:00\", periods=8760, freq=\"H\")\n"
     ]
    },
    {
     "name": "stdout",
     "output_type": "stream",
     "text": [
      "Creating building AB\n",
      "Creating building AB\n"
     ]
    },
    {
     "name": "stderr",
     "output_type": "stream",
     "text": [
      "c:\\Users\\felix\\Programmieren\\districtgenerator\\.venv\\Lib\\site-packages\\teaser\\logic\\buildingobjects\\useconditions.py:363: FutureWarning: 'H' is deprecated and will be removed in a future version, please use 'h' instead.\n",
      "  index=pd.date_range(\"2019-01-01 00:00:00\", periods=8760, freq=\"H\")\n",
      "c:\\Users\\felix\\Programmieren\\districtgenerator\\.venv\\Lib\\site-packages\\teaser\\logic\\buildingobjects\\useconditions.py:363: FutureWarning: 'H' is deprecated and will be removed in a future version, please use 'h' instead.\n",
      "  index=pd.date_range(\"2019-01-01 00:00:00\", periods=8760, freq=\"H\")\n"
     ]
    },
    {
     "name": "stdout",
     "output_type": "stream",
     "text": [
      "Creating building IWU Trade Buildings\n",
      "Available building types: ['IWU Office, Administrative or Government Buildings', 'IWU Research and University Teaching', 'IWU Health and Care', 'IWU School, Day Nursery and other Care', 'IWU Culture and Leisure', 'IWU Sports Facilities', 'IWU Hotels, Boarding, Restaurants or Catering', 'IWU Production, Workshop, Warehouse or Operations', 'IWU Trade Buildings', 'IWU Technical and Utility (supply and disposal)', 'IWU Transport', 'IWU Generalized (1) Services building', 'IWU Generalized (2) Production buildings']\n",
      "Current usage: IWU Trade Buildings\n",
      "Creating building AB\n"
     ]
    },
    {
     "name": "stderr",
     "output_type": "stream",
     "text": [
      "c:\\Users\\felix\\Programmieren\\districtgenerator\\functions\\light_demand.py:99: FutureWarning: Setting an item of incompatible dtype is deprecated and will raise an error in a future version of pandas. Value '[ 787.0458252  1574.09165039 1574.09165039 ... 3935.22912598 2361.13747559\n",
      " 1574.09165039]' has dtype incompatible with int64, please explicitly cast to a compatible dtype first.\n",
      "  lighting_demand[mask] = lighting_load * area * occupancy_schedule[\"OCCUPANCY\"][mask]\n",
      "c:\\Users\\felix\\Programmieren\\districtgenerator\\.venv\\Lib\\site-packages\\teaser\\logic\\buildingobjects\\useconditions.py:363: FutureWarning: 'H' is deprecated and will be removed in a future version, please use 'h' instead.\n",
      "  index=pd.date_range(\"2019-01-01 00:00:00\", periods=8760, freq=\"H\")\n",
      "c:\\Users\\felix\\Programmieren\\districtgenerator\\.venv\\Lib\\site-packages\\teaser\\logic\\buildingobjects\\useconditions.py:363: FutureWarning: 'H' is deprecated and will be removed in a future version, please use 'h' instead.\n",
      "  index=pd.date_range(\"2019-01-01 00:00:00\", periods=8760, freq=\"H\")\n"
     ]
    },
    {
     "name": "stdout",
     "output_type": "stream",
     "text": [
      "Creating building AB\n",
      "Creating building AB\n"
     ]
    },
    {
     "name": "stderr",
     "output_type": "stream",
     "text": [
      "c:\\Users\\felix\\Programmieren\\districtgenerator\\.venv\\Lib\\site-packages\\teaser\\logic\\buildingobjects\\useconditions.py:363: FutureWarning: 'H' is deprecated and will be removed in a future version, please use 'h' instead.\n",
      "  index=pd.date_range(\"2019-01-01 00:00:00\", periods=8760, freq=\"H\")\n",
      "c:\\Users\\felix\\Programmieren\\districtgenerator\\.venv\\Lib\\site-packages\\teaser\\logic\\buildingobjects\\useconditions.py:363: FutureWarning: 'H' is deprecated and will be removed in a future version, please use 'h' instead.\n",
      "  index=pd.date_range(\"2019-01-01 00:00:00\", periods=8760, freq=\"H\")\n"
     ]
    },
    {
     "name": "stdout",
     "output_type": "stream",
     "text": [
      "Creating building AB\n",
      "Creating building AB\n",
      "Creating building AB\n"
     ]
    },
    {
     "name": "stderr",
     "output_type": "stream",
     "text": [
      "c:\\Users\\felix\\Programmieren\\districtgenerator\\.venv\\Lib\\site-packages\\teaser\\logic\\buildingobjects\\useconditions.py:363: FutureWarning: 'H' is deprecated and will be removed in a future version, please use 'h' instead.\n",
      "  index=pd.date_range(\"2019-01-01 00:00:00\", periods=8760, freq=\"H\")\n",
      "c:\\Users\\felix\\Programmieren\\districtgenerator\\.venv\\Lib\\site-packages\\teaser\\logic\\buildingobjects\\useconditions.py:363: FutureWarning: 'H' is deprecated and will be removed in a future version, please use 'h' instead.\n",
      "  index=pd.date_range(\"2019-01-01 00:00:00\", periods=8760, freq=\"H\")\n",
      "c:\\Users\\felix\\Programmieren\\districtgenerator\\.venv\\Lib\\site-packages\\teaser\\logic\\buildingobjects\\useconditions.py:363: FutureWarning: 'H' is deprecated and will be removed in a future version, please use 'h' instead.\n",
      "  index=pd.date_range(\"2019-01-01 00:00:00\", periods=8760, freq=\"H\")\n"
     ]
    },
    {
     "name": "stdout",
     "output_type": "stream",
     "text": [
      "Creating building AB\n",
      "Creating building IWU School, Day Nursery and other Care\n",
      "Available building types: ['IWU Office, Administrative or Government Buildings', 'IWU Research and University Teaching', 'IWU Health and Care', 'IWU School, Day Nursery and other Care', 'IWU Culture and Leisure', 'IWU Sports Facilities', 'IWU Hotels, Boarding, Restaurants or Catering', 'IWU Production, Workshop, Warehouse or Operations', 'IWU Trade Buildings', 'IWU Technical and Utility (supply and disposal)', 'IWU Transport', 'IWU Generalized (1) Services building', 'IWU Generalized (2) Production buildings']\n",
      "Current usage: IWU School, Day Nursery and other Care\n",
      "Creating building AB\n"
     ]
    },
    {
     "name": "stderr",
     "output_type": "stream",
     "text": [
      "c:\\Users\\felix\\Programmieren\\districtgenerator\\functions\\light_demand.py:99: FutureWarning: Setting an item of incompatible dtype is deprecated and will raise an error in a future version of pandas. Value '[221564.82304687 258492.29355469 221564.82304687 ... 221564.82304687\n",
      " 147709.88203125  73854.94101563]' has dtype incompatible with int64, please explicitly cast to a compatible dtype first.\n",
      "  lighting_demand[mask] = lighting_load * area * occupancy_schedule[\"OCCUPANCY\"][mask]\n",
      "c:\\Users\\felix\\Programmieren\\districtgenerator\\.venv\\Lib\\site-packages\\teaser\\logic\\buildingobjects\\useconditions.py:363: FutureWarning: 'H' is deprecated and will be removed in a future version, please use 'h' instead.\n",
      "  index=pd.date_range(\"2019-01-01 00:00:00\", periods=8760, freq=\"H\")\n",
      "c:\\Users\\felix\\Programmieren\\districtgenerator\\.venv\\Lib\\site-packages\\teaser\\logic\\buildingobjects\\useconditions.py:363: FutureWarning: 'H' is deprecated and will be removed in a future version, please use 'h' instead.\n",
      "  index=pd.date_range(\"2019-01-01 00:00:00\", periods=8760, freq=\"H\")\n"
     ]
    },
    {
     "name": "stdout",
     "output_type": "stream",
     "text": [
      "Creating building AB\n",
      "Creating building AB\n"
     ]
    },
    {
     "name": "stderr",
     "output_type": "stream",
     "text": [
      "c:\\Users\\felix\\Programmieren\\districtgenerator\\.venv\\Lib\\site-packages\\teaser\\logic\\buildingobjects\\useconditions.py:363: FutureWarning: 'H' is deprecated and will be removed in a future version, please use 'h' instead.\n",
      "  index=pd.date_range(\"2019-01-01 00:00:00\", periods=8760, freq=\"H\")\n"
     ]
    },
    {
     "name": "stdout",
     "output_type": "stream",
     "text": [
      "Creating building IWU Research and University Teaching\n",
      "Available building types: ['IWU Office, Administrative or Government Buildings', 'IWU Research and University Teaching', 'IWU Health and Care', 'IWU School, Day Nursery and other Care', 'IWU Culture and Leisure', 'IWU Sports Facilities', 'IWU Hotels, Boarding, Restaurants or Catering', 'IWU Production, Workshop, Warehouse or Operations', 'IWU Trade Buildings', 'IWU Technical and Utility (supply and disposal)', 'IWU Transport', 'IWU Generalized (1) Services building', 'IWU Generalized (2) Production buildings']\n",
      "Current usage: IWU Research and University Teaching\n",
      "Creating building AB\n",
      "Creating building AB\n"
     ]
    },
    {
     "name": "stderr",
     "output_type": "stream",
     "text": [
      "c:\\Users\\felix\\Programmieren\\districtgenerator\\functions\\light_demand.py:99: FutureWarning: Setting an item of incompatible dtype is deprecated and will raise an error in a future version of pandas. Value '[ 57109.25170898  85663.87756348 142773.12927246 ... 114218.50341797\n",
      " 114218.50341797  57109.25170898]' has dtype incompatible with int64, please explicitly cast to a compatible dtype first.\n",
      "  lighting_demand[mask] = lighting_load * area * occupancy_schedule[\"OCCUPANCY\"][mask]\n",
      "c:\\Users\\felix\\Programmieren\\districtgenerator\\.venv\\Lib\\site-packages\\teaser\\logic\\buildingobjects\\useconditions.py:363: FutureWarning: 'H' is deprecated and will be removed in a future version, please use 'h' instead.\n",
      "  index=pd.date_range(\"2019-01-01 00:00:00\", periods=8760, freq=\"H\")\n",
      "c:\\Users\\felix\\Programmieren\\districtgenerator\\.venv\\Lib\\site-packages\\teaser\\logic\\buildingobjects\\useconditions.py:363: FutureWarning: 'H' is deprecated and will be removed in a future version, please use 'h' instead.\n",
      "  index=pd.date_range(\"2019-01-01 00:00:00\", periods=8760, freq=\"H\")\n"
     ]
    },
    {
     "name": "stdout",
     "output_type": "stream",
     "text": [
      "Creating building AB\n",
      "Creating building AB\n"
     ]
    },
    {
     "name": "stderr",
     "output_type": "stream",
     "text": [
      "c:\\Users\\felix\\Programmieren\\districtgenerator\\.venv\\Lib\\site-packages\\teaser\\logic\\buildingobjects\\useconditions.py:363: FutureWarning: 'H' is deprecated and will be removed in a future version, please use 'h' instead.\n",
      "  index=pd.date_range(\"2019-01-01 00:00:00\", periods=8760, freq=\"H\")\n",
      "c:\\Users\\felix\\Programmieren\\districtgenerator\\.venv\\Lib\\site-packages\\teaser\\logic\\buildingobjects\\useconditions.py:363: FutureWarning: 'H' is deprecated and will be removed in a future version, please use 'h' instead.\n",
      "  index=pd.date_range(\"2019-01-01 00:00:00\", periods=8760, freq=\"H\")\n"
     ]
    },
    {
     "name": "stdout",
     "output_type": "stream",
     "text": [
      "Creating building AB\n",
      "Creating building AB\n"
     ]
    },
    {
     "name": "stderr",
     "output_type": "stream",
     "text": [
      "c:\\Users\\felix\\Programmieren\\districtgenerator\\.venv\\Lib\\site-packages\\teaser\\logic\\buildingobjects\\useconditions.py:363: FutureWarning: 'H' is deprecated and will be removed in a future version, please use 'h' instead.\n",
      "  index=pd.date_range(\"2019-01-01 00:00:00\", periods=8760, freq=\"H\")\n",
      "c:\\Users\\felix\\Programmieren\\districtgenerator\\.venv\\Lib\\site-packages\\teaser\\logic\\buildingobjects\\useconditions.py:363: FutureWarning: 'H' is deprecated and will be removed in a future version, please use 'h' instead.\n",
      "  index=pd.date_range(\"2019-01-01 00:00:00\", periods=8760, freq=\"H\")\n"
     ]
    },
    {
     "name": "stdout",
     "output_type": "stream",
     "text": [
      "Creating building AB\n",
      "Creating building AB\n"
     ]
    },
    {
     "name": "stderr",
     "output_type": "stream",
     "text": [
      "c:\\Users\\felix\\Programmieren\\districtgenerator\\.venv\\Lib\\site-packages\\teaser\\logic\\buildingobjects\\useconditions.py:363: FutureWarning: 'H' is deprecated and will be removed in a future version, please use 'h' instead.\n",
      "  index=pd.date_range(\"2019-01-01 00:00:00\", periods=8760, freq=\"H\")\n",
      "c:\\Users\\felix\\Programmieren\\districtgenerator\\.venv\\Lib\\site-packages\\teaser\\logic\\buildingobjects\\useconditions.py:363: FutureWarning: 'H' is deprecated and will be removed in a future version, please use 'h' instead.\n",
      "  index=pd.date_range(\"2019-01-01 00:00:00\", periods=8760, freq=\"H\")\n"
     ]
    },
    {
     "name": "stdout",
     "output_type": "stream",
     "text": [
      "Creating building AB\n",
      "Creating building AB\n",
      "Creating building AB\n"
     ]
    },
    {
     "name": "stderr",
     "output_type": "stream",
     "text": [
      "c:\\Users\\felix\\Programmieren\\districtgenerator\\.venv\\Lib\\site-packages\\teaser\\logic\\buildingobjects\\useconditions.py:363: FutureWarning: 'H' is deprecated and will be removed in a future version, please use 'h' instead.\n",
      "  index=pd.date_range(\"2019-01-01 00:00:00\", periods=8760, freq=\"H\")\n",
      "c:\\Users\\felix\\Programmieren\\districtgenerator\\.venv\\Lib\\site-packages\\teaser\\logic\\buildingobjects\\useconditions.py:363: FutureWarning: 'H' is deprecated and will be removed in a future version, please use 'h' instead.\n",
      "  index=pd.date_range(\"2019-01-01 00:00:00\", periods=8760, freq=\"H\")\n",
      "c:\\Users\\felix\\Programmieren\\districtgenerator\\.venv\\Lib\\site-packages\\teaser\\logic\\buildingobjects\\useconditions.py:363: FutureWarning: 'H' is deprecated and will be removed in a future version, please use 'h' instead.\n",
      "  index=pd.date_range(\"2019-01-01 00:00:00\", periods=8760, freq=\"H\")\n"
     ]
    },
    {
     "name": "stdout",
     "output_type": "stream",
     "text": [
      "Creating building AB\n"
     ]
    },
    {
     "name": "stderr",
     "output_type": "stream",
     "text": [
      "c:\\Users\\felix\\Programmieren\\districtgenerator\\.venv\\Lib\\site-packages\\teaser\\logic\\buildingobjects\\useconditions.py:363: FutureWarning: 'H' is deprecated and will be removed in a future version, please use 'h' instead.\n",
      "  index=pd.date_range(\"2019-01-01 00:00:00\", periods=8760, freq=\"H\")\n"
     ]
    },
    {
     "name": "stdout",
     "output_type": "stream",
     "text": [
      "Creating building AB\n",
      "Creating building AB\n"
     ]
    },
    {
     "name": "stderr",
     "output_type": "stream",
     "text": [
      "c:\\Users\\felix\\Programmieren\\districtgenerator\\.venv\\Lib\\site-packages\\teaser\\logic\\buildingobjects\\useconditions.py:363: FutureWarning: 'H' is deprecated and will be removed in a future version, please use 'h' instead.\n",
      "  index=pd.date_range(\"2019-01-01 00:00:00\", periods=8760, freq=\"H\")\n",
      "c:\\Users\\felix\\Programmieren\\districtgenerator\\.venv\\Lib\\site-packages\\teaser\\logic\\buildingobjects\\useconditions.py:363: FutureWarning: 'H' is deprecated and will be removed in a future version, please use 'h' instead.\n",
      "  index=pd.date_range(\"2019-01-01 00:00:00\", periods=8760, freq=\"H\")\n"
     ]
    },
    {
     "name": "stdout",
     "output_type": "stream",
     "text": [
      "Creating building AB\n",
      "Creating building AB\n"
     ]
    },
    {
     "name": "stderr",
     "output_type": "stream",
     "text": [
      "c:\\Users\\felix\\Programmieren\\districtgenerator\\.venv\\Lib\\site-packages\\teaser\\logic\\buildingobjects\\useconditions.py:363: FutureWarning: 'H' is deprecated and will be removed in a future version, please use 'h' instead.\n",
      "  index=pd.date_range(\"2019-01-01 00:00:00\", periods=8760, freq=\"H\")\n",
      "c:\\Users\\felix\\Programmieren\\districtgenerator\\.venv\\Lib\\site-packages\\teaser\\logic\\buildingobjects\\useconditions.py:363: FutureWarning: 'H' is deprecated and will be removed in a future version, please use 'h' instead.\n",
      "  index=pd.date_range(\"2019-01-01 00:00:00\", periods=8760, freq=\"H\")\n"
     ]
    },
    {
     "name": "stdout",
     "output_type": "stream",
     "text": [
      "Creating building AB\n",
      "Creating building AB\n",
      "Creating building AB\n"
     ]
    },
    {
     "name": "stderr",
     "output_type": "stream",
     "text": [
      "c:\\Users\\felix\\Programmieren\\districtgenerator\\.venv\\Lib\\site-packages\\teaser\\logic\\buildingobjects\\useconditions.py:363: FutureWarning: 'H' is deprecated and will be removed in a future version, please use 'h' instead.\n",
      "  index=pd.date_range(\"2019-01-01 00:00:00\", periods=8760, freq=\"H\")\n",
      "c:\\Users\\felix\\Programmieren\\districtgenerator\\.venv\\Lib\\site-packages\\teaser\\logic\\buildingobjects\\useconditions.py:363: FutureWarning: 'H' is deprecated and will be removed in a future version, please use 'h' instead.\n",
      "  index=pd.date_range(\"2019-01-01 00:00:00\", periods=8760, freq=\"H\")\n",
      "c:\\Users\\felix\\Programmieren\\districtgenerator\\.venv\\Lib\\site-packages\\teaser\\logic\\buildingobjects\\useconditions.py:363: FutureWarning: 'H' is deprecated and will be removed in a future version, please use 'h' instead.\n",
      "  index=pd.date_range(\"2019-01-01 00:00:00\", periods=8760, freq=\"H\")\n"
     ]
    },
    {
     "name": "stdout",
     "output_type": "stream",
     "text": [
      "Creating building IWU Culture and Leisure\n",
      "Available building types: ['IWU Office, Administrative or Government Buildings', 'IWU Research and University Teaching', 'IWU Health and Care', 'IWU School, Day Nursery and other Care', 'IWU Culture and Leisure', 'IWU Sports Facilities', 'IWU Hotels, Boarding, Restaurants or Catering', 'IWU Production, Workshop, Warehouse or Operations', 'IWU Trade Buildings', 'IWU Technical and Utility (supply and disposal)', 'IWU Transport', 'IWU Generalized (1) Services building', 'IWU Generalized (2) Production buildings']\n",
      "Current usage: IWU Culture and Leisure\n",
      "Creating building AB\n"
     ]
    },
    {
     "name": "stderr",
     "output_type": "stream",
     "text": [
      "c:\\Users\\felix\\Programmieren\\districtgenerator\\functions\\light_demand.py:99: FutureWarning: Setting an item of incompatible dtype is deprecated and will raise an error in a future version of pandas. Value '[ 5887.04941406 17661.14824219 29435.24707031 ... 29435.24707031\n",
      " 17661.14824219  5887.04941406]' has dtype incompatible with int64, please explicitly cast to a compatible dtype first.\n",
      "  lighting_demand[mask] = lighting_load * area * occupancy_schedule[\"OCCUPANCY\"][mask]\n",
      "c:\\Users\\felix\\Programmieren\\districtgenerator\\.venv\\Lib\\site-packages\\teaser\\logic\\buildingobjects\\useconditions.py:363: FutureWarning: 'H' is deprecated and will be removed in a future version, please use 'h' instead.\n",
      "  index=pd.date_range(\"2019-01-01 00:00:00\", periods=8760, freq=\"H\")\n"
     ]
    },
    {
     "name": "stdout",
     "output_type": "stream",
     "text": [
      "Creating building AB\n",
      "Creating building AB\n"
     ]
    },
    {
     "name": "stderr",
     "output_type": "stream",
     "text": [
      "c:\\Users\\felix\\Programmieren\\districtgenerator\\.venv\\Lib\\site-packages\\teaser\\logic\\buildingobjects\\useconditions.py:363: FutureWarning: 'H' is deprecated and will be removed in a future version, please use 'h' instead.\n",
      "  index=pd.date_range(\"2019-01-01 00:00:00\", periods=8760, freq=\"H\")\n",
      "c:\\Users\\felix\\Programmieren\\districtgenerator\\.venv\\Lib\\site-packages\\teaser\\logic\\buildingobjects\\useconditions.py:363: FutureWarning: 'H' is deprecated and will be removed in a future version, please use 'h' instead.\n",
      "  index=pd.date_range(\"2019-01-01 00:00:00\", periods=8760, freq=\"H\")\n"
     ]
    },
    {
     "name": "stdout",
     "output_type": "stream",
     "text": [
      "Creating building IWU Research and University Teaching\n",
      "Available building types: ['IWU Office, Administrative or Government Buildings', 'IWU Research and University Teaching', 'IWU Health and Care', 'IWU School, Day Nursery and other Care', 'IWU Culture and Leisure', 'IWU Sports Facilities', 'IWU Hotels, Boarding, Restaurants or Catering', 'IWU Production, Workshop, Warehouse or Operations', 'IWU Trade Buildings', 'IWU Technical and Utility (supply and disposal)', 'IWU Transport', 'IWU Generalized (1) Services building', 'IWU Generalized (2) Production buildings']\n",
      "Current usage: IWU Research and University Teaching\n",
      "Creating building AB\n",
      "Creating building AB\n"
     ]
    },
    {
     "name": "stderr",
     "output_type": "stream",
     "text": [
      "c:\\Users\\felix\\Programmieren\\districtgenerator\\functions\\light_demand.py:99: FutureWarning: Setting an item of incompatible dtype is deprecated and will raise an error in a future version of pandas. Value '[157.92480469 236.88720703 394.81201172 394.81201172 315.84960938\n",
      "  78.96240234 236.88720703 394.81201172 315.84960938 315.84960938\n",
      " 157.92480469 157.92480469 236.88720703 394.81201172 394.81201172\n",
      " 315.84960938  78.96240234 236.88720703 394.81201172 315.84960938\n",
      " 315.84960938 157.92480469 157.92480469 236.88720703 394.81201172\n",
      " 394.81201172 315.84960938  78.96240234 315.84960938 157.92480469\n",
      " 157.92480469 236.88720703 394.81201172 394.81201172 315.84960938\n",
      "  78.96240234 236.88720703 394.81201172 315.84960938 315.84960938\n",
      " 157.92480469 157.92480469 236.88720703 394.81201172 394.81201172\n",
      " 315.84960938 315.84960938 157.92480469 157.92480469 236.88720703\n",
      " 394.81201172 394.81201172 315.84960938 157.92480469 157.92480469\n",
      " 236.88720703 394.81201172 394.81201172 315.84960938  78.96240234\n",
      " 236.88720703 315.84960938 315.84960938 157.92480469 157.92480469\n",
      " 236.88720703 394.81201172 394.81201172 315.84960938  78.96240234\n",
      " 236.88720703 394.81201172 315.84960938 315.84960938 157.92480469\n",
      " 157.92480469 236.88720703 394.81201172 394.81201172 315.84960938\n",
      "  78.96240234 236.88720703 394.81201172 315.84960938 315.84960938\n",
      " 157.92480469 157.92480469 236.88720703 394.81201172 394.81201172\n",
      " 315.84960938  78.96240234 236.88720703 394.81201172 315.84960938\n",
      " 315.84960938 157.92480469 157.92480469 236.88720703 394.81201172\n",
      " 394.81201172 315.84960938 157.92480469 157.92480469 236.88720703\n",
      " 394.81201172 394.81201172 315.84960938 236.88720703 394.81201172\n",
      " 315.84960938 315.84960938 157.92480469 157.92480469 236.88720703\n",
      " 394.81201172 394.81201172 315.84960938  78.96240234 236.88720703\n",
      " 394.81201172 157.92480469 236.88720703 394.81201172 394.81201172\n",
      " 315.84960938 315.84960938 315.84960938 157.92480469 157.92480469\n",
      " 236.88720703 394.81201172 394.81201172 157.92480469 157.92480469\n",
      " 236.88720703 394.81201172 394.81201172 315.84960938 157.92480469\n",
      " 236.88720703 394.81201172 394.81201172 315.84960938  78.96240234\n",
      " 236.88720703 394.81201172 315.84960938 315.84960938 157.92480469\n",
      " 157.92480469 236.88720703 394.81201172 394.81201172 315.84960938\n",
      "  78.96240234 236.88720703 315.84960938 315.84960938 157.92480469\n",
      " 157.92480469 236.88720703 394.81201172 394.81201172 315.84960938\n",
      "  78.96240234 236.88720703 394.81201172 315.84960938 315.84960938\n",
      " 157.92480469 157.92480469 236.88720703 394.81201172 394.81201172\n",
      " 315.84960938  78.96240234 236.88720703 394.81201172 315.84960938\n",
      " 315.84960938 157.92480469 157.92480469 236.88720703 394.81201172\n",
      " 394.81201172 315.84960938  78.96240234 236.88720703 394.81201172\n",
      " 315.84960938 315.84960938 157.92480469 157.92480469 236.88720703\n",
      " 394.81201172 394.81201172 157.92480469 236.88720703 394.81201172\n",
      " 394.81201172 315.84960938  78.96240234 394.81201172 315.84960938\n",
      " 315.84960938 157.92480469 157.92480469 236.88720703 394.81201172\n",
      " 394.81201172 315.84960938  78.96240234 236.88720703 394.81201172\n",
      " 315.84960938 315.84960938 157.92480469 157.92480469 236.88720703\n",
      " 394.81201172 394.81201172 157.92480469 236.88720703 394.81201172\n",
      " 394.81201172 157.92480469 236.88720703 394.81201172 394.81201172\n",
      " 315.84960938  78.96240234 236.88720703 315.84960938 315.84960938\n",
      " 157.92480469 157.92480469 236.88720703 394.81201172 394.81201172\n",
      " 157.92480469 236.88720703 394.81201172 394.81201172 315.84960938\n",
      "  78.96240234 236.88720703 394.81201172 315.84960938 315.84960938\n",
      " 157.92480469 157.92480469 236.88720703 394.81201172 394.81201172\n",
      " 315.84960938  78.96240234 236.88720703 394.81201172 315.84960938\n",
      " 315.84960938 157.92480469 157.92480469 236.88720703 394.81201172\n",
      " 157.92480469 236.88720703 394.81201172 157.92480469 236.88720703\n",
      " 394.81201172 157.92480469 236.88720703 394.81201172 315.84960938\n",
      " 315.84960938 157.92480469 236.88720703 394.81201172 394.81201172\n",
      " 315.84960938  78.96240234 236.88720703 394.81201172 315.84960938\n",
      " 315.84960938 157.92480469 157.92480469 236.88720703 394.81201172\n",
      " 394.81201172 315.84960938 157.92480469 236.88720703 394.81201172\n",
      " 394.81201172 315.84960938  78.96240234 236.88720703 394.81201172\n",
      " 315.84960938 315.84960938 157.92480469 157.92480469 236.88720703\n",
      " 394.81201172 394.81201172 157.92480469 157.92480469 236.88720703\n",
      " 394.81201172 394.81201172 157.92480469 157.92480469 236.88720703\n",
      " 394.81201172 157.92480469 236.88720703 394.81201172 157.92480469\n",
      " 236.88720703 157.92480469 236.88720703 394.81201172 394.81201172\n",
      " 157.92480469 236.88720703 157.92480469 236.88720703 394.81201172\n",
      " 157.92480469 236.88720703 394.81201172 315.84960938 157.92480469\n",
      " 157.92480469 236.88720703 394.81201172 315.84960938 315.84960938\n",
      " 157.92480469 157.92480469 236.88720703 157.92480469 236.88720703\n",
      " 157.92480469 236.88720703 157.92480469 236.88720703 157.92480469\n",
      " 236.88720703 157.92480469 236.88720703 157.92480469 236.88720703\n",
      " 394.81201172 157.92480469 157.92480469 236.88720703 394.81201172\n",
      " 157.92480469 236.88720703 157.92480469 236.88720703 157.92480469\n",
      " 236.88720703 157.92480469 236.88720703 157.92480469 236.88720703\n",
      " 157.92480469 236.88720703 315.84960938 157.92480469 157.92480469\n",
      " 236.88720703 394.81201172 394.81201172 157.92480469 236.88720703\n",
      " 157.92480469 236.88720703 394.81201172 157.92480469 236.88720703\n",
      " 157.92480469 157.92480469 236.88720703 157.92480469 157.92480469\n",
      " 236.88720703 315.84960938 157.92480469 157.92480469 236.88720703\n",
      " 394.81201172 315.84960938 157.92480469 236.88720703 394.81201172\n",
      " 157.92480469 157.92480469 236.88720703 157.92480469 157.92480469\n",
      " 157.92480469 157.92480469 157.92480469 157.92480469 157.92480469\n",
      " 157.92480469 157.92480469 157.92480469 157.92480469 157.92480469\n",
      " 157.92480469 157.92480469 157.92480469 157.92480469 394.81201172\n",
      " 157.92480469 157.92480469 157.92480469 236.88720703 157.92480469\n",
      " 236.88720703 394.81201172 157.92480469 236.88720703 157.92480469\n",
      " 157.92480469 157.92480469 236.88720703 315.84960938 157.92480469\n",
      " 157.92480469 236.88720703 157.92480469 236.88720703 157.92480469\n",
      " 236.88720703 157.92480469 157.92480469 394.81201172 394.81201172\n",
      " 236.88720703 394.81201172 315.84960938 315.84960938 157.92480469\n",
      " 236.88720703 157.92480469 394.81201172 157.92480469 157.92480469\n",
      " 394.81201172 394.81201172 315.84960938 157.92480469 157.92480469\n",
      " 236.88720703 394.81201172 157.92480469 157.92480469 236.88720703\n",
      " 394.81201172 157.92480469 157.92480469 157.92480469 157.92480469\n",
      " 157.92480469 236.88720703 157.92480469 157.92480469 236.88720703\n",
      " 157.92480469 157.92480469 157.92480469 157.92480469 157.92480469\n",
      " 236.88720703 394.81201172 394.81201172 315.84960938  78.96240234\n",
      " 236.88720703 157.92480469 236.88720703 394.81201172 157.92480469\n",
      " 236.88720703 157.92480469 236.88720703 157.92480469 157.92480469\n",
      " 236.88720703 394.81201172 394.81201172 315.84960938  78.96240234\n",
      " 157.92480469 236.88720703 394.81201172 157.92480469 157.92480469\n",
      " 236.88720703 394.81201172 394.81201172 157.92480469 236.88720703\n",
      " 157.92480469 236.88720703 157.92480469 157.92480469 236.88720703\n",
      " 157.92480469 236.88720703 157.92480469 236.88720703 157.92480469\n",
      " 157.92480469 236.88720703 157.92480469 236.88720703 157.92480469\n",
      " 236.88720703 394.81201172 394.81201172 157.92480469 157.92480469\n",
      " 236.88720703 394.81201172 394.81201172 315.84960938  78.96240234\n",
      " 157.92480469 236.88720703 157.92480469 157.92480469 236.88720703\n",
      " 394.81201172 394.81201172 157.92480469 236.88720703 157.92480469\n",
      " 236.88720703 394.81201172 394.81201172 157.92480469 236.88720703\n",
      " 157.92480469 236.88720703 157.92480469 236.88720703 394.81201172\n",
      " 394.81201172 157.92480469 236.88720703 157.92480469 236.88720703\n",
      " 157.92480469 236.88720703 394.81201172 394.81201172 315.84960938\n",
      "  78.96240234 315.84960938 157.92480469 157.92480469 236.88720703\n",
      " 315.84960938 315.84960938 157.92480469 157.92480469 236.88720703\n",
      " 394.81201172 394.81201172  78.96240234 236.88720703 394.81201172\n",
      " 315.84960938 315.84960938 157.92480469 157.92480469 236.88720703\n",
      " 157.92480469 236.88720703 394.81201172 394.81201172 157.92480469\n",
      " 236.88720703 394.81201172 157.92480469 157.92480469 236.88720703\n",
      " 394.81201172 157.92480469 236.88720703 394.81201172 315.84960938\n",
      " 157.92480469 236.88720703 157.92480469 236.88720703 157.92480469\n",
      " 236.88720703 157.92480469 236.88720703 157.92480469 236.88720703\n",
      " 394.81201172 394.81201172 315.84960938 157.92480469 157.92480469\n",
      " 236.88720703 394.81201172 157.92480469 236.88720703 157.92480469\n",
      " 236.88720703 394.81201172 394.81201172 315.84960938  78.96240234\n",
      " 236.88720703 394.81201172 315.84960938 315.84960938 157.92480469\n",
      " 157.92480469 236.88720703 394.81201172 394.81201172 157.92480469\n",
      " 236.88720703 394.81201172 394.81201172 315.84960938  78.96240234\n",
      " 157.92480469 236.88720703 394.81201172 157.92480469 157.92480469\n",
      " 236.88720703 394.81201172 157.92480469 157.92480469 236.88720703\n",
      " 394.81201172 394.81201172 315.84960938 157.92480469 236.88720703\n",
      " 157.92480469 236.88720703 394.81201172 394.81201172 315.84960938\n",
      " 157.92480469 157.92480469 236.88720703 394.81201172 157.92480469\n",
      " 236.88720703 394.81201172 157.92480469 157.92480469 236.88720703\n",
      " 394.81201172 394.81201172 315.84960938  78.96240234 394.81201172\n",
      " 315.84960938 315.84960938 157.92480469 157.92480469 236.88720703\n",
      " 394.81201172 157.92480469 236.88720703 394.81201172 157.92480469\n",
      " 236.88720703 394.81201172 157.92480469 236.88720703 394.81201172\n",
      " 315.84960938 157.92480469 157.92480469 236.88720703 394.81201172\n",
      " 157.92480469 236.88720703 394.81201172 394.81201172 315.84960938\n",
      "  78.96240234 236.88720703 157.92480469 157.92480469 236.88720703\n",
      " 394.81201172 157.92480469 236.88720703 394.81201172 394.81201172\n",
      " 315.84960938  78.96240234 157.92480469 157.92480469 236.88720703\n",
      " 394.81201172 394.81201172 157.92480469 236.88720703 394.81201172\n",
      " 157.92480469 236.88720703 394.81201172 394.81201172 315.84960938\n",
      "  78.96240234 236.88720703 394.81201172 315.84960938 315.84960938\n",
      " 157.92480469 157.92480469 236.88720703 394.81201172 157.92480469\n",
      " 157.92480469 236.88720703 394.81201172 394.81201172 315.84960938\n",
      "  78.96240234 157.92480469 157.92480469 236.88720703 394.81201172\n",
      " 394.81201172  78.96240234 236.88720703 315.84960938 315.84960938\n",
      " 157.92480469 157.92480469 236.88720703 394.81201172 394.81201172\n",
      " 315.84960938  78.96240234 236.88720703 394.81201172 315.84960938\n",
      " 315.84960938 157.92480469 157.92480469 236.88720703 394.81201172\n",
      " 394.81201172 157.92480469 157.92480469 236.88720703 394.81201172\n",
      " 394.81201172 315.84960938  78.96240234 236.88720703 394.81201172\n",
      " 315.84960938 315.84960938 157.92480469 157.92480469 236.88720703\n",
      " 394.81201172 394.81201172 157.92480469 157.92480469 236.88720703\n",
      " 394.81201172 394.81201172 315.84960938  78.96240234 236.88720703\n",
      " 394.81201172 315.84960938 315.84960938 157.92480469 157.92480469\n",
      " 236.88720703 394.81201172 394.81201172 315.84960938 157.92480469\n",
      " 157.92480469 236.88720703 394.81201172 394.81201172 315.84960938\n",
      " 157.92480469 157.92480469 236.88720703 394.81201172 394.81201172\n",
      " 315.84960938  78.96240234 236.88720703 394.81201172 315.84960938\n",
      " 315.84960938 157.92480469 157.92480469 236.88720703 394.81201172\n",
      " 394.81201172 315.84960938  78.96240234 236.88720703 394.81201172\n",
      " 315.84960938 315.84960938 157.92480469 157.92480469 236.88720703\n",
      " 394.81201172 394.81201172 315.84960938  78.96240234 236.88720703\n",
      " 394.81201172 315.84960938 315.84960938 157.92480469 157.92480469\n",
      " 236.88720703 394.81201172 394.81201172 315.84960938  78.96240234\n",
      " 236.88720703 394.81201172 315.84960938 315.84960938 157.92480469\n",
      " 157.92480469 236.88720703 394.81201172 394.81201172 315.84960938\n",
      " 315.84960938 157.92480469 157.92480469 236.88720703 394.81201172\n",
      " 394.81201172 315.84960938  78.96240234 236.88720703 394.81201172\n",
      " 315.84960938 315.84960938 157.92480469 157.92480469 236.88720703\n",
      " 394.81201172 394.81201172 315.84960938  78.96240234 236.88720703\n",
      " 394.81201172 157.92480469 157.92480469 236.88720703 394.81201172\n",
      " 394.81201172 315.84960938 315.84960938 157.92480469 157.92480469\n",
      " 236.88720703 394.81201172 394.81201172 315.84960938 157.92480469\n",
      " 157.92480469 236.88720703 394.81201172 394.81201172 157.92480469\n",
      " 157.92480469 236.88720703 394.81201172 394.81201172 315.84960938\n",
      " 236.88720703 315.84960938 157.92480469 157.92480469 236.88720703\n",
      " 394.81201172 394.81201172 315.84960938 157.92480469 157.92480469\n",
      " 236.88720703 394.81201172 394.81201172 315.84960938  78.96240234\n",
      " 236.88720703 394.81201172 315.84960938 315.84960938 157.92480469\n",
      " 157.92480469 236.88720703 394.81201172 394.81201172 315.84960938\n",
      "  78.96240234 236.88720703 394.81201172 315.84960938 315.84960938\n",
      " 157.92480469 157.92480469 236.88720703 394.81201172 394.81201172\n",
      " 315.84960938  78.96240234 236.88720703 394.81201172 315.84960938\n",
      " 315.84960938 157.92480469 157.92480469 236.88720703 394.81201172\n",
      " 394.81201172 315.84960938  78.96240234 236.88720703 394.81201172\n",
      " 315.84960938 315.84960938 157.92480469 157.92480469 236.88720703\n",
      " 394.81201172 394.81201172 315.84960938 394.81201172 315.84960938\n",
      " 315.84960938 157.92480469 157.92480469 236.88720703 394.81201172\n",
      " 394.81201172 315.84960938  78.96240234 236.88720703 394.81201172\n",
      " 315.84960938 315.84960938 157.92480469 157.92480469 236.88720703\n",
      " 394.81201172 394.81201172 157.92480469 157.92480469 236.88720703\n",
      " 394.81201172 394.81201172 315.84960938  78.96240234 236.88720703\n",
      " 394.81201172 315.84960938 315.84960938 157.92480469 157.92480469\n",
      " 236.88720703 394.81201172 394.81201172 315.84960938  78.96240234\n",
      " 236.88720703 394.81201172 315.84960938 315.84960938 157.92480469]' has dtype incompatible with int64, please explicitly cast to a compatible dtype first.\n",
      "  lighting_demand[mask] = lighting_load * area * occupancy_schedule[\"OCCUPANCY\"][mask]\n",
      "c:\\Users\\felix\\Programmieren\\districtgenerator\\.venv\\Lib\\site-packages\\teaser\\logic\\buildingobjects\\useconditions.py:363: FutureWarning: 'H' is deprecated and will be removed in a future version, please use 'h' instead.\n",
      "  index=pd.date_range(\"2019-01-01 00:00:00\", periods=8760, freq=\"H\")\n",
      "c:\\Users\\felix\\Programmieren\\districtgenerator\\.venv\\Lib\\site-packages\\teaser\\logic\\buildingobjects\\useconditions.py:363: FutureWarning: 'H' is deprecated and will be removed in a future version, please use 'h' instead.\n",
      "  index=pd.date_range(\"2019-01-01 00:00:00\", periods=8760, freq=\"H\")\n"
     ]
    },
    {
     "name": "stdout",
     "output_type": "stream",
     "text": [
      "Creating building AB\n",
      "Creating building AB\n"
     ]
    },
    {
     "name": "stderr",
     "output_type": "stream",
     "text": [
      "c:\\Users\\felix\\Programmieren\\districtgenerator\\.venv\\Lib\\site-packages\\teaser\\logic\\buildingobjects\\useconditions.py:363: FutureWarning: 'H' is deprecated and will be removed in a future version, please use 'h' instead.\n",
      "  index=pd.date_range(\"2019-01-01 00:00:00\", periods=8760, freq=\"H\")\n",
      "c:\\Users\\felix\\Programmieren\\districtgenerator\\.venv\\Lib\\site-packages\\teaser\\logic\\buildingobjects\\useconditions.py:363: FutureWarning: 'H' is deprecated and will be removed in a future version, please use 'h' instead.\n",
      "  index=pd.date_range(\"2019-01-01 00:00:00\", periods=8760, freq=\"H\")\n"
     ]
    },
    {
     "name": "stdout",
     "output_type": "stream",
     "text": [
      "Creating building IWU Office, Administrative or Government Buildings\n",
      "Available building types: ['IWU Office, Administrative or Government Buildings', 'IWU Research and University Teaching', 'IWU Health and Care', 'IWU School, Day Nursery and other Care', 'IWU Culture and Leisure', 'IWU Sports Facilities', 'IWU Hotels, Boarding, Restaurants or Catering', 'IWU Production, Workshop, Warehouse or Operations', 'IWU Trade Buildings', 'IWU Technical and Utility (supply and disposal)', 'IWU Transport', 'IWU Generalized (1) Services building', 'IWU Generalized (2) Production buildings']\n",
      "Current usage: IWU Office, Administrative or Government Buildings\n",
      "Creating building AB\n"
     ]
    },
    {
     "name": "stderr",
     "output_type": "stream",
     "text": [
      "c:\\Users\\felix\\Programmieren\\districtgenerator\\functions\\light_demand.py:99: FutureWarning: Setting an item of incompatible dtype is deprecated and will raise an error in a future version of pandas. Value '[117220.48611328 351661.45833984 351661.45833984 ... 410271.70139648\n",
      " 351661.45833984 117220.48611328]' has dtype incompatible with int64, please explicitly cast to a compatible dtype first.\n",
      "  lighting_demand[mask] = lighting_load * area * occupancy_schedule[\"OCCUPANCY\"][mask]\n",
      "c:\\Users\\felix\\Programmieren\\districtgenerator\\.venv\\Lib\\site-packages\\teaser\\logic\\buildingobjects\\useconditions.py:363: FutureWarning: 'H' is deprecated and will be removed in a future version, please use 'h' instead.\n",
      "  index=pd.date_range(\"2019-01-01 00:00:00\", periods=8760, freq=\"H\")\n"
     ]
    },
    {
     "name": "stdout",
     "output_type": "stream",
     "text": [
      "Creating building AB\n"
     ]
    },
    {
     "name": "stderr",
     "output_type": "stream",
     "text": [
      "c:\\Users\\felix\\Programmieren\\districtgenerator\\.venv\\Lib\\site-packages\\teaser\\logic\\buildingobjects\\useconditions.py:363: FutureWarning: 'H' is deprecated and will be removed in a future version, please use 'h' instead.\n",
      "  index=pd.date_range(\"2019-01-01 00:00:00\", periods=8760, freq=\"H\")\n"
     ]
    },
    {
     "name": "stdout",
     "output_type": "stream",
     "text": [
      "Creating building AB\n"
     ]
    },
    {
     "name": "stderr",
     "output_type": "stream",
     "text": [
      "c:\\Users\\felix\\Programmieren\\districtgenerator\\.venv\\Lib\\site-packages\\teaser\\logic\\buildingobjects\\useconditions.py:363: FutureWarning: 'H' is deprecated and will be removed in a future version, please use 'h' instead.\n",
      "  index=pd.date_range(\"2019-01-01 00:00:00\", periods=8760, freq=\"H\")\n"
     ]
    },
    {
     "name": "stdout",
     "output_type": "stream",
     "text": [
      "Creating building AB\n",
      "Creating building AB\n"
     ]
    },
    {
     "name": "stderr",
     "output_type": "stream",
     "text": [
      "c:\\Users\\felix\\Programmieren\\districtgenerator\\.venv\\Lib\\site-packages\\teaser\\logic\\buildingobjects\\useconditions.py:363: FutureWarning: 'H' is deprecated and will be removed in a future version, please use 'h' instead.\n",
      "  index=pd.date_range(\"2019-01-01 00:00:00\", periods=8760, freq=\"H\")\n",
      "c:\\Users\\felix\\Programmieren\\districtgenerator\\.venv\\Lib\\site-packages\\teaser\\logic\\buildingobjects\\useconditions.py:363: FutureWarning: 'H' is deprecated and will be removed in a future version, please use 'h' instead.\n",
      "  index=pd.date_range(\"2019-01-01 00:00:00\", periods=8760, freq=\"H\")\n"
     ]
    },
    {
     "name": "stdout",
     "output_type": "stream",
     "text": [
      "Creating building AB\n",
      "Creating building AB\n"
     ]
    },
    {
     "name": "stderr",
     "output_type": "stream",
     "text": [
      "c:\\Users\\felix\\Programmieren\\districtgenerator\\.venv\\Lib\\site-packages\\teaser\\logic\\buildingobjects\\useconditions.py:363: FutureWarning: 'H' is deprecated and will be removed in a future version, please use 'h' instead.\n",
      "  index=pd.date_range(\"2019-01-01 00:00:00\", periods=8760, freq=\"H\")\n",
      "c:\\Users\\felix\\Programmieren\\districtgenerator\\.venv\\Lib\\site-packages\\teaser\\logic\\buildingobjects\\useconditions.py:363: FutureWarning: 'H' is deprecated and will be removed in a future version, please use 'h' instead.\n",
      "  index=pd.date_range(\"2019-01-01 00:00:00\", periods=8760, freq=\"H\")\n"
     ]
    },
    {
     "name": "stdout",
     "output_type": "stream",
     "text": [
      "Creating building IWU School, Day Nursery and other Care\n",
      "Available building types: ['IWU Office, Administrative or Government Buildings', 'IWU Research and University Teaching', 'IWU Health and Care', 'IWU School, Day Nursery and other Care', 'IWU Culture and Leisure', 'IWU Sports Facilities', 'IWU Hotels, Boarding, Restaurants or Catering', 'IWU Production, Workshop, Warehouse or Operations', 'IWU Trade Buildings', 'IWU Technical and Utility (supply and disposal)', 'IWU Transport', 'IWU Generalized (1) Services building', 'IWU Generalized (2) Production buildings']\n",
      "Current usage: IWU School, Day Nursery and other Care\n",
      "Creating building AB\n",
      "Creating building IWU School, Day Nursery and other Care\n",
      "Available building types: ['IWU Office, Administrative or Government Buildings', 'IWU Research and University Teaching', 'IWU Health and Care', 'IWU School, Day Nursery and other Care', 'IWU Culture and Leisure', 'IWU Sports Facilities', 'IWU Hotels, Boarding, Restaurants or Catering', 'IWU Production, Workshop, Warehouse or Operations', 'IWU Trade Buildings', 'IWU Technical and Utility (supply and disposal)', 'IWU Transport', 'IWU Generalized (1) Services building', 'IWU Generalized (2) Production buildings']\n",
      "Current usage: IWU School, Day Nursery and other Care\n",
      "Creating building AB\n"
     ]
    },
    {
     "name": "stderr",
     "output_type": "stream",
     "text": [
      "c:\\Users\\felix\\Programmieren\\districtgenerator\\functions\\light_demand.py:99: FutureWarning: Setting an item of incompatible dtype is deprecated and will raise an error in a future version of pandas. Value '[25515.590625  29768.1890625 25515.590625  ... 25515.590625  17010.39375\n",
      "  8505.196875 ]' has dtype incompatible with int64, please explicitly cast to a compatible dtype first.\n",
      "  lighting_demand[mask] = lighting_load * area * occupancy_schedule[\"OCCUPANCY\"][mask]\n",
      "c:\\Users\\felix\\Programmieren\\districtgenerator\\.venv\\Lib\\site-packages\\teaser\\logic\\buildingobjects\\useconditions.py:363: FutureWarning: 'H' is deprecated and will be removed in a future version, please use 'h' instead.\n",
      "  index=pd.date_range(\"2019-01-01 00:00:00\", periods=8760, freq=\"H\")\n",
      "c:\\Users\\felix\\Programmieren\\districtgenerator\\functions\\light_demand.py:99: FutureWarning: Setting an item of incompatible dtype is deprecated and will raise an error in a future version of pandas. Value '[503.33349609 587.22241211 503.33349609 335.55566406 251.66674805\n",
      " 587.22241211 503.33349609 335.55566406 167.77783203 503.33349609\n",
      " 587.22241211 503.33349609 335.55566406 251.66674805 587.22241211\n",
      " 503.33349609 335.55566406 167.77783203 503.33349609 587.22241211\n",
      " 503.33349609 335.55566406 251.66674805 587.22241211 503.33349609\n",
      " 167.77783203 503.33349609 587.22241211 503.33349609 335.55566406\n",
      " 251.66674805 587.22241211 503.33349609 335.55566406 167.77783203\n",
      " 503.33349609 587.22241211 503.33349609 335.55566406 167.77783203\n",
      " 503.33349609 587.22241211 503.33349609 335.55566406 503.33349609\n",
      " 587.22241211 503.33349609 335.55566406 251.66674805 587.22241211\n",
      " 503.33349609 335.55566406 167.77783203 503.33349609 587.22241211\n",
      " 503.33349609 335.55566406 251.66674805 587.22241211 503.33349609\n",
      " 335.55566406 167.77783203 503.33349609 587.22241211 503.33349609\n",
      " 335.55566406 251.66674805 587.22241211 503.33349609 335.55566406\n",
      " 167.77783203 503.33349609 587.22241211 503.33349609 335.55566406\n",
      " 251.66674805 587.22241211 503.33349609 335.55566406 167.77783203\n",
      " 503.33349609 587.22241211 503.33349609 335.55566406 167.77783203\n",
      " 503.33349609 587.22241211 503.33349609 335.55566406 251.66674805\n",
      " 587.22241211 503.33349609 335.55566406 167.77783203 503.33349609\n",
      " 587.22241211 503.33349609 335.55566406 251.66674805 587.22241211\n",
      " 503.33349609 503.33349609 587.22241211 503.33349609 335.55566406\n",
      " 335.55566406 167.77783203 503.33349609 587.22241211 503.33349609\n",
      " 503.33349609 587.22241211 503.33349609 335.55566406 251.66674805\n",
      " 503.33349609 587.22241211 503.33349609 335.55566406 251.66674805\n",
      " 587.22241211 503.33349609 335.55566406 167.77783203 503.33349609\n",
      " 587.22241211 503.33349609 335.55566406 251.66674805 587.22241211\n",
      " 503.33349609 335.55566406 167.77783203 503.33349609 587.22241211\n",
      " 503.33349609 335.55566406 251.66674805 587.22241211 503.33349609\n",
      " 335.55566406 167.77783203 503.33349609 587.22241211 503.33349609\n",
      " 335.55566406 251.66674805 587.22241211 503.33349609 335.55566406\n",
      " 167.77783203 503.33349609 587.22241211 503.33349609 335.55566406\n",
      " 251.66674805 587.22241211 503.33349609 335.55566406 167.77783203\n",
      " 503.33349609 587.22241211 503.33349609 503.33349609 587.22241211\n",
      " 503.33349609 335.55566406 251.66674805 587.22241211 503.33349609\n",
      " 335.55566406 167.77783203 503.33349609 587.22241211 503.33349609\n",
      " 335.55566406 251.66674805 587.22241211 503.33349609 335.55566406\n",
      " 167.77783203 503.33349609 587.22241211 503.33349609 503.33349609\n",
      " 587.22241211 503.33349609 335.55566406 503.33349609 587.22241211\n",
      " 503.33349609 335.55566406 251.66674805 587.22241211 335.55566406\n",
      " 167.77783203 503.33349609 587.22241211 503.33349609 503.33349609\n",
      " 587.22241211 503.33349609 335.55566406 251.66674805 587.22241211\n",
      " 503.33349609 335.55566406 167.77783203 503.33349609 587.22241211\n",
      " 503.33349609 335.55566406 251.66674805 587.22241211 503.33349609\n",
      " 335.55566406 167.77783203 503.33349609 587.22241211 503.33349609\n",
      " 587.22241211 503.33349609 587.22241211 503.33349609 587.22241211\n",
      " 335.55566406 167.77783203 503.33349609 587.22241211 503.33349609\n",
      " 335.55566406 251.66674805 587.22241211 503.33349609 335.55566406\n",
      " 167.77783203 503.33349609 587.22241211 503.33349609 335.55566406\n",
      " 503.33349609 587.22241211 503.33349609 335.55566406 251.66674805\n",
      " 587.22241211 503.33349609 335.55566406 167.77783203 503.33349609\n",
      " 587.22241211 503.33349609 503.33349609 587.22241211 503.33349609\n",
      " 503.33349609 587.22241211 167.77783203 503.33349609 587.22241211\n",
      " 503.33349609 503.33349609 587.22241211 503.33349609 503.33349609\n",
      " 503.33349609 587.22241211 503.33349609 587.22241211 167.77783203\n",
      " 503.33349609 587.22241211 587.22241211 503.33349609 335.55566406\n",
      " 167.77783203 503.33349609 503.33349609 503.33349609 503.33349609\n",
      " 503.33349609 503.33349609 503.33349609 587.22241211 503.33349609\n",
      " 587.22241211 503.33349609 503.33349609 503.33349609 503.33349609\n",
      " 503.33349609 503.33349609 167.77783203 503.33349609 587.22241211\n",
      " 503.33349609 503.33349609 503.33349609 587.22241211 503.33349609\n",
      " 503.33349609 503.33349609 503.33349609 167.77783203 503.33349609\n",
      " 587.22241211 167.77783203 503.33349609 587.22241211 503.33349609\n",
      " 503.33349609 503.33349609 503.33349609 503.33349609 587.22241211\n",
      " 503.33349609 503.33349609 587.22241211 503.33349609 503.33349609\n",
      " 167.77783203 503.33349609 587.22241211 503.33349609 503.33349609\n",
      " 587.22241211 503.33349609 503.33349609 587.22241211 503.33349609\n",
      " 587.22241211 503.33349609 335.55566406 167.77783203 503.33349609\n",
      " 503.33349609 587.22241211 503.33349609 587.22241211 503.33349609\n",
      " 335.55566406 503.33349609 587.22241211 587.22241211 503.33349609\n",
      " 587.22241211 503.33349609 587.22241211 503.33349609 503.33349609\n",
      " 587.22241211 503.33349609 587.22241211 503.33349609 335.55566406\n",
      " 251.66674805 587.22241211 335.55566406 167.77783203 503.33349609\n",
      " 587.22241211 503.33349609 503.33349609 503.33349609 503.33349609\n",
      " 587.22241211 503.33349609 335.55566406 251.66674805 587.22241211\n",
      " 503.33349609 587.22241211 503.33349609 587.22241211 503.33349609\n",
      " 503.33349609 503.33349609 503.33349609 503.33349609 503.33349609\n",
      " 503.33349609 503.33349609 503.33349609 587.22241211 503.33349609\n",
      " 503.33349609 503.33349609 587.22241211 503.33349609 335.55566406\n",
      " 251.66674805 503.33349609 587.22241211 503.33349609 587.22241211\n",
      " 503.33349609 503.33349609 503.33349609 587.22241211 503.33349609\n",
      " 335.55566406 503.33349609 503.33349609 503.33349609 587.22241211\n",
      " 503.33349609 335.55566406 503.33349609 503.33349609 503.33349609\n",
      " 503.33349609 587.22241211 503.33349609 335.55566406 251.66674805\n",
      " 167.77783203 503.33349609 335.55566406 167.77783203 503.33349609\n",
      " 587.22241211 503.33349609 335.55566406 251.66674805 587.22241211\n",
      " 503.33349609 335.55566406 167.77783203 503.33349609 587.22241211\n",
      " 503.33349609 587.22241211 503.33349609 503.33349609 587.22241211\n",
      " 503.33349609 335.55566406 167.77783203 503.33349609 587.22241211\n",
      " 503.33349609 587.22241211 503.33349609 335.55566406 503.33349609\n",
      " 503.33349609 503.33349609 503.33349609 587.22241211 503.33349609\n",
      " 587.22241211 503.33349609 335.55566406 503.33349609 587.22241211\n",
      " 503.33349609 587.22241211 503.33349609 587.22241211 503.33349609\n",
      " 335.55566406 251.66674805 587.22241211 503.33349609 335.55566406\n",
      " 167.77783203 503.33349609 587.22241211 503.33349609 503.33349609\n",
      " 587.22241211 503.33349609 335.55566406 251.66674805 503.33349609\n",
      " 587.22241211 503.33349609 587.22241211 503.33349609 503.33349609\n",
      " 587.22241211 503.33349609 335.55566406 503.33349609 587.22241211\n",
      " 503.33349609 587.22241211 503.33349609 503.33349609 167.77783203\n",
      " 503.33349609 587.22241211 503.33349609 587.22241211 167.77783203\n",
      " 503.33349609 587.22241211 503.33349609 335.55566406 251.66674805\n",
      " 503.33349609 335.55566406 167.77783203 503.33349609 587.22241211\n",
      " 503.33349609 587.22241211 503.33349609 587.22241211 503.33349609\n",
      " 587.22241211 167.77783203 503.33349609 587.22241211 503.33349609\n",
      " 587.22241211 503.33349609 335.55566406 251.66674805 587.22241211\n",
      " 503.33349609 587.22241211 503.33349609 503.33349609 587.22241211\n",
      " 503.33349609 335.55566406 251.66674805 503.33349609 587.22241211\n",
      " 503.33349609 503.33349609 587.22241211 503.33349609 503.33349609\n",
      " 587.22241211 503.33349609 335.55566406 251.66674805 587.22241211\n",
      " 503.33349609 335.55566406 167.77783203 503.33349609 587.22241211\n",
      " 167.77783203 503.33349609 587.22241211 503.33349609 335.55566406\n",
      " 251.66674805 503.33349609 587.22241211 503.33349609 251.66674805\n",
      " 587.22241211 503.33349609 335.55566406 167.77783203 503.33349609\n",
      " 587.22241211 503.33349609 335.55566406 251.66674805 587.22241211\n",
      " 503.33349609 335.55566406 167.77783203 503.33349609 587.22241211\n",
      " 503.33349609 503.33349609 587.22241211 503.33349609 335.55566406\n",
      " 251.66674805 587.22241211 503.33349609 335.55566406 167.77783203\n",
      " 503.33349609 587.22241211 503.33349609 503.33349609 587.22241211\n",
      " 503.33349609 335.55566406 251.66674805 587.22241211 503.33349609\n",
      " 335.55566406 167.77783203 503.33349609 587.22241211 503.33349609\n",
      " 335.55566406 251.66674805 167.77783203 503.33349609 587.22241211\n",
      " 503.33349609 335.55566406 251.66674805 503.33349609 587.22241211\n",
      " 503.33349609 335.55566406 251.66674805 587.22241211 503.33349609\n",
      " 335.55566406 167.77783203 503.33349609 587.22241211 503.33349609\n",
      " 335.55566406 251.66674805 587.22241211 503.33349609 335.55566406\n",
      " 167.77783203 503.33349609 587.22241211 503.33349609 335.55566406\n",
      " 251.66674805 587.22241211 503.33349609 335.55566406 167.77783203\n",
      " 503.33349609 587.22241211 503.33349609 335.55566406 251.66674805\n",
      " 587.22241211 503.33349609 335.55566406 167.77783203 503.33349609\n",
      " 587.22241211 503.33349609 335.55566406 251.66674805 167.77783203\n",
      " 503.33349609 587.22241211 503.33349609 335.55566406 251.66674805\n",
      " 587.22241211 503.33349609 335.55566406 167.77783203 503.33349609\n",
      " 587.22241211 503.33349609 335.55566406 251.66674805 587.22241211\n",
      " 503.33349609 335.55566406 167.77783203 503.33349609 587.22241211\n",
      " 503.33349609 335.55566406 251.66674805 167.77783203 503.33349609\n",
      " 587.22241211 503.33349609 335.55566406 503.33349609 587.22241211\n",
      " 503.33349609 503.33349609 587.22241211 503.33349609 335.55566406\n",
      " 251.66674805 587.22241211 335.55566406 167.77783203 503.33349609\n",
      " 587.22241211 503.33349609 335.55566406 251.66674805 503.33349609\n",
      " 587.22241211 503.33349609 335.55566406 251.66674805 587.22241211\n",
      " 503.33349609 335.55566406 167.77783203 503.33349609 587.22241211\n",
      " 503.33349609 335.55566406 251.66674805 587.22241211 503.33349609\n",
      " 335.55566406 167.77783203 503.33349609 587.22241211 503.33349609\n",
      " 335.55566406 251.66674805 587.22241211 503.33349609 335.55566406\n",
      " 167.77783203 503.33349609 587.22241211 503.33349609 335.55566406\n",
      " 251.66674805 587.22241211 503.33349609 335.55566406 167.77783203\n",
      " 503.33349609 587.22241211 503.33349609 335.55566406 503.33349609\n",
      " 335.55566406 167.77783203 503.33349609 587.22241211 503.33349609\n",
      " 335.55566406 251.66674805 587.22241211 503.33349609 335.55566406\n",
      " 167.77783203 503.33349609 587.22241211 503.33349609 335.55566406\n",
      " 503.33349609 587.22241211 503.33349609 335.55566406 251.66674805\n",
      " 587.22241211 503.33349609 335.55566406 167.77783203 503.33349609\n",
      " 587.22241211 503.33349609 335.55566406 251.66674805 587.22241211\n",
      " 503.33349609 335.55566406 167.77783203]' has dtype incompatible with int64, please explicitly cast to a compatible dtype first.\n",
      "  lighting_demand[mask] = lighting_load * area * occupancy_schedule[\"OCCUPANCY\"][mask]\n",
      "c:\\Users\\felix\\Programmieren\\districtgenerator\\.venv\\Lib\\site-packages\\teaser\\logic\\buildingobjects\\useconditions.py:363: FutureWarning: 'H' is deprecated and will be removed in a future version, please use 'h' instead.\n",
      "  index=pd.date_range(\"2019-01-01 00:00:00\", periods=8760, freq=\"H\")\n"
     ]
    },
    {
     "name": "stdout",
     "output_type": "stream",
     "text": [
      "Creating building IWU Transport\n",
      "Available building types: ['IWU Office, Administrative or Government Buildings', 'IWU Research and University Teaching', 'IWU Health and Care', 'IWU School, Day Nursery and other Care', 'IWU Culture and Leisure', 'IWU Sports Facilities', 'IWU Hotels, Boarding, Restaurants or Catering', 'IWU Production, Workshop, Warehouse or Operations', 'IWU Trade Buildings', 'IWU Technical and Utility (supply and disposal)', 'IWU Transport', 'IWU Generalized (1) Services building', 'IWU Generalized (2) Production buildings']\n",
      "Current usage: IWU Transport\n",
      "Creating building AB\n"
     ]
    },
    {
     "name": "stderr",
     "output_type": "stream",
     "text": [
      "c:\\Users\\felix\\Programmieren\\districtgenerator\\functions\\light_demand.py:99: FutureWarning: Setting an item of incompatible dtype is deprecated and will raise an error in a future version of pandas. Value '[131.91120117 263.82240234 395.73360352 ... 527.64480469 263.82240234\n",
      " 131.91120117]' has dtype incompatible with int64, please explicitly cast to a compatible dtype first.\n",
      "  lighting_demand[mask] = lighting_load * area * occupancy_schedule[\"OCCUPANCY\"][mask]\n",
      "c:\\Users\\felix\\Programmieren\\districtgenerator\\.venv\\Lib\\site-packages\\teaser\\logic\\buildingobjects\\useconditions.py:363: FutureWarning: 'H' is deprecated and will be removed in a future version, please use 'h' instead.\n",
      "  index=pd.date_range(\"2019-01-01 00:00:00\", periods=8760, freq=\"H\")\n",
      "c:\\Users\\felix\\Programmieren\\districtgenerator\\.venv\\Lib\\site-packages\\teaser\\logic\\buildingobjects\\useconditions.py:363: FutureWarning: 'H' is deprecated and will be removed in a future version, please use 'h' instead.\n",
      "  index=pd.date_range(\"2019-01-01 00:00:00\", periods=8760, freq=\"H\")\n"
     ]
    },
    {
     "name": "stdout",
     "output_type": "stream",
     "text": [
      "Creating building AB\n",
      "Creating building AB\n"
     ]
    },
    {
     "name": "stderr",
     "output_type": "stream",
     "text": [
      "c:\\Users\\felix\\Programmieren\\districtgenerator\\.venv\\Lib\\site-packages\\teaser\\logic\\buildingobjects\\useconditions.py:363: FutureWarning: 'H' is deprecated and will be removed in a future version, please use 'h' instead.\n",
      "  index=pd.date_range(\"2019-01-01 00:00:00\", periods=8760, freq=\"H\")\n",
      "c:\\Users\\felix\\Programmieren\\districtgenerator\\.venv\\Lib\\site-packages\\teaser\\logic\\buildingobjects\\useconditions.py:363: FutureWarning: 'H' is deprecated and will be removed in a future version, please use 'h' instead.\n",
      "  index=pd.date_range(\"2019-01-01 00:00:00\", periods=8760, freq=\"H\")\n"
     ]
    },
    {
     "name": "stdout",
     "output_type": "stream",
     "text": [
      "Creating building AB\n",
      "Creating building IWU Transport\n",
      "Available building types: ['IWU Office, Administrative or Government Buildings', 'IWU Research and University Teaching', 'IWU Health and Care', 'IWU School, Day Nursery and other Care', 'IWU Culture and Leisure', 'IWU Sports Facilities', 'IWU Hotels, Boarding, Restaurants or Catering', 'IWU Production, Workshop, Warehouse or Operations', 'IWU Trade Buildings', 'IWU Technical and Utility (supply and disposal)', 'IWU Transport', 'IWU Generalized (1) Services building', 'IWU Generalized (2) Production buildings']\n",
      "Current usage: IWU Transport\n"
     ]
    },
    {
     "name": "stderr",
     "output_type": "stream",
     "text": [
      "c:\\Users\\felix\\Programmieren\\districtgenerator\\functions\\light_demand.py:99: FutureWarning: Setting an item of incompatible dtype is deprecated and will raise an error in a future version of pandas. Value '[ 671.81360352 1343.62720703 2015.44081055 ... 2687.25441406 1343.62720703\n",
      "  671.81360352]' has dtype incompatible with int64, please explicitly cast to a compatible dtype first.\n",
      "  lighting_demand[mask] = lighting_load * area * occupancy_schedule[\"OCCUPANCY\"][mask]\n",
      "c:\\Users\\felix\\Programmieren\\districtgenerator\\.venv\\Lib\\site-packages\\teaser\\logic\\buildingobjects\\useconditions.py:363: FutureWarning: 'H' is deprecated and will be removed in a future version, please use 'h' instead.\n",
      "  index=pd.date_range(\"2019-01-01 00:00:00\", periods=8760, freq=\"H\")\n",
      "c:\\Users\\felix\\Programmieren\\districtgenerator\\.venv\\Lib\\site-packages\\teaser\\logic\\buildingobjects\\useconditions.py:363: FutureWarning: 'H' is deprecated and will be removed in a future version, please use 'h' instead.\n",
      "  index=pd.date_range(\"2019-01-01 00:00:00\", periods=8760, freq=\"H\")\n"
     ]
    },
    {
     "name": "stdout",
     "output_type": "stream",
     "text": [
      "Creating building AB\n",
      "Creating building AB\n",
      "Creating building AB\n",
      "Creating building AB\n"
     ]
    },
    {
     "name": "stderr",
     "output_type": "stream",
     "text": [
      "c:\\Users\\felix\\Programmieren\\districtgenerator\\.venv\\Lib\\site-packages\\teaser\\logic\\buildingobjects\\useconditions.py:363: FutureWarning: 'H' is deprecated and will be removed in a future version, please use 'h' instead.\n",
      "  index=pd.date_range(\"2019-01-01 00:00:00\", periods=8760, freq=\"H\")\n",
      "c:\\Users\\felix\\Programmieren\\districtgenerator\\.venv\\Lib\\site-packages\\teaser\\logic\\buildingobjects\\useconditions.py:363: FutureWarning: 'H' is deprecated and will be removed in a future version, please use 'h' instead.\n",
      "  index=pd.date_range(\"2019-01-01 00:00:00\", periods=8760, freq=\"H\")\n"
     ]
    },
    {
     "name": "stdout",
     "output_type": "stream",
     "text": [
      "Creating building AB\n",
      "Creating building AB\n"
     ]
    },
    {
     "name": "stderr",
     "output_type": "stream",
     "text": [
      "c:\\Users\\felix\\Programmieren\\districtgenerator\\.venv\\Lib\\site-packages\\teaser\\logic\\buildingobjects\\useconditions.py:363: FutureWarning: 'H' is deprecated and will be removed in a future version, please use 'h' instead.\n",
      "  index=pd.date_range(\"2019-01-01 00:00:00\", periods=8760, freq=\"H\")\n",
      "c:\\Users\\felix\\Programmieren\\districtgenerator\\.venv\\Lib\\site-packages\\teaser\\logic\\buildingobjects\\useconditions.py:363: FutureWarning: 'H' is deprecated and will be removed in a future version, please use 'h' instead.\n",
      "  index=pd.date_range(\"2019-01-01 00:00:00\", periods=8760, freq=\"H\")\n"
     ]
    },
    {
     "name": "stdout",
     "output_type": "stream",
     "text": [
      "Creating building AB\n",
      "Creating building IWU School, Day Nursery and other Care\n",
      "Available building types: ['IWU Office, Administrative or Government Buildings', 'IWU Research and University Teaching', 'IWU Health and Care', 'IWU School, Day Nursery and other Care', 'IWU Culture and Leisure', 'IWU Sports Facilities', 'IWU Hotels, Boarding, Restaurants or Catering', 'IWU Production, Workshop, Warehouse or Operations', 'IWU Trade Buildings', 'IWU Technical and Utility (supply and disposal)', 'IWU Transport', 'IWU Generalized (1) Services building', 'IWU Generalized (2) Production buildings']\n",
      "Current usage: IWU School, Day Nursery and other Care\n",
      "Creating building AB\n"
     ]
    },
    {
     "name": "stderr",
     "output_type": "stream",
     "text": [
      "c:\\Users\\felix\\Programmieren\\districtgenerator\\.venv\\Lib\\site-packages\\teaser\\logic\\buildingobjects\\useconditions.py:363: FutureWarning: 'H' is deprecated and will be removed in a future version, please use 'h' instead.\n",
      "  index=pd.date_range(\"2019-01-01 00:00:00\", periods=8760, freq=\"H\")\n",
      "c:\\Users\\felix\\Programmieren\\districtgenerator\\functions\\light_demand.py:99: FutureWarning: Setting an item of incompatible dtype is deprecated and will raise an error in a future version of pandas. Value '[1825.55419922 2129.81323242 1825.55419922 ... 1825.55419922 1217.03613281\n",
      "  608.51806641]' has dtype incompatible with int64, please explicitly cast to a compatible dtype first.\n",
      "  lighting_demand[mask] = lighting_load * area * occupancy_schedule[\"OCCUPANCY\"][mask]\n",
      "c:\\Users\\felix\\Programmieren\\districtgenerator\\.venv\\Lib\\site-packages\\teaser\\logic\\buildingobjects\\useconditions.py:363: FutureWarning: 'H' is deprecated and will be removed in a future version, please use 'h' instead.\n",
      "  index=pd.date_range(\"2019-01-01 00:00:00\", periods=8760, freq=\"H\")\n"
     ]
    },
    {
     "name": "stdout",
     "output_type": "stream",
     "text": [
      "Creating building AB\n"
     ]
    },
    {
     "name": "stderr",
     "output_type": "stream",
     "text": [
      "c:\\Users\\felix\\Programmieren\\districtgenerator\\.venv\\Lib\\site-packages\\teaser\\logic\\buildingobjects\\useconditions.py:363: FutureWarning: 'H' is deprecated and will be removed in a future version, please use 'h' instead.\n",
      "  index=pd.date_range(\"2019-01-01 00:00:00\", periods=8760, freq=\"H\")\n"
     ]
    },
    {
     "name": "stdout",
     "output_type": "stream",
     "text": [
      "Creating building IWU Transport\n",
      "Available building types: ['IWU Office, Administrative or Government Buildings', 'IWU Research and University Teaching', 'IWU Health and Care', 'IWU School, Day Nursery and other Care', 'IWU Culture and Leisure', 'IWU Sports Facilities', 'IWU Hotels, Boarding, Restaurants or Catering', 'IWU Production, Workshop, Warehouse or Operations', 'IWU Trade Buildings', 'IWU Technical and Utility (supply and disposal)', 'IWU Transport', 'IWU Generalized (1) Services building', 'IWU Generalized (2) Production buildings']\n",
      "Current usage: IWU Transport\n",
      "Creating building AB\n",
      "Creating building AB\n"
     ]
    },
    {
     "name": "stderr",
     "output_type": "stream",
     "text": [
      "c:\\Users\\felix\\Programmieren\\districtgenerator\\functions\\light_demand.py:99: FutureWarning: Setting an item of incompatible dtype is deprecated and will raise an error in a future version of pandas. Value '[102.60930664 205.21861328 307.82791992 ... 410.43722656 205.21861328\n",
      " 102.60930664]' has dtype incompatible with int64, please explicitly cast to a compatible dtype first.\n",
      "  lighting_demand[mask] = lighting_load * area * occupancy_schedule[\"OCCUPANCY\"][mask]\n",
      "c:\\Users\\felix\\Programmieren\\districtgenerator\\.venv\\Lib\\site-packages\\teaser\\logic\\buildingobjects\\useconditions.py:363: FutureWarning: 'H' is deprecated and will be removed in a future version, please use 'h' instead.\n",
      "  index=pd.date_range(\"2019-01-01 00:00:00\", periods=8760, freq=\"H\")\n",
      "c:\\Users\\felix\\Programmieren\\districtgenerator\\.venv\\Lib\\site-packages\\teaser\\logic\\buildingobjects\\useconditions.py:363: FutureWarning: 'H' is deprecated and will be removed in a future version, please use 'h' instead.\n",
      "  index=pd.date_range(\"2019-01-01 00:00:00\", periods=8760, freq=\"H\")\n"
     ]
    },
    {
     "name": "stdout",
     "output_type": "stream",
     "text": [
      "Creating building IWU Transport\n",
      "Available building types: ['IWU Office, Administrative or Government Buildings', 'IWU Research and University Teaching', 'IWU Health and Care', 'IWU School, Day Nursery and other Care', 'IWU Culture and Leisure', 'IWU Sports Facilities', 'IWU Hotels, Boarding, Restaurants or Catering', 'IWU Production, Workshop, Warehouse or Operations', 'IWU Trade Buildings', 'IWU Technical and Utility (supply and disposal)', 'IWU Transport', 'IWU Generalized (1) Services building', 'IWU Generalized (2) Production buildings']\n",
      "Current usage: IWU Transport\n",
      "Creating building IWU School, Day Nursery and other Care\n",
      "Available building types: ['IWU Office, Administrative or Government Buildings', 'IWU Research and University Teaching', 'IWU Health and Care', 'IWU School, Day Nursery and other Care', 'IWU Culture and Leisure', 'IWU Sports Facilities', 'IWU Hotels, Boarding, Restaurants or Catering', 'IWU Production, Workshop, Warehouse or Operations', 'IWU Trade Buildings', 'IWU Technical and Utility (supply and disposal)', 'IWU Transport', 'IWU Generalized (1) Services building', 'IWU Generalized (2) Production buildings']\n",
      "Current usage: IWU School, Day Nursery and other Care\n",
      "Creating building AB\n"
     ]
    },
    {
     "name": "stderr",
     "output_type": "stream",
     "text": [
      "c:\\Users\\felix\\Programmieren\\districtgenerator\\functions\\light_demand.py:99: FutureWarning: Setting an item of incompatible dtype is deprecated and will raise an error in a future version of pandas. Value '[ 283.60513184  567.21026367  850.81539551 ... 1134.42052734  567.21026367\n",
      "  283.60513184]' has dtype incompatible with int64, please explicitly cast to a compatible dtype first.\n",
      "  lighting_demand[mask] = lighting_load * area * occupancy_schedule[\"OCCUPANCY\"][mask]\n",
      "c:\\Users\\felix\\Programmieren\\districtgenerator\\functions\\light_demand.py:99: FutureWarning: Setting an item of incompatible dtype is deprecated and will raise an error in a future version of pandas. Value '[17292.05625  20174.065625 17292.05625  ... 17292.05625  11528.0375\n",
      "  5764.01875 ]' has dtype incompatible with int64, please explicitly cast to a compatible dtype first.\n",
      "  lighting_demand[mask] = lighting_load * area * occupancy_schedule[\"OCCUPANCY\"][mask]\n",
      "c:\\Users\\felix\\Programmieren\\districtgenerator\\.venv\\Lib\\site-packages\\teaser\\logic\\buildingobjects\\useconditions.py:363: FutureWarning: 'H' is deprecated and will be removed in a future version, please use 'h' instead.\n",
      "  index=pd.date_range(\"2019-01-01 00:00:00\", periods=8760, freq=\"H\")\n"
     ]
    },
    {
     "name": "stdout",
     "output_type": "stream",
     "text": [
      "Creating building IWU Office, Administrative or Government Buildings\n",
      "Available building types: ['IWU Office, Administrative or Government Buildings', 'IWU Research and University Teaching', 'IWU Health and Care', 'IWU School, Day Nursery and other Care', 'IWU Culture and Leisure', 'IWU Sports Facilities', 'IWU Hotels, Boarding, Restaurants or Catering', 'IWU Production, Workshop, Warehouse or Operations', 'IWU Trade Buildings', 'IWU Technical and Utility (supply and disposal)', 'IWU Transport', 'IWU Generalized (1) Services building', 'IWU Generalized (2) Production buildings']\n",
      "Current usage: IWU Office, Administrative or Government Buildings\n",
      "Creating building AB\n"
     ]
    },
    {
     "name": "stderr",
     "output_type": "stream",
     "text": [
      "c:\\Users\\felix\\Programmieren\\districtgenerator\\functions\\light_demand.py:99: FutureWarning: Setting an item of incompatible dtype is deprecated and will raise an error in a future version of pandas. Value '[21581.09406738 64743.28220215 64743.28220215 ... 75533.82923584\n",
      " 64743.28220215 21581.09406738]' has dtype incompatible with int64, please explicitly cast to a compatible dtype first.\n",
      "  lighting_demand[mask] = lighting_load * area * occupancy_schedule[\"OCCUPANCY\"][mask]\n",
      "c:\\Users\\felix\\Programmieren\\districtgenerator\\.venv\\Lib\\site-packages\\teaser\\logic\\buildingobjects\\useconditions.py:363: FutureWarning: 'H' is deprecated and will be removed in a future version, please use 'h' instead.\n",
      "  index=pd.date_range(\"2019-01-01 00:00:00\", periods=8760, freq=\"H\")\n"
     ]
    },
    {
     "name": "stdout",
     "output_type": "stream",
     "text": [
      "Creating building AB\n"
     ]
    },
    {
     "name": "stderr",
     "output_type": "stream",
     "text": [
      "c:\\Users\\felix\\Programmieren\\districtgenerator\\.venv\\Lib\\site-packages\\teaser\\logic\\buildingobjects\\useconditions.py:363: FutureWarning: 'H' is deprecated and will be removed in a future version, please use 'h' instead.\n",
      "  index=pd.date_range(\"2019-01-01 00:00:00\", periods=8760, freq=\"H\")\n"
     ]
    },
    {
     "name": "stdout",
     "output_type": "stream",
     "text": [
      "Creating building AB\n",
      "Creating building AB\n"
     ]
    },
    {
     "name": "stderr",
     "output_type": "stream",
     "text": [
      "c:\\Users\\felix\\Programmieren\\districtgenerator\\.venv\\Lib\\site-packages\\teaser\\logic\\buildingobjects\\useconditions.py:363: FutureWarning: 'H' is deprecated and will be removed in a future version, please use 'h' instead.\n",
      "  index=pd.date_range(\"2019-01-01 00:00:00\", periods=8760, freq=\"H\")\n",
      "c:\\Users\\felix\\Programmieren\\districtgenerator\\.venv\\Lib\\site-packages\\teaser\\logic\\buildingobjects\\useconditions.py:363: FutureWarning: 'H' is deprecated and will be removed in a future version, please use 'h' instead.\n",
      "  index=pd.date_range(\"2019-01-01 00:00:00\", periods=8760, freq=\"H\")\n"
     ]
    },
    {
     "name": "stdout",
     "output_type": "stream",
     "text": [
      "Creating building AB\n",
      "Creating building AB\n"
     ]
    },
    {
     "name": "stderr",
     "output_type": "stream",
     "text": [
      "c:\\Users\\felix\\Programmieren\\districtgenerator\\.venv\\Lib\\site-packages\\teaser\\logic\\buildingobjects\\useconditions.py:363: FutureWarning: 'H' is deprecated and will be removed in a future version, please use 'h' instead.\n",
      "  index=pd.date_range(\"2019-01-01 00:00:00\", periods=8760, freq=\"H\")\n",
      "c:\\Users\\felix\\Programmieren\\districtgenerator\\.venv\\Lib\\site-packages\\teaser\\logic\\buildingobjects\\useconditions.py:363: FutureWarning: 'H' is deprecated and will be removed in a future version, please use 'h' instead.\n",
      "  index=pd.date_range(\"2019-01-01 00:00:00\", periods=8760, freq=\"H\")\n"
     ]
    },
    {
     "name": "stdout",
     "output_type": "stream",
     "text": [
      "Creating building AB\n",
      "Creating building IWU Technical and Utility (supply and disposal)\n",
      "Available building types: ['IWU Office, Administrative or Government Buildings', 'IWU Research and University Teaching', 'IWU Health and Care', 'IWU School, Day Nursery and other Care', 'IWU Culture and Leisure', 'IWU Sports Facilities', 'IWU Hotels, Boarding, Restaurants or Catering', 'IWU Production, Workshop, Warehouse or Operations', 'IWU Trade Buildings', 'IWU Technical and Utility (supply and disposal)', 'IWU Transport', 'IWU Generalized (1) Services building', 'IWU Generalized (2) Production buildings']\n",
      "Current usage: IWU Technical and Utility (supply and disposal)\n",
      "Creating building AB\n"
     ]
    },
    {
     "name": "stderr",
     "output_type": "stream",
     "text": [
      "c:\\Users\\felix\\Programmieren\\districtgenerator\\.venv\\Lib\\site-packages\\teaser\\logic\\buildingobjects\\useconditions.py:363: FutureWarning: 'H' is deprecated and will be removed in a future version, please use 'h' instead.\n",
      "  index=pd.date_range(\"2019-01-01 00:00:00\", periods=8760, freq=\"H\")\n",
      "c:\\Users\\felix\\Programmieren\\districtgenerator\\functions\\light_demand.py:99: FutureWarning: Setting an item of incompatible dtype is deprecated and will raise an error in a future version of pandas. Value '[28.66746094 28.66746094 28.66746094 ... 71.66865234 28.66746094\n",
      " 28.66746094]' has dtype incompatible with int64, please explicitly cast to a compatible dtype first.\n",
      "  lighting_demand[mask] = lighting_load * area * occupancy_schedule[\"OCCUPANCY\"][mask]\n",
      "c:\\Users\\felix\\Programmieren\\districtgenerator\\.venv\\Lib\\site-packages\\teaser\\logic\\buildingobjects\\useconditions.py:363: FutureWarning: 'H' is deprecated and will be removed in a future version, please use 'h' instead.\n",
      "  index=pd.date_range(\"2019-01-01 00:00:00\", periods=8760, freq=\"H\")\n"
     ]
    },
    {
     "name": "stdout",
     "output_type": "stream",
     "text": [
      "Creating building AB\n",
      "Creating building AB\n"
     ]
    },
    {
     "name": "stderr",
     "output_type": "stream",
     "text": [
      "c:\\Users\\felix\\Programmieren\\districtgenerator\\.venv\\Lib\\site-packages\\teaser\\logic\\buildingobjects\\useconditions.py:363: FutureWarning: 'H' is deprecated and will be removed in a future version, please use 'h' instead.\n",
      "  index=pd.date_range(\"2019-01-01 00:00:00\", periods=8760, freq=\"H\")\n",
      "c:\\Users\\felix\\Programmieren\\districtgenerator\\.venv\\Lib\\site-packages\\teaser\\logic\\buildingobjects\\useconditions.py:363: FutureWarning: 'H' is deprecated and will be removed in a future version, please use 'h' instead.\n",
      "  index=pd.date_range(\"2019-01-01 00:00:00\", periods=8760, freq=\"H\")\n"
     ]
    },
    {
     "name": "stdout",
     "output_type": "stream",
     "text": [
      "Creating building AB\n",
      "Creating building AB\n"
     ]
    },
    {
     "name": "stderr",
     "output_type": "stream",
     "text": [
      "c:\\Users\\felix\\Programmieren\\districtgenerator\\.venv\\Lib\\site-packages\\teaser\\logic\\buildingobjects\\useconditions.py:363: FutureWarning: 'H' is deprecated and will be removed in a future version, please use 'h' instead.\n",
      "  index=pd.date_range(\"2019-01-01 00:00:00\", periods=8760, freq=\"H\")\n",
      "c:\\Users\\felix\\Programmieren\\districtgenerator\\.venv\\Lib\\site-packages\\teaser\\logic\\buildingobjects\\useconditions.py:363: FutureWarning: 'H' is deprecated and will be removed in a future version, please use 'h' instead.\n",
      "  index=pd.date_range(\"2019-01-01 00:00:00\", periods=8760, freq=\"H\")\n"
     ]
    },
    {
     "name": "stdout",
     "output_type": "stream",
     "text": [
      "Creating building IWU School, Day Nursery and other Care\n",
      "Available building types: ['IWU Office, Administrative or Government Buildings', 'IWU Research and University Teaching', 'IWU Health and Care', 'IWU School, Day Nursery and other Care', 'IWU Culture and Leisure', 'IWU Sports Facilities', 'IWU Hotels, Boarding, Restaurants or Catering', 'IWU Production, Workshop, Warehouse or Operations', 'IWU Trade Buildings', 'IWU Technical and Utility (supply and disposal)', 'IWU Transport', 'IWU Generalized (1) Services building', 'IWU Generalized (2) Production buildings']\n",
      "Current usage: IWU School, Day Nursery and other Care\n",
      "Creating building AB\n"
     ]
    },
    {
     "name": "stderr",
     "output_type": "stream",
     "text": [
      "c:\\Users\\felix\\Programmieren\\districtgenerator\\functions\\light_demand.py:99: FutureWarning: Setting an item of incompatible dtype is deprecated and will raise an error in a future version of pandas. Value '[250169.82128906 291864.79150391 250169.82128906 ... 250169.82128906\n",
      " 166779.88085938  83389.94042969]' has dtype incompatible with int64, please explicitly cast to a compatible dtype first.\n",
      "  lighting_demand[mask] = lighting_load * area * occupancy_schedule[\"OCCUPANCY\"][mask]\n",
      "c:\\Users\\felix\\Programmieren\\districtgenerator\\.venv\\Lib\\site-packages\\teaser\\logic\\buildingobjects\\useconditions.py:363: FutureWarning: 'H' is deprecated and will be removed in a future version, please use 'h' instead.\n",
      "  index=pd.date_range(\"2019-01-01 00:00:00\", periods=8760, freq=\"H\")\n"
     ]
    },
    {
     "name": "stdout",
     "output_type": "stream",
     "text": [
      "Creating building AB\n"
     ]
    },
    {
     "name": "stderr",
     "output_type": "stream",
     "text": [
      "c:\\Users\\felix\\Programmieren\\districtgenerator\\.venv\\Lib\\site-packages\\teaser\\logic\\buildingobjects\\useconditions.py:363: FutureWarning: 'H' is deprecated and will be removed in a future version, please use 'h' instead.\n",
      "  index=pd.date_range(\"2019-01-01 00:00:00\", periods=8760, freq=\"H\")\n"
     ]
    },
    {
     "name": "stdout",
     "output_type": "stream",
     "text": [
      "Creating building MFH\n",
      "Creating building MFH\n"
     ]
    },
    {
     "name": "stderr",
     "output_type": "stream",
     "text": [
      "c:\\Users\\felix\\Programmieren\\districtgenerator\\.venv\\Lib\\site-packages\\teaser\\logic\\buildingobjects\\useconditions.py:363: FutureWarning: 'H' is deprecated and will be removed in a future version, please use 'h' instead.\n",
      "  index=pd.date_range(\"2019-01-01 00:00:00\", periods=8760, freq=\"H\")\n",
      "c:\\Users\\felix\\Programmieren\\districtgenerator\\.venv\\Lib\\site-packages\\teaser\\logic\\buildingobjects\\useconditions.py:363: FutureWarning: 'H' is deprecated and will be removed in a future version, please use 'h' instead.\n",
      "  index=pd.date_range(\"2019-01-01 00:00:00\", periods=8760, freq=\"H\")\n"
     ]
    },
    {
     "name": "stdout",
     "output_type": "stream",
     "text": [
      "Creating building MFH\n",
      "Creating building IWU Transport\n",
      "Available building types: ['IWU Office, Administrative or Government Buildings', 'IWU Research and University Teaching', 'IWU Health and Care', 'IWU School, Day Nursery and other Care', 'IWU Culture and Leisure', 'IWU Sports Facilities', 'IWU Hotels, Boarding, Restaurants or Catering', 'IWU Production, Workshop, Warehouse or Operations', 'IWU Trade Buildings', 'IWU Technical and Utility (supply and disposal)', 'IWU Transport', 'IWU Generalized (1) Services building', 'IWU Generalized (2) Production buildings']\n",
      "Current usage: IWU Transport\n",
      "Creating building TH\n",
      "Creating building AB\n"
     ]
    },
    {
     "name": "stderr",
     "output_type": "stream",
     "text": [
      "c:\\Users\\felix\\Programmieren\\districtgenerator\\.venv\\Lib\\site-packages\\teaser\\logic\\buildingobjects\\useconditions.py:363: FutureWarning: 'H' is deprecated and will be removed in a future version, please use 'h' instead.\n",
      "  index=pd.date_range(\"2019-01-01 00:00:00\", periods=8760, freq=\"H\")\n",
      "c:\\Users\\felix\\Programmieren\\districtgenerator\\functions\\light_demand.py:99: FutureWarning: Setting an item of incompatible dtype is deprecated and will raise an error in a future version of pandas. Value '[ 25.14404785  50.2880957   75.43214355 100.57619141 100.57619141\n",
      "  50.2880957   50.2880957   25.14404785  25.14404785  50.2880957\n",
      "  75.43214355 100.57619141  25.14404785  25.14404785  50.2880957\n",
      "  75.43214355 100.57619141  25.14404785  50.2880957   75.43214355\n",
      " 100.57619141 100.57619141  50.2880957   25.14404785  25.14404785\n",
      "  50.2880957   75.43214355 100.57619141  25.14404785  50.2880957\n",
      "  75.43214355 100.57619141  25.14404785  50.2880957   75.43214355\n",
      " 100.57619141  25.14404785  50.2880957   75.43214355 100.57619141\n",
      "  25.14404785  50.2880957   75.43214355 100.57619141  25.14404785\n",
      "  25.14404785  50.2880957   75.43214355 100.57619141 100.57619141\n",
      "  50.2880957   25.14404785  50.2880957   75.43214355 100.57619141\n",
      "  25.14404785  25.14404785  50.2880957   75.43214355 100.57619141\n",
      "  50.2880957   25.14404785  25.14404785  50.2880957   75.43214355\n",
      " 100.57619141 100.57619141  25.14404785  50.2880957   75.43214355\n",
      " 100.57619141 100.57619141  50.2880957   25.14404785  25.14404785\n",
      "  50.2880957   75.43214355 100.57619141  25.14404785  50.2880957\n",
      "  75.43214355 100.57619141  25.14404785  25.14404785  50.2880957\n",
      "  75.43214355 100.57619141 100.57619141  25.14404785  50.2880957\n",
      "  75.43214355 100.57619141  25.14404785  50.2880957   75.43214355\n",
      " 100.57619141  25.14404785  50.2880957   75.43214355 100.57619141\n",
      "  25.14404785  50.2880957   75.43214355 100.57619141  25.14404785\n",
      "  50.2880957   75.43214355 100.57619141  25.14404785  50.2880957\n",
      "  75.43214355 100.57619141 100.57619141  25.14404785  25.14404785\n",
      "  50.2880957   75.43214355 100.57619141  25.14404785  50.2880957\n",
      "  75.43214355  25.14404785  25.14404785  50.2880957   75.43214355\n",
      " 100.57619141  25.14404785  50.2880957   75.43214355 100.57619141\n",
      " 100.57619141  50.2880957   75.43214355  25.14404785  25.14404785\n",
      "  50.2880957   75.43214355  25.14404785  50.2880957   75.43214355\n",
      " 100.57619141 100.57619141  50.2880957   75.43214355  25.14404785\n",
      "  25.14404785  50.2880957   75.43214355  25.14404785  50.2880957\n",
      "  75.43214355  25.14404785  50.2880957   75.43214355  25.14404785\n",
      "  25.14404785  50.2880957   75.43214355  25.14404785  50.2880957\n",
      "  75.43214355 100.57619141 100.57619141  50.2880957   25.14404785\n",
      "  25.14404785  50.2880957   75.43214355 100.57619141  25.14404785\n",
      "  50.2880957   75.43214355  25.14404785  50.2880957   75.43214355\n",
      " 100.57619141  25.14404785  50.2880957   75.43214355  25.14404785\n",
      "  50.2880957   75.43214355 100.57619141 100.57619141  50.2880957\n",
      "  25.14404785  25.14404785  50.2880957   75.43214355  25.14404785\n",
      "  50.2880957   75.43214355  25.14404785  50.2880957   75.43214355\n",
      "  25.14404785  50.2880957   75.43214355  25.14404785  50.2880957\n",
      "  75.43214355  25.14404785  50.2880957   75.43214355  25.14404785\n",
      "  50.2880957   75.43214355  25.14404785  50.2880957   75.43214355\n",
      "  50.2880957   25.14404785  50.2880957   75.43214355  25.14404785\n",
      "  50.2880957   75.43214355  25.14404785  25.14404785  50.2880957\n",
      "  75.43214355  25.14404785  50.2880957   75.43214355  25.14404785\n",
      "  25.14404785  50.2880957   75.43214355  25.14404785  50.2880957\n",
      "  75.43214355  25.14404785  50.2880957   75.43214355  25.14404785\n",
      "  50.2880957   25.14404785  50.2880957   25.14404785  50.2880957\n",
      "  25.14404785  50.2880957   25.14404785  50.2880957   25.14404785\n",
      "  50.2880957   25.14404785  50.2880957   25.14404785  50.2880957\n",
      "  25.14404785  50.2880957   25.14404785  50.2880957   25.14404785\n",
      "  50.2880957   25.14404785  50.2880957   25.14404785  50.2880957\n",
      "  25.14404785  50.2880957   25.14404785  50.2880957   25.14404785\n",
      "  50.2880957   25.14404785  50.2880957   25.14404785  50.2880957\n",
      "  25.14404785  50.2880957   25.14404785  50.2880957   25.14404785\n",
      "  50.2880957   25.14404785  50.2880957   25.14404785  50.2880957\n",
      "  25.14404785  50.2880957   25.14404785  50.2880957   25.14404785\n",
      "  50.2880957   25.14404785  25.14404785  25.14404785  25.14404785\n",
      "  25.14404785  25.14404785  25.14404785  25.14404785  50.2880957\n",
      "  25.14404785  25.14404785  25.14404785  50.2880957   25.14404785\n",
      "  25.14404785  25.14404785  25.14404785  25.14404785  25.14404785\n",
      "  25.14404785  25.14404785  25.14404785  25.14404785  25.14404785\n",
      "  25.14404785  25.14404785  25.14404785  25.14404785  25.14404785\n",
      "  50.2880957   25.14404785  25.14404785  50.2880957   25.14404785\n",
      "  25.14404785  25.14404785  75.43214355  25.14404785  50.2880957\n",
      "  75.43214355  25.14404785  25.14404785  25.14404785  25.14404785\n",
      "  75.43214355  25.14404785  25.14404785  25.14404785  25.14404785\n",
      "  25.14404785  25.14404785  25.14404785  25.14404785  25.14404785\n",
      "  25.14404785  25.14404785  25.14404785  25.14404785  25.14404785\n",
      "  25.14404785  25.14404785  25.14404785  25.14404785  25.14404785\n",
      "  25.14404785  25.14404785  50.2880957   25.14404785  50.2880957\n",
      "  25.14404785  25.14404785  25.14404785  25.14404785  25.14404785\n",
      "  25.14404785  50.2880957   25.14404785  25.14404785  25.14404785\n",
      "  50.2880957   25.14404785  25.14404785  25.14404785  50.2880957\n",
      "  25.14404785  50.2880957   25.14404785  50.2880957   25.14404785\n",
      "  50.2880957   25.14404785  50.2880957   25.14404785  50.2880957\n",
      "  25.14404785  50.2880957   25.14404785  50.2880957   25.14404785\n",
      "  50.2880957   25.14404785  50.2880957   25.14404785  50.2880957\n",
      "  25.14404785  50.2880957   25.14404785  50.2880957   25.14404785\n",
      "  50.2880957   25.14404785  50.2880957   25.14404785  50.2880957\n",
      "  25.14404785  50.2880957   25.14404785  50.2880957   25.14404785\n",
      "  50.2880957   75.43214355 100.57619141  25.14404785  50.2880957\n",
      "  25.14404785  50.2880957   25.14404785  50.2880957   25.14404785\n",
      "  50.2880957   75.43214355  25.14404785  50.2880957   25.14404785\n",
      "  50.2880957   25.14404785  50.2880957   25.14404785  50.2880957\n",
      "  25.14404785  50.2880957   25.14404785  50.2880957   25.14404785\n",
      "  50.2880957   25.14404785  50.2880957   75.43214355  25.14404785\n",
      "  50.2880957   25.14404785  50.2880957   25.14404785  50.2880957\n",
      "  75.43214355  25.14404785  50.2880957   75.43214355  25.14404785\n",
      "  50.2880957   75.43214355  25.14404785  25.14404785  50.2880957\n",
      "  75.43214355  25.14404785  50.2880957   75.43214355  25.14404785\n",
      "  50.2880957   75.43214355  25.14404785  25.14404785  50.2880957\n",
      "  75.43214355  25.14404785  50.2880957   75.43214355  25.14404785\n",
      "  50.2880957   75.43214355  25.14404785  50.2880957   75.43214355\n",
      "  25.14404785  50.2880957   75.43214355  25.14404785  50.2880957\n",
      "  75.43214355  25.14404785  50.2880957   75.43214355  25.14404785\n",
      "  50.2880957   75.43214355  25.14404785  50.2880957   75.43214355\n",
      " 100.57619141 100.57619141 100.57619141  50.2880957   25.14404785\n",
      "  25.14404785  50.2880957   75.43214355 100.57619141  25.14404785\n",
      "  50.2880957   75.43214355  25.14404785  50.2880957   75.43214355\n",
      "  25.14404785  50.2880957   75.43214355  25.14404785  50.2880957\n",
      "  75.43214355  25.14404785  50.2880957   75.43214355 100.57619141\n",
      "  25.14404785  50.2880957   75.43214355  25.14404785  50.2880957\n",
      "  75.43214355  25.14404785  50.2880957   75.43214355 100.57619141\n",
      "  25.14404785  50.2880957   75.43214355 100.57619141  25.14404785\n",
      "  25.14404785  50.2880957   75.43214355  25.14404785  25.14404785\n",
      "  50.2880957   75.43214355  25.14404785  25.14404785  50.2880957\n",
      "  75.43214355  25.14404785  25.14404785  50.2880957   75.43214355\n",
      " 100.57619141  25.14404785  25.14404785  50.2880957   75.43214355\n",
      " 100.57619141  25.14404785  25.14404785  50.2880957   75.43214355\n",
      " 100.57619141  25.14404785  25.14404785  50.2880957   75.43214355\n",
      " 100.57619141  25.14404785  25.14404785  50.2880957   75.43214355\n",
      " 100.57619141 100.57619141  50.2880957   25.14404785  25.14404785\n",
      "  50.2880957   75.43214355 100.57619141 100.57619141  50.2880957\n",
      "  25.14404785  25.14404785  50.2880957   75.43214355 100.57619141\n",
      " 100.57619141  50.2880957   25.14404785  25.14404785  50.2880957\n",
      "  75.43214355 100.57619141  25.14404785  25.14404785  50.2880957\n",
      "  75.43214355 100.57619141  25.14404785  25.14404785  50.2880957\n",
      "  75.43214355 100.57619141  25.14404785  25.14404785  50.2880957\n",
      "  75.43214355 100.57619141 100.57619141  25.14404785  25.14404785\n",
      "  50.2880957   75.43214355 100.57619141  25.14404785  25.14404785\n",
      "  50.2880957   75.43214355 100.57619141  25.14404785  25.14404785\n",
      "  50.2880957   75.43214355 100.57619141  25.14404785  25.14404785\n",
      "  50.2880957   75.43214355 100.57619141  25.14404785  25.14404785\n",
      "  50.2880957   75.43214355 100.57619141  25.14404785  25.14404785\n",
      "  50.2880957   75.43214355 100.57619141  25.14404785  25.14404785\n",
      "  50.2880957   75.43214355 100.57619141  25.14404785  25.14404785\n",
      "  50.2880957   75.43214355 100.57619141  25.14404785  25.14404785\n",
      "  50.2880957   75.43214355 100.57619141 100.57619141  50.2880957\n",
      "  25.14404785  25.14404785  50.2880957   75.43214355 100.57619141\n",
      " 100.57619141  25.14404785  25.14404785  50.2880957   75.43214355\n",
      " 100.57619141 100.57619141  50.2880957   75.43214355 100.57619141\n",
      " 100.57619141  50.2880957   25.14404785  25.14404785  50.2880957\n",
      "  75.43214355 100.57619141 100.57619141  50.2880957   75.43214355\n",
      " 100.57619141 100.57619141  50.2880957   25.14404785  25.14404785\n",
      "  50.2880957   75.43214355 100.57619141 100.57619141  25.14404785\n",
      "  25.14404785  50.2880957   75.43214355 100.57619141 100.57619141\n",
      "  50.2880957   75.43214355  25.14404785  25.14404785  50.2880957\n",
      "  75.43214355 100.57619141  25.14404785  25.14404785  50.2880957\n",
      "  75.43214355 100.57619141 100.57619141  25.14404785  25.14404785\n",
      "  50.2880957   75.43214355 100.57619141  25.14404785  25.14404785\n",
      "  50.2880957   75.43214355 100.57619141  50.2880957   75.43214355\n",
      " 100.57619141 100.57619141  50.2880957   25.14404785  25.14404785\n",
      "  50.2880957   75.43214355 100.57619141  25.14404785  25.14404785\n",
      "  50.2880957   75.43214355 100.57619141  25.14404785  25.14404785\n",
      "  50.2880957   75.43214355 100.57619141 100.57619141  75.43214355\n",
      "  50.2880957   25.14404785]' has dtype incompatible with int64, please explicitly cast to a compatible dtype first.\n",
      "  lighting_demand[mask] = lighting_load * area * occupancy_schedule[\"OCCUPANCY\"][mask]\n",
      "c:\\Users\\felix\\Programmieren\\districtgenerator\\.venv\\Lib\\site-packages\\teaser\\logic\\buildingobjects\\useconditions.py:363: FutureWarning: 'H' is deprecated and will be removed in a future version, please use 'h' instead.\n",
      "  index=pd.date_range(\"2019-01-01 00:00:00\", periods=8760, freq=\"H\")\n",
      "c:\\Users\\felix\\Programmieren\\districtgenerator\\.venv\\Lib\\site-packages\\teaser\\logic\\buildingobjects\\useconditions.py:363: FutureWarning: 'H' is deprecated and will be removed in a future version, please use 'h' instead.\n",
      "  index=pd.date_range(\"2019-01-01 00:00:00\", periods=8760, freq=\"H\")\n"
     ]
    },
    {
     "name": "stdout",
     "output_type": "stream",
     "text": [
      "Creating building MFH\n",
      "Creating building IWU Transport\n",
      "Available building types: ['IWU Office, Administrative or Government Buildings', 'IWU Research and University Teaching', 'IWU Health and Care', 'IWU School, Day Nursery and other Care', 'IWU Culture and Leisure', 'IWU Sports Facilities', 'IWU Hotels, Boarding, Restaurants or Catering', 'IWU Production, Workshop, Warehouse or Operations', 'IWU Trade Buildings', 'IWU Technical and Utility (supply and disposal)', 'IWU Transport', 'IWU Generalized (1) Services building', 'IWU Generalized (2) Production buildings']\n",
      "Current usage: IWU Transport\n",
      "Creating building MFH\n",
      "Creating building MFH\n"
     ]
    },
    {
     "name": "stderr",
     "output_type": "stream",
     "text": [
      "c:\\Users\\felix\\Programmieren\\districtgenerator\\.venv\\Lib\\site-packages\\teaser\\logic\\buildingobjects\\useconditions.py:363: FutureWarning: 'H' is deprecated and will be removed in a future version, please use 'h' instead.\n",
      "  index=pd.date_range(\"2019-01-01 00:00:00\", periods=8760, freq=\"H\")\n",
      "c:\\Users\\felix\\Programmieren\\districtgenerator\\functions\\light_demand.py:99: FutureWarning: Setting an item of incompatible dtype is deprecated and will raise an error in a future version of pandas. Value '[15.55394043 31.10788086 46.66182129 62.21576172 62.21576172 15.55394043\n",
      " 15.55394043 31.10788086 46.66182129 62.21576172 15.55394043 15.55394043\n",
      " 31.10788086 46.66182129 62.21576172 15.55394043 31.10788086 46.66182129\n",
      " 62.21576172 15.55394043 15.55394043 31.10788086 46.66182129 62.21576172\n",
      " 15.55394043 31.10788086 46.66182129 62.21576172 15.55394043 31.10788086\n",
      " 46.66182129 62.21576172 15.55394043 31.10788086 46.66182129 62.21576172\n",
      " 15.55394043 31.10788086 46.66182129 62.21576172 15.55394043 15.55394043\n",
      " 31.10788086 46.66182129 62.21576172 15.55394043 31.10788086 46.66182129\n",
      " 62.21576172 15.55394043 31.10788086 46.66182129 62.21576172 15.55394043\n",
      " 15.55394043 31.10788086 46.66182129 62.21576172 15.55394043 31.10788086\n",
      " 46.66182129 62.21576172 15.55394043 15.55394043 31.10788086 46.66182129\n",
      " 62.21576172 15.55394043 31.10788086 46.66182129 62.21576172 15.55394043\n",
      " 15.55394043 31.10788086 46.66182129 62.21576172 62.21576172 15.55394043\n",
      " 31.10788086 46.66182129 62.21576172 15.55394043 31.10788086 46.66182129\n",
      " 62.21576172 15.55394043 31.10788086 46.66182129 62.21576172 15.55394043\n",
      " 31.10788086 46.66182129 62.21576172 15.55394043 31.10788086 46.66182129\n",
      " 62.21576172 15.55394043 31.10788086 46.66182129 62.21576172 15.55394043\n",
      " 15.55394043 31.10788086 46.66182129 62.21576172 15.55394043 31.10788086\n",
      " 46.66182129 15.55394043 15.55394043 31.10788086 46.66182129 62.21576172\n",
      " 15.55394043 31.10788086 46.66182129 62.21576172 62.21576172 31.10788086\n",
      " 15.55394043 31.10788086 46.66182129 15.55394043 31.10788086 46.66182129\n",
      " 62.21576172 62.21576172 31.10788086 15.55394043 31.10788086 46.66182129\n",
      " 15.55394043 31.10788086 46.66182129 15.55394043 31.10788086 46.66182129\n",
      " 15.55394043 31.10788086 46.66182129 15.55394043 31.10788086 46.66182129\n",
      " 15.55394043 15.55394043 31.10788086 46.66182129 62.21576172 15.55394043\n",
      " 31.10788086 46.66182129 15.55394043 31.10788086 46.66182129 15.55394043\n",
      " 31.10788086 46.66182129 15.55394043 31.10788086 46.66182129 62.21576172\n",
      " 15.55394043 15.55394043 31.10788086 46.66182129 15.55394043 31.10788086\n",
      " 46.66182129 15.55394043 31.10788086 46.66182129 15.55394043 31.10788086\n",
      " 46.66182129 15.55394043 31.10788086 46.66182129 15.55394043 31.10788086\n",
      " 46.66182129 15.55394043 31.10788086 46.66182129 15.55394043 31.10788086\n",
      " 46.66182129 15.55394043 31.10788086 46.66182129 15.55394043 31.10788086\n",
      " 46.66182129 15.55394043 31.10788086 46.66182129 15.55394043 31.10788086\n",
      " 46.66182129 15.55394043 31.10788086 46.66182129 15.55394043 31.10788086\n",
      " 46.66182129 15.55394043 31.10788086 46.66182129 15.55394043 31.10788086\n",
      " 15.55394043 31.10788086 15.55394043 31.10788086 15.55394043 31.10788086\n",
      " 15.55394043 31.10788086 15.55394043 31.10788086 15.55394043 31.10788086\n",
      " 15.55394043 31.10788086 15.55394043 31.10788086 15.55394043 31.10788086\n",
      " 15.55394043 31.10788086 15.55394043 31.10788086 15.55394043 31.10788086\n",
      " 15.55394043 31.10788086 15.55394043 31.10788086 15.55394043 31.10788086\n",
      " 15.55394043 31.10788086 15.55394043 31.10788086 15.55394043 31.10788086\n",
      " 15.55394043 31.10788086 15.55394043 31.10788086 15.55394043 31.10788086\n",
      " 15.55394043 31.10788086 15.55394043 31.10788086 15.55394043 31.10788086\n",
      " 15.55394043 31.10788086 15.55394043 15.55394043 15.55394043 15.55394043\n",
      " 15.55394043 15.55394043 15.55394043 15.55394043 31.10788086 15.55394043\n",
      " 15.55394043 15.55394043 15.55394043 15.55394043 15.55394043 15.55394043\n",
      " 15.55394043 15.55394043 15.55394043 15.55394043 15.55394043 15.55394043\n",
      " 15.55394043 15.55394043 15.55394043 15.55394043 15.55394043 15.55394043\n",
      " 15.55394043 31.10788086 46.66182129 15.55394043 15.55394043 15.55394043\n",
      " 15.55394043 15.55394043 15.55394043 15.55394043 15.55394043 15.55394043\n",
      " 15.55394043 15.55394043 15.55394043 15.55394043 15.55394043 15.55394043\n",
      " 15.55394043 15.55394043 15.55394043 15.55394043 15.55394043 15.55394043\n",
      " 15.55394043 15.55394043 15.55394043 15.55394043 15.55394043 15.55394043\n",
      " 15.55394043 15.55394043 15.55394043 15.55394043 15.55394043 31.10788086\n",
      " 15.55394043 15.55394043 15.55394043 31.10788086 15.55394043 15.55394043\n",
      " 15.55394043 31.10788086 15.55394043 31.10788086 15.55394043 31.10788086\n",
      " 15.55394043 31.10788086 15.55394043 31.10788086 15.55394043 31.10788086\n",
      " 15.55394043 31.10788086 15.55394043 31.10788086 15.55394043 31.10788086\n",
      " 15.55394043 31.10788086 15.55394043 31.10788086 15.55394043 31.10788086\n",
      " 15.55394043 31.10788086 15.55394043 31.10788086 15.55394043 31.10788086\n",
      " 15.55394043 31.10788086 15.55394043 31.10788086 15.55394043 31.10788086\n",
      " 15.55394043 31.10788086 46.66182129 15.55394043 31.10788086 15.55394043\n",
      " 31.10788086 15.55394043 31.10788086 15.55394043 31.10788086 15.55394043\n",
      " 31.10788086 15.55394043 31.10788086 15.55394043 31.10788086 15.55394043\n",
      " 31.10788086 15.55394043 31.10788086 15.55394043 31.10788086 15.55394043\n",
      " 31.10788086 15.55394043 31.10788086 15.55394043 31.10788086 15.55394043\n",
      " 31.10788086 15.55394043 31.10788086 46.66182129 15.55394043 31.10788086\n",
      " 46.66182129 15.55394043 31.10788086 46.66182129 15.55394043 31.10788086\n",
      " 46.66182129 15.55394043 31.10788086 46.66182129 15.55394043 31.10788086\n",
      " 46.66182129 15.55394043 15.55394043 31.10788086 46.66182129 15.55394043\n",
      " 31.10788086 46.66182129 15.55394043 31.10788086 46.66182129 15.55394043\n",
      " 31.10788086 46.66182129 15.55394043 31.10788086 46.66182129 15.55394043\n",
      " 31.10788086 46.66182129 15.55394043 31.10788086 46.66182129 15.55394043\n",
      " 31.10788086 46.66182129 15.55394043 31.10788086 46.66182129 62.21576172\n",
      " 15.55394043 15.55394043 31.10788086 46.66182129 15.55394043 31.10788086\n",
      " 46.66182129 15.55394043 31.10788086 46.66182129 15.55394043 31.10788086\n",
      " 46.66182129 15.55394043 31.10788086 46.66182129 15.55394043 31.10788086\n",
      " 46.66182129 15.55394043 31.10788086 46.66182129 15.55394043 31.10788086\n",
      " 46.66182129 15.55394043 31.10788086 46.66182129 15.55394043 31.10788086\n",
      " 46.66182129 62.21576172 15.55394043 15.55394043 31.10788086 46.66182129\n",
      " 15.55394043 31.10788086 46.66182129 15.55394043 15.55394043 31.10788086\n",
      " 46.66182129 15.55394043 15.55394043 31.10788086 46.66182129 62.21576172\n",
      " 15.55394043 15.55394043 31.10788086 46.66182129 62.21576172 15.55394043\n",
      " 15.55394043 31.10788086 46.66182129 62.21576172 15.55394043 15.55394043\n",
      " 31.10788086 46.66182129 62.21576172 15.55394043 15.55394043 31.10788086\n",
      " 46.66182129 62.21576172 15.55394043 15.55394043 31.10788086 46.66182129\n",
      " 62.21576172 31.10788086 15.55394043 15.55394043 31.10788086 46.66182129\n",
      " 62.21576172 15.55394043 15.55394043 31.10788086 46.66182129 62.21576172\n",
      " 15.55394043 15.55394043 31.10788086 46.66182129 62.21576172 15.55394043\n",
      " 15.55394043 31.10788086 46.66182129 62.21576172 15.55394043 15.55394043\n",
      " 31.10788086 46.66182129 62.21576172 15.55394043 15.55394043 31.10788086\n",
      " 46.66182129 62.21576172 15.55394043 15.55394043 31.10788086 46.66182129\n",
      " 62.21576172 15.55394043 15.55394043 31.10788086 46.66182129 62.21576172\n",
      " 15.55394043 15.55394043 31.10788086 46.66182129 62.21576172 15.55394043\n",
      " 15.55394043 31.10788086 46.66182129 62.21576172 15.55394043 15.55394043\n",
      " 31.10788086 46.66182129 62.21576172 15.55394043 15.55394043 31.10788086\n",
      " 46.66182129 62.21576172 15.55394043 15.55394043 31.10788086 46.66182129\n",
      " 62.21576172 15.55394043 15.55394043 31.10788086 46.66182129 62.21576172\n",
      " 62.21576172 31.10788086 15.55394043 15.55394043 31.10788086 46.66182129\n",
      " 62.21576172 62.21576172 15.55394043 15.55394043 31.10788086 46.66182129\n",
      " 62.21576172 62.21576172 31.10788086 15.55394043 15.55394043 31.10788086\n",
      " 46.66182129 62.21576172 31.10788086 15.55394043 15.55394043 31.10788086\n",
      " 46.66182129 62.21576172 15.55394043 15.55394043 31.10788086 46.66182129\n",
      " 62.21576172 62.21576172 31.10788086 15.55394043 15.55394043 31.10788086\n",
      " 46.66182129 62.21576172 15.55394043 15.55394043 31.10788086 46.66182129\n",
      " 62.21576172 15.55394043 15.55394043 31.10788086 46.66182129 62.21576172\n",
      " 15.55394043 15.55394043 31.10788086 46.66182129 62.21576172 31.10788086\n",
      " 15.55394043 15.55394043 31.10788086 46.66182129 62.21576172 15.55394043\n",
      " 15.55394043 31.10788086 46.66182129 62.21576172 15.55394043 31.10788086\n",
      " 46.66182129 62.21576172 62.21576172 31.10788086 15.55394043]' has dtype incompatible with int64, please explicitly cast to a compatible dtype first.\n",
      "  lighting_demand[mask] = lighting_load * area * occupancy_schedule[\"OCCUPANCY\"][mask]\n",
      "c:\\Users\\felix\\Programmieren\\districtgenerator\\.venv\\Lib\\site-packages\\teaser\\logic\\buildingobjects\\useconditions.py:363: FutureWarning: 'H' is deprecated and will be removed in a future version, please use 'h' instead.\n",
      "  index=pd.date_range(\"2019-01-01 00:00:00\", periods=8760, freq=\"H\")\n",
      "c:\\Users\\felix\\Programmieren\\districtgenerator\\.venv\\Lib\\site-packages\\teaser\\logic\\buildingobjects\\useconditions.py:363: FutureWarning: 'H' is deprecated and will be removed in a future version, please use 'h' instead.\n",
      "  index=pd.date_range(\"2019-01-01 00:00:00\", periods=8760, freq=\"H\")\n"
     ]
    },
    {
     "name": "stdout",
     "output_type": "stream",
     "text": [
      "Creating building IWU Office, Administrative or Government Buildings\n",
      "Available building types: ['IWU Office, Administrative or Government Buildings', 'IWU Research and University Teaching', 'IWU Health and Care', 'IWU School, Day Nursery and other Care', 'IWU Culture and Leisure', 'IWU Sports Facilities', 'IWU Hotels, Boarding, Restaurants or Catering', 'IWU Production, Workshop, Warehouse or Operations', 'IWU Trade Buildings', 'IWU Technical and Utility (supply and disposal)', 'IWU Transport', 'IWU Generalized (1) Services building', 'IWU Generalized (2) Production buildings']\n",
      "Current usage: IWU Office, Administrative or Government Buildings\n",
      "Creating building IWU Production, Workshop, Warehouse or Operations\n",
      "Available building types: ['IWU Office, Administrative or Government Buildings', 'IWU Research and University Teaching', 'IWU Health and Care', 'IWU School, Day Nursery and other Care', 'IWU Culture and Leisure', 'IWU Sports Facilities', 'IWU Hotels, Boarding, Restaurants or Catering', 'IWU Production, Workshop, Warehouse or Operations', 'IWU Trade Buildings', 'IWU Technical and Utility (supply and disposal)', 'IWU Transport', 'IWU Generalized (1) Services building', 'IWU Generalized (2) Production buildings']\n",
      "Current usage: IWU Production, Workshop, Warehouse or Operations\n",
      "No data about lighntning control available for IWU Production, Workshop, Warehouse or Operations and data type Technical and Utility Buildings (supply and disposal)Gewerbliche und industrielle Hallen (mittelschwere Arbeit, überw. stehende Tätigkeit)\n",
      "Creating building MFH\n",
      "Creating building AB\n"
     ]
    },
    {
     "name": "stderr",
     "output_type": "stream",
     "text": [
      "c:\\Users\\felix\\Programmieren\\districtgenerator\\functions\\light_demand.py:99: FutureWarning: Setting an item of incompatible dtype is deprecated and will raise an error in a future version of pandas. Value '[24087.92238281 72263.76714844 72263.76714844 ... 84307.72833984\n",
      " 72263.76714844 24087.92238281]' has dtype incompatible with int64, please explicitly cast to a compatible dtype first.\n",
      "  lighting_demand[mask] = lighting_load * area * occupancy_schedule[\"OCCUPANCY\"][mask]\n",
      "c:\\Users\\felix\\Programmieren\\districtgenerator\\.venv\\Lib\\site-packages\\teaser\\logic\\buildingobjects\\useconditions.py:363: FutureWarning: 'H' is deprecated and will be removed in a future version, please use 'h' instead.\n",
      "  index=pd.date_range(\"2019-01-01 00:00:00\", periods=8760, freq=\"H\")\n",
      "c:\\Users\\felix\\Programmieren\\districtgenerator\\.venv\\Lib\\site-packages\\teaser\\logic\\buildingobjects\\useconditions.py:363: FutureWarning: 'H' is deprecated and will be removed in a future version, please use 'h' instead.\n",
      "  index=pd.date_range(\"2019-01-01 00:00:00\", periods=8760, freq=\"H\")\n"
     ]
    },
    {
     "name": "stdout",
     "output_type": "stream",
     "text": [
      "Creating building AB\n",
      "Creating building MFH\n",
      "Creating building MFH\n"
     ]
    },
    {
     "name": "stderr",
     "output_type": "stream",
     "text": [
      "c:\\Users\\felix\\Programmieren\\districtgenerator\\.venv\\Lib\\site-packages\\teaser\\logic\\buildingobjects\\useconditions.py:363: FutureWarning: 'H' is deprecated and will be removed in a future version, please use 'h' instead.\n",
      "  index=pd.date_range(\"2019-01-01 00:00:00\", periods=8760, freq=\"H\")\n",
      "c:\\Users\\felix\\Programmieren\\districtgenerator\\.venv\\Lib\\site-packages\\teaser\\logic\\buildingobjects\\useconditions.py:363: FutureWarning: 'H' is deprecated and will be removed in a future version, please use 'h' instead.\n",
      "  index=pd.date_range(\"2019-01-01 00:00:00\", periods=8760, freq=\"H\")\n",
      "c:\\Users\\felix\\Programmieren\\districtgenerator\\.venv\\Lib\\site-packages\\teaser\\logic\\buildingobjects\\useconditions.py:363: FutureWarning: 'H' is deprecated and will be removed in a future version, please use 'h' instead.\n",
      "  index=pd.date_range(\"2019-01-01 00:00:00\", periods=8760, freq=\"H\")\n"
     ]
    },
    {
     "name": "stdout",
     "output_type": "stream",
     "text": [
      "Creating building MFH\n",
      "Creating building AB\n"
     ]
    },
    {
     "name": "stderr",
     "output_type": "stream",
     "text": [
      "c:\\Users\\felix\\Programmieren\\districtgenerator\\.venv\\Lib\\site-packages\\teaser\\logic\\buildingobjects\\useconditions.py:363: FutureWarning: 'H' is deprecated and will be removed in a future version, please use 'h' instead.\n",
      "  index=pd.date_range(\"2019-01-01 00:00:00\", periods=8760, freq=\"H\")\n",
      "c:\\Users\\felix\\Programmieren\\districtgenerator\\.venv\\Lib\\site-packages\\teaser\\logic\\buildingobjects\\useconditions.py:363: FutureWarning: 'H' is deprecated and will be removed in a future version, please use 'h' instead.\n",
      "  index=pd.date_range(\"2019-01-01 00:00:00\", periods=8760, freq=\"H\")\n"
     ]
    },
    {
     "name": "stdout",
     "output_type": "stream",
     "text": [
      "Creating building AB\n"
     ]
    },
    {
     "name": "stderr",
     "output_type": "stream",
     "text": [
      "c:\\Users\\felix\\Programmieren\\districtgenerator\\.venv\\Lib\\site-packages\\teaser\\logic\\buildingobjects\\useconditions.py:363: FutureWarning: 'H' is deprecated and will be removed in a future version, please use 'h' instead.\n",
      "  index=pd.date_range(\"2019-01-01 00:00:00\", periods=8760, freq=\"H\")\n"
     ]
    },
    {
     "name": "stdout",
     "output_type": "stream",
     "text": [
      "Creating building MFH\n",
      "Creating building IWU Production, Workshop, Warehouse or Operations\n",
      "Available building types: ['IWU Office, Administrative or Government Buildings', 'IWU Research and University Teaching', 'IWU Health and Care', 'IWU School, Day Nursery and other Care', 'IWU Culture and Leisure', 'IWU Sports Facilities', 'IWU Hotels, Boarding, Restaurants or Catering', 'IWU Production, Workshop, Warehouse or Operations', 'IWU Trade Buildings', 'IWU Technical and Utility (supply and disposal)', 'IWU Transport', 'IWU Generalized (1) Services building', 'IWU Generalized (2) Production buildings']\n",
      "Current usage: IWU Production, Workshop, Warehouse or Operations\n",
      "No data about lighntning control available for IWU Production, Workshop, Warehouse or Operations and data type Technical and Utility Buildings (supply and disposal)Gewerbliche und industrielle Hallen (mittelschwere Arbeit, überw. stehende Tätigkeit)\n",
      "Creating building MFH\n"
     ]
    },
    {
     "name": "stderr",
     "output_type": "stream",
     "text": [
      "c:\\Users\\felix\\Programmieren\\districtgenerator\\.venv\\Lib\\site-packages\\teaser\\logic\\buildingobjects\\useconditions.py:363: FutureWarning: 'H' is deprecated and will be removed in a future version, please use 'h' instead.\n",
      "  index=pd.date_range(\"2019-01-01 00:00:00\", periods=8760, freq=\"H\")\n",
      "c:\\Users\\felix\\Programmieren\\districtgenerator\\.venv\\Lib\\site-packages\\teaser\\logic\\buildingobjects\\useconditions.py:363: FutureWarning: 'H' is deprecated and will be removed in a future version, please use 'h' instead.\n",
      "  index=pd.date_range(\"2019-01-01 00:00:00\", periods=8760, freq=\"H\")\n"
     ]
    },
    {
     "name": "stdout",
     "output_type": "stream",
     "text": [
      "Creating building AB\n",
      "Creating building IWU Production, Workshop, Warehouse or Operations\n",
      "Available building types: ['IWU Office, Administrative or Government Buildings', 'IWU Research and University Teaching', 'IWU Health and Care', 'IWU School, Day Nursery and other Care', 'IWU Culture and Leisure', 'IWU Sports Facilities', 'IWU Hotels, Boarding, Restaurants or Catering', 'IWU Production, Workshop, Warehouse or Operations', 'IWU Trade Buildings', 'IWU Technical and Utility (supply and disposal)', 'IWU Transport', 'IWU Generalized (1) Services building', 'IWU Generalized (2) Production buildings']\n",
      "Current usage: IWU Production, Workshop, Warehouse or Operations\n",
      "No data about lighntning control available for IWU Production, Workshop, Warehouse or Operations and data type Technical and Utility Buildings (supply and disposal)Gewerbliche und industrielle Hallen (mittelschwere Arbeit, überw. stehende Tätigkeit)\n",
      "Creating building MFH\n",
      "Creating building MFH\n"
     ]
    },
    {
     "name": "stderr",
     "output_type": "stream",
     "text": [
      "c:\\Users\\felix\\Programmieren\\districtgenerator\\.venv\\Lib\\site-packages\\teaser\\logic\\buildingobjects\\useconditions.py:363: FutureWarning: 'H' is deprecated and will be removed in a future version, please use 'h' instead.\n",
      "  index=pd.date_range(\"2019-01-01 00:00:00\", periods=8760, freq=\"H\")\n",
      "c:\\Users\\felix\\Programmieren\\districtgenerator\\.venv\\Lib\\site-packages\\teaser\\logic\\buildingobjects\\useconditions.py:363: FutureWarning: 'H' is deprecated and will be removed in a future version, please use 'h' instead.\n",
      "  index=pd.date_range(\"2019-01-01 00:00:00\", periods=8760, freq=\"H\")\n",
      "c:\\Users\\felix\\Programmieren\\districtgenerator\\.venv\\Lib\\site-packages\\teaser\\logic\\buildingobjects\\useconditions.py:363: FutureWarning: 'H' is deprecated and will be removed in a future version, please use 'h' instead.\n",
      "  index=pd.date_range(\"2019-01-01 00:00:00\", periods=8760, freq=\"H\")\n"
     ]
    },
    {
     "name": "stdout",
     "output_type": "stream",
     "text": [
      "Creating building MFH\n",
      "Creating building MFH\n",
      "Creating building MFH\n"
     ]
    },
    {
     "name": "stderr",
     "output_type": "stream",
     "text": [
      "c:\\Users\\felix\\Programmieren\\districtgenerator\\.venv\\Lib\\site-packages\\teaser\\logic\\buildingobjects\\useconditions.py:363: FutureWarning: 'H' is deprecated and will be removed in a future version, please use 'h' instead.\n",
      "  index=pd.date_range(\"2019-01-01 00:00:00\", periods=8760, freq=\"H\")\n",
      "c:\\Users\\felix\\Programmieren\\districtgenerator\\.venv\\Lib\\site-packages\\teaser\\logic\\buildingobjects\\useconditions.py:363: FutureWarning: 'H' is deprecated and will be removed in a future version, please use 'h' instead.\n",
      "  index=pd.date_range(\"2019-01-01 00:00:00\", periods=8760, freq=\"H\")\n",
      "c:\\Users\\felix\\Programmieren\\districtgenerator\\.venv\\Lib\\site-packages\\teaser\\logic\\buildingobjects\\useconditions.py:363: FutureWarning: 'H' is deprecated and will be removed in a future version, please use 'h' instead.\n",
      "  index=pd.date_range(\"2019-01-01 00:00:00\", periods=8760, freq=\"H\")\n"
     ]
    },
    {
     "name": "stdout",
     "output_type": "stream",
     "text": [
      "Creating building MFH\n",
      "Creating building MFH\n"
     ]
    },
    {
     "name": "stderr",
     "output_type": "stream",
     "text": [
      "c:\\Users\\felix\\Programmieren\\districtgenerator\\.venv\\Lib\\site-packages\\teaser\\logic\\buildingobjects\\useconditions.py:363: FutureWarning: 'H' is deprecated and will be removed in a future version, please use 'h' instead.\n",
      "  index=pd.date_range(\"2019-01-01 00:00:00\", periods=8760, freq=\"H\")\n",
      "c:\\Users\\felix\\Programmieren\\districtgenerator\\.venv\\Lib\\site-packages\\teaser\\logic\\buildingobjects\\useconditions.py:363: FutureWarning: 'H' is deprecated and will be removed in a future version, please use 'h' instead.\n",
      "  index=pd.date_range(\"2019-01-01 00:00:00\", periods=8760, freq=\"H\")\n"
     ]
    },
    {
     "name": "stdout",
     "output_type": "stream",
     "text": [
      "Creating building IWU Transport\n",
      "Available building types: ['IWU Office, Administrative or Government Buildings', 'IWU Research and University Teaching', 'IWU Health and Care', 'IWU School, Day Nursery and other Care', 'IWU Culture and Leisure', 'IWU Sports Facilities', 'IWU Hotels, Boarding, Restaurants or Catering', 'IWU Production, Workshop, Warehouse or Operations', 'IWU Trade Buildings', 'IWU Technical and Utility (supply and disposal)', 'IWU Transport', 'IWU Generalized (1) Services building', 'IWU Generalized (2) Production buildings']\n",
      "Current usage: IWU Transport\n",
      "Creating building MFH\n",
      "Creating building AB\n",
      "Creating building AB\n"
     ]
    },
    {
     "name": "stderr",
     "output_type": "stream",
     "text": [
      "c:\\Users\\felix\\Programmieren\\districtgenerator\\functions\\light_demand.py:99: FutureWarning: Setting an item of incompatible dtype is deprecated and will raise an error in a future version of pandas. Value '[200.51744141 401.03488281 601.55232422 ... 802.06976562 401.03488281\n",
      " 200.51744141]' has dtype incompatible with int64, please explicitly cast to a compatible dtype first.\n",
      "  lighting_demand[mask] = lighting_load * area * occupancy_schedule[\"OCCUPANCY\"][mask]\n",
      "c:\\Users\\felix\\Programmieren\\districtgenerator\\.venv\\Lib\\site-packages\\teaser\\logic\\buildingobjects\\useconditions.py:363: FutureWarning: 'H' is deprecated and will be removed in a future version, please use 'h' instead.\n",
      "  index=pd.date_range(\"2019-01-01 00:00:00\", periods=8760, freq=\"H\")\n",
      "c:\\Users\\felix\\Programmieren\\districtgenerator\\.venv\\Lib\\site-packages\\teaser\\logic\\buildingobjects\\useconditions.py:363: FutureWarning: 'H' is deprecated and will be removed in a future version, please use 'h' instead.\n",
      "  index=pd.date_range(\"2019-01-01 00:00:00\", periods=8760, freq=\"H\")\n",
      "c:\\Users\\felix\\Programmieren\\districtgenerator\\.venv\\Lib\\site-packages\\teaser\\logic\\buildingobjects\\useconditions.py:363: FutureWarning: 'H' is deprecated and will be removed in a future version, please use 'h' instead.\n",
      "  index=pd.date_range(\"2019-01-01 00:00:00\", periods=8760, freq=\"H\")\n"
     ]
    },
    {
     "name": "stdout",
     "output_type": "stream",
     "text": [
      "Creating building MFH\n",
      "Creating building IWU Transport\n",
      "Available building types: ['IWU Office, Administrative or Government Buildings', 'IWU Research and University Teaching', 'IWU Health and Care', 'IWU School, Day Nursery and other Care', 'IWU Culture and Leisure', 'IWU Sports Facilities', 'IWU Hotels, Boarding, Restaurants or Catering', 'IWU Production, Workshop, Warehouse or Operations', 'IWU Trade Buildings', 'IWU Technical and Utility (supply and disposal)', 'IWU Transport', 'IWU Generalized (1) Services building', 'IWU Generalized (2) Production buildings']\n",
      "Current usage: IWU Transport\n",
      "Creating building AB\n"
     ]
    },
    {
     "name": "stderr",
     "output_type": "stream",
     "text": [
      "c:\\Users\\felix\\Programmieren\\districtgenerator\\.venv\\Lib\\site-packages\\teaser\\logic\\buildingobjects\\useconditions.py:363: FutureWarning: 'H' is deprecated and will be removed in a future version, please use 'h' instead.\n",
      "  index=pd.date_range(\"2019-01-01 00:00:00\", periods=8760, freq=\"H\")\n",
      "c:\\Users\\felix\\Programmieren\\districtgenerator\\functions\\light_demand.py:99: FutureWarning: Setting an item of incompatible dtype is deprecated and will raise an error in a future version of pandas. Value '[ 98.98912109 197.97824219 296.96736328 ... 395.95648438 197.97824219\n",
      "  98.98912109]' has dtype incompatible with int64, please explicitly cast to a compatible dtype first.\n",
      "  lighting_demand[mask] = lighting_load * area * occupancy_schedule[\"OCCUPANCY\"][mask]\n",
      "c:\\Users\\felix\\Programmieren\\districtgenerator\\.venv\\Lib\\site-packages\\teaser\\logic\\buildingobjects\\useconditions.py:363: FutureWarning: 'H' is deprecated and will be removed in a future version, please use 'h' instead.\n",
      "  index=pd.date_range(\"2019-01-01 00:00:00\", periods=8760, freq=\"H\")\n"
     ]
    },
    {
     "name": "stdout",
     "output_type": "stream",
     "text": [
      "Creating building AB\n",
      "Creating building AB\n"
     ]
    },
    {
     "name": "stderr",
     "output_type": "stream",
     "text": [
      "c:\\Users\\felix\\Programmieren\\districtgenerator\\.venv\\Lib\\site-packages\\teaser\\logic\\buildingobjects\\useconditions.py:363: FutureWarning: 'H' is deprecated and will be removed in a future version, please use 'h' instead.\n",
      "  index=pd.date_range(\"2019-01-01 00:00:00\", periods=8760, freq=\"H\")\n",
      "c:\\Users\\felix\\Programmieren\\districtgenerator\\.venv\\Lib\\site-packages\\teaser\\logic\\buildingobjects\\useconditions.py:363: FutureWarning: 'H' is deprecated and will be removed in a future version, please use 'h' instead.\n",
      "  index=pd.date_range(\"2019-01-01 00:00:00\", periods=8760, freq=\"H\")\n"
     ]
    },
    {
     "name": "stdout",
     "output_type": "stream",
     "text": [
      "Creating building MFH\n",
      "Creating building AB\n"
     ]
    },
    {
     "name": "stderr",
     "output_type": "stream",
     "text": [
      "c:\\Users\\felix\\Programmieren\\districtgenerator\\.venv\\Lib\\site-packages\\teaser\\logic\\buildingobjects\\useconditions.py:363: FutureWarning: 'H' is deprecated and will be removed in a future version, please use 'h' instead.\n",
      "  index=pd.date_range(\"2019-01-01 00:00:00\", periods=8760, freq=\"H\")\n",
      "c:\\Users\\felix\\Programmieren\\districtgenerator\\.venv\\Lib\\site-packages\\teaser\\logic\\buildingobjects\\useconditions.py:363: FutureWarning: 'H' is deprecated and will be removed in a future version, please use 'h' instead.\n",
      "  index=pd.date_range(\"2019-01-01 00:00:00\", periods=8760, freq=\"H\")\n"
     ]
    },
    {
     "name": "stdout",
     "output_type": "stream",
     "text": [
      "Creating building AB\n",
      "Creating building MFH\n"
     ]
    },
    {
     "name": "stderr",
     "output_type": "stream",
     "text": [
      "c:\\Users\\felix\\Programmieren\\districtgenerator\\.venv\\Lib\\site-packages\\teaser\\logic\\buildingobjects\\useconditions.py:363: FutureWarning: 'H' is deprecated and will be removed in a future version, please use 'h' instead.\n",
      "  index=pd.date_range(\"2019-01-01 00:00:00\", periods=8760, freq=\"H\")\n",
      "c:\\Users\\felix\\Programmieren\\districtgenerator\\.venv\\Lib\\site-packages\\teaser\\logic\\buildingobjects\\useconditions.py:363: FutureWarning: 'H' is deprecated and will be removed in a future version, please use 'h' instead.\n",
      "  index=pd.date_range(\"2019-01-01 00:00:00\", periods=8760, freq=\"H\")\n"
     ]
    },
    {
     "name": "stdout",
     "output_type": "stream",
     "text": [
      "Creating building AB\n",
      "Creating building AB\n"
     ]
    },
    {
     "name": "stderr",
     "output_type": "stream",
     "text": [
      "c:\\Users\\felix\\Programmieren\\districtgenerator\\.venv\\Lib\\site-packages\\teaser\\logic\\buildingobjects\\useconditions.py:363: FutureWarning: 'H' is deprecated and will be removed in a future version, please use 'h' instead.\n",
      "  index=pd.date_range(\"2019-01-01 00:00:00\", periods=8760, freq=\"H\")\n",
      "c:\\Users\\felix\\Programmieren\\districtgenerator\\.venv\\Lib\\site-packages\\teaser\\logic\\buildingobjects\\useconditions.py:363: FutureWarning: 'H' is deprecated and will be removed in a future version, please use 'h' instead.\n",
      "  index=pd.date_range(\"2019-01-01 00:00:00\", periods=8760, freq=\"H\")\n"
     ]
    },
    {
     "name": "stdout",
     "output_type": "stream",
     "text": [
      "Creating building MFH\n",
      "Creating building IWU Production, Workshop, Warehouse or Operations\n",
      "Available building types: ['IWU Office, Administrative or Government Buildings', 'IWU Research and University Teaching', 'IWU Health and Care', 'IWU School, Day Nursery and other Care', 'IWU Culture and Leisure', 'IWU Sports Facilities', 'IWU Hotels, Boarding, Restaurants or Catering', 'IWU Production, Workshop, Warehouse or Operations', 'IWU Trade Buildings', 'IWU Technical and Utility (supply and disposal)', 'IWU Transport', 'IWU Generalized (1) Services building', 'IWU Generalized (2) Production buildings']\n",
      "Current usage: IWU Production, Workshop, Warehouse or Operations\n",
      "No data about lighntning control available for IWU Production, Workshop, Warehouse or Operations and data type Technical and Utility Buildings (supply and disposal)Gewerbliche und industrielle Hallen (mittelschwere Arbeit, überw. stehende Tätigkeit)\n",
      "Creating building MFH\n"
     ]
    },
    {
     "name": "stderr",
     "output_type": "stream",
     "text": [
      "c:\\Users\\felix\\Programmieren\\districtgenerator\\.venv\\Lib\\site-packages\\teaser\\logic\\buildingobjects\\useconditions.py:363: FutureWarning: 'H' is deprecated and will be removed in a future version, please use 'h' instead.\n",
      "  index=pd.date_range(\"2019-01-01 00:00:00\", periods=8760, freq=\"H\")\n",
      "c:\\Users\\felix\\Programmieren\\districtgenerator\\.venv\\Lib\\site-packages\\teaser\\logic\\buildingobjects\\useconditions.py:363: FutureWarning: 'H' is deprecated and will be removed in a future version, please use 'h' instead.\n",
      "  index=pd.date_range(\"2019-01-01 00:00:00\", periods=8760, freq=\"H\")\n"
     ]
    },
    {
     "name": "stdout",
     "output_type": "stream",
     "text": [
      "Creating building IWU Technical and Utility (supply and disposal)\n",
      "Available building types: ['IWU Office, Administrative or Government Buildings', 'IWU Research and University Teaching', 'IWU Health and Care', 'IWU School, Day Nursery and other Care', 'IWU Culture and Leisure', 'IWU Sports Facilities', 'IWU Hotels, Boarding, Restaurants or Catering', 'IWU Production, Workshop, Warehouse or Operations', 'IWU Trade Buildings', 'IWU Technical and Utility (supply and disposal)', 'IWU Transport', 'IWU Generalized (1) Services building', 'IWU Generalized (2) Production buildings']\n",
      "Current usage: IWU Technical and Utility (supply and disposal)\n",
      "Creating building MFH\n",
      "Creating building MFH\n"
     ]
    },
    {
     "name": "stderr",
     "output_type": "stream",
     "text": [
      "c:\\Users\\felix\\Programmieren\\districtgenerator\\functions\\light_demand.py:99: FutureWarning: Setting an item of incompatible dtype is deprecated and will raise an error in a future version of pandas. Value '[121.40191406 121.40191406 121.40191406 ... 303.50478516 121.40191406\n",
      " 121.40191406]' has dtype incompatible with int64, please explicitly cast to a compatible dtype first.\n",
      "  lighting_demand[mask] = lighting_load * area * occupancy_schedule[\"OCCUPANCY\"][mask]\n",
      "c:\\Users\\felix\\Programmieren\\districtgenerator\\.venv\\Lib\\site-packages\\teaser\\logic\\buildingobjects\\useconditions.py:363: FutureWarning: 'H' is deprecated and will be removed in a future version, please use 'h' instead.\n",
      "  index=pd.date_range(\"2019-01-01 00:00:00\", periods=8760, freq=\"H\")\n",
      "c:\\Users\\felix\\Programmieren\\districtgenerator\\.venv\\Lib\\site-packages\\teaser\\logic\\buildingobjects\\useconditions.py:363: FutureWarning: 'H' is deprecated and will be removed in a future version, please use 'h' instead.\n",
      "  index=pd.date_range(\"2019-01-01 00:00:00\", periods=8760, freq=\"H\")\n",
      "c:\\Users\\felix\\Programmieren\\districtgenerator\\.venv\\Lib\\site-packages\\teaser\\logic\\buildingobjects\\useconditions.py:363: FutureWarning: 'H' is deprecated and will be removed in a future version, please use 'h' instead.\n",
      "  index=pd.date_range(\"2019-01-01 00:00:00\", periods=8760, freq=\"H\")\n"
     ]
    },
    {
     "name": "stdout",
     "output_type": "stream",
     "text": [
      "Creating building MFH\n",
      "Creating building IWU Production, Workshop, Warehouse or Operations\n",
      "Available building types: ['IWU Office, Administrative or Government Buildings', 'IWU Research and University Teaching', 'IWU Health and Care', 'IWU School, Day Nursery and other Care', 'IWU Culture and Leisure', 'IWU Sports Facilities', 'IWU Hotels, Boarding, Restaurants or Catering', 'IWU Production, Workshop, Warehouse or Operations', 'IWU Trade Buildings', 'IWU Technical and Utility (supply and disposal)', 'IWU Transport', 'IWU Generalized (1) Services building', 'IWU Generalized (2) Production buildings']\n",
      "Current usage: IWU Production, Workshop, Warehouse or Operations\n",
      "No data about lighntning control available for IWU Production, Workshop, Warehouse or Operations and data type Technical and Utility Buildings (supply and disposal)Gewerbliche und industrielle Hallen (mittelschwere Arbeit, überw. stehende Tätigkeit)\n",
      "Creating building IWU Production, Workshop, Warehouse or Operations\n",
      "Available building types: ['IWU Office, Administrative or Government Buildings', 'IWU Research and University Teaching', 'IWU Health and Care', 'IWU School, Day Nursery and other Care', 'IWU Culture and Leisure', 'IWU Sports Facilities', 'IWU Hotels, Boarding, Restaurants or Catering', 'IWU Production, Workshop, Warehouse or Operations', 'IWU Trade Buildings', 'IWU Technical and Utility (supply and disposal)', 'IWU Transport', 'IWU Generalized (1) Services building', 'IWU Generalized (2) Production buildings']\n",
      "Current usage: IWU Production, Workshop, Warehouse or Operations\n",
      "No data about lighntning control available for IWU Production, Workshop, Warehouse or Operations and data type Technical and Utility Buildings (supply and disposal)Gewerbliche und industrielle Hallen (mittelschwere Arbeit, überw. stehende Tätigkeit)\n",
      "Creating building MFH\n"
     ]
    },
    {
     "name": "stderr",
     "output_type": "stream",
     "text": [
      "c:\\Users\\felix\\Programmieren\\districtgenerator\\.venv\\Lib\\site-packages\\teaser\\logic\\buildingobjects\\useconditions.py:363: FutureWarning: 'H' is deprecated and will be removed in a future version, please use 'h' instead.\n",
      "  index=pd.date_range(\"2019-01-01 00:00:00\", periods=8760, freq=\"H\")\n",
      "c:\\Users\\felix\\Programmieren\\districtgenerator\\.venv\\Lib\\site-packages\\teaser\\logic\\buildingobjects\\useconditions.py:363: FutureWarning: 'H' is deprecated and will be removed in a future version, please use 'h' instead.\n",
      "  index=pd.date_range(\"2019-01-01 00:00:00\", periods=8760, freq=\"H\")\n"
     ]
    },
    {
     "name": "stdout",
     "output_type": "stream",
     "text": [
      "Creating building MFH\n",
      "Creating building AB\n",
      "Creating building IWU Transport\n",
      "Available building types: ['IWU Office, Administrative or Government Buildings', 'IWU Research and University Teaching', 'IWU Health and Care', 'IWU School, Day Nursery and other Care', 'IWU Culture and Leisure', 'IWU Sports Facilities', 'IWU Hotels, Boarding, Restaurants or Catering', 'IWU Production, Workshop, Warehouse or Operations', 'IWU Trade Buildings', 'IWU Technical and Utility (supply and disposal)', 'IWU Transport', 'IWU Generalized (1) Services building', 'IWU Generalized (2) Production buildings']\n",
      "Current usage: IWU Transport\n",
      "Creating building IWU Production, Workshop, Warehouse or Operations\n",
      "Available building types: ['IWU Office, Administrative or Government Buildings', 'IWU Research and University Teaching', 'IWU Health and Care', 'IWU School, Day Nursery and other Care', 'IWU Culture and Leisure', 'IWU Sports Facilities', 'IWU Hotels, Boarding, Restaurants or Catering', 'IWU Production, Workshop, Warehouse or Operations', 'IWU Trade Buildings', 'IWU Technical and Utility (supply and disposal)', 'IWU Transport', 'IWU Generalized (1) Services building', 'IWU Generalized (2) Production buildings']\n",
      "Current usage: IWU Production, Workshop, Warehouse or Operations\n",
      "No data about lighntning control available for IWU Production, Workshop, Warehouse or Operations and data type Technical and Utility Buildings (supply and disposal)Gewerbliche und industrielle Hallen (mittelschwere Arbeit, überw. stehende Tätigkeit)\n",
      "Creating building MFH\n",
      "Creating building MFH\n"
     ]
    },
    {
     "name": "stderr",
     "output_type": "stream",
     "text": [
      "c:\\Users\\felix\\Programmieren\\districtgenerator\\.venv\\Lib\\site-packages\\teaser\\logic\\buildingobjects\\useconditions.py:363: FutureWarning: 'H' is deprecated and will be removed in a future version, please use 'h' instead.\n",
      "  index=pd.date_range(\"2019-01-01 00:00:00\", periods=8760, freq=\"H\")\n",
      "c:\\Users\\felix\\Programmieren\\districtgenerator\\functions\\light_demand.py:99: FutureWarning: Setting an item of incompatible dtype is deprecated and will raise an error in a future version of pandas. Value '[1091.16648926 2182.33297852 3273.49946777 ... 4364.66595703 2182.33297852\n",
      " 1091.16648926]' has dtype incompatible with int64, please explicitly cast to a compatible dtype first.\n",
      "  lighting_demand[mask] = lighting_load * area * occupancy_schedule[\"OCCUPANCY\"][mask]\n",
      "c:\\Users\\felix\\Programmieren\\districtgenerator\\.venv\\Lib\\site-packages\\teaser\\logic\\buildingobjects\\useconditions.py:363: FutureWarning: 'H' is deprecated and will be removed in a future version, please use 'h' instead.\n",
      "  index=pd.date_range(\"2019-01-01 00:00:00\", periods=8760, freq=\"H\")\n",
      "c:\\Users\\felix\\Programmieren\\districtgenerator\\.venv\\Lib\\site-packages\\teaser\\logic\\buildingobjects\\useconditions.py:363: FutureWarning: 'H' is deprecated and will be removed in a future version, please use 'h' instead.\n",
      "  index=pd.date_range(\"2019-01-01 00:00:00\", periods=8760, freq=\"H\")\n"
     ]
    },
    {
     "name": "stdout",
     "output_type": "stream",
     "text": [
      "Creating building MFH\n",
      "Creating building MFH\n",
      "Creating building IWU Production, Workshop, Warehouse or Operations\n",
      "Available building types: ['IWU Office, Administrative or Government Buildings', 'IWU Research and University Teaching', 'IWU Health and Care', 'IWU School, Day Nursery and other Care', 'IWU Culture and Leisure', 'IWU Sports Facilities', 'IWU Hotels, Boarding, Restaurants or Catering', 'IWU Production, Workshop, Warehouse or Operations', 'IWU Trade Buildings', 'IWU Technical and Utility (supply and disposal)', 'IWU Transport', 'IWU Generalized (1) Services building', 'IWU Generalized (2) Production buildings']\n",
      "Current usage: IWU Production, Workshop, Warehouse or Operations\n",
      "No data about lighntning control available for IWU Production, Workshop, Warehouse or Operations and data type Technical and Utility Buildings (supply and disposal)Gewerbliche und industrielle Hallen (mittelschwere Arbeit, überw. stehende Tätigkeit)\n",
      "Creating building MFH\n"
     ]
    },
    {
     "name": "stderr",
     "output_type": "stream",
     "text": [
      "c:\\Users\\felix\\Programmieren\\districtgenerator\\.venv\\Lib\\site-packages\\teaser\\logic\\buildingobjects\\useconditions.py:363: FutureWarning: 'H' is deprecated and will be removed in a future version, please use 'h' instead.\n",
      "  index=pd.date_range(\"2019-01-01 00:00:00\", periods=8760, freq=\"H\")\n",
      "c:\\Users\\felix\\Programmieren\\districtgenerator\\.venv\\Lib\\site-packages\\teaser\\logic\\buildingobjects\\useconditions.py:363: FutureWarning: 'H' is deprecated and will be removed in a future version, please use 'h' instead.\n",
      "  index=pd.date_range(\"2019-01-01 00:00:00\", periods=8760, freq=\"H\")\n",
      "c:\\Users\\felix\\Programmieren\\districtgenerator\\.venv\\Lib\\site-packages\\teaser\\logic\\buildingobjects\\useconditions.py:363: FutureWarning: 'H' is deprecated and will be removed in a future version, please use 'h' instead.\n",
      "  index=pd.date_range(\"2019-01-01 00:00:00\", periods=8760, freq=\"H\")\n"
     ]
    },
    {
     "name": "stdout",
     "output_type": "stream",
     "text": [
      "Creating building MFH\n",
      "Creating building AB\n"
     ]
    },
    {
     "name": "stderr",
     "output_type": "stream",
     "text": [
      "c:\\Users\\felix\\Programmieren\\districtgenerator\\.venv\\Lib\\site-packages\\teaser\\logic\\buildingobjects\\useconditions.py:363: FutureWarning: 'H' is deprecated and will be removed in a future version, please use 'h' instead.\n",
      "  index=pd.date_range(\"2019-01-01 00:00:00\", periods=8760, freq=\"H\")\n",
      "c:\\Users\\felix\\Programmieren\\districtgenerator\\.venv\\Lib\\site-packages\\teaser\\logic\\buildingobjects\\useconditions.py:363: FutureWarning: 'H' is deprecated and will be removed in a future version, please use 'h' instead.\n",
      "  index=pd.date_range(\"2019-01-01 00:00:00\", periods=8760, freq=\"H\")\n"
     ]
    },
    {
     "name": "stdout",
     "output_type": "stream",
     "text": [
      "Creating building AB\n",
      "Creating building MFH\n"
     ]
    },
    {
     "name": "stderr",
     "output_type": "stream",
     "text": [
      "c:\\Users\\felix\\Programmieren\\districtgenerator\\.venv\\Lib\\site-packages\\teaser\\logic\\buildingobjects\\useconditions.py:363: FutureWarning: 'H' is deprecated and will be removed in a future version, please use 'h' instead.\n",
      "  index=pd.date_range(\"2019-01-01 00:00:00\", periods=8760, freq=\"H\")\n",
      "c:\\Users\\felix\\Programmieren\\districtgenerator\\.venv\\Lib\\site-packages\\teaser\\logic\\buildingobjects\\useconditions.py:363: FutureWarning: 'H' is deprecated and will be removed in a future version, please use 'h' instead.\n",
      "  index=pd.date_range(\"2019-01-01 00:00:00\", periods=8760, freq=\"H\")\n"
     ]
    },
    {
     "name": "stdout",
     "output_type": "stream",
     "text": [
      "Creating building MFH\n",
      "Creating building MFH\n",
      "Creating building IWU Production, Workshop, Warehouse or Operations\n",
      "Available building types: ['IWU Office, Administrative or Government Buildings', 'IWU Research and University Teaching', 'IWU Health and Care', 'IWU School, Day Nursery and other Care', 'IWU Culture and Leisure', 'IWU Sports Facilities', 'IWU Hotels, Boarding, Restaurants or Catering', 'IWU Production, Workshop, Warehouse or Operations', 'IWU Trade Buildings', 'IWU Technical and Utility (supply and disposal)', 'IWU Transport', 'IWU Generalized (1) Services building', 'IWU Generalized (2) Production buildings']\n",
      "Current usage: IWU Production, Workshop, Warehouse or Operations\n",
      "No data about lighntning control available for IWU Production, Workshop, Warehouse or Operations and data type Technical and Utility Buildings (supply and disposal)Gewerbliche und industrielle Hallen (mittelschwere Arbeit, überw. stehende Tätigkeit)\n",
      "Creating building AB\n"
     ]
    },
    {
     "name": "stderr",
     "output_type": "stream",
     "text": [
      "c:\\Users\\felix\\Programmieren\\districtgenerator\\.venv\\Lib\\site-packages\\teaser\\logic\\buildingobjects\\useconditions.py:363: FutureWarning: 'H' is deprecated and will be removed in a future version, please use 'h' instead.\n",
      "  index=pd.date_range(\"2019-01-01 00:00:00\", periods=8760, freq=\"H\")\n",
      "c:\\Users\\felix\\Programmieren\\districtgenerator\\.venv\\Lib\\site-packages\\teaser\\logic\\buildingobjects\\useconditions.py:363: FutureWarning: 'H' is deprecated and will be removed in a future version, please use 'h' instead.\n",
      "  index=pd.date_range(\"2019-01-01 00:00:00\", periods=8760, freq=\"H\")\n",
      "c:\\Users\\felix\\Programmieren\\districtgenerator\\.venv\\Lib\\site-packages\\teaser\\logic\\buildingobjects\\useconditions.py:363: FutureWarning: 'H' is deprecated and will be removed in a future version, please use 'h' instead.\n",
      "  index=pd.date_range(\"2019-01-01 00:00:00\", periods=8760, freq=\"H\")\n"
     ]
    },
    {
     "name": "stdout",
     "output_type": "stream",
     "text": [
      "Creating building MFH\n"
     ]
    },
    {
     "name": "stderr",
     "output_type": "stream",
     "text": [
      "c:\\Users\\felix\\Programmieren\\districtgenerator\\.venv\\Lib\\site-packages\\teaser\\logic\\buildingobjects\\useconditions.py:363: FutureWarning: 'H' is deprecated and will be removed in a future version, please use 'h' instead.\n",
      "  index=pd.date_range(\"2019-01-01 00:00:00\", periods=8760, freq=\"H\")\n"
     ]
    },
    {
     "name": "stdout",
     "output_type": "stream",
     "text": [
      "Creating building MFH\n",
      "Creating building AB\n"
     ]
    },
    {
     "name": "stderr",
     "output_type": "stream",
     "text": [
      "c:\\Users\\felix\\Programmieren\\districtgenerator\\.venv\\Lib\\site-packages\\teaser\\logic\\buildingobjects\\useconditions.py:363: FutureWarning: 'H' is deprecated and will be removed in a future version, please use 'h' instead.\n",
      "  index=pd.date_range(\"2019-01-01 00:00:00\", periods=8760, freq=\"H\")\n",
      "c:\\Users\\felix\\Programmieren\\districtgenerator\\.venv\\Lib\\site-packages\\teaser\\logic\\buildingobjects\\useconditions.py:363: FutureWarning: 'H' is deprecated and will be removed in a future version, please use 'h' instead.\n",
      "  index=pd.date_range(\"2019-01-01 00:00:00\", periods=8760, freq=\"H\")\n"
     ]
    },
    {
     "name": "stdout",
     "output_type": "stream",
     "text": [
      "Creating building IWU Production, Workshop, Warehouse or Operations\n",
      "Available building types: ['IWU Office, Administrative or Government Buildings', 'IWU Research and University Teaching', 'IWU Health and Care', 'IWU School, Day Nursery and other Care', 'IWU Culture and Leisure', 'IWU Sports Facilities', 'IWU Hotels, Boarding, Restaurants or Catering', 'IWU Production, Workshop, Warehouse or Operations', 'IWU Trade Buildings', 'IWU Technical and Utility (supply and disposal)', 'IWU Transport', 'IWU Generalized (1) Services building', 'IWU Generalized (2) Production buildings']\n",
      "Current usage: IWU Production, Workshop, Warehouse or Operations\n",
      "No data about lighntning control available for IWU Production, Workshop, Warehouse or Operations and data type Technical and Utility Buildings (supply and disposal)Gewerbliche und industrielle Hallen (mittelschwere Arbeit, überw. stehende Tätigkeit)\n",
      "Creating building IWU Trade Buildings\n",
      "Available building types: ['IWU Office, Administrative or Government Buildings', 'IWU Research and University Teaching', 'IWU Health and Care', 'IWU School, Day Nursery and other Care', 'IWU Culture and Leisure', 'IWU Sports Facilities', 'IWU Hotels, Boarding, Restaurants or Catering', 'IWU Production, Workshop, Warehouse or Operations', 'IWU Trade Buildings', 'IWU Technical and Utility (supply and disposal)', 'IWU Transport', 'IWU Generalized (1) Services building', 'IWU Generalized (2) Production buildings']\n",
      "Current usage: IWU Trade Buildings\n",
      "Creating building AB\n",
      "Creating building MFH\n"
     ]
    },
    {
     "name": "stderr",
     "output_type": "stream",
     "text": [
      "c:\\Users\\felix\\Programmieren\\districtgenerator\\functions\\light_demand.py:99: FutureWarning: Setting an item of incompatible dtype is deprecated and will raise an error in a future version of pandas. Value '[10493.92265625 20987.8453125  20987.8453125  ... 52469.61328125\n",
      " 31481.76796875 20987.8453125 ]' has dtype incompatible with int64, please explicitly cast to a compatible dtype first.\n",
      "  lighting_demand[mask] = lighting_load * area * occupancy_schedule[\"OCCUPANCY\"][mask]\n",
      "c:\\Users\\felix\\Programmieren\\districtgenerator\\.venv\\Lib\\site-packages\\teaser\\logic\\buildingobjects\\useconditions.py:363: FutureWarning: 'H' is deprecated and will be removed in a future version, please use 'h' instead.\n",
      "  index=pd.date_range(\"2019-01-01 00:00:00\", periods=8760, freq=\"H\")\n",
      "c:\\Users\\felix\\Programmieren\\districtgenerator\\.venv\\Lib\\site-packages\\teaser\\logic\\buildingobjects\\useconditions.py:363: FutureWarning: 'H' is deprecated and will be removed in a future version, please use 'h' instead.\n",
      "  index=pd.date_range(\"2019-01-01 00:00:00\", periods=8760, freq=\"H\")\n"
     ]
    },
    {
     "name": "stdout",
     "output_type": "stream",
     "text": [
      "Creating building MFH\n",
      "Creating building MFH\n"
     ]
    },
    {
     "name": "stderr",
     "output_type": "stream",
     "text": [
      "c:\\Users\\felix\\Programmieren\\districtgenerator\\.venv\\Lib\\site-packages\\teaser\\logic\\buildingobjects\\useconditions.py:363: FutureWarning: 'H' is deprecated and will be removed in a future version, please use 'h' instead.\n",
      "  index=pd.date_range(\"2019-01-01 00:00:00\", periods=8760, freq=\"H\")\n",
      "c:\\Users\\felix\\Programmieren\\districtgenerator\\.venv\\Lib\\site-packages\\teaser\\logic\\buildingobjects\\useconditions.py:363: FutureWarning: 'H' is deprecated and will be removed in a future version, please use 'h' instead.\n",
      "  index=pd.date_range(\"2019-01-01 00:00:00\", periods=8760, freq=\"H\")\n"
     ]
    },
    {
     "name": "stdout",
     "output_type": "stream",
     "text": [
      "Creating building MFH\n",
      "Creating building AB\n",
      "Creating building AB\n"
     ]
    },
    {
     "name": "stderr",
     "output_type": "stream",
     "text": [
      "c:\\Users\\felix\\Programmieren\\districtgenerator\\.venv\\Lib\\site-packages\\teaser\\logic\\buildingobjects\\useconditions.py:363: FutureWarning: 'H' is deprecated and will be removed in a future version, please use 'h' instead.\n",
      "  index=pd.date_range(\"2019-01-01 00:00:00\", periods=8760, freq=\"H\")\n",
      "c:\\Users\\felix\\Programmieren\\districtgenerator\\.venv\\Lib\\site-packages\\teaser\\logic\\buildingobjects\\useconditions.py:363: FutureWarning: 'H' is deprecated and will be removed in a future version, please use 'h' instead.\n",
      "  index=pd.date_range(\"2019-01-01 00:00:00\", periods=8760, freq=\"H\")\n",
      "c:\\Users\\felix\\Programmieren\\districtgenerator\\.venv\\Lib\\site-packages\\teaser\\logic\\buildingobjects\\useconditions.py:363: FutureWarning: 'H' is deprecated and will be removed in a future version, please use 'h' instead.\n",
      "  index=pd.date_range(\"2019-01-01 00:00:00\", periods=8760, freq=\"H\")\n"
     ]
    },
    {
     "name": "stdout",
     "output_type": "stream",
     "text": [
      "Creating building AB\n",
      "Creating building IWU Trade Buildings\n",
      "Available building types: ['IWU Office, Administrative or Government Buildings', 'IWU Research and University Teaching', 'IWU Health and Care', 'IWU School, Day Nursery and other Care', 'IWU Culture and Leisure', 'IWU Sports Facilities', 'IWU Hotels, Boarding, Restaurants or Catering', 'IWU Production, Workshop, Warehouse or Operations', 'IWU Trade Buildings', 'IWU Technical and Utility (supply and disposal)', 'IWU Transport', 'IWU Generalized (1) Services building', 'IWU Generalized (2) Production buildings']\n",
      "Current usage: IWU Trade Buildings\n",
      "Creating building MFH\n"
     ]
    },
    {
     "name": "stderr",
     "output_type": "stream",
     "text": [
      "c:\\Users\\felix\\Programmieren\\districtgenerator\\.venv\\Lib\\site-packages\\teaser\\logic\\buildingobjects\\useconditions.py:363: FutureWarning: 'H' is deprecated and will be removed in a future version, please use 'h' instead.\n",
      "  index=pd.date_range(\"2019-01-01 00:00:00\", periods=8760, freq=\"H\")\n",
      "c:\\Users\\felix\\Programmieren\\districtgenerator\\functions\\light_demand.py:99: FutureWarning: Setting an item of incompatible dtype is deprecated and will raise an error in a future version of pandas. Value '[ 68100.64628906 136201.29257812 136201.29257812 ... 340503.23144531\n",
      " 204301.93886719 136201.29257812]' has dtype incompatible with int64, please explicitly cast to a compatible dtype first.\n",
      "  lighting_demand[mask] = lighting_load * area * occupancy_schedule[\"OCCUPANCY\"][mask]\n",
      "c:\\Users\\felix\\Programmieren\\districtgenerator\\.venv\\Lib\\site-packages\\teaser\\logic\\buildingobjects\\useconditions.py:363: FutureWarning: 'H' is deprecated and will be removed in a future version, please use 'h' instead.\n",
      "  index=pd.date_range(\"2019-01-01 00:00:00\", periods=8760, freq=\"H\")\n"
     ]
    },
    {
     "name": "stdout",
     "output_type": "stream",
     "text": [
      "Creating building AB\n"
     ]
    },
    {
     "name": "stderr",
     "output_type": "stream",
     "text": [
      "c:\\Users\\felix\\Programmieren\\districtgenerator\\.venv\\Lib\\site-packages\\teaser\\logic\\buildingobjects\\useconditions.py:363: FutureWarning: 'H' is deprecated and will be removed in a future version, please use 'h' instead.\n",
      "  index=pd.date_range(\"2019-01-01 00:00:00\", periods=8760, freq=\"H\")\n"
     ]
    },
    {
     "name": "stdout",
     "output_type": "stream",
     "text": [
      "Creating building AB\n",
      "Creating building MFH\n"
     ]
    },
    {
     "name": "stderr",
     "output_type": "stream",
     "text": [
      "c:\\Users\\felix\\Programmieren\\districtgenerator\\.venv\\Lib\\site-packages\\teaser\\logic\\buildingobjects\\useconditions.py:363: FutureWarning: 'H' is deprecated and will be removed in a future version, please use 'h' instead.\n",
      "  index=pd.date_range(\"2019-01-01 00:00:00\", periods=8760, freq=\"H\")\n",
      "c:\\Users\\felix\\Programmieren\\districtgenerator\\.venv\\Lib\\site-packages\\teaser\\logic\\buildingobjects\\useconditions.py:363: FutureWarning: 'H' is deprecated and will be removed in a future version, please use 'h' instead.\n",
      "  index=pd.date_range(\"2019-01-01 00:00:00\", periods=8760, freq=\"H\")\n"
     ]
    },
    {
     "name": "stdout",
     "output_type": "stream",
     "text": [
      "Creating building MFH\n",
      "Creating building MFH\n"
     ]
    },
    {
     "name": "stderr",
     "output_type": "stream",
     "text": [
      "c:\\Users\\felix\\Programmieren\\districtgenerator\\.venv\\Lib\\site-packages\\teaser\\logic\\buildingobjects\\useconditions.py:363: FutureWarning: 'H' is deprecated and will be removed in a future version, please use 'h' instead.\n",
      "  index=pd.date_range(\"2019-01-01 00:00:00\", periods=8760, freq=\"H\")\n",
      "c:\\Users\\felix\\Programmieren\\districtgenerator\\.venv\\Lib\\site-packages\\teaser\\logic\\buildingobjects\\useconditions.py:363: FutureWarning: 'H' is deprecated and will be removed in a future version, please use 'h' instead.\n",
      "  index=pd.date_range(\"2019-01-01 00:00:00\", periods=8760, freq=\"H\")\n"
     ]
    },
    {
     "name": "stdout",
     "output_type": "stream",
     "text": [
      "Creating building MFH\n",
      "Creating building MFH\n"
     ]
    },
    {
     "name": "stderr",
     "output_type": "stream",
     "text": [
      "c:\\Users\\felix\\Programmieren\\districtgenerator\\.venv\\Lib\\site-packages\\teaser\\logic\\buildingobjects\\useconditions.py:363: FutureWarning: 'H' is deprecated and will be removed in a future version, please use 'h' instead.\n",
      "  index=pd.date_range(\"2019-01-01 00:00:00\", periods=8760, freq=\"H\")\n",
      "c:\\Users\\felix\\Programmieren\\districtgenerator\\.venv\\Lib\\site-packages\\teaser\\logic\\buildingobjects\\useconditions.py:363: FutureWarning: 'H' is deprecated and will be removed in a future version, please use 'h' instead.\n",
      "  index=pd.date_range(\"2019-01-01 00:00:00\", periods=8760, freq=\"H\")\n"
     ]
    },
    {
     "name": "stdout",
     "output_type": "stream",
     "text": [
      "Creating building MFH\n"
     ]
    },
    {
     "name": "stderr",
     "output_type": "stream",
     "text": [
      "c:\\Users\\felix\\Programmieren\\districtgenerator\\.venv\\Lib\\site-packages\\teaser\\logic\\buildingobjects\\useconditions.py:363: FutureWarning: 'H' is deprecated and will be removed in a future version, please use 'h' instead.\n",
      "  index=pd.date_range(\"2019-01-01 00:00:00\", periods=8760, freq=\"H\")\n"
     ]
    },
    {
     "name": "stdout",
     "output_type": "stream",
     "text": [
      "Creating building IWU Production, Workshop, Warehouse or Operations\n",
      "Available building types: ['IWU Office, Administrative or Government Buildings', 'IWU Research and University Teaching', 'IWU Health and Care', 'IWU School, Day Nursery and other Care', 'IWU Culture and Leisure', 'IWU Sports Facilities', 'IWU Hotels, Boarding, Restaurants or Catering', 'IWU Production, Workshop, Warehouse or Operations', 'IWU Trade Buildings', 'IWU Technical and Utility (supply and disposal)', 'IWU Transport', 'IWU Generalized (1) Services building', 'IWU Generalized (2) Production buildings']\n",
      "Current usage: IWU Production, Workshop, Warehouse or Operations\n",
      "No data about lighntning control available for IWU Production, Workshop, Warehouse or Operations and data type Technical and Utility Buildings (supply and disposal)Gewerbliche und industrielle Hallen (mittelschwere Arbeit, überw. stehende Tätigkeit)\n",
      "Creating building AB\n"
     ]
    },
    {
     "name": "stderr",
     "output_type": "stream",
     "text": [
      "c:\\Users\\felix\\Programmieren\\districtgenerator\\.venv\\Lib\\site-packages\\teaser\\logic\\buildingobjects\\useconditions.py:363: FutureWarning: 'H' is deprecated and will be removed in a future version, please use 'h' instead.\n",
      "  index=pd.date_range(\"2019-01-01 00:00:00\", periods=8760, freq=\"H\")\n",
      "c:\\Users\\felix\\Programmieren\\districtgenerator\\.venv\\Lib\\site-packages\\teaser\\logic\\buildingobjects\\useconditions.py:363: FutureWarning: 'H' is deprecated and will be removed in a future version, please use 'h' instead.\n",
      "  index=pd.date_range(\"2019-01-01 00:00:00\", periods=8760, freq=\"H\")\n"
     ]
    },
    {
     "name": "stdout",
     "output_type": "stream",
     "text": [
      "Creating building MFH\n",
      "Creating building AB\n"
     ]
    },
    {
     "name": "stderr",
     "output_type": "stream",
     "text": [
      "c:\\Users\\felix\\Programmieren\\districtgenerator\\.venv\\Lib\\site-packages\\teaser\\logic\\buildingobjects\\useconditions.py:363: FutureWarning: 'H' is deprecated and will be removed in a future version, please use 'h' instead.\n",
      "  index=pd.date_range(\"2019-01-01 00:00:00\", periods=8760, freq=\"H\")\n"
     ]
    },
    {
     "name": "stdout",
     "output_type": "stream",
     "text": [
      "Creating building MFH\n"
     ]
    },
    {
     "name": "stderr",
     "output_type": "stream",
     "text": [
      "c:\\Users\\felix\\Programmieren\\districtgenerator\\.venv\\Lib\\site-packages\\teaser\\logic\\buildingobjects\\useconditions.py:363: FutureWarning: 'H' is deprecated and will be removed in a future version, please use 'h' instead.\n",
      "  index=pd.date_range(\"2019-01-01 00:00:00\", periods=8760, freq=\"H\")\n"
     ]
    },
    {
     "name": "stdout",
     "output_type": "stream",
     "text": [
      "Creating building MFH\n",
      "Creating building MFH\n"
     ]
    },
    {
     "name": "stderr",
     "output_type": "stream",
     "text": [
      "c:\\Users\\felix\\Programmieren\\districtgenerator\\.venv\\Lib\\site-packages\\teaser\\logic\\buildingobjects\\useconditions.py:363: FutureWarning: 'H' is deprecated and will be removed in a future version, please use 'h' instead.\n",
      "  index=pd.date_range(\"2019-01-01 00:00:00\", periods=8760, freq=\"H\")\n",
      "c:\\Users\\felix\\Programmieren\\districtgenerator\\.venv\\Lib\\site-packages\\teaser\\logic\\buildingobjects\\useconditions.py:363: FutureWarning: 'H' is deprecated and will be removed in a future version, please use 'h' instead.\n",
      "  index=pd.date_range(\"2019-01-01 00:00:00\", periods=8760, freq=\"H\")\n"
     ]
    },
    {
     "name": "stdout",
     "output_type": "stream",
     "text": [
      "Creating building AB\n"
     ]
    },
    {
     "name": "stderr",
     "output_type": "stream",
     "text": [
      "c:\\Users\\felix\\Programmieren\\districtgenerator\\.venv\\Lib\\site-packages\\teaser\\logic\\buildingobjects\\useconditions.py:363: FutureWarning: 'H' is deprecated and will be removed in a future version, please use 'h' instead.\n",
      "  index=pd.date_range(\"2019-01-01 00:00:00\", periods=8760, freq=\"H\")\n"
     ]
    },
    {
     "name": "stdout",
     "output_type": "stream",
     "text": [
      "Creating building MFH\n",
      "Creating building AB\n",
      "Creating building AB\n"
     ]
    },
    {
     "name": "stderr",
     "output_type": "stream",
     "text": [
      "c:\\Users\\felix\\Programmieren\\districtgenerator\\.venv\\Lib\\site-packages\\teaser\\logic\\buildingobjects\\useconditions.py:363: FutureWarning: 'H' is deprecated and will be removed in a future version, please use 'h' instead.\n",
      "  index=pd.date_range(\"2019-01-01 00:00:00\", periods=8760, freq=\"H\")\n",
      "c:\\Users\\felix\\Programmieren\\districtgenerator\\.venv\\Lib\\site-packages\\teaser\\logic\\buildingobjects\\useconditions.py:363: FutureWarning: 'H' is deprecated and will be removed in a future version, please use 'h' instead.\n",
      "  index=pd.date_range(\"2019-01-01 00:00:00\", periods=8760, freq=\"H\")\n",
      "c:\\Users\\felix\\Programmieren\\districtgenerator\\.venv\\Lib\\site-packages\\teaser\\logic\\buildingobjects\\useconditions.py:363: FutureWarning: 'H' is deprecated and will be removed in a future version, please use 'h' instead.\n",
      "  index=pd.date_range(\"2019-01-01 00:00:00\", periods=8760, freq=\"H\")\n"
     ]
    },
    {
     "name": "stdout",
     "output_type": "stream",
     "text": [
      "Creating building MFH\n",
      "Creating building AB\n"
     ]
    },
    {
     "name": "stderr",
     "output_type": "stream",
     "text": [
      "c:\\Users\\felix\\Programmieren\\districtgenerator\\.venv\\Lib\\site-packages\\teaser\\logic\\buildingobjects\\useconditions.py:363: FutureWarning: 'H' is deprecated and will be removed in a future version, please use 'h' instead.\n",
      "  index=pd.date_range(\"2019-01-01 00:00:00\", periods=8760, freq=\"H\")\n",
      "c:\\Users\\felix\\Programmieren\\districtgenerator\\.venv\\Lib\\site-packages\\teaser\\logic\\buildingobjects\\useconditions.py:363: FutureWarning: 'H' is deprecated and will be removed in a future version, please use 'h' instead.\n",
      "  index=pd.date_range(\"2019-01-01 00:00:00\", periods=8760, freq=\"H\")\n"
     ]
    },
    {
     "name": "stdout",
     "output_type": "stream",
     "text": [
      "Creating building MFH\n",
      "Creating building MFH\n"
     ]
    },
    {
     "name": "stderr",
     "output_type": "stream",
     "text": [
      "c:\\Users\\felix\\Programmieren\\districtgenerator\\.venv\\Lib\\site-packages\\teaser\\logic\\buildingobjects\\useconditions.py:363: FutureWarning: 'H' is deprecated and will be removed in a future version, please use 'h' instead.\n",
      "  index=pd.date_range(\"2019-01-01 00:00:00\", periods=8760, freq=\"H\")\n",
      "c:\\Users\\felix\\Programmieren\\districtgenerator\\.venv\\Lib\\site-packages\\teaser\\logic\\buildingobjects\\useconditions.py:363: FutureWarning: 'H' is deprecated and will be removed in a future version, please use 'h' instead.\n",
      "  index=pd.date_range(\"2019-01-01 00:00:00\", periods=8760, freq=\"H\")\n"
     ]
    },
    {
     "name": "stdout",
     "output_type": "stream",
     "text": [
      "Creating building IWU Production, Workshop, Warehouse or Operations\n",
      "Available building types: ['IWU Office, Administrative or Government Buildings', 'IWU Research and University Teaching', 'IWU Health and Care', 'IWU School, Day Nursery and other Care', 'IWU Culture and Leisure', 'IWU Sports Facilities', 'IWU Hotels, Boarding, Restaurants or Catering', 'IWU Production, Workshop, Warehouse or Operations', 'IWU Trade Buildings', 'IWU Technical and Utility (supply and disposal)', 'IWU Transport', 'IWU Generalized (1) Services building', 'IWU Generalized (2) Production buildings']\n",
      "Current usage: IWU Production, Workshop, Warehouse or Operations\n",
      "No data about lighntning control available for IWU Production, Workshop, Warehouse or Operations and data type Technical and Utility Buildings (supply and disposal)Gewerbliche und industrielle Hallen (mittelschwere Arbeit, überw. stehende Tätigkeit)\n",
      "Creating building MFH\n"
     ]
    },
    {
     "name": "stderr",
     "output_type": "stream",
     "text": [
      "c:\\Users\\felix\\Programmieren\\districtgenerator\\.venv\\Lib\\site-packages\\teaser\\logic\\buildingobjects\\useconditions.py:363: FutureWarning: 'H' is deprecated and will be removed in a future version, please use 'h' instead.\n",
      "  index=pd.date_range(\"2019-01-01 00:00:00\", periods=8760, freq=\"H\")\n"
     ]
    },
    {
     "name": "stdout",
     "output_type": "stream",
     "text": [
      "Creating building MFH\n",
      "Creating building IWU Transport\n",
      "Available building types: ['IWU Office, Administrative or Government Buildings', 'IWU Research and University Teaching', 'IWU Health and Care', 'IWU School, Day Nursery and other Care', 'IWU Culture and Leisure', 'IWU Sports Facilities', 'IWU Hotels, Boarding, Restaurants or Catering', 'IWU Production, Workshop, Warehouse or Operations', 'IWU Trade Buildings', 'IWU Technical and Utility (supply and disposal)', 'IWU Transport', 'IWU Generalized (1) Services building', 'IWU Generalized (2) Production buildings']\n",
      "Current usage: IWU Transport\n"
     ]
    },
    {
     "name": "stderr",
     "output_type": "stream",
     "text": [
      "c:\\Users\\felix\\Programmieren\\districtgenerator\\.venv\\Lib\\site-packages\\teaser\\logic\\buildingobjects\\useconditions.py:363: FutureWarning: 'H' is deprecated and will be removed in a future version, please use 'h' instead.\n",
      "  index=pd.date_range(\"2019-01-01 00:00:00\", periods=8760, freq=\"H\")\n",
      "c:\\Users\\felix\\Programmieren\\districtgenerator\\functions\\light_demand.py:99: FutureWarning: Setting an item of incompatible dtype is deprecated and will raise an error in a future version of pandas. Value '[135.62682617 271.25365234 406.88047852 ... 542.50730469 271.25365234\n",
      " 135.62682617]' has dtype incompatible with int64, please explicitly cast to a compatible dtype first.\n",
      "  lighting_demand[mask] = lighting_load * area * occupancy_schedule[\"OCCUPANCY\"][mask]\n",
      "c:\\Users\\felix\\Programmieren\\districtgenerator\\.venv\\Lib\\site-packages\\teaser\\logic\\buildingobjects\\useconditions.py:363: FutureWarning: 'H' is deprecated and will be removed in a future version, please use 'h' instead.\n",
      "  index=pd.date_range(\"2019-01-01 00:00:00\", periods=8760, freq=\"H\")\n"
     ]
    },
    {
     "name": "stdout",
     "output_type": "stream",
     "text": [
      "Creating building AB\n",
      "Creating building MFH\n"
     ]
    },
    {
     "name": "stderr",
     "output_type": "stream",
     "text": [
      "c:\\Users\\felix\\Programmieren\\districtgenerator\\.venv\\Lib\\site-packages\\teaser\\logic\\buildingobjects\\useconditions.py:363: FutureWarning: 'H' is deprecated and will be removed in a future version, please use 'h' instead.\n",
      "  index=pd.date_range(\"2019-01-01 00:00:00\", periods=8760, freq=\"H\")\n"
     ]
    },
    {
     "name": "stdout",
     "output_type": "stream",
     "text": [
      "Creating building MFH\n",
      "Creating building IWU Production, Workshop, Warehouse or Operations\n",
      "Available building types: ['IWU Office, Administrative or Government Buildings', 'IWU Research and University Teaching', 'IWU Health and Care', 'IWU School, Day Nursery and other Care', 'IWU Culture and Leisure', 'IWU Sports Facilities', 'IWU Hotels, Boarding, Restaurants or Catering', 'IWU Production, Workshop, Warehouse or Operations', 'IWU Trade Buildings', 'IWU Technical and Utility (supply and disposal)', 'IWU Transport', 'IWU Generalized (1) Services building', 'IWU Generalized (2) Production buildings']\n",
      "Current usage: IWU Production, Workshop, Warehouse or Operations\n",
      "No data about lighntning control available for IWU Production, Workshop, Warehouse or Operations and data type Technical and Utility Buildings (supply and disposal)Gewerbliche und industrielle Hallen (mittelschwere Arbeit, überw. stehende Tätigkeit)\n",
      "Creating building MFH\n"
     ]
    },
    {
     "name": "stderr",
     "output_type": "stream",
     "text": [
      "c:\\Users\\felix\\Programmieren\\districtgenerator\\.venv\\Lib\\site-packages\\teaser\\logic\\buildingobjects\\useconditions.py:363: FutureWarning: 'H' is deprecated and will be removed in a future version, please use 'h' instead.\n",
      "  index=pd.date_range(\"2019-01-01 00:00:00\", periods=8760, freq=\"H\")\n",
      "c:\\Users\\felix\\Programmieren\\districtgenerator\\.venv\\Lib\\site-packages\\teaser\\logic\\buildingobjects\\useconditions.py:363: FutureWarning: 'H' is deprecated and will be removed in a future version, please use 'h' instead.\n",
      "  index=pd.date_range(\"2019-01-01 00:00:00\", periods=8760, freq=\"H\")\n"
     ]
    },
    {
     "name": "stdout",
     "output_type": "stream",
     "text": [
      "Creating building AB\n"
     ]
    },
    {
     "name": "stderr",
     "output_type": "stream",
     "text": [
      "c:\\Users\\felix\\Programmieren\\districtgenerator\\.venv\\Lib\\site-packages\\teaser\\logic\\buildingobjects\\useconditions.py:363: FutureWarning: 'H' is deprecated and will be removed in a future version, please use 'h' instead.\n",
      "  index=pd.date_range(\"2019-01-01 00:00:00\", periods=8760, freq=\"H\")\n"
     ]
    },
    {
     "name": "stdout",
     "output_type": "stream",
     "text": [
      "Creating building MFH\n",
      "Creating building AB\n"
     ]
    },
    {
     "name": "stderr",
     "output_type": "stream",
     "text": [
      "c:\\Users\\felix\\Programmieren\\districtgenerator\\.venv\\Lib\\site-packages\\teaser\\logic\\buildingobjects\\useconditions.py:363: FutureWarning: 'H' is deprecated and will be removed in a future version, please use 'h' instead.\n",
      "  index=pd.date_range(\"2019-01-01 00:00:00\", periods=8760, freq=\"H\")\n",
      "c:\\Users\\felix\\Programmieren\\districtgenerator\\.venv\\Lib\\site-packages\\teaser\\logic\\buildingobjects\\useconditions.py:363: FutureWarning: 'H' is deprecated and will be removed in a future version, please use 'h' instead.\n",
      "  index=pd.date_range(\"2019-01-01 00:00:00\", periods=8760, freq=\"H\")\n"
     ]
    },
    {
     "name": "stdout",
     "output_type": "stream",
     "text": [
      "Creating building AB\n",
      "Creating building MFH\n"
     ]
    },
    {
     "name": "stderr",
     "output_type": "stream",
     "text": [
      "c:\\Users\\felix\\Programmieren\\districtgenerator\\.venv\\Lib\\site-packages\\teaser\\logic\\buildingobjects\\useconditions.py:363: FutureWarning: 'H' is deprecated and will be removed in a future version, please use 'h' instead.\n",
      "  index=pd.date_range(\"2019-01-01 00:00:00\", periods=8760, freq=\"H\")\n",
      "c:\\Users\\felix\\Programmieren\\districtgenerator\\.venv\\Lib\\site-packages\\teaser\\logic\\buildingobjects\\useconditions.py:363: FutureWarning: 'H' is deprecated and will be removed in a future version, please use 'h' instead.\n",
      "  index=pd.date_range(\"2019-01-01 00:00:00\", periods=8760, freq=\"H\")\n"
     ]
    },
    {
     "name": "stdout",
     "output_type": "stream",
     "text": [
      "Creating building AB\n",
      "Creating building AB\n"
     ]
    },
    {
     "name": "stderr",
     "output_type": "stream",
     "text": [
      "c:\\Users\\felix\\Programmieren\\districtgenerator\\.venv\\Lib\\site-packages\\teaser\\logic\\buildingobjects\\useconditions.py:363: FutureWarning: 'H' is deprecated and will be removed in a future version, please use 'h' instead.\n",
      "  index=pd.date_range(\"2019-01-01 00:00:00\", periods=8760, freq=\"H\")\n",
      "c:\\Users\\felix\\Programmieren\\districtgenerator\\.venv\\Lib\\site-packages\\teaser\\logic\\buildingobjects\\useconditions.py:363: FutureWarning: 'H' is deprecated and will be removed in a future version, please use 'h' instead.\n",
      "  index=pd.date_range(\"2019-01-01 00:00:00\", periods=8760, freq=\"H\")\n"
     ]
    },
    {
     "name": "stdout",
     "output_type": "stream",
     "text": [
      "Creating building MFH\n"
     ]
    },
    {
     "name": "stderr",
     "output_type": "stream",
     "text": [
      "c:\\Users\\felix\\Programmieren\\districtgenerator\\.venv\\Lib\\site-packages\\teaser\\logic\\buildingobjects\\useconditions.py:363: FutureWarning: 'H' is deprecated and will be removed in a future version, please use 'h' instead.\n",
      "  index=pd.date_range(\"2019-01-01 00:00:00\", periods=8760, freq=\"H\")\n"
     ]
    },
    {
     "name": "stdout",
     "output_type": "stream",
     "text": [
      "Creating building IWU Production, Workshop, Warehouse or Operations\n",
      "Available building types: ['IWU Office, Administrative or Government Buildings', 'IWU Research and University Teaching', 'IWU Health and Care', 'IWU School, Day Nursery and other Care', 'IWU Culture and Leisure', 'IWU Sports Facilities', 'IWU Hotels, Boarding, Restaurants or Catering', 'IWU Production, Workshop, Warehouse or Operations', 'IWU Trade Buildings', 'IWU Technical and Utility (supply and disposal)', 'IWU Transport', 'IWU Generalized (1) Services building', 'IWU Generalized (2) Production buildings']\n",
      "Current usage: IWU Production, Workshop, Warehouse or Operations\n",
      "No data about lighntning control available for IWU Production, Workshop, Warehouse or Operations and data type Technical and Utility Buildings (supply and disposal)Gewerbliche und industrielle Hallen (mittelschwere Arbeit, überw. stehende Tätigkeit)\n",
      "Creating building MFH\n",
      "Creating building IWU Production, Workshop, Warehouse or Operations\n",
      "Available building types: ['IWU Office, Administrative or Government Buildings', 'IWU Research and University Teaching', 'IWU Health and Care', 'IWU School, Day Nursery and other Care', 'IWU Culture and Leisure', 'IWU Sports Facilities', 'IWU Hotels, Boarding, Restaurants or Catering', 'IWU Production, Workshop, Warehouse or Operations', 'IWU Trade Buildings', 'IWU Technical and Utility (supply and disposal)', 'IWU Transport', 'IWU Generalized (1) Services building', 'IWU Generalized (2) Production buildings']\n",
      "Current usage: IWU Production, Workshop, Warehouse or Operations\n",
      "No data about lighntning control available for IWU Production, Workshop, Warehouse or Operations and data type Technical and Utility Buildings (supply and disposal)Gewerbliche und industrielle Hallen (mittelschwere Arbeit, überw. stehende Tätigkeit)\n",
      "Creating building AB\n"
     ]
    },
    {
     "name": "stderr",
     "output_type": "stream",
     "text": [
      "c:\\Users\\felix\\Programmieren\\districtgenerator\\.venv\\Lib\\site-packages\\teaser\\logic\\buildingobjects\\useconditions.py:363: FutureWarning: 'H' is deprecated and will be removed in a future version, please use 'h' instead.\n",
      "  index=pd.date_range(\"2019-01-01 00:00:00\", periods=8760, freq=\"H\")\n",
      "c:\\Users\\felix\\Programmieren\\districtgenerator\\.venv\\Lib\\site-packages\\teaser\\logic\\buildingobjects\\useconditions.py:363: FutureWarning: 'H' is deprecated and will be removed in a future version, please use 'h' instead.\n",
      "  index=pd.date_range(\"2019-01-01 00:00:00\", periods=8760, freq=\"H\")\n"
     ]
    },
    {
     "name": "stdout",
     "output_type": "stream",
     "text": [
      "Creating building AB\n",
      "Creating building AB\n"
     ]
    },
    {
     "name": "stderr",
     "output_type": "stream",
     "text": [
      "c:\\Users\\felix\\Programmieren\\districtgenerator\\.venv\\Lib\\site-packages\\teaser\\logic\\buildingobjects\\useconditions.py:363: FutureWarning: 'H' is deprecated and will be removed in a future version, please use 'h' instead.\n",
      "  index=pd.date_range(\"2019-01-01 00:00:00\", periods=8760, freq=\"H\")\n",
      "c:\\Users\\felix\\Programmieren\\districtgenerator\\.venv\\Lib\\site-packages\\teaser\\logic\\buildingobjects\\useconditions.py:363: FutureWarning: 'H' is deprecated and will be removed in a future version, please use 'h' instead.\n",
      "  index=pd.date_range(\"2019-01-01 00:00:00\", periods=8760, freq=\"H\")\n"
     ]
    },
    {
     "name": "stdout",
     "output_type": "stream",
     "text": [
      "Creating building AB\n",
      "Creating building AB\n"
     ]
    },
    {
     "name": "stderr",
     "output_type": "stream",
     "text": [
      "c:\\Users\\felix\\Programmieren\\districtgenerator\\.venv\\Lib\\site-packages\\teaser\\logic\\buildingobjects\\useconditions.py:363: FutureWarning: 'H' is deprecated and will be removed in a future version, please use 'h' instead.\n",
      "  index=pd.date_range(\"2019-01-01 00:00:00\", periods=8760, freq=\"H\")\n",
      "c:\\Users\\felix\\Programmieren\\districtgenerator\\.venv\\Lib\\site-packages\\teaser\\logic\\buildingobjects\\useconditions.py:363: FutureWarning: 'H' is deprecated and will be removed in a future version, please use 'h' instead.\n",
      "  index=pd.date_range(\"2019-01-01 00:00:00\", periods=8760, freq=\"H\")\n"
     ]
    },
    {
     "name": "stdout",
     "output_type": "stream",
     "text": [
      "Creating building IWU Transport\n",
      "Available building types: ['IWU Office, Administrative or Government Buildings', 'IWU Research and University Teaching', 'IWU Health and Care', 'IWU School, Day Nursery and other Care', 'IWU Culture and Leisure', 'IWU Sports Facilities', 'IWU Hotels, Boarding, Restaurants or Catering', 'IWU Production, Workshop, Warehouse or Operations', 'IWU Trade Buildings', 'IWU Technical and Utility (supply and disposal)', 'IWU Transport', 'IWU Generalized (1) Services building', 'IWU Generalized (2) Production buildings']\n",
      "Current usage: IWU Transport\n",
      "Creating building MFH\n",
      "Creating building AB\n"
     ]
    },
    {
     "name": "stderr",
     "output_type": "stream",
     "text": [
      "c:\\Users\\felix\\Programmieren\\districtgenerator\\functions\\light_demand.py:99: FutureWarning: Setting an item of incompatible dtype is deprecated and will raise an error in a future version of pandas. Value '[ 75.77396973 151.54793945 227.32190918 ... 303.09587891 151.54793945\n",
      "  75.77396973]' has dtype incompatible with int64, please explicitly cast to a compatible dtype first.\n",
      "  lighting_demand[mask] = lighting_load * area * occupancy_schedule[\"OCCUPANCY\"][mask]\n",
      "c:\\Users\\felix\\Programmieren\\districtgenerator\\.venv\\Lib\\site-packages\\teaser\\logic\\buildingobjects\\useconditions.py:363: FutureWarning: 'H' is deprecated and will be removed in a future version, please use 'h' instead.\n",
      "  index=pd.date_range(\"2019-01-01 00:00:00\", periods=8760, freq=\"H\")\n",
      "c:\\Users\\felix\\Programmieren\\districtgenerator\\.venv\\Lib\\site-packages\\teaser\\logic\\buildingobjects\\useconditions.py:363: FutureWarning: 'H' is deprecated and will be removed in a future version, please use 'h' instead.\n",
      "  index=pd.date_range(\"2019-01-01 00:00:00\", periods=8760, freq=\"H\")\n"
     ]
    },
    {
     "name": "stdout",
     "output_type": "stream",
     "text": [
      "Creating building IWU Production, Workshop, Warehouse or Operations\n",
      "Available building types: ['IWU Office, Administrative or Government Buildings', 'IWU Research and University Teaching', 'IWU Health and Care', 'IWU School, Day Nursery and other Care', 'IWU Culture and Leisure', 'IWU Sports Facilities', 'IWU Hotels, Boarding, Restaurants or Catering', 'IWU Production, Workshop, Warehouse or Operations', 'IWU Trade Buildings', 'IWU Technical and Utility (supply and disposal)', 'IWU Transport', 'IWU Generalized (1) Services building', 'IWU Generalized (2) Production buildings']\n",
      "Current usage: IWU Production, Workshop, Warehouse or Operations\n",
      "No data about lighntning control available for IWU Production, Workshop, Warehouse or Operations and data type Technical and Utility Buildings (supply and disposal)Gewerbliche und industrielle Hallen (mittelschwere Arbeit, überw. stehende Tätigkeit)\n",
      "Creating building TH\n",
      "Creating building IWU Production, Workshop, Warehouse or Operations\n",
      "Available building types: ['IWU Office, Administrative or Government Buildings', 'IWU Research and University Teaching', 'IWU Health and Care', 'IWU School, Day Nursery and other Care', 'IWU Culture and Leisure', 'IWU Sports Facilities', 'IWU Hotels, Boarding, Restaurants or Catering', 'IWU Production, Workshop, Warehouse or Operations', 'IWU Trade Buildings', 'IWU Technical and Utility (supply and disposal)', 'IWU Transport', 'IWU Generalized (1) Services building', 'IWU Generalized (2) Production buildings']\n",
      "Current usage: IWU Production, Workshop, Warehouse or Operations\n",
      "No data about lighntning control available for IWU Production, Workshop, Warehouse or Operations and data type Technical and Utility Buildings (supply and disposal)Gewerbliche und industrielle Hallen (mittelschwere Arbeit, überw. stehende Tätigkeit)\n",
      "Creating building IWU Production, Workshop, Warehouse or Operations\n",
      "Available building types: ['IWU Office, Administrative or Government Buildings', 'IWU Research and University Teaching', 'IWU Health and Care', 'IWU School, Day Nursery and other Care', 'IWU Culture and Leisure', 'IWU Sports Facilities', 'IWU Hotels, Boarding, Restaurants or Catering', 'IWU Production, Workshop, Warehouse or Operations', 'IWU Trade Buildings', 'IWU Technical and Utility (supply and disposal)', 'IWU Transport', 'IWU Generalized (1) Services building', 'IWU Generalized (2) Production buildings']\n",
      "Current usage: IWU Production, Workshop, Warehouse or Operations\n",
      "No data about lighntning control available for IWU Production, Workshop, Warehouse or Operations and data type Technical and Utility Buildings (supply and disposal)Gewerbliche und industrielle Hallen (mittelschwere Arbeit, überw. stehende Tätigkeit)\n",
      "Creating building MFH\n"
     ]
    },
    {
     "name": "stderr",
     "output_type": "stream",
     "text": [
      "c:\\Users\\felix\\Programmieren\\districtgenerator\\.venv\\Lib\\site-packages\\teaser\\logic\\buildingobjects\\useconditions.py:363: FutureWarning: 'H' is deprecated and will be removed in a future version, please use 'h' instead.\n",
      "  index=pd.date_range(\"2019-01-01 00:00:00\", periods=8760, freq=\"H\")\n",
      "c:\\Users\\felix\\Programmieren\\districtgenerator\\.venv\\Lib\\site-packages\\teaser\\logic\\buildingobjects\\useconditions.py:363: FutureWarning: 'H' is deprecated and will be removed in a future version, please use 'h' instead.\n",
      "  index=pd.date_range(\"2019-01-01 00:00:00\", periods=8760, freq=\"H\")\n",
      "c:\\Users\\felix\\Programmieren\\districtgenerator\\.venv\\Lib\\site-packages\\teaser\\logic\\buildingobjects\\useconditions.py:363: FutureWarning: 'H' is deprecated and will be removed in a future version, please use 'h' instead.\n",
      "  index=pd.date_range(\"2019-01-01 00:00:00\", periods=8760, freq=\"H\")\n"
     ]
    },
    {
     "name": "stdout",
     "output_type": "stream",
     "text": [
      "Creating building MFH\n",
      "Creating building AB\n"
     ]
    },
    {
     "name": "stderr",
     "output_type": "stream",
     "text": [
      "c:\\Users\\felix\\Programmieren\\districtgenerator\\.venv\\Lib\\site-packages\\teaser\\logic\\buildingobjects\\useconditions.py:363: FutureWarning: 'H' is deprecated and will be removed in a future version, please use 'h' instead.\n",
      "  index=pd.date_range(\"2019-01-01 00:00:00\", periods=8760, freq=\"H\")\n",
      "c:\\Users\\felix\\Programmieren\\districtgenerator\\.venv\\Lib\\site-packages\\teaser\\logic\\buildingobjects\\useconditions.py:363: FutureWarning: 'H' is deprecated and will be removed in a future version, please use 'h' instead.\n",
      "  index=pd.date_range(\"2019-01-01 00:00:00\", periods=8760, freq=\"H\")\n"
     ]
    },
    {
     "name": "stdout",
     "output_type": "stream",
     "text": [
      "Creating building MFH\n",
      "Creating building MFH\n"
     ]
    },
    {
     "name": "stderr",
     "output_type": "stream",
     "text": [
      "c:\\Users\\felix\\Programmieren\\districtgenerator\\.venv\\Lib\\site-packages\\teaser\\logic\\buildingobjects\\useconditions.py:363: FutureWarning: 'H' is deprecated and will be removed in a future version, please use 'h' instead.\n",
      "  index=pd.date_range(\"2019-01-01 00:00:00\", periods=8760, freq=\"H\")\n",
      "c:\\Users\\felix\\Programmieren\\districtgenerator\\.venv\\Lib\\site-packages\\teaser\\logic\\buildingobjects\\useconditions.py:363: FutureWarning: 'H' is deprecated and will be removed in a future version, please use 'h' instead.\n",
      "  index=pd.date_range(\"2019-01-01 00:00:00\", periods=8760, freq=\"H\")\n"
     ]
    },
    {
     "name": "stdout",
     "output_type": "stream",
     "text": [
      "Creating building AB\n",
      "Creating building IWU Production, Workshop, Warehouse or Operations\n",
      "Available building types: ['IWU Office, Administrative or Government Buildings', 'IWU Research and University Teaching', 'IWU Health and Care', 'IWU School, Day Nursery and other Care', 'IWU Culture and Leisure', 'IWU Sports Facilities', 'IWU Hotels, Boarding, Restaurants or Catering', 'IWU Production, Workshop, Warehouse or Operations', 'IWU Trade Buildings', 'IWU Technical and Utility (supply and disposal)', 'IWU Transport', 'IWU Generalized (1) Services building', 'IWU Generalized (2) Production buildings']\n",
      "Current usage: IWU Production, Workshop, Warehouse or Operations\n",
      "No data about lighntning control available for IWU Production, Workshop, Warehouse or Operations and data type Technical and Utility Buildings (supply and disposal)Gewerbliche und industrielle Hallen (mittelschwere Arbeit, überw. stehende Tätigkeit)\n",
      "Creating building MFH\n"
     ]
    },
    {
     "name": "stderr",
     "output_type": "stream",
     "text": [
      "c:\\Users\\felix\\Programmieren\\districtgenerator\\.venv\\Lib\\site-packages\\teaser\\logic\\buildingobjects\\useconditions.py:363: FutureWarning: 'H' is deprecated and will be removed in a future version, please use 'h' instead.\n",
      "  index=pd.date_range(\"2019-01-01 00:00:00\", periods=8760, freq=\"H\")\n",
      "c:\\Users\\felix\\Programmieren\\districtgenerator\\.venv\\Lib\\site-packages\\teaser\\logic\\buildingobjects\\useconditions.py:363: FutureWarning: 'H' is deprecated and will be removed in a future version, please use 'h' instead.\n",
      "  index=pd.date_range(\"2019-01-01 00:00:00\", periods=8760, freq=\"H\")\n"
     ]
    },
    {
     "name": "stdout",
     "output_type": "stream",
     "text": [
      "Creating building AB\n",
      "Creating building MFH\n"
     ]
    },
    {
     "name": "stderr",
     "output_type": "stream",
     "text": [
      "c:\\Users\\felix\\Programmieren\\districtgenerator\\.venv\\Lib\\site-packages\\teaser\\logic\\buildingobjects\\useconditions.py:363: FutureWarning: 'H' is deprecated and will be removed in a future version, please use 'h' instead.\n",
      "  index=pd.date_range(\"2019-01-01 00:00:00\", periods=8760, freq=\"H\")\n"
     ]
    },
    {
     "name": "stdout",
     "output_type": "stream",
     "text": [
      "Creating building AB\n",
      "Creating building AB\n"
     ]
    },
    {
     "name": "stderr",
     "output_type": "stream",
     "text": [
      "c:\\Users\\felix\\Programmieren\\districtgenerator\\.venv\\Lib\\site-packages\\teaser\\logic\\buildingobjects\\useconditions.py:363: FutureWarning: 'H' is deprecated and will be removed in a future version, please use 'h' instead.\n",
      "  index=pd.date_range(\"2019-01-01 00:00:00\", periods=8760, freq=\"H\")\n",
      "c:\\Users\\felix\\Programmieren\\districtgenerator\\.venv\\Lib\\site-packages\\teaser\\logic\\buildingobjects\\useconditions.py:363: FutureWarning: 'H' is deprecated and will be removed in a future version, please use 'h' instead.\n",
      "  index=pd.date_range(\"2019-01-01 00:00:00\", periods=8760, freq=\"H\")\n"
     ]
    },
    {
     "name": "stdout",
     "output_type": "stream",
     "text": [
      "Creating building MFH\n",
      "Creating building MFH\n",
      "Creating building MFH\n"
     ]
    },
    {
     "name": "stderr",
     "output_type": "stream",
     "text": [
      "c:\\Users\\felix\\Programmieren\\districtgenerator\\.venv\\Lib\\site-packages\\teaser\\logic\\buildingobjects\\useconditions.py:363: FutureWarning: 'H' is deprecated and will be removed in a future version, please use 'h' instead.\n",
      "  index=pd.date_range(\"2019-01-01 00:00:00\", periods=8760, freq=\"H\")\n",
      "c:\\Users\\felix\\Programmieren\\districtgenerator\\.venv\\Lib\\site-packages\\teaser\\logic\\buildingobjects\\useconditions.py:363: FutureWarning: 'H' is deprecated and will be removed in a future version, please use 'h' instead.\n",
      "  index=pd.date_range(\"2019-01-01 00:00:00\", periods=8760, freq=\"H\")\n",
      "c:\\Users\\felix\\Programmieren\\districtgenerator\\.venv\\Lib\\site-packages\\teaser\\logic\\buildingobjects\\useconditions.py:363: FutureWarning: 'H' is deprecated and will be removed in a future version, please use 'h' instead.\n",
      "  index=pd.date_range(\"2019-01-01 00:00:00\", periods=8760, freq=\"H\")\n"
     ]
    },
    {
     "name": "stdout",
     "output_type": "stream",
     "text": [
      "Creating building MFH\n",
      "Creating building MFH\n",
      "Creating building MFH\n"
     ]
    },
    {
     "name": "stderr",
     "output_type": "stream",
     "text": [
      "c:\\Users\\felix\\Programmieren\\districtgenerator\\.venv\\Lib\\site-packages\\teaser\\logic\\buildingobjects\\useconditions.py:363: FutureWarning: 'H' is deprecated and will be removed in a future version, please use 'h' instead.\n",
      "  index=pd.date_range(\"2019-01-01 00:00:00\", periods=8760, freq=\"H\")\n",
      "c:\\Users\\felix\\Programmieren\\districtgenerator\\.venv\\Lib\\site-packages\\teaser\\logic\\buildingobjects\\useconditions.py:363: FutureWarning: 'H' is deprecated and will be removed in a future version, please use 'h' instead.\n",
      "  index=pd.date_range(\"2019-01-01 00:00:00\", periods=8760, freq=\"H\")\n",
      "c:\\Users\\felix\\Programmieren\\districtgenerator\\.venv\\Lib\\site-packages\\teaser\\logic\\buildingobjects\\useconditions.py:363: FutureWarning: 'H' is deprecated and will be removed in a future version, please use 'h' instead.\n",
      "  index=pd.date_range(\"2019-01-01 00:00:00\", periods=8760, freq=\"H\")\n"
     ]
    },
    {
     "name": "stdout",
     "output_type": "stream",
     "text": [
      "Creating building MFH\n",
      "Creating building MFH\n",
      "Creating building MFH\n"
     ]
    },
    {
     "name": "stderr",
     "output_type": "stream",
     "text": [
      "c:\\Users\\felix\\Programmieren\\districtgenerator\\.venv\\Lib\\site-packages\\teaser\\logic\\buildingobjects\\useconditions.py:363: FutureWarning: 'H' is deprecated and will be removed in a future version, please use 'h' instead.\n",
      "  index=pd.date_range(\"2019-01-01 00:00:00\", periods=8760, freq=\"H\")\n",
      "c:\\Users\\felix\\Programmieren\\districtgenerator\\.venv\\Lib\\site-packages\\teaser\\logic\\buildingobjects\\useconditions.py:363: FutureWarning: 'H' is deprecated and will be removed in a future version, please use 'h' instead.\n",
      "  index=pd.date_range(\"2019-01-01 00:00:00\", periods=8760, freq=\"H\")\n",
      "c:\\Users\\felix\\Programmieren\\districtgenerator\\.venv\\Lib\\site-packages\\teaser\\logic\\buildingobjects\\useconditions.py:363: FutureWarning: 'H' is deprecated and will be removed in a future version, please use 'h' instead.\n",
      "  index=pd.date_range(\"2019-01-01 00:00:00\", periods=8760, freq=\"H\")\n"
     ]
    },
    {
     "name": "stdout",
     "output_type": "stream",
     "text": [
      "Creating building MFH\n",
      "Creating building IWU Health and Care\n",
      "Available building types: ['IWU Office, Administrative or Government Buildings', 'IWU Research and University Teaching', 'IWU Health and Care', 'IWU School, Day Nursery and other Care', 'IWU Culture and Leisure', 'IWU Sports Facilities', 'IWU Hotels, Boarding, Restaurants or Catering', 'IWU Production, Workshop, Warehouse or Operations', 'IWU Trade Buildings', 'IWU Technical and Utility (supply and disposal)', 'IWU Transport', 'IWU Generalized (1) Services building', 'IWU Generalized (2) Production buildings']\n",
      "Current usage: IWU Health and Care\n",
      "Creating building MFH\n",
      "Creating building MFH\n"
     ]
    },
    {
     "name": "stderr",
     "output_type": "stream",
     "text": [
      "c:\\Users\\felix\\Programmieren\\districtgenerator\\.venv\\Lib\\site-packages\\teaser\\logic\\buildingobjects\\useconditions.py:363: FutureWarning: 'H' is deprecated and will be removed in a future version, please use 'h' instead.\n",
      "  index=pd.date_range(\"2019-01-01 00:00:00\", periods=8760, freq=\"H\")\n",
      "c:\\Users\\felix\\Programmieren\\districtgenerator\\functions\\light_demand.py:99: FutureWarning: Setting an item of incompatible dtype is deprecated and will raise an error in a future version of pandas. Value '[12930.16634766 12930.16634766 12930.16634766 ... 12930.16634766\n",
      " 12930.16634766 12930.16634766]' has dtype incompatible with int64, please explicitly cast to a compatible dtype first.\n",
      "  lighting_demand[mask] = lighting_load * area * occupancy_schedule[\"OCCUPANCY\"][mask]\n",
      "c:\\Users\\felix\\Programmieren\\districtgenerator\\.venv\\Lib\\site-packages\\teaser\\logic\\buildingobjects\\useconditions.py:363: FutureWarning: 'H' is deprecated and will be removed in a future version, please use 'h' instead.\n",
      "  index=pd.date_range(\"2019-01-01 00:00:00\", periods=8760, freq=\"H\")\n",
      "c:\\Users\\felix\\Programmieren\\districtgenerator\\.venv\\Lib\\site-packages\\teaser\\logic\\buildingobjects\\useconditions.py:363: FutureWarning: 'H' is deprecated and will be removed in a future version, please use 'h' instead.\n",
      "  index=pd.date_range(\"2019-01-01 00:00:00\", periods=8760, freq=\"H\")\n"
     ]
    },
    {
     "name": "stdout",
     "output_type": "stream",
     "text": [
      "Creating building MFH\n",
      "Creating building MFH\n",
      "Creating building MFH\n",
      "Creating building AB\n"
     ]
    },
    {
     "name": "stderr",
     "output_type": "stream",
     "text": [
      "c:\\Users\\felix\\Programmieren\\districtgenerator\\.venv\\Lib\\site-packages\\teaser\\logic\\buildingobjects\\useconditions.py:363: FutureWarning: 'H' is deprecated and will be removed in a future version, please use 'h' instead.\n",
      "  index=pd.date_range(\"2019-01-01 00:00:00\", periods=8760, freq=\"H\")\n",
      "c:\\Users\\felix\\Programmieren\\districtgenerator\\.venv\\Lib\\site-packages\\teaser\\logic\\buildingobjects\\useconditions.py:363: FutureWarning: 'H' is deprecated and will be removed in a future version, please use 'h' instead.\n",
      "  index=pd.date_range(\"2019-01-01 00:00:00\", periods=8760, freq=\"H\")\n",
      "c:\\Users\\felix\\Programmieren\\districtgenerator\\.venv\\Lib\\site-packages\\teaser\\logic\\buildingobjects\\useconditions.py:363: FutureWarning: 'H' is deprecated and will be removed in a future version, please use 'h' instead.\n",
      "  index=pd.date_range(\"2019-01-01 00:00:00\", periods=8760, freq=\"H\")\n",
      "c:\\Users\\felix\\Programmieren\\districtgenerator\\.venv\\Lib\\site-packages\\teaser\\logic\\buildingobjects\\useconditions.py:363: FutureWarning: 'H' is deprecated and will be removed in a future version, please use 'h' instead.\n",
      "  index=pd.date_range(\"2019-01-01 00:00:00\", periods=8760, freq=\"H\")\n"
     ]
    },
    {
     "name": "stdout",
     "output_type": "stream",
     "text": [
      "Creating building IWU Health and Care\n",
      "Available building types: ['IWU Office, Administrative or Government Buildings', 'IWU Research and University Teaching', 'IWU Health and Care', 'IWU School, Day Nursery and other Care', 'IWU Culture and Leisure', 'IWU Sports Facilities', 'IWU Hotels, Boarding, Restaurants or Catering', 'IWU Production, Workshop, Warehouse or Operations', 'IWU Trade Buildings', 'IWU Technical and Utility (supply and disposal)', 'IWU Transport', 'IWU Generalized (1) Services building', 'IWU Generalized (2) Production buildings']\n",
      "Current usage: IWU Health and Care\n",
      "Creating building AB\n",
      "Creating building MFH\n"
     ]
    },
    {
     "name": "stderr",
     "output_type": "stream",
     "text": [
      "c:\\Users\\felix\\Programmieren\\districtgenerator\\functions\\light_demand.py:99: FutureWarning: Setting an item of incompatible dtype is deprecated and will raise an error in a future version of pandas. Value '[15547.63240723 15547.63240723 15547.63240723 ... 15547.63240723\n",
      " 15547.63240723 15547.63240723]' has dtype incompatible with int64, please explicitly cast to a compatible dtype first.\n",
      "  lighting_demand[mask] = lighting_load * area * occupancy_schedule[\"OCCUPANCY\"][mask]\n",
      "c:\\Users\\felix\\Programmieren\\districtgenerator\\.venv\\Lib\\site-packages\\teaser\\logic\\buildingobjects\\useconditions.py:363: FutureWarning: 'H' is deprecated and will be removed in a future version, please use 'h' instead.\n",
      "  index=pd.date_range(\"2019-01-01 00:00:00\", periods=8760, freq=\"H\")\n",
      "c:\\Users\\felix\\Programmieren\\districtgenerator\\.venv\\Lib\\site-packages\\teaser\\logic\\buildingobjects\\useconditions.py:363: FutureWarning: 'H' is deprecated and will be removed in a future version, please use 'h' instead.\n",
      "  index=pd.date_range(\"2019-01-01 00:00:00\", periods=8760, freq=\"H\")\n"
     ]
    },
    {
     "name": "stdout",
     "output_type": "stream",
     "text": [
      "Creating building AB\n",
      "Creating building MFH\n"
     ]
    },
    {
     "name": "stderr",
     "output_type": "stream",
     "text": [
      "c:\\Users\\felix\\Programmieren\\districtgenerator\\.venv\\Lib\\site-packages\\teaser\\logic\\buildingobjects\\useconditions.py:363: FutureWarning: 'H' is deprecated and will be removed in a future version, please use 'h' instead.\n",
      "  index=pd.date_range(\"2019-01-01 00:00:00\", periods=8760, freq=\"H\")\n",
      "c:\\Users\\felix\\Programmieren\\districtgenerator\\.venv\\Lib\\site-packages\\teaser\\logic\\buildingobjects\\useconditions.py:363: FutureWarning: 'H' is deprecated and will be removed in a future version, please use 'h' instead.\n",
      "  index=pd.date_range(\"2019-01-01 00:00:00\", periods=8760, freq=\"H\")\n"
     ]
    },
    {
     "name": "stdout",
     "output_type": "stream",
     "text": [
      "Creating building AB\n",
      "Creating building AB\n"
     ]
    },
    {
     "name": "stderr",
     "output_type": "stream",
     "text": [
      "c:\\Users\\felix\\Programmieren\\districtgenerator\\.venv\\Lib\\site-packages\\teaser\\logic\\buildingobjects\\useconditions.py:363: FutureWarning: 'H' is deprecated and will be removed in a future version, please use 'h' instead.\n",
      "  index=pd.date_range(\"2019-01-01 00:00:00\", periods=8760, freq=\"H\")\n",
      "c:\\Users\\felix\\Programmieren\\districtgenerator\\.venv\\Lib\\site-packages\\teaser\\logic\\buildingobjects\\useconditions.py:363: FutureWarning: 'H' is deprecated and will be removed in a future version, please use 'h' instead.\n",
      "  index=pd.date_range(\"2019-01-01 00:00:00\", periods=8760, freq=\"H\")\n"
     ]
    },
    {
     "name": "stdout",
     "output_type": "stream",
     "text": [
      "The folder already exists. Will overwrite existing files.\n",
      "Calculate demands of building 0_AB_63_0\n",
      "Save heating profile of building 0_AB_63_0 in None\n",
      "Calculate demands of building 1_AB_65_0\n",
      "Save heating profile of building 1_AB_65_0 in None\n",
      "No data about TEK available for Verkehrsgebäude\n",
      "No data about annual dhw consumption available for building type: IWU Transport. DHW demand is set to zero.\n",
      "Calculate demands of building 2_IWU Transport_[2]_0\n",
      "Save heating profile of building 2_IWU Transport_[2]_0 in None\n",
      "Calculate demands of building 3_AB_15_0\n",
      "Save heating profile of building 3_AB_15_0 in None\n",
      "Calculate demands of building 4_AB_45_0\n",
      "Save heating profile of building 4_AB_45_0 in None\n",
      "Calculate demands of building 5_AB_43_0\n",
      "Save heating profile of building 5_AB_43_0 in None\n",
      "Calculate demands of building 6_AB_47_0\n",
      "Save heating profile of building 6_AB_47_0 in None\n",
      "No data about TEK available for Verkehrsgebäude\n",
      "No data about annual dhw consumption available for building type: IWU Transport. DHW demand is set to zero.\n",
      "Calculate demands of building 7_IWU Transport_[4]_0\n",
      "Save heating profile of building 7_IWU Transport_[4]_0 in None\n",
      "Calculate demands of building 8_IWU Technical and Utility (supply and disposal)_[0]_0\n",
      "Save heating profile of building 8_IWU Technical and Utility (supply and disposal)_[0]_0 in None\n",
      "Calculate demands of building 9_AB_13_0\n",
      "Save heating profile of building 9_AB_13_0 in None\n",
      "Calculate demands of building 10_AB_41_0\n",
      "Save heating profile of building 10_AB_41_0 in None\n",
      "Calculate demands of building 11_AB_21_0\n",
      "Save heating profile of building 11_AB_21_0 in None\n",
      "Internal gains are negative. This migth be due to cooling devices.\n",
      "Calculate demands of building 12_IWU Trade Buildings_[10]_0\n",
      "Save heating profile of building 12_IWU Trade Buildings_[10]_0 in None\n",
      "Calculate demands of building 13_AB_62_0\n",
      "Save heating profile of building 13_AB_62_0 in None\n",
      "Calculate demands of building 14_AB_21_0\n",
      "Save heating profile of building 14_AB_21_0 in None\n",
      "Calculate demands of building 15_AB_72_0\n",
      "Save heating profile of building 15_AB_72_0 in None\n",
      "Calculate demands of building 16_AB_63_0\n",
      "Save heating profile of building 16_AB_63_0 in None\n",
      "Calculate demands of building 17_IWU Culture and Leisure_[862]_0\n",
      "Save heating profile of building 17_IWU Culture and Leisure_[862]_0 in None\n",
      "Calculate demands of building 18_AB_60_0\n",
      "Save heating profile of building 18_AB_60_0 in None\n",
      "Calculate demands of building 19_AB_46_0\n",
      "Save heating profile of building 19_AB_46_0 in None\n",
      "Calculate demands of building 20_AB_73_0\n",
      "Save heating profile of building 20_AB_73_0 in None\n",
      "Calculate demands of building 21_AB_38_0\n",
      "Save heating profile of building 21_AB_38_0 in None\n",
      "Calculate demands of building 22_AB_11_0\n",
      "Save heating profile of building 22_AB_11_0 in None\n",
      "Calculate demands of building 23_AB_64_0\n",
      "Save heating profile of building 23_AB_64_0 in None\n",
      "Calculate demands of building 24_AB_72_0\n",
      "Save heating profile of building 24_AB_72_0 in None\n",
      "Calculate demands of building 25_AB_49_0\n",
      "Save heating profile of building 25_AB_49_0 in None\n",
      "Calculate demands of building 26_AB_21_0\n",
      "Save heating profile of building 26_AB_21_0 in None\n",
      "Calculate demands of building 27_AB_44_0\n",
      "Save heating profile of building 27_AB_44_0 in None\n",
      "Calculate demands of building 28_AB_65_0\n",
      "Save heating profile of building 28_AB_65_0 in None\n",
      "Calculate demands of building 29_AB_67_0\n",
      "Save heating profile of building 29_AB_67_0 in None\n",
      "Calculate demands of building 30_AB_74_0\n",
      "Save heating profile of building 30_AB_74_0 in None\n",
      "Calculate demands of building 31_AB_71_0\n",
      "Save heating profile of building 31_AB_71_0 in None\n",
      "Calculate demands of building 32_AB_17_0\n",
      "Save heating profile of building 32_AB_17_0 in None\n",
      "Calculate demands of building 33_IWU Sports Facilities_[2509]_0\n",
      "Save heating profile of building 33_IWU Sports Facilities_[2509]_0 in None\n",
      "Calculate demands of building 34_SFH_1_0\n",
      "Save heating profile of building 34_SFH_1_0 in None\n",
      "Calculate demands of building 35_AB_28_0\n",
      "Save heating profile of building 35_AB_28_0 in None\n",
      "Calculate demands of building 36_IWU Health and Care_[316]_0\n",
      "Save heating profile of building 36_IWU Health and Care_[316]_0 in None\n",
      "Calculate demands of building 37_AB_64_0\n",
      "Save heating profile of building 37_AB_64_0 in None\n",
      "Calculate demands of building 38_AB_24_0\n",
      "Save heating profile of building 38_AB_24_0 in None\n",
      "Calculate demands of building 39_AB_15_0\n",
      "Save heating profile of building 39_AB_15_0 in None\n",
      "Calculate demands of building 40_AB_95_0\n",
      "Save heating profile of building 40_AB_95_0 in None\n",
      "Calculate demands of building 41_AB_72_0\n",
      "Save heating profile of building 41_AB_72_0 in None\n",
      "Calculate demands of building 42_AB_18_0\n",
      "Save heating profile of building 42_AB_18_0 in None\n",
      "Calculate demands of building 43_AB_69_0\n",
      "Save heating profile of building 43_AB_69_0 in None\n",
      "Calculate demands of building 44_AB_31_0\n",
      "Save heating profile of building 44_AB_31_0 in None\n",
      "Calculate demands of building 45_AB_47_0\n",
      "Save heating profile of building 45_AB_47_0 in None\n",
      "Calculate demands of building 46_AB_50_0\n",
      "Save heating profile of building 46_AB_50_0 in None\n",
      "Calculate demands of building 47_AB_67_0\n",
      "Save heating profile of building 47_AB_67_0 in None\n",
      "Calculate demands of building 48_AB_60_0\n",
      "Save heating profile of building 48_AB_60_0 in None\n",
      "Calculate demands of building 49_AB_25_0\n",
      "Save heating profile of building 49_AB_25_0 in None\n",
      "Calculate demands of building 50_AB_101_0\n",
      "Save heating profile of building 50_AB_101_0 in None\n",
      "Calculate demands of building 51_AB_76_0\n",
      "Save heating profile of building 51_AB_76_0 in None\n",
      "Calculate demands of building 52_AB_42_0\n",
      "Save heating profile of building 52_AB_42_0 in None\n",
      "Calculate demands of building 53_AB_81_0\n",
      "Save heating profile of building 53_AB_81_0 in None\n",
      "Calculate demands of building 54_AB_87_0\n",
      "Save heating profile of building 54_AB_87_0 in None\n",
      "Calculate demands of building 55_AB_39_0\n",
      "Save heating profile of building 55_AB_39_0 in None\n",
      "Calculate demands of building 56_AB_83_0\n",
      "Save heating profile of building 56_AB_83_0 in None\n",
      "Calculate demands of building 57_TH_1_0\n",
      "Save heating profile of building 57_TH_1_0 in None\n",
      "Calculate demands of building 58_AB_34_0\n",
      "Save heating profile of building 58_AB_34_0 in None\n",
      "No data about TEK available for Verkehrsgebäude\n",
      "No data about annual dhw consumption available for building type: IWU Transport. DHW demand is set to zero.\n",
      "Calculate demands of building 59_IWU Transport_[34]_0\n",
      "Save heating profile of building 59_IWU Transport_[34]_0 in None\n",
      "Calculate demands of building 60_AB_53_0\n",
      "Save heating profile of building 60_AB_53_0 in None\n",
      "Calculate demands of building 61_AB_39_0\n",
      "Save heating profile of building 61_AB_39_0 in None\n",
      "Calculate demands of building 62_AB_15_0\n",
      "Save heating profile of building 62_AB_15_0 in None\n",
      "Calculate demands of building 63_AB_36_0\n",
      "Save heating profile of building 63_AB_36_0 in None\n",
      "Calculate demands of building 64_AB_25_0\n",
      "Save heating profile of building 64_AB_25_0 in None\n",
      "Calculate demands of building 65_AB_18_0\n",
      "Save heating profile of building 65_AB_18_0 in None\n",
      "Calculate demands of building 66_AB_66_0\n",
      "Save heating profile of building 66_AB_66_0 in None\n",
      "No data about TEK available for Verkehrsgebäude\n",
      "No data about annual dhw consumption available for building type: IWU Transport. DHW demand is set to zero.\n",
      "Calculate demands of building 67_IWU Transport_[3]_0\n",
      "Save heating profile of building 67_IWU Transport_[3]_0 in None\n",
      "Calculate demands of building 68_AB_18_0\n",
      "Save heating profile of building 68_AB_18_0 in None\n",
      "Calculate demands of building 69_AB_25_0\n",
      "Save heating profile of building 69_AB_25_0 in None\n",
      "Calculate demands of building 70_AB_78_0\n",
      "Save heating profile of building 70_AB_78_0 in None\n",
      "No data about TEK available for Verkehrsgebäude\n",
      "No data about annual dhw consumption available for building type: IWU Transport. DHW demand is set to zero.\n",
      "Calculate demands of building 71_IWU Transport_[4]_0\n",
      "Save heating profile of building 71_IWU Transport_[4]_0 in None\n",
      "Calculate demands of building 72_AB_54_0\n",
      "Save heating profile of building 72_AB_54_0 in None\n",
      "Calculate demands of building 73_AB_22_0\n",
      "Save heating profile of building 73_AB_22_0 in None\n",
      "Calculate demands of building 74_AB_36_0\n",
      "Save heating profile of building 74_AB_36_0 in None\n",
      "Calculate demands of building 75_AB_55_0\n",
      "Save heating profile of building 75_AB_55_0 in None\n",
      "Calculate demands of building 76_AB_26_0\n",
      "Save heating profile of building 76_AB_26_0 in None\n",
      "Calculate demands of building 77_AB_14_0\n",
      "Save heating profile of building 77_AB_14_0 in None\n",
      "Calculate demands of building 78_IWU Hotels, Boarding, Restaurants or Catering_[418]_0\n",
      "Save heating profile of building 78_IWU Hotels, Boarding, Restaurants or Catering_[418]_0 in None\n",
      "Calculate demands of building 79_AB_59_0\n",
      "Save heating profile of building 79_AB_59_0 in None\n",
      "No data about TEK available for Verkehrsgebäude\n",
      "No data about annual dhw consumption available for building type: IWU Transport. DHW demand is set to zero.\n",
      "Calculate demands of building 80_IWU Transport_[9]_0\n",
      "Save heating profile of building 80_IWU Transport_[9]_0 in None\n",
      "Calculate demands of building 81_AB_61_0\n",
      "Save heating profile of building 81_AB_61_0 in None\n",
      "No data about TEK available for Verkehrsgebäude\n",
      "No data about annual dhw consumption available for building type: IWU Transport. DHW demand is set to zero.\n",
      "Calculate demands of building 82_IWU Transport_[4]_0\n",
      "Save heating profile of building 82_IWU Transport_[4]_0 in None\n",
      "Calculate demands of building 83_AB_47_0\n",
      "Save heating profile of building 83_AB_47_0 in None\n",
      "Calculate demands of building 84_AB_46_0\n",
      "Save heating profile of building 84_AB_46_0 in None\n",
      "Calculate demands of building 85_AB_43_0\n",
      "Save heating profile of building 85_AB_43_0 in None\n",
      "No data about TEK available for Verkehrsgebäude\n",
      "No data about annual dhw consumption available for building type: IWU Transport. DHW demand is set to zero.\n",
      "Calculate demands of building 86_IWU Transport_[4]_0\n",
      "Save heating profile of building 86_IWU Transport_[4]_0 in None\n",
      "Calculate demands of building 87_AB_22_0\n",
      "Save heating profile of building 87_AB_22_0 in None\n",
      "Calculate demands of building 88_AB_33_0\n",
      "Save heating profile of building 88_AB_33_0 in None\n",
      "Calculate demands of building 89_AB_79_0\n",
      "Save heating profile of building 89_AB_79_0 in None\n",
      "Calculate demands of building 90_AB_47_0\n",
      "Save heating profile of building 90_AB_47_0 in None\n",
      "Calculate demands of building 91_AB_52_0\n",
      "Save heating profile of building 91_AB_52_0 in None\n",
      "Calculate demands of building 92_AB_60_0\n",
      "Save heating profile of building 92_AB_60_0 in None\n",
      "Calculate demands of building 93_AB_50_0\n",
      "Save heating profile of building 93_AB_50_0 in None\n",
      "Calculate demands of building 94_AB_74_0\n",
      "Save heating profile of building 94_AB_74_0 in None\n",
      "Calculate demands of building 95_AB_36_0\n",
      "Save heating profile of building 95_AB_36_0 in None\n",
      "Calculate demands of building 96_AB_51_0\n",
      "Save heating profile of building 96_AB_51_0 in None\n",
      "Calculate demands of building 97_AB_65_0\n",
      "Save heating profile of building 97_AB_65_0 in None\n",
      "Calculate demands of building 98_AB_65_0\n",
      "Save heating profile of building 98_AB_65_0 in None\n",
      "Calculate demands of building 99_AB_11_0\n",
      "Save heating profile of building 99_AB_11_0 in None\n",
      "Calculate demands of building 100_AB_29_0\n",
      "Save heating profile of building 100_AB_29_0 in None\n",
      "Calculate demands of building 101_IWU School, Day Nursery and other Care_[4510]_0\n",
      "Save heating profile of building 101_IWU School, Day Nursery and other Care_[4510]_0 in None\n",
      "Calculate demands of building 102_AB_54_0\n",
      "Save heating profile of building 102_AB_54_0 in None\n",
      "Calculate demands of building 103_AB_38_0\n",
      "Save heating profile of building 103_AB_38_0 in None\n",
      "Calculate demands of building 104_AB_12_0\n",
      "Save heating profile of building 104_AB_12_0 in None\n",
      "Calculate demands of building 105_AB_22_0\n",
      "Save heating profile of building 105_AB_22_0 in None\n",
      "Calculate demands of building 106_AB_14_0\n",
      "Save heating profile of building 106_AB_14_0 in None\n",
      "No data about TEK available for Verkehrsgebäude\n",
      "No data about annual dhw consumption available for building type: IWU Transport. DHW demand is set to zero.\n",
      "Calculate demands of building 107_IWU Transport_[3]_0\n",
      "Save heating profile of building 107_IWU Transport_[3]_0 in None\n",
      "Calculate demands of building 108_AB_41_0\n",
      "Save heating profile of building 108_AB_41_0 in None\n",
      "Calculate demands of building 109_AB_58_0\n",
      "Save heating profile of building 109_AB_58_0 in None\n",
      "Calculate demands of building 110_AB_27_0\n",
      "Save heating profile of building 110_AB_27_0 in None\n",
      "Calculate demands of building 111_AB_60_0\n",
      "Save heating profile of building 111_AB_60_0 in None\n",
      "Calculate demands of building 112_AB_67_0\n",
      "Save heating profile of building 112_AB_67_0 in None\n",
      "Calculate demands of building 113_AB_29_0\n",
      "Save heating profile of building 113_AB_29_0 in None\n",
      "Calculate demands of building 114_AB_39_0\n",
      "Save heating profile of building 114_AB_39_0 in None\n",
      "Calculate demands of building 115_IWU Trade Buildings_[39]_0\n",
      "Save heating profile of building 115_IWU Trade Buildings_[39]_0 in None\n",
      "Calculate demands of building 116_AB_46_0\n",
      "Save heating profile of building 116_AB_46_0 in None\n",
      "Calculate demands of building 117_AB_38_0\n",
      "Save heating profile of building 117_AB_38_0 in None\n",
      "Calculate demands of building 118_AB_18_0\n",
      "Save heating profile of building 118_AB_18_0 in None\n",
      "Calculate demands of building 119_AB_29_0\n",
      "Save heating profile of building 119_AB_29_0 in None\n",
      "Calculate demands of building 120_AB_15_0\n",
      "Save heating profile of building 120_AB_15_0 in None\n",
      "Calculate demands of building 121_AB_14_0\n",
      "Save heating profile of building 121_AB_14_0 in None\n",
      "Calculate demands of building 122_AB_53_0\n",
      "Save heating profile of building 122_AB_53_0 in None\n",
      "Calculate demands of building 123_IWU School, Day Nursery and other Care_[17585]_0\n",
      "Save heating profile of building 123_IWU School, Day Nursery and other Care_[17585]_0 in None\n",
      "Calculate demands of building 124_AB_12_0\n",
      "Save heating profile of building 124_AB_12_0 in None\n",
      "Calculate demands of building 125_AB_43_0\n",
      "Save heating profile of building 125_AB_43_0 in None\n",
      "Calculate demands of building 126_AB_70_0\n",
      "Save heating profile of building 126_AB_70_0 in None\n",
      "Calculate demands of building 127_IWU Research and University Teaching_[11422]_0\n",
      "Save heating profile of building 127_IWU Research and University Teaching_[11422]_0 in None\n",
      "Calculate demands of building 128_AB_41_0\n",
      "Save heating profile of building 128_AB_41_0 in None\n",
      "Calculate demands of building 129_AB_53_0\n",
      "Save heating profile of building 129_AB_53_0 in None\n",
      "Calculate demands of building 130_AB_63_0\n",
      "Save heating profile of building 130_AB_63_0 in None\n",
      "Calculate demands of building 131_AB_10_0\n",
      "Save heating profile of building 131_AB_10_0 in None\n",
      "Calculate demands of building 132_AB_20_0\n",
      "Save heating profile of building 132_AB_20_0 in None\n",
      "Calculate demands of building 133_AB_48_0\n",
      "Save heating profile of building 133_AB_48_0 in None\n",
      "Calculate demands of building 134_AB_48_0\n",
      "Save heating profile of building 134_AB_48_0 in None\n",
      "Calculate demands of building 135_AB_42_0\n",
      "Save heating profile of building 135_AB_42_0 in None\n",
      "Calculate demands of building 136_AB_20_0\n",
      "Save heating profile of building 136_AB_20_0 in None\n",
      "Calculate demands of building 137_AB_46_0\n",
      "Save heating profile of building 137_AB_46_0 in None\n",
      "Calculate demands of building 138_AB_19_0\n",
      "Save heating profile of building 138_AB_19_0 in None\n",
      "Calculate demands of building 139_AB_83_0\n",
      "Save heating profile of building 139_AB_83_0 in None\n",
      "Calculate demands of building 140_AB_20_0\n",
      "Save heating profile of building 140_AB_20_0 in None\n",
      "Calculate demands of building 141_AB_77_0\n",
      "Save heating profile of building 141_AB_77_0 in None\n",
      "Calculate demands of building 142_AB_51_0\n",
      "Save heating profile of building 142_AB_51_0 in None\n",
      "Calculate demands of building 143_AB_11_0\n",
      "Save heating profile of building 143_AB_11_0 in None\n",
      "Calculate demands of building 144_AB_10_0\n",
      "Save heating profile of building 144_AB_10_0 in None\n",
      "Calculate demands of building 145_AB_18_0\n",
      "Save heating profile of building 145_AB_18_0 in None\n",
      "Calculate demands of building 146_AB_47_0\n",
      "Save heating profile of building 146_AB_47_0 in None\n",
      "Calculate demands of building 147_IWU Culture and Leisure_[1514]_0\n",
      "Save heating profile of building 147_IWU Culture and Leisure_[1514]_0 in None\n",
      "Calculate demands of building 148_AB_65_0\n",
      "Save heating profile of building 148_AB_65_0 in None\n",
      "Calculate demands of building 149_AB_34_0\n",
      "Save heating profile of building 149_AB_34_0 in None\n",
      "Calculate demands of building 150_AB_29_0\n",
      "Save heating profile of building 150_AB_29_0 in None\n",
      "Calculate demands of building 151_IWU Research and University Teaching_[32]_0\n",
      "Save heating profile of building 151_IWU Research and University Teaching_[32]_0 in None\n",
      "Calculate demands of building 152_AB_14_0\n",
      "Save heating profile of building 152_AB_14_0 in None\n",
      "Calculate demands of building 153_AB_54_0\n",
      "Save heating profile of building 153_AB_54_0 in None\n",
      "Calculate demands of building 154_AB_47_0\n",
      "Save heating profile of building 154_AB_47_0 in None\n",
      "Calculate demands of building 155_AB_49_0\n",
      "Save heating profile of building 155_AB_49_0 in None\n",
      "Calculate demands of building 156_IWU Office, Administrative or Government Buildings_[2048]_0\n",
      "Save heating profile of building 156_IWU Office, Administrative or Government Buildings_[2048]_0 in None\n",
      "Calculate demands of building 157_AB_60_0\n",
      "Save heating profile of building 157_AB_60_0 in None\n",
      "Calculate demands of building 158_AB_76_0\n",
      "Save heating profile of building 158_AB_76_0 in None\n",
      "Calculate demands of building 159_AB_109_0\n",
      "Save heating profile of building 159_AB_109_0 in None\n",
      "Calculate demands of building 160_AB_36_0\n",
      "Save heating profile of building 160_AB_36_0 in None\n",
      "Calculate demands of building 161_AB_415_0\n",
      "Save heating profile of building 161_AB_415_0 in None\n",
      "Calculate demands of building 162_AB_38_0\n",
      "Save heating profile of building 162_AB_38_0 in None\n",
      "Calculate demands of building 163_AB_53_0\n",
      "Save heating profile of building 163_AB_53_0 in None\n",
      "Calculate demands of building 164_IWU School, Day Nursery and other Care_[1688]_0\n",
      "Save heating profile of building 164_IWU School, Day Nursery and other Care_[1688]_0 in None\n",
      "Calculate demands of building 165_AB_24_0\n",
      "Save heating profile of building 165_AB_24_0 in None\n",
      "Calculate demands of building 166_IWU School, Day Nursery and other Care_[30]_0\n",
      "Save heating profile of building 166_IWU School, Day Nursery and other Care_[30]_0 in None\n",
      "Calculate demands of building 167_AB_19_0\n",
      "Save heating profile of building 167_AB_19_0 in None\n",
      "No data about TEK available for Verkehrsgebäude\n",
      "No data about annual dhw consumption available for building type: IWU Transport. DHW demand is set to zero.\n",
      "Calculate demands of building 168_IWU Transport_[23]_0\n",
      "Save heating profile of building 168_IWU Transport_[23]_0 in None\n",
      "Calculate demands of building 169_AB_53_0\n",
      "Save heating profile of building 169_AB_53_0 in None\n",
      "Calculate demands of building 170_AB_56_0\n",
      "Save heating profile of building 170_AB_56_0 in None\n",
      "Calculate demands of building 171_AB_68_0\n",
      "Save heating profile of building 171_AB_68_0 in None\n",
      "Calculate demands of building 172_AB_65_0\n",
      "Save heating profile of building 172_AB_65_0 in None\n",
      "No data about TEK available for Verkehrsgebäude\n",
      "No data about annual dhw consumption available for building type: IWU Transport. DHW demand is set to zero.\n",
      "Calculate demands of building 173_IWU Transport_[77]_0\n",
      "Save heating profile of building 173_IWU Transport_[77]_0 in None\n",
      "Calculate demands of building 174_AB_35_0\n",
      "Save heating profile of building 174_AB_35_0 in None\n",
      "Calculate demands of building 175_AB_59_0\n",
      "Save heating profile of building 175_AB_59_0 in None\n",
      "Calculate demands of building 176_AB_48_0\n",
      "Save heating profile of building 176_AB_48_0 in None\n",
      "Calculate demands of building 177_AB_127_0\n",
      "Save heating profile of building 177_AB_127_0 in None\n",
      "Calculate demands of building 178_AB_63_0\n",
      "Save heating profile of building 178_AB_63_0 in None\n",
      "Calculate demands of building 179_AB_207_0\n",
      "Save heating profile of building 179_AB_207_0 in None\n",
      "Calculate demands of building 180_AB_59_0\n",
      "Save heating profile of building 180_AB_59_0 in None\n",
      "Calculate demands of building 181_IWU School, Day Nursery and other Care_[121]_0\n",
      "Save heating profile of building 181_IWU School, Day Nursery and other Care_[121]_0 in None\n",
      "Calculate demands of building 182_AB_39_0\n",
      "Save heating profile of building 182_AB_39_0 in None\n",
      "Calculate demands of building 183_AB_80_0\n",
      "Save heating profile of building 183_AB_80_0 in None\n",
      "No data about TEK available for Verkehrsgebäude\n",
      "No data about annual dhw consumption available for building type: IWU Transport. DHW demand is set to zero.\n",
      "Calculate demands of building 184_IWU Transport_[12]_0\n",
      "Save heating profile of building 184_IWU Transport_[12]_0 in None\n",
      "Calculate demands of building 185_AB_58_0\n",
      "Save heating profile of building 185_AB_58_0 in None\n",
      "Calculate demands of building 186_AB_18_0\n",
      "Save heating profile of building 186_AB_18_0 in None\n",
      "No data about TEK available for Verkehrsgebäude\n",
      "No data about annual dhw consumption available for building type: IWU Transport. DHW demand is set to zero.\n",
      "Calculate demands of building 187_IWU Transport_[24]_0\n",
      "Save heating profile of building 187_IWU Transport_[24]_0 in None\n",
      "Calculate demands of building 188_IWU School, Day Nursery and other Care_[1029]_0\n",
      "Save heating profile of building 188_IWU School, Day Nursery and other Care_[1029]_0 in None\n",
      "Calculate demands of building 189_AB_163_0\n",
      "Save heating profile of building 189_AB_163_0 in None\n",
      "Calculate demands of building 190_IWU Office, Administrative or Government Buildings_[679]_0\n",
      "Save heating profile of building 190_IWU Office, Administrative or Government Buildings_[679]_0 in None\n",
      "Calculate demands of building 191_AB_65_0\n",
      "Save heating profile of building 191_AB_65_0 in None\n",
      "Calculate demands of building 192_AB_284_0\n",
      "Save heating profile of building 192_AB_284_0 in None\n",
      "Calculate demands of building 193_AB_54_0\n",
      "Save heating profile of building 193_AB_54_0 in None\n",
      "Calculate demands of building 194_AB_65_0\n",
      "Save heating profile of building 194_AB_65_0 in None\n",
      "Calculate demands of building 195_AB_31_0\n",
      "Save heating profile of building 195_AB_31_0 in None\n",
      "Calculate demands of building 196_AB_45_0\n",
      "Save heating profile of building 196_AB_45_0 in None\n",
      "Calculate demands of building 197_AB_24_0\n",
      "Save heating profile of building 197_AB_24_0 in None\n",
      "Calculate demands of building 198_IWU Technical and Utility (supply and disposal)_[1]_0\n",
      "Save heating profile of building 198_IWU Technical and Utility (supply and disposal)_[1]_0 in None\n",
      "Calculate demands of building 199_AB_23_0\n",
      "Save heating profile of building 199_AB_23_0 in None\n",
      "Calculate demands of building 200_AB_29_0\n",
      "Save heating profile of building 200_AB_29_0 in None\n",
      "Calculate demands of building 201_AB_97_0\n",
      "Save heating profile of building 201_AB_97_0 in None\n",
      "Calculate demands of building 202_AB_83_0\n",
      "Save heating profile of building 202_AB_83_0 in None\n",
      "Calculate demands of building 203_AB_55_0\n",
      "Save heating profile of building 203_AB_55_0 in None\n",
      "Calculate demands of building 204_IWU School, Day Nursery and other Care_[14891]_0\n",
      "Save heating profile of building 204_IWU School, Day Nursery and other Care_[14891]_0 in None\n",
      "Calculate demands of building 205_AB_194_0\n",
      "Save heating profile of building 205_AB_194_0 in None\n",
      "Calculate demands of building 206_AB_530_0\n",
      "Save heating profile of building 206_AB_530_0 in None\n",
      "Calculate demands of building 207_MFH_4_0\n",
      "Save heating profile of building 207_MFH_4_0 in None\n",
      "Calculate demands of building 208_MFH_74_0\n",
      "Save heating profile of building 208_MFH_74_0 in None\n",
      "Calculate demands of building 209_MFH_12_0\n",
      "Save heating profile of building 209_MFH_12_0 in None\n",
      "No data about TEK available for Verkehrsgebäude\n",
      "No data about annual dhw consumption available for building type: IWU Transport. DHW demand is set to zero.\n",
      "Calculate demands of building 210_IWU Transport_[2]_0\n",
      "Save heating profile of building 210_IWU Transport_[2]_0 in None\n",
      "Calculate demands of building 211_TH_1_0\n",
      "Save heating profile of building 211_TH_1_0 in None\n",
      "Calculate demands of building 212_AB_29_0\n",
      "Save heating profile of building 212_AB_29_0 in None\n",
      "Calculate demands of building 213_MFH_7_0\n",
      "Save heating profile of building 213_MFH_7_0 in None\n",
      "No data about TEK available for Verkehrsgebäude\n",
      "No data about annual dhw consumption available for building type: IWU Transport. DHW demand is set to zero.\n",
      "Calculate demands of building 214_IWU Transport_[1]_0\n",
      "Save heating profile of building 214_IWU Transport_[1]_0 in None\n",
      "Calculate demands of building 215_MFH_39_0\n",
      "Save heating profile of building 215_MFH_39_0 in None\n",
      "Calculate demands of building 216_MFH_260_0\n",
      "Save heating profile of building 216_MFH_260_0 in None\n",
      "Calculate demands of building 217_IWU Office, Administrative or Government Buildings_[421]_0\n",
      "Save heating profile of building 217_IWU Office, Administrative or Government Buildings_[421]_0 in None\n",
      "Calculate demands of building 218_IWU Production, Workshop, Warehouse or Operations_[112]_0\n",
      "Save heating profile of building 218_IWU Production, Workshop, Warehouse or Operations_[112]_0 in None\n",
      "Calculate demands of building 219_MFH_49_0\n",
      "Save heating profile of building 219_MFH_49_0 in None\n",
      "Calculate demands of building 220_AB_24_0\n",
      "Save heating profile of building 220_AB_24_0 in None\n",
      "Calculate demands of building 221_AB_48_0\n",
      "Save heating profile of building 221_AB_48_0 in None\n",
      "Calculate demands of building 222_MFH_4_0\n",
      "Save heating profile of building 222_MFH_4_0 in None\n",
      "Calculate demands of building 223_MFH_26_0\n",
      "Save heating profile of building 223_MFH_26_0 in None\n",
      "Calculate demands of building 224_MFH_73_0\n",
      "Save heating profile of building 224_MFH_73_0 in None\n",
      "Calculate demands of building 225_AB_43_0\n",
      "Save heating profile of building 225_AB_43_0 in None\n",
      "Calculate demands of building 226_AB_165_0\n",
      "Save heating profile of building 226_AB_165_0 in None\n",
      "Calculate demands of building 227_MFH_4_0\n",
      "Save heating profile of building 227_MFH_4_0 in None\n",
      "Calculate demands of building 228_IWU Production, Workshop, Warehouse or Operations_[24]_0\n",
      "Save heating profile of building 228_IWU Production, Workshop, Warehouse or Operations_[24]_0 in None\n",
      "Calculate demands of building 229_MFH_579_0\n",
      "Save heating profile of building 229_MFH_579_0 in None\n",
      "Calculate demands of building 230_AB_46_0\n",
      "Save heating profile of building 230_AB_46_0 in None\n",
      "Calculate demands of building 231_IWU Production, Workshop, Warehouse or Operations_[506]_0\n",
      "Save heating profile of building 231_IWU Production, Workshop, Warehouse or Operations_[506]_0 in None\n",
      "Calculate demands of building 232_MFH_4_0\n",
      "Save heating profile of building 232_MFH_4_0 in None\n",
      "Calculate demands of building 233_MFH_4_0\n",
      "Save heating profile of building 233_MFH_4_0 in None\n",
      "Calculate demands of building 234_MFH_22_0\n",
      "Save heating profile of building 234_MFH_22_0 in None\n",
      "Calculate demands of building 235_MFH_8_0\n",
      "Save heating profile of building 235_MFH_8_0 in None\n",
      "Calculate demands of building 236_MFH_4_0\n",
      "Save heating profile of building 236_MFH_4_0 in None\n",
      "Calculate demands of building 237_MFH_19_0\n",
      "Save heating profile of building 237_MFH_19_0 in None\n",
      "Calculate demands of building 238_MFH_106_0\n",
      "Save heating profile of building 238_MFH_106_0 in None\n",
      "No data about TEK available for Verkehrsgebäude\n",
      "No data about annual dhw consumption available for building type: IWU Transport. DHW demand is set to zero.\n",
      "Calculate demands of building 239_IWU Transport_[35]_0\n",
      "Save heating profile of building 239_IWU Transport_[35]_0 in None\n",
      "Calculate demands of building 240_MFH_4_0\n",
      "Save heating profile of building 240_MFH_4_0 in None\n",
      "Calculate demands of building 241_AB_19_0\n",
      "Save heating profile of building 241_AB_19_0 in None\n",
      "Calculate demands of building 242_AB_67_0\n",
      "Save heating profile of building 242_AB_67_0 in None\n",
      "Calculate demands of building 243_MFH_25_0\n",
      "Save heating profile of building 243_MFH_25_0 in None\n",
      "No data about TEK available for Verkehrsgebäude\n",
      "No data about annual dhw consumption available for building type: IWU Transport. DHW demand is set to zero.\n",
      "Calculate demands of building 244_IWU Transport_[9]_0\n",
      "Save heating profile of building 244_IWU Transport_[9]_0 in None\n",
      "Calculate demands of building 245_AB_88_0\n",
      "Save heating profile of building 245_AB_88_0 in None\n",
      "Calculate demands of building 246_AB_17_0\n",
      "Save heating profile of building 246_AB_17_0 in None\n",
      "Calculate demands of building 247_AB_67_0\n",
      "Save heating profile of building 247_AB_67_0 in None\n",
      "Calculate demands of building 248_MFH_63_0\n",
      "Save heating profile of building 248_MFH_63_0 in None\n",
      "Calculate demands of building 249_AB_14_0\n",
      "Save heating profile of building 249_AB_14_0 in None\n",
      "Calculate demands of building 250_AB_93_0\n",
      "Save heating profile of building 250_AB_93_0 in None\n",
      "Calculate demands of building 251_MFH_74_0\n",
      "Save heating profile of building 251_MFH_74_0 in None\n",
      "Calculate demands of building 252_AB_74_0\n",
      "Save heating profile of building 252_AB_74_0 in None\n",
      "Calculate demands of building 253_AB_18_0\n",
      "Save heating profile of building 253_AB_18_0 in None\n",
      "Calculate demands of building 254_MFH_53_0\n",
      "Save heating profile of building 254_MFH_53_0 in None\n",
      "Calculate demands of building 255_IWU Production, Workshop, Warehouse or Operations_[90]_0\n",
      "Save heating profile of building 255_IWU Production, Workshop, Warehouse or Operations_[90]_0 in None\n",
      "Calculate demands of building 256_MFH_82_0\n",
      "Save heating profile of building 256_MFH_82_0 in None\n",
      "Calculate demands of building 257_IWU Technical and Utility (supply and disposal)_[3]_0\n",
      "Save heating profile of building 257_IWU Technical and Utility (supply and disposal)_[3]_0 in None\n",
      "Calculate demands of building 258_MFH_17_0\n",
      "Save heating profile of building 258_MFH_17_0 in None\n",
      "Calculate demands of building 259_MFH_8_0\n",
      "Save heating profile of building 259_MFH_8_0 in None\n",
      "Calculate demands of building 260_MFH_10_0\n",
      "Save heating profile of building 260_MFH_10_0 in None\n",
      "Calculate demands of building 261_IWU Production, Workshop, Warehouse or Operations_[28]_0\n",
      "Save heating profile of building 261_IWU Production, Workshop, Warehouse or Operations_[28]_0 in None\n",
      "Calculate demands of building 262_IWU Production, Workshop, Warehouse or Operations_[48]_0\n",
      "Save heating profile of building 262_IWU Production, Workshop, Warehouse or Operations_[48]_0 in None\n",
      "Calculate demands of building 263_MFH_83_0\n",
      "Save heating profile of building 263_MFH_83_0 in None\n",
      "Calculate demands of building 264_MFH_109_0\n",
      "Save heating profile of building 264_MFH_109_0 in None\n",
      "Calculate demands of building 265_AB_24_0\n",
      "Save heating profile of building 265_AB_24_0 in None\n",
      "No data about TEK available for Verkehrsgebäude\n",
      "No data about annual dhw consumption available for building type: IWU Transport. DHW demand is set to zero.\n",
      "Calculate demands of building 266_IWU Transport_[125]_0\n",
      "Save heating profile of building 266_IWU Transport_[125]_0 in None\n",
      "Calculate demands of building 267_IWU Production, Workshop, Warehouse or Operations_[72]_0\n",
      "Save heating profile of building 267_IWU Production, Workshop, Warehouse or Operations_[72]_0 in None\n",
      "Calculate demands of building 268_MFH_4_0\n",
      "Save heating profile of building 268_MFH_4_0 in None\n",
      "Calculate demands of building 269_MFH_4_0\n",
      "Save heating profile of building 269_MFH_4_0 in None\n",
      "Calculate demands of building 270_MFH_19_0\n",
      "Save heating profile of building 270_MFH_19_0 in None\n",
      "Calculate demands of building 271_MFH_5_0\n",
      "Save heating profile of building 271_MFH_5_0 in None\n",
      "Calculate demands of building 272_IWU Production, Workshop, Warehouse or Operations_[96]_0\n",
      "Save heating profile of building 272_IWU Production, Workshop, Warehouse or Operations_[96]_0 in None\n",
      "Calculate demands of building 273_MFH_20_0\n",
      "Save heating profile of building 273_MFH_20_0 in None\n",
      "Calculate demands of building 274_MFH_79_0\n",
      "Save heating profile of building 274_MFH_79_0 in None\n",
      "Calculate demands of building 275_AB_77_0\n",
      "Save heating profile of building 275_AB_77_0 in None\n",
      "Calculate demands of building 276_AB_12_0\n",
      "Save heating profile of building 276_AB_12_0 in None\n",
      "Calculate demands of building 277_MFH_68_0\n",
      "Save heating profile of building 277_MFH_68_0 in None\n",
      "Calculate demands of building 278_MFH_13_0\n",
      "Save heating profile of building 278_MFH_13_0 in None\n",
      "Calculate demands of building 279_MFH_4_0\n",
      "Save heating profile of building 279_MFH_4_0 in None\n",
      "Calculate demands of building 280_IWU Production, Workshop, Warehouse or Operations_[66]_0\n",
      "Save heating profile of building 280_IWU Production, Workshop, Warehouse or Operations_[66]_0 in None\n",
      "Calculate demands of building 281_AB_59_0\n",
      "Save heating profile of building 281_AB_59_0 in None\n",
      "Calculate demands of building 282_MFH_115_0\n",
      "Save heating profile of building 282_MFH_115_0 in None\n",
      "Calculate demands of building 283_MFH_63_0\n",
      "Save heating profile of building 283_MFH_63_0 in None\n",
      "Calculate demands of building 284_AB_25_0\n",
      "Save heating profile of building 284_AB_25_0 in None\n",
      "Calculate demands of building 285_IWU Production, Workshop, Warehouse or Operations_[62]_0\n",
      "Save heating profile of building 285_IWU Production, Workshop, Warehouse or Operations_[62]_0 in None\n",
      "Calculate demands of building 286_IWU Trade Buildings_[394]_0\n",
      "Save heating profile of building 286_IWU Trade Buildings_[394]_0 in None\n",
      "Calculate demands of building 287_AB_40_0\n",
      "Save heating profile of building 287_AB_40_0 in None\n",
      "Calculate demands of building 288_MFH_4_0\n",
      "Save heating profile of building 288_MFH_4_0 in None\n",
      "Calculate demands of building 289_MFH_74_0\n",
      "Save heating profile of building 289_MFH_74_0 in None\n",
      "Calculate demands of building 290_MFH_32_0\n",
      "Save heating profile of building 290_MFH_32_0 in None\n",
      "Calculate demands of building 291_MFH_8_0\n",
      "Save heating profile of building 291_MFH_8_0 in None\n",
      "Calculate demands of building 292_AB_21_0\n",
      "Save heating profile of building 292_AB_21_0 in None\n",
      "Calculate demands of building 293_AB_46_0\n",
      "Save heating profile of building 293_AB_46_0 in None\n",
      "Calculate demands of building 294_AB_57_0\n",
      "Save heating profile of building 294_AB_57_0 in None\n",
      "Calculate demands of building 295_IWU Trade Buildings_[2922]_0\n",
      "Save heating profile of building 295_IWU Trade Buildings_[2922]_0 in None\n",
      "Calculate demands of building 296_MFH_131_0\n",
      "Save heating profile of building 296_MFH_131_0 in None\n",
      "Calculate demands of building 297_AB_104_0\n",
      "Save heating profile of building 297_AB_104_0 in None\n",
      "Calculate demands of building 298_AB_32_0\n",
      "Save heating profile of building 298_AB_32_0 in None\n",
      "Calculate demands of building 299_MFH_85_0\n",
      "Save heating profile of building 299_MFH_85_0 in None\n",
      "Calculate demands of building 300_MFH_10_0\n",
      "Save heating profile of building 300_MFH_10_0 in None\n",
      "Calculate demands of building 301_MFH_45_0\n",
      "Save heating profile of building 301_MFH_45_0 in None\n",
      "Calculate demands of building 302_MFH_54_0\n",
      "Save heating profile of building 302_MFH_54_0 in None\n",
      "Calculate demands of building 303_MFH_20_0\n",
      "Save heating profile of building 303_MFH_20_0 in None\n",
      "Calculate demands of building 304_MFH_300_0\n",
      "Save heating profile of building 304_MFH_300_0 in None\n",
      "Calculate demands of building 305_IWU Production, Workshop, Warehouse or Operations_[23]_0\n",
      "Save heating profile of building 305_IWU Production, Workshop, Warehouse or Operations_[23]_0 in None\n",
      "Calculate demands of building 306_AB_46_0\n",
      "Save heating profile of building 306_AB_46_0 in None\n",
      "Calculate demands of building 307_MFH_19_0\n",
      "Save heating profile of building 307_MFH_19_0 in None\n",
      "Calculate demands of building 308_AB_227_0\n",
      "Save heating profile of building 308_AB_227_0 in None\n",
      "Calculate demands of building 309_MFH_101_0\n",
      "Save heating profile of building 309_MFH_101_0 in None\n",
      "Calculate demands of building 310_MFH_38_0\n",
      "Save heating profile of building 310_MFH_38_0 in None\n",
      "Calculate demands of building 311_MFH_125_0\n",
      "Save heating profile of building 311_MFH_125_0 in None\n",
      "Calculate demands of building 312_AB_293_0\n",
      "Save heating profile of building 312_AB_293_0 in None\n",
      "Calculate demands of building 313_MFH_16_0\n",
      "Save heating profile of building 313_MFH_16_0 in None\n",
      "Calculate demands of building 314_AB_33_0\n",
      "Save heating profile of building 314_AB_33_0 in None\n",
      "Calculate demands of building 315_AB_53_0\n",
      "Save heating profile of building 315_AB_53_0 in None\n",
      "Calculate demands of building 316_MFH_4_0\n",
      "Save heating profile of building 316_MFH_4_0 in None\n",
      "Calculate demands of building 317_AB_69_0\n",
      "Save heating profile of building 317_AB_69_0 in None\n",
      "Calculate demands of building 318_MFH_61_0\n",
      "Save heating profile of building 318_MFH_61_0 in None\n",
      "Calculate demands of building 319_MFH_174_0\n",
      "Save heating profile of building 319_MFH_174_0 in None\n",
      "Calculate demands of building 320_IWU Production, Workshop, Warehouse or Operations_[2]_0\n",
      "Save heating profile of building 320_IWU Production, Workshop, Warehouse or Operations_[2]_0 in None\n",
      "Calculate demands of building 321_MFH_83_0\n",
      "Save heating profile of building 321_MFH_83_0 in None\n",
      "Calculate demands of building 322_MFH_89_0\n",
      "Save heating profile of building 322_MFH_89_0 in None\n",
      "No data about TEK available for Verkehrsgebäude\n",
      "No data about annual dhw consumption available for building type: IWU Transport. DHW demand is set to zero.\n",
      "Calculate demands of building 323_IWU Transport_[16]_0\n",
      "Save heating profile of building 323_IWU Transport_[16]_0 in None\n",
      "Calculate demands of building 324_AB_84_0\n",
      "Save heating profile of building 324_AB_84_0 in None\n",
      "Calculate demands of building 325_MFH_154_0\n",
      "Save heating profile of building 325_MFH_154_0 in None\n",
      "Calculate demands of building 326_MFH_10_0\n",
      "Save heating profile of building 326_MFH_10_0 in None\n",
      "Calculate demands of building 327_IWU Production, Workshop, Warehouse or Operations_[85]_0\n",
      "Save heating profile of building 327_IWU Production, Workshop, Warehouse or Operations_[85]_0 in None\n",
      "Calculate demands of building 328_MFH_27_0\n",
      "Save heating profile of building 328_MFH_27_0 in None\n",
      "Calculate demands of building 329_AB_287_0\n",
      "Save heating profile of building 329_AB_287_0 in None\n",
      "Calculate demands of building 330_MFH_9_0\n",
      "Save heating profile of building 330_MFH_9_0 in None\n",
      "Calculate demands of building 331_AB_40_0\n",
      "Save heating profile of building 331_AB_40_0 in None\n",
      "Calculate demands of building 332_AB_54_0\n",
      "Save heating profile of building 332_AB_54_0 in None\n",
      "Calculate demands of building 333_MFH_4_0\n",
      "Save heating profile of building 333_MFH_4_0 in None\n",
      "Calculate demands of building 334_AB_17_0\n",
      "Save heating profile of building 334_AB_17_0 in None\n",
      "Calculate demands of building 335_AB_63_0\n",
      "Save heating profile of building 335_AB_63_0 in None\n",
      "Calculate demands of building 336_MFH_143_0\n",
      "Save heating profile of building 336_MFH_143_0 in None\n",
      "Calculate demands of building 337_IWU Production, Workshop, Warehouse or Operations_[213]_0\n",
      "Save heating profile of building 337_IWU Production, Workshop, Warehouse or Operations_[213]_0 in None\n",
      "Calculate demands of building 338_MFH_4_0\n",
      "Save heating profile of building 338_MFH_4_0 in None\n",
      "Calculate demands of building 339_IWU Production, Workshop, Warehouse or Operations_[54]_0\n",
      "Save heating profile of building 339_IWU Production, Workshop, Warehouse or Operations_[54]_0 in None\n",
      "Calculate demands of building 340_AB_52_0\n",
      "Save heating profile of building 340_AB_52_0 in None\n",
      "Calculate demands of building 341_AB_58_0\n",
      "Save heating profile of building 341_AB_58_0 in None\n",
      "Calculate demands of building 342_AB_18_0\n",
      "Save heating profile of building 342_AB_18_0 in None\n",
      "Calculate demands of building 343_AB_25_0\n",
      "Save heating profile of building 343_AB_25_0 in None\n",
      "Calculate demands of building 344_AB_57_0\n",
      "Save heating profile of building 344_AB_57_0 in None\n",
      "No data about TEK available for Verkehrsgebäude\n",
      "No data about annual dhw consumption available for building type: IWU Transport. DHW demand is set to zero.\n",
      "Calculate demands of building 345_IWU Transport_[9]_0\n",
      "Save heating profile of building 345_IWU Transport_[9]_0 in None\n",
      "Calculate demands of building 346_MFH_4_0\n",
      "Save heating profile of building 346_MFH_4_0 in None\n",
      "Calculate demands of building 347_AB_17_0\n",
      "Save heating profile of building 347_AB_17_0 in None\n",
      "Calculate demands of building 348_IWU Production, Workshop, Warehouse or Operations_[233]_0\n",
      "Save heating profile of building 348_IWU Production, Workshop, Warehouse or Operations_[233]_0 in None\n",
      "Calculate demands of building 349_TH_1_0\n",
      "Save heating profile of building 349_TH_1_0 in None\n",
      "Calculate demands of building 350_IWU Production, Workshop, Warehouse or Operations_[47]_0\n",
      "Save heating profile of building 350_IWU Production, Workshop, Warehouse or Operations_[47]_0 in None\n",
      "Calculate demands of building 351_IWU Production, Workshop, Warehouse or Operations_[17]_0\n",
      "Save heating profile of building 351_IWU Production, Workshop, Warehouse or Operations_[17]_0 in None\n",
      "Calculate demands of building 352_MFH_21_0\n",
      "Save heating profile of building 352_MFH_21_0 in None\n",
      "Calculate demands of building 353_MFH_68_0\n",
      "Save heating profile of building 353_MFH_68_0 in None\n",
      "Calculate demands of building 354_AB_16_0\n",
      "Save heating profile of building 354_AB_16_0 in None\n",
      "Calculate demands of building 355_MFH_80_0\n",
      "Save heating profile of building 355_MFH_80_0 in None\n",
      "Calculate demands of building 356_MFH_56_0\n",
      "Save heating profile of building 356_MFH_56_0 in None\n",
      "Calculate demands of building 357_AB_42_0\n",
      "Save heating profile of building 357_AB_42_0 in None\n",
      "Calculate demands of building 358_IWU Production, Workshop, Warehouse or Operations_[227]_0\n",
      "Save heating profile of building 358_IWU Production, Workshop, Warehouse or Operations_[227]_0 in None\n",
      "Calculate demands of building 359_MFH_18_0\n",
      "Save heating profile of building 359_MFH_18_0 in None\n",
      "Calculate demands of building 360_AB_91_0\n",
      "Save heating profile of building 360_AB_91_0 in None\n",
      "Calculate demands of building 361_MFH_103_0\n",
      "Save heating profile of building 361_MFH_103_0 in None\n",
      "Calculate demands of building 362_AB_60_0\n",
      "Save heating profile of building 362_AB_60_0 in None\n",
      "Calculate demands of building 363_AB_67_0\n",
      "Save heating profile of building 363_AB_67_0 in None\n",
      "Calculate demands of building 364_MFH_5_0\n",
      "Save heating profile of building 364_MFH_5_0 in None\n",
      "Calculate demands of building 365_MFH_18_0\n",
      "Save heating profile of building 365_MFH_18_0 in None\n",
      "Calculate demands of building 366_MFH_16_0\n",
      "Save heating profile of building 366_MFH_16_0 in None\n",
      "Calculate demands of building 367_MFH_4_0\n",
      "Save heating profile of building 367_MFH_4_0 in None\n",
      "Calculate demands of building 368_MFH_4_0\n",
      "Save heating profile of building 368_MFH_4_0 in None\n",
      "Calculate demands of building 369_MFH_1160_0\n",
      "Save heating profile of building 369_MFH_1160_0 in None\n",
      "Calculate demands of building 370_MFH_62_0\n",
      "Save heating profile of building 370_MFH_62_0 in None\n",
      "Calculate demands of building 371_MFH_5_0\n",
      "Save heating profile of building 371_MFH_5_0 in None\n",
      "Calculate demands of building 372_MFH_4_0\n",
      "Save heating profile of building 372_MFH_4_0 in None\n",
      "Calculate demands of building 373_MFH_27_0\n",
      "Save heating profile of building 373_MFH_27_0 in None\n",
      "Calculate demands of building 374_IWU Health and Care_[195]_0\n",
      "Save heating profile of building 374_IWU Health and Care_[195]_0 in None\n",
      "Calculate demands of building 375_MFH_4_0\n",
      "Save heating profile of building 375_MFH_4_0 in None\n",
      "Calculate demands of building 376_MFH_98_0\n",
      "Save heating profile of building 376_MFH_98_0 in None\n",
      "Calculate demands of building 377_MFH_4_0\n",
      "Save heating profile of building 377_MFH_4_0 in None\n",
      "Calculate demands of building 378_MFH_4_0\n",
      "Save heating profile of building 378_MFH_4_0 in None\n",
      "Calculate demands of building 379_MFH_4_0\n",
      "Save heating profile of building 379_MFH_4_0 in None\n",
      "Calculate demands of building 380_AB_109_0\n",
      "Save heating profile of building 380_AB_109_0 in None\n",
      "Calculate demands of building 381_IWU Health and Care_[274]_0\n",
      "Save heating profile of building 381_IWU Health and Care_[274]_0 in None\n",
      "Calculate demands of building 382_AB_31_0\n",
      "Save heating profile of building 382_AB_31_0 in None\n",
      "Calculate demands of building 383_MFH_53_0\n",
      "Save heating profile of building 383_MFH_53_0 in None\n",
      "Calculate demands of building 384_AB_65_0\n",
      "Save heating profile of building 384_AB_65_0 in None\n",
      "Calculate demands of building 385_MFH_28_0\n",
      "Save heating profile of building 385_MFH_28_0 in None\n",
      "Calculate demands of building 386_AB_83_0\n",
      "Save heating profile of building 386_AB_83_0 in None\n",
      "Calculate demands of building 387_AB_41_0\n",
      "Save heating profile of building 387_AB_41_0 in None\n",
      "Finished generating demands!\n"
     ]
    }
   ],
   "source": [
    "data.setWeatherFile('data/weather/EPW/AMY_2010_2022_2022.epw')\n",
    "\n",
    "# Generate Environment for the District\n",
    "\n",
    "data.generateEnvironment()\n",
    "\n",
    "data.initializeBuildings('20241018_Mierendorff_Baseline_updated_cleaned')\n",
    "data.generateBuildings()\n",
    "data.setResultPath('2022')\n",
    "\n",
    "data.generateDemands()\n",
    "\n",
    "\n",
    "\n"
   ]
  }
 ],
 "metadata": {
  "kernelspec": {
   "display_name": ".venv",
   "language": "python",
   "name": "python3"
  },
  "language_info": {
   "codemirror_mode": {
    "name": "ipython",
    "version": 3
   },
   "file_extension": ".py",
   "mimetype": "text/x-python",
   "name": "python",
   "nbconvert_exporter": "python",
   "pygments_lexer": "ipython3",
   "version": "3.12.5"
  }
 },
 "nbformat": 4,
 "nbformat_minor": 2
}
